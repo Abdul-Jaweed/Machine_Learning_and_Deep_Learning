{
 "cells": [
  {
   "cell_type": "markdown",
   "metadata": {},
   "source": [
    "# Advanced OOPs\n",
    "\n",
    "One big advantage of OOP is code reusability. It is possible due to the relationships between the classes and objects. OOP generally support 2 types of relationships:\n",
    "1. Inheritance (Compile Time)\n",
    "    - https://algodaily.com/lessons/association-aggregation-composition-casting\n",
    "    - Generalization\n",
    "    - Realization\n",
    "2. Association (Run Time)\n",
    "    - https://towardsdatascience.com/how-to-connect-objects-with-each-other-in-different-situations-with-pythonic-ways-d3aaf4c89553\n",
    "    - Composition (USES-A)\n",
    "    - Aggregation (HAS-A)\n",
    "\n",
    "### IS-A Relationship (Inheritance)\n",
    "In OOP, `IS-A relationship` represents inheritance. This means, that the child class is a type of parent class. For example, an apple is a fruit. So you will extend fruit to get apple.\n",
    "\n",
    "### HAS-A Relationship (Association)\n",
    "On the other hand, association means creating instances which have references to other objects. For example, a room has a table. So you will create a class room and then in that class create an instance of type table.\n",
    "\n",
    "A HAS-A relationship is dynamic (run time) binding while inheritance is a static (compile time) binding. If you just want to reuse the code and you know that the two are not of same kind use association. For example, you cannot inherit an oven from a kitchen. A kitchen HAS-A oven. When you feel there is a natural relationship like Apple is a Fruit use inheritance."
   ]
  },
  {
   "cell_type": "code",
   "execution_count": null,
   "metadata": {},
   "outputs": [],
   "source": []
  }
 ],
 "metadata": {
  "kernelspec": {
   "display_name": "Python 3",
   "language": "python",
   "name": "python3"
  },
  "language_info": {
   "codemirror_mode": {
    "name": "ipython",
    "version": 3
   },
   "file_extension": ".py",
   "mimetype": "text/x-python",
   "name": "python",
   "nbconvert_exporter": "python",
   "pygments_lexer": "ipython3",
   "version": "3.8.5"
  }
 },
 "nbformat": 4,
 "nbformat_minor": 4
}
