{
 "cells": [
  {
   "cell_type": "markdown",
   "metadata": {},
   "source": [
    "Credits: https://github.com/bansalkanav/Machine_Learning_and_Deep_Learning/"
   ]
  },
  {
   "cell_type": "markdown",
   "metadata": {},
   "source": [
    "# Introduction to Object Oriented Programming\n",
    "\n",
    "In this Notebook, we will cover the concept of:\n",
    "1. Class - Blueprint of an Object\n",
    "```\n",
    "class ClassName:\n",
    "    - Properties (Variables)\n",
    "    - Constructor (It is a special method - get called at object initialization automatically)\n",
    "    - Methods (Ways to update the properties)\n",
    "```\n",
    "2. Object - Real world entity\n",
    "```\n",
    "obj = ClassName()\n",
    "obj.properties\n",
    "obj.methods()\n",
    "```\n",
    "3. Constructor\n",
    "    - With no parameter\n",
    "    - With one or more parameters\n",
    "4. Types of Variables\n",
    "    - Instance Variable\n",
    "    - Class Variable\n",
    "    - Local Variable\n",
    "5. Types of Methods\n",
    "    - Instance Methods\n",
    "    - Class Methods\n",
    "    - Static Methods"
   ]
  },
  {
   "cell_type": "markdown",
   "metadata": {},
   "source": [
    "## Class Syntax"
   ]
  },
  {
   "cell_type": "code",
   "execution_count": 1,
   "metadata": {},
   "outputs": [],
   "source": [
    "class My_First_Class:\n",
    "    # Properties\n",
    "    name = 'Kanav'\n",
    "    \n",
    "    # Method -> Function\n",
    "    def fun_name(self):\n",
    "        print(\"Hello World\")"
   ]
  },
  {
   "cell_type": "code",
   "execution_count": 2,
   "metadata": {},
   "outputs": [],
   "source": [
    "# Object Creation\n",
    "\n",
    "obj_name = My_First_Class()"
   ]
  },
  {
   "cell_type": "code",
   "execution_count": 3,
   "metadata": {},
   "outputs": [
    {
     "name": "stdout",
     "output_type": "stream",
     "text": [
      "<class 'int'>\n"
     ]
    }
   ],
   "source": [
    "a = 10\n",
    "\n",
    "print(type(a))"
   ]
  },
  {
   "cell_type": "code",
   "execution_count": 4,
   "metadata": {},
   "outputs": [
    {
     "name": "stdout",
     "output_type": "stream",
     "text": [
      "<class '__main__.My_First_Class'>\n"
     ]
    }
   ],
   "source": [
    "print(type(obj_name))"
   ]
  },
  {
   "cell_type": "code",
   "execution_count": 5,
   "metadata": {},
   "outputs": [
    {
     "name": "stdout",
     "output_type": "stream",
     "text": [
      "Kanav\n"
     ]
    }
   ],
   "source": [
    "print(obj_name.name)"
   ]
  },
  {
   "cell_type": "code",
   "execution_count": 6,
   "metadata": {},
   "outputs": [
    {
     "name": "stdout",
     "output_type": "stream",
     "text": [
      "Hello World\n"
     ]
    }
   ],
   "source": [
    "obj_name.fun_name()"
   ]
  },
  {
   "cell_type": "code",
   "execution_count": null,
   "metadata": {},
   "outputs": [],
   "source": []
  },
  {
   "cell_type": "code",
   "execution_count": null,
   "metadata": {},
   "outputs": [],
   "source": []
  },
  {
   "cell_type": "code",
   "execution_count": null,
   "metadata": {},
   "outputs": [],
   "source": []
  },
  {
   "cell_type": "code",
   "execution_count": 13,
   "metadata": {},
   "outputs": [],
   "source": [
    "def square(num):\n",
    "    '''DOC - This function will take an input and return its square'''\n",
    "    print(f\"Square = {num**2}\")"
   ]
  },
  {
   "cell_type": "code",
   "execution_count": 14,
   "metadata": {},
   "outputs": [
    {
     "name": "stdout",
     "output_type": "stream",
     "text": [
      "Square = 25\n"
     ]
    }
   ],
   "source": [
    "square(5)"
   ]
  },
  {
   "cell_type": "code",
   "execution_count": 15,
   "metadata": {},
   "outputs": [
    {
     "data": {
      "text/plain": [
       "'DOC - This function will take an input and return its square'"
      ]
     },
     "execution_count": 15,
     "metadata": {},
     "output_type": "execute_result"
    }
   ],
   "source": [
    "square.__doc__"
   ]
  },
  {
   "cell_type": "code",
   "execution_count": null,
   "metadata": {},
   "outputs": [],
   "source": []
  },
  {
   "cell_type": "code",
   "execution_count": null,
   "metadata": {},
   "outputs": [],
   "source": []
  },
  {
   "cell_type": "code",
   "execution_count": null,
   "metadata": {},
   "outputs": [],
   "source": []
  },
  {
   "cell_type": "code",
   "execution_count": 1,
   "metadata": {
    "ExecuteTime": {
     "end_time": "2018-05-31T06:29:51.398848Z",
     "start_time": "2018-05-31T06:29:51.391831Z"
    }
   },
   "outputs": [
    {
     "name": "stdout",
     "output_type": "stream",
     "text": [
      "This is my First Class.\n",
      "Help on class MyFirstClass in module __main__:\n",
      "\n",
      "class MyFirstClass(builtins.object)\n",
      " |  This is my First Class.\n",
      " |  \n",
      " |  Data descriptors defined here:\n",
      " |  \n",
      " |  __dict__\n",
      " |      dictionary for instance variables (if defined)\n",
      " |  \n",
      " |  __weakref__\n",
      " |      list of weak references to the object (if defined)\n",
      "\n"
     ]
    }
   ],
   "source": [
    "class MyFirstClass:\n",
    "    '''This is my First Class.'''\n",
    "    pass\n",
    "    \n",
    "print(MyFirstClass.__doc__)\n",
    "help(MyFirstClass)"
   ]
  },
  {
   "cell_type": "markdown",
   "metadata": {},
   "source": [
    "## Object Creation"
   ]
  },
  {
   "cell_type": "code",
   "execution_count": 3,
   "metadata": {
    "ExecuteTime": {
     "end_time": "2018-05-31T00:44:40.430601Z",
     "start_time": "2018-05-31T00:44:40.426591Z"
    }
   },
   "outputs": [],
   "source": [
    "my_ref_var = MyFirstClass()"
   ]
  },
  {
   "cell_type": "markdown",
   "metadata": {},
   "source": [
    "## Accessing Properties and Methods of Class"
   ]
  },
  {
   "cell_type": "code",
   "execution_count": 22,
   "metadata": {
    "ExecuteTime": {
     "end_time": "2018-05-31T06:59:54.975039Z",
     "start_time": "2018-05-31T06:59:54.968021Z"
    }
   },
   "outputs": [
    {
     "name": "stdout",
     "output_type": "stream",
     "text": [
      "Variable\n",
      "Method Called\n"
     ]
    }
   ],
   "source": [
    "class HelloWorld:\n",
    "    '''This is my Hello World class'''\n",
    "    class_variable = 'Variable'\n",
    "    def display(self):\n",
    "        print('Method Called')\n",
    "        \n",
    "h = HelloWorld()\n",
    "\n",
    "print(h.class_variable)\n",
    "\n",
    "h.display()"
   ]
  },
  {
   "cell_type": "markdown",
   "metadata": {},
   "source": [
    "## Constructor"
   ]
  },
  {
   "cell_type": "code",
   "execution_count": 23,
   "metadata": {},
   "outputs": [
    {
     "name": "stdout",
     "output_type": "stream",
     "text": [
      "Constructor called.\n"
     ]
    }
   ],
   "source": [
    "class HelloWorld:\n",
    "    '''This is my Hello World class'''\n",
    "    \n",
    "    def __init__(self):\n",
    "        print(\"Constructor called.\")\n",
    "    \n",
    "    def display(self):\n",
    "        print('Hello World')\n",
    "        \n",
    "h = HelloWorld()\n",
    "\n",
    "# h.display()"
   ]
  },
  {
   "cell_type": "code",
   "execution_count": null,
   "metadata": {},
   "outputs": [],
   "source": []
  },
  {
   "cell_type": "code",
   "execution_count": 26,
   "metadata": {},
   "outputs": [],
   "source": [
    "class Human:\n",
    "    \n",
    "    name = 'Kanav'"
   ]
  },
  {
   "cell_type": "code",
   "execution_count": 27,
   "metadata": {},
   "outputs": [],
   "source": [
    "kanav = Human()"
   ]
  },
  {
   "cell_type": "code",
   "execution_count": 28,
   "metadata": {},
   "outputs": [
    {
     "data": {
      "text/plain": [
       "'Kanav'"
      ]
     },
     "execution_count": 28,
     "metadata": {},
     "output_type": "execute_result"
    }
   ],
   "source": [
    "kanav.name"
   ]
  },
  {
   "cell_type": "code",
   "execution_count": 29,
   "metadata": {},
   "outputs": [],
   "source": [
    "kareem = Human()"
   ]
  },
  {
   "cell_type": "code",
   "execution_count": 30,
   "metadata": {},
   "outputs": [
    {
     "data": {
      "text/plain": [
       "'Kanav'"
      ]
     },
     "execution_count": 30,
     "metadata": {},
     "output_type": "execute_result"
    }
   ],
   "source": [
    "kareem.name"
   ]
  },
  {
   "cell_type": "code",
   "execution_count": null,
   "metadata": {},
   "outputs": [],
   "source": []
  },
  {
   "cell_type": "code",
   "execution_count": 32,
   "metadata": {},
   "outputs": [],
   "source": [
    "class Human:\n",
    "    def __init__(self, n, g):\n",
    "        self.name = n\n",
    "        self.gender = g\n",
    "        \n",
    "    def display(self):\n",
    "        print(self.name, self.gender)"
   ]
  },
  {
   "cell_type": "code",
   "execution_count": 34,
   "metadata": {},
   "outputs": [],
   "source": [
    "obj_1 = Human('Kanav', 'Male')"
   ]
  },
  {
   "cell_type": "code",
   "execution_count": 35,
   "metadata": {},
   "outputs": [
    {
     "name": "stdout",
     "output_type": "stream",
     "text": [
      "Kanav Male\n"
     ]
    }
   ],
   "source": [
    "obj_1.display()"
   ]
  },
  {
   "cell_type": "code",
   "execution_count": 36,
   "metadata": {},
   "outputs": [],
   "source": [
    "obj_2 = Human(\"Kareem\", 'Male')"
   ]
  },
  {
   "cell_type": "code",
   "execution_count": 37,
   "metadata": {},
   "outputs": [
    {
     "name": "stdout",
     "output_type": "stream",
     "text": [
      "Kareem Male\n"
     ]
    }
   ],
   "source": [
    "obj_2.display()"
   ]
  },
  {
   "cell_type": "code",
   "execution_count": null,
   "metadata": {},
   "outputs": [],
   "source": []
  },
  {
   "cell_type": "code",
   "execution_count": null,
   "metadata": {},
   "outputs": [],
   "source": []
  },
  {
   "cell_type": "markdown",
   "metadata": {},
   "source": [
    "1. Class  \n",
    "Blue Print/ Structure of object\n",
    "\n",
    "2. Object / Instance  \n",
    "It is a real world entity\n",
    "\n",
    "\n",
    "Syntax of class?\n",
    "\n",
    "```\n",
    "class CLASSNAME:\n",
    "    Block of code\n",
    "        - Constructor\n",
    "        - Properties\n",
    "        - Methods\n",
    "\n",
    "obj = CLASSNAME()\n",
    "\n",
    "obj.property\n",
    "\n",
    "obj.method()\n",
    "\n",
    "```"
   ]
  },
  {
   "cell_type": "code",
   "execution_count": null,
   "metadata": {},
   "outputs": [],
   "source": []
  },
  {
   "cell_type": "code",
   "execution_count": null,
   "metadata": {},
   "outputs": [],
   "source": []
  },
  {
   "cell_type": "code",
   "execution_count": null,
   "metadata": {},
   "outputs": [],
   "source": []
  },
  {
   "cell_type": "code",
   "execution_count": null,
   "metadata": {},
   "outputs": [],
   "source": []
  },
  {
   "cell_type": "code",
   "execution_count": null,
   "metadata": {},
   "outputs": [],
   "source": []
  },
  {
   "cell_type": "markdown",
   "metadata": {},
   "source": [
    "### Constructor With Multiple Parameters"
   ]
  },
  {
   "cell_type": "code",
   "execution_count": 17,
   "metadata": {
    "ExecuteTime": {
     "end_time": "2018-05-31T07:33:46.776383Z",
     "start_time": "2018-05-31T07:33:46.748825Z"
    }
   },
   "outputs": [
    {
     "name": "stdout",
     "output_type": "stream",
     "text": [
      "Name: abc, RollNo: 1, Marks: 90\n",
      "Name: xyz, RollNo: 2, Marks: 80\n"
     ]
    }
   ],
   "source": [
    "'''\n",
    "INSTANCE variable should be used using 'self', \n",
    "whether inside constructor or method\n",
    "'''\n",
    "\n",
    "class Student:\n",
    "    def __init__(self, name, rno, marks):\n",
    "        self.name = name\n",
    "        self.rno = rno\n",
    "        self.marks = marks\n",
    "    def display(self):\n",
    "        print('Name: {}, RollNo: {}, Marks: {}'.\\\n",
    "              format(self.name, self.rno, self.marks))\n",
    "\n",
    "    \n",
    "s1 = Student('abc', 1, 90)\n",
    "\n",
    "s1.display()\n",
    "\n",
    "s2 = Student('xyz', 2, 80)\n",
    "\n",
    "s2.display()"
   ]
  },
  {
   "cell_type": "code",
   "execution_count": 19,
   "metadata": {},
   "outputs": [
    {
     "name": "stdout",
     "output_type": "stream",
     "text": [
      "{'name': 'abc', 'rno': 1, 'marks': 90}\n"
     ]
    }
   ],
   "source": [
    "print(s1.__dict__)"
   ]
  },
  {
   "cell_type": "markdown",
   "metadata": {},
   "source": [
    "## Types of Variables (Properties)\n",
    "\n",
    "1. Instance Variable \n",
    "    - Object level Variable\n",
    "    - The value of the variable varies from object to object, such type of variables are instance variables  \n",
    "\n",
    "\n",
    "2. Static Variable \n",
    "    - Class level Variable\n",
    "    - These variable are same for all object  \n",
    "\n",
    "\n",
    "3. Local Variable \n",
    "    - Method level Variable"
   ]
  },
  {
   "cell_type": "markdown",
   "metadata": {},
   "source": [
    "### 1. Instance Variable\n",
    "\n",
    "**How to access?**\n",
    "1. Inside class\n",
    "    - self.variable_name  \n",
    "    \n",
    "    \n",
    "2. Outside class\n",
    "    - obj_name.variable_name"
   ]
  },
  {
   "cell_type": "code",
   "execution_count": 4,
   "metadata": {
    "ExecuteTime": {
     "end_time": "2018-05-31T07:39:52.774447Z",
     "start_time": "2018-05-31T07:39:52.767429Z"
    }
   },
   "outputs": [
    {
     "name": "stdout",
     "output_type": "stream",
     "text": [
      "Name: abc, RollNo: 1, Marks: 90\n",
      "Name: xyz, RollNo: 2, Marks: 80\n"
     ]
    }
   ],
   "source": [
    "class Student:\n",
    "    def __init__(self, name, rno, marks):\n",
    "        self.name = name\n",
    "        self.rno = rno\n",
    "        self.marks = marks\n",
    "    \n",
    "    def display(self):\n",
    "        print('Name: {}, RollNo: {}, Marks: {}'.\\\n",
    "              format(self.name, self.rno, self.marks))\n",
    "      \n",
    "    \n",
    "s1 = Student('abc', 1, 90)\n",
    "\n",
    "s1.display()\n",
    "\n",
    "s2 = Student('xyz', 2, 80)\n",
    "\n",
    "s2.display()"
   ]
  },
  {
   "cell_type": "markdown",
   "metadata": {},
   "source": [
    "### 2. Static Variable\n",
    "\n",
    "**How to access?**\n",
    "1. Inside class\n",
    "    - ClassName.variable_name  \n",
    "    or\n",
    "    - self.variable_name\n",
    "    \n",
    "    \n",
    "2. Outside class\n",
    "    - ClassName.variable_name  \n",
    "    or\n",
    "    - obj_name.variable_name"
   ]
  },
  {
   "cell_type": "code",
   "execution_count": 30,
   "metadata": {
    "ExecuteTime": {
     "end_time": "2018-05-31T07:54:33.058179Z",
     "start_time": "2018-05-31T07:54:33.051659Z"
    }
   },
   "outputs": [],
   "source": [
    "class Student:\n",
    "    college = 'LMN'\n",
    "    def __init__(self, name, rno, marks):\n",
    "        self.name = name\n",
    "        self.rno = rno\n",
    "        self.marks = marks\n",
    "    \n",
    "    def display(self):\n",
    "        print('Name: {}, RollNo: {}, Marks: {},'.\n",
    "              format(self.name, self.rno, self.marks), end=' ')\n",
    "        print('College:', self.college)"
   ]
  },
  {
   "cell_type": "code",
   "execution_count": 31,
   "metadata": {
    "ExecuteTime": {
     "end_time": "2018-05-31T07:54:33.058179Z",
     "start_time": "2018-05-31T07:54:33.051659Z"
    }
   },
   "outputs": [
    {
     "name": "stdout",
     "output_type": "stream",
     "text": [
      "Name: abc, RollNo: 1, Marks: 90, College: LMN\n",
      "Name: xyz, RollNo: 2, Marks: 80, College: LMN\n",
      "Name: lmn, RollNo: 3, Marks: 100, College: LMN\n",
      "LMN\n"
     ]
    }
   ],
   "source": [
    "s1 = Student('abc', 1, 90)\n",
    "\n",
    "s1.display()\n",
    "\n",
    "s2 = Student('xyz', 2, 80)\n",
    "\n",
    "s2.display()\n",
    "\n",
    "s3 = Student('lmn', 3, 100)\n",
    "\n",
    "s3.display()\n",
    "\n",
    "print(Student.college)"
   ]
  },
  {
   "cell_type": "code",
   "execution_count": 32,
   "metadata": {
    "ExecuteTime": {
     "end_time": "2018-05-31T07:56:03.118244Z",
     "start_time": "2018-05-31T07:56:03.115236Z"
    }
   },
   "outputs": [
    {
     "name": "stdout",
     "output_type": "stream",
     "text": [
      "Name: abc, RollNo: 1, Marks: 90, College: XYZ\n",
      "Name: xyz, RollNo: 2, Marks: 80, College: LMN\n",
      "Name: lmn, RollNo: 3, Marks: 100, College: LMN\n"
     ]
    }
   ],
   "source": [
    "# # Lets try to change the STATIC variable using s1\n",
    "\n",
    "s1.college = 'XYZ'\n",
    "\n",
    "s1.display()\n",
    "\n",
    "s2.display()\n",
    "\n",
    "s3.display()"
   ]
  },
  {
   "cell_type": "code",
   "execution_count": 33,
   "metadata": {},
   "outputs": [
    {
     "name": "stdout",
     "output_type": "stream",
     "text": [
      "Name: abc, RollNo: 1, Marks: 90, College: XYZ\n",
      "Name: xyz, RollNo: 2, Marks: 80, College: ABCD\n",
      "Name: lmn, RollNo: 3, Marks: 100, College: ABCD\n"
     ]
    }
   ],
   "source": [
    "# # Lets try to change the STATIC variable using Class Name\n",
    "\n",
    "Student.college = 'ABCD'\n",
    "\n",
    "s1.display()\n",
    "\n",
    "s2.display()\n",
    "\n",
    "s3.display()"
   ]
  },
  {
   "cell_type": "markdown",
   "metadata": {},
   "source": [
    "### 3. Local Variable"
   ]
  },
  {
   "cell_type": "code",
   "execution_count": 18,
   "metadata": {
    "ExecuteTime": {
     "end_time": "2018-05-31T08:01:15.905176Z",
     "start_time": "2018-05-31T08:01:15.900162Z"
    }
   },
   "outputs": [
    {
     "name": "stdout",
     "output_type": "stream",
     "text": [
      "10\n",
      "20\n"
     ]
    }
   ],
   "source": [
    "class Test:\n",
    "    def m1(self):\n",
    "        x = 10\n",
    "        print(x)\n",
    "    def m2(self):\n",
    "        y = 20\n",
    "        print(y)\n",
    "        \n",
    "t = Test()\n",
    "t.m1()\n",
    "t.m2()"
   ]
  },
  {
   "cell_type": "markdown",
   "metadata": {},
   "source": [
    "## Type of Methods\n",
    "\n",
    "1. Instance Method\n",
    "    - Instance methods take `self` parameter that points to the object instance. \n",
    "    - It can be used to modify the instance state.\n",
    "2. Class Method\n",
    "    - Instead of accepting a self parameter, class methods take a `cls` parameter that points to the class—and not the object instance—when the method is called.\n",
    "    - Because the class method only has access to this cls argument, it can’t modify object instance state. That would require access to self. However, class methods can still modify class state that applies across all instances of the class.\n",
    "3. Static Method\n",
    "    - This type of method takes neither a self nor a cls parameter (but of course it’s free to accept an arbitrary number of other parameters).\n",
    "    - Therefore a static method can neither modify object state nor class state. Static methods are restricted in what data they can access - and they’re primarily a way to namespace your methods."
   ]
  },
  {
   "cell_type": "code",
   "execution_count": 46,
   "metadata": {},
   "outputs": [],
   "source": [
    "class Test:\n",
    "    class_variable = 'Test'\n",
    "    def __init__(self, n, a):\n",
    "        self.name = n\n",
    "        self.age = a\n",
    "        \n",
    "    def display(self):\n",
    "        print('*'*20)\n",
    "        print(\"Name: \", self.name)\n",
    "        print(\"Age: \", self.age)\n",
    "        print('*'*20)\n",
    "        \n",
    "    @classmethod\n",
    "    def class_method(cls):\n",
    "        print(\"This is a class method!\")\n",
    "        print(cls.class_variable)\n",
    "        \n",
    "    @staticmethod\n",
    "    def static_method():\n",
    "        print(\"This is a static method!\")"
   ]
  },
  {
   "cell_type": "code",
   "execution_count": 47,
   "metadata": {},
   "outputs": [
    {
     "name": "stdout",
     "output_type": "stream",
     "text": [
      "********************\n",
      "Name:  Kanav\n",
      "Age:  10\n",
      "********************\n"
     ]
    }
   ],
   "source": [
    "obj = Test('Kanav', 10)\n",
    "\n",
    "obj.display()"
   ]
  },
  {
   "cell_type": "code",
   "execution_count": 48,
   "metadata": {},
   "outputs": [
    {
     "name": "stdout",
     "output_type": "stream",
     "text": [
      "This is a class method!\n",
      "Test\n",
      "This is a class method!\n",
      "Test\n"
     ]
    }
   ],
   "source": [
    "obj.class_method()\n",
    "\n",
    "Test.class_method()"
   ]
  },
  {
   "cell_type": "code",
   "execution_count": 49,
   "metadata": {},
   "outputs": [
    {
     "name": "stdout",
     "output_type": "stream",
     "text": [
      "This is a static method!\n",
      "This is a static method!\n"
     ]
    }
   ],
   "source": [
    "obj.static_method()\n",
    "\n",
    "Test.static_method()"
   ]
  },
  {
   "cell_type": "markdown",
   "metadata": {},
   "source": [
    "## Example-1 : Create a `Bottle` class with `color` and `capacity` properties"
   ]
  },
  {
   "cell_type": "code",
   "execution_count": 16,
   "metadata": {},
   "outputs": [],
   "source": [
    "class Bottle:\n",
    "    \n",
    "    def __init__(self, col, cap):\n",
    "        self.color = col\n",
    "        self.capacity = cap\n",
    "    \n",
    "    def details(self):\n",
    "        print(\"Color of the bottle is {}\".format(self.color))\n",
    "        print(\"Capacity of the bottle is {} Litres\".format(self.capacity))"
   ]
  },
  {
   "cell_type": "code",
   "execution_count": 17,
   "metadata": {},
   "outputs": [],
   "source": [
    "purple_bottle = Bottle(\"Purple\", 5)"
   ]
  },
  {
   "cell_type": "code",
   "execution_count": 18,
   "metadata": {},
   "outputs": [
    {
     "name": "stdout",
     "output_type": "stream",
     "text": [
      "Color of the bottle is Purple\n",
      "Capacity of the bottle is 5 Litres\n"
     ]
    }
   ],
   "source": [
    "purple_bottle.details()"
   ]
  },
  {
   "cell_type": "code",
   "execution_count": 19,
   "metadata": {},
   "outputs": [
    {
     "name": "stdout",
     "output_type": "stream",
     "text": [
      "Color of the bottle is Red\n",
      "Capacity of the bottle is 1 Litres\n"
     ]
    }
   ],
   "source": [
    "red_bottle = Bottle(\"Red\", 1)\n",
    "\n",
    "red_bottle.details()"
   ]
  },
  {
   "cell_type": "markdown",
   "metadata": {},
   "source": [
    "## Example-2 : Create a `Human` class with some properties and methods"
   ]
  },
  {
   "cell_type": "code",
   "execution_count": 38,
   "metadata": {},
   "outputs": [],
   "source": [
    "class Human:\n",
    "    # age, Gender, Name\n",
    "    def __init__(self, a, g, n):\n",
    "        self.age = a\n",
    "        self.gender = g\n",
    "        self.name = n\n",
    "    def print_details(self):\n",
    "        print(self.name, self.age, self.gender)\n",
    "    def update_age(self, a):\n",
    "        self.age = a\n",
    "        print(\"Age Updated Successfuly\")"
   ]
  },
  {
   "cell_type": "code",
   "execution_count": 39,
   "metadata": {},
   "outputs": [],
   "source": [
    "obj_1 = Human(100, 'Male', 'Kanav')"
   ]
  },
  {
   "cell_type": "code",
   "execution_count": 40,
   "metadata": {},
   "outputs": [
    {
     "name": "stdout",
     "output_type": "stream",
     "text": [
      "Kanav 100 Male\n"
     ]
    }
   ],
   "source": [
    "obj_1.print_details()"
   ]
  },
  {
   "cell_type": "code",
   "execution_count": 41,
   "metadata": {},
   "outputs": [],
   "source": [
    "obj_2 = Human(200, 'Male', 'Rahul')"
   ]
  },
  {
   "cell_type": "code",
   "execution_count": 42,
   "metadata": {},
   "outputs": [
    {
     "name": "stdout",
     "output_type": "stream",
     "text": [
      "Rahul 200 Male\n"
     ]
    }
   ],
   "source": [
    "obj_2.print_details()"
   ]
  },
  {
   "cell_type": "code",
   "execution_count": 43,
   "metadata": {},
   "outputs": [
    {
     "name": "stdout",
     "output_type": "stream",
     "text": [
      "Age Updated Successfuly\n"
     ]
    }
   ],
   "source": [
    "obj_2.update_age(20)"
   ]
  },
  {
   "cell_type": "code",
   "execution_count": 44,
   "metadata": {},
   "outputs": [
    {
     "name": "stdout",
     "output_type": "stream",
     "text": [
      "Rahul 20 Male\n"
     ]
    }
   ],
   "source": [
    "obj_2.print_details()"
   ]
  },
  {
   "cell_type": "markdown",
   "metadata": {},
   "source": [
    "## Example-3 : Create a `BankAccount` class with some properties and methods"
   ]
  },
  {
   "cell_type": "code",
   "execution_count": 40,
   "metadata": {},
   "outputs": [],
   "source": [
    "class BankAccount:\n",
    "    def __init__(self, num, ifsc, name, bal):\n",
    "        self.account_number = num\n",
    "        self.ifsc = ifsc\n",
    "        self.name = name\n",
    "        self.__balance = bal\n",
    "    \n",
    "    def display(self):\n",
    "        print(\"Account Number:\", self.account_number)\n",
    "        print(\"IFSC:\", self.ifsc)\n",
    "        print(\"Account Holder Name:\", self.name)\n",
    "        print(\"Available Balance:\", self.__balance)\n",
    "        \n",
    "    def deposit(self, amount):\n",
    "        if amount <= 0:\n",
    "            print(\"Enter a valid amount.\")\n",
    "        else:\n",
    "            self.__balance += amount\n",
    "    \n",
    "    def withdraw(self, amount):\n",
    "        if amount <= self.__balance:\n",
    "            print(\"Withdrawl of {} successful\".format(amount))\n",
    "            self.__balance -= amount\n",
    "        else:\n",
    "            print(\"Aukat mai rho :)\")"
   ]
  },
  {
   "cell_type": "code",
   "execution_count": 41,
   "metadata": {},
   "outputs": [],
   "source": [
    "b1 = BankAccount(12345, \"SBIN0000\", \"Kanav\", 10)\n",
    "b2 = BankAccount(11111, \"SBIN0000\", \"Rahul\", 10000000)"
   ]
  },
  {
   "cell_type": "code",
   "execution_count": 42,
   "metadata": {},
   "outputs": [
    {
     "name": "stdout",
     "output_type": "stream",
     "text": [
      "Account Number: 12345\n",
      "IFSC: SBIN0000\n",
      "Account Holder Name: Kanav\n",
      "Available Balance: 10\n"
     ]
    }
   ],
   "source": [
    "b1.display()"
   ]
  },
  {
   "cell_type": "code",
   "execution_count": 43,
   "metadata": {
    "scrolled": true
   },
   "outputs": [
    {
     "name": "stdout",
     "output_type": "stream",
     "text": [
      "Account Number: 12345\n",
      "IFSC: SBIN0000\n",
      "Account Holder Name: Kanav Bansal\n",
      "Available Balance: 10\n"
     ]
    }
   ],
   "source": [
    "b1.name = \"Kanav Bansal\"\n",
    "\n",
    "b1.display()"
   ]
  },
  {
   "cell_type": "code",
   "execution_count": 44,
   "metadata": {},
   "outputs": [
    {
     "name": "stdout",
     "output_type": "stream",
     "text": [
      "Account Number: 11111\n",
      "IFSC: SBIN0000\n",
      "Account Holder Name: Rahul\n",
      "Available Balance: 10000000\n"
     ]
    }
   ],
   "source": [
    "b2.display()"
   ]
  },
  {
   "cell_type": "code",
   "execution_count": 45,
   "metadata": {},
   "outputs": [
    {
     "name": "stdout",
     "output_type": "stream",
     "text": [
      "Account Number: 12345\n",
      "IFSC: SBIN0000\n",
      "Account Holder Name: Kanav Bansal\n",
      "Available Balance: 110\n"
     ]
    }
   ],
   "source": [
    "b1.deposit(100)\n",
    "\n",
    "b1.display()"
   ]
  },
  {
   "cell_type": "code",
   "execution_count": 46,
   "metadata": {},
   "outputs": [
    {
     "name": "stdout",
     "output_type": "stream",
     "text": [
      "Enter a valid amount.\n",
      "Account Number: 12345\n",
      "IFSC: SBIN0000\n",
      "Account Holder Name: Kanav Bansal\n",
      "Available Balance: 110\n"
     ]
    }
   ],
   "source": [
    "b1.deposit(-100)\n",
    "\n",
    "b1.display()"
   ]
  },
  {
   "cell_type": "code",
   "execution_count": 47,
   "metadata": {},
   "outputs": [
    {
     "name": "stdout",
     "output_type": "stream",
     "text": [
      "Aukat mai rho :)\n",
      "Account Number: 12345\n",
      "IFSC: SBIN0000\n",
      "Account Holder Name: Kanav Bansal\n",
      "Available Balance: 110\n"
     ]
    }
   ],
   "source": [
    "b1.withdraw(200)\n",
    "\n",
    "b1.display()"
   ]
  },
  {
   "cell_type": "code",
   "execution_count": 49,
   "metadata": {},
   "outputs": [
    {
     "name": "stdout",
     "output_type": "stream",
     "text": [
      "Account Number: 12345\n",
      "IFSC: SBIN0000\n",
      "Account Holder Name: Kanav Bansal\n",
      "Available Balance: 110\n"
     ]
    }
   ],
   "source": [
    "b1.__balance = 100000000000000000000000000000000000000\n",
    "\n",
    "b1.display()"
   ]
  },
  {
   "cell_type": "code",
   "execution_count": 50,
   "metadata": {},
   "outputs": [
    {
     "name": "stdout",
     "output_type": "stream",
     "text": [
      "Account Number: 12345\n",
      "IFSC: SBIN0000\n",
      "Account Holder Name: Kanav Bansal\n",
      "Available Balance: 210\n"
     ]
    }
   ],
   "source": [
    "b1.deposit(100)\n",
    "\n",
    "b1.display()"
   ]
  },
  {
   "cell_type": "code",
   "execution_count": 51,
   "metadata": {},
   "outputs": [
    {
     "name": "stdout",
     "output_type": "stream",
     "text": [
      "Account Number: 12345\n",
      "IFSC: SBIN0000\n",
      "Account Holder Name: Kanav Bansal\n",
      "Available Balance: 210\n"
     ]
    }
   ],
   "source": [
    "b1.__balance = 12312312312312312312312312312312123\n",
    "\n",
    "b1.display()"
   ]
  },
  {
   "cell_type": "markdown",
   "metadata": {},
   "source": [
    "## Assignment"
   ]
  },
  {
   "cell_type": "markdown",
   "metadata": {},
   "source": [
    "Q.1- Create a circle class and initialize it with radius. Make two methods getArea and getCircumference inside this class.\n",
    "\n",
    "Q.2- Create a Student class and initialize it with name and roll number. Make methods to :\n",
    "1. Display - It should display all informations of the student.\n",
    "2. setAge - It should assign age to student \n",
    "3. setMarks - It should assign marks to the student.\n",
    "\n",
    "Q.3- Create a Temprature class. Make two methods :\n",
    "1. convertFahrenheit - It will take celsius and will print it into Fahrenheit.\n",
    "2. convertCelsius - It will take Fahrenheit and will convert it into Celsius.\n",
    "\n",
    "Q.4- Create a class MovieDetails and initialize it with artistname,Year of release and ratings .\n",
    "Make methods to\n",
    "1. Display-Display the details.\n",
    "2. Add- Add the movie details.\n",
    "\n",
    "Q.5- Create a class Expenditure and initialize it with salary,savings, category , total expenditure.Make the following methods.\n",
    "1. Add expenditure according to category .\n",
    "2. Calculate total expenditure.\n",
    "3. Calculate per day and monthly expenditure.\n",
    "\n"
   ]
  }
 ],
 "metadata": {
  "kernelspec": {
   "display_name": "Python 3",
   "language": "python",
   "name": "python3"
  },
  "language_info": {
   "codemirror_mode": {
    "name": "ipython",
    "version": 3
   },
   "file_extension": ".py",
   "mimetype": "text/x-python",
   "name": "python",
   "nbconvert_exporter": "python",
   "pygments_lexer": "ipython3",
   "version": "3.8.5"
  },
  "toc": {
   "nav_menu": {},
   "number_sections": true,
   "sideBar": true,
   "skip_h1_title": false,
   "title_cell": "Table of Contents",
   "title_sidebar": "Contents",
   "toc_cell": false,
   "toc_position": {},
   "toc_section_display": true,
   "toc_window_display": false
  },
  "varInspector": {
   "cols": {
    "lenName": 16,
    "lenType": 16,
    "lenVar": 40
   },
   "kernels_config": {
    "python": {
     "delete_cmd_postfix": "",
     "delete_cmd_prefix": "del ",
     "library": "var_list.py",
     "varRefreshCmd": "print(var_dic_list())"
    },
    "r": {
     "delete_cmd_postfix": ") ",
     "delete_cmd_prefix": "rm(",
     "library": "var_list.r",
     "varRefreshCmd": "cat(var_dic_list()) "
    }
   },
   "types_to_exclude": [
    "module",
    "function",
    "builtin_function_or_method",
    "instance",
    "_Feature"
   ],
   "window_display": false
  }
 },
 "nbformat": 4,
 "nbformat_minor": 2
}
