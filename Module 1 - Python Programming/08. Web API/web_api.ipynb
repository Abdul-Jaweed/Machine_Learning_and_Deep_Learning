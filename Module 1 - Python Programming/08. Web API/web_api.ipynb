{
 "cells": [
  {
   "cell_type": "markdown",
   "metadata": {},
   "source": [
    "# Application Programming Interface"
   ]
  },
  {
   "cell_type": "markdown",
   "metadata": {
    "ExecuteTime": {
     "end_time": "2018-09-04T03:32:21.665406Z",
     "start_time": "2018-09-04T03:32:21.660911Z"
    }
   },
   "source": [
    "**Definition**  \n",
    "> Application Program Interfaces, or APIs, are commonly used to retrieve data from remote websites.  \n",
    "> To use an API, you make a request to a remote web server, and retrieve the data you need.\n",
    "\n",
    "**Why use API?**\n",
    "> Quickly changing data. Eg - Stock Market Data.  \n",
    "> In case you want a small piece of a much larger dataset. Eg - Twitter."
   ]
  },
  {
   "cell_type": "markdown",
   "metadata": {},
   "source": [
    "**API Request**\n",
    "> In order to get the data, we make a request to a webserver.  \n",
    "> The server then replies with our data.  \n",
    "> In Python, we'll use the **requests** module to do this.  \n",
    "> There are many different types of requests.   \n",
    "> The most commonly used one, a **GET request**, is used to retrieve data  \n",
    "\n",
    "```python\n",
    "import requests\n",
    "response = requests.get(\"URI\")\n",
    "```"
   ]
  },
  {
   "cell_type": "markdown",
   "metadata": {
    "ExecuteTime": {
     "end_time": "2018-09-04T03:32:44.962255Z",
     "start_time": "2018-09-04T03:32:44.958176Z"
    }
   },
   "source": [
    "### International Space Station API\n",
    "**Demonstrating an example with OpenNotify API**  \n",
    "In order to demonstrate, we will be using OpenNotify's API. OpenNotify has several API endpoints.  \n",
    "**OpenNotify API Documentation -** http://open-notify.org/Open-Notify-API/\n",
    "\n",
    "**API Endpoint**\n",
    "> An API endpoint is a digital location where an API receives requests about a specific resource on its server. \n",
    "\n",
    "**iss-now.json endpoint**\n",
    "> The first endpoint we'll look at on OpenNotify is the iss-now.json endpoint.  \n",
    "> This endpoint gets the current latitude and longitude of the International Space Station.   \n",
    "> As you can see, retrieving this data isn't a great fit for a dataset, because it involves some calculation on the server, and changes quickly.\n"
   ]
  },
  {
   "cell_type": "markdown",
   "metadata": {},
   "source": [
    "### Example 1"
   ]
  },
  {
   "cell_type": "code",
   "execution_count": 1,
   "metadata": {
    "ExecuteTime": {
     "end_time": "2018-09-04T03:32:43.971470Z",
     "start_time": "2018-09-04T03:32:43.967795Z"
    }
   },
   "outputs": [],
   "source": [
    "import requests"
   ]
  },
  {
   "cell_type": "code",
   "execution_count": 2,
   "metadata": {
    "ExecuteTime": {
     "end_time": "2018-09-04T03:33:20.386628Z",
     "start_time": "2018-09-04T03:33:19.151218Z"
    }
   },
   "outputs": [],
   "source": [
    "# Make a get request to get the latest position of \n",
    "# the international space station from the opennotify api.\n",
    "response = requests.get(\"http://api.open-notify.org/iss-now.json\")"
   ]
  },
  {
   "cell_type": "code",
   "execution_count": 3,
   "metadata": {},
   "outputs": [
    {
     "data": {
      "text/plain": [
       "'http://api.open-notify.org/iss-now.json'"
      ]
     },
     "execution_count": 3,
     "metadata": {},
     "output_type": "execute_result"
    }
   ],
   "source": [
    "# Check the response URL\n",
    "response.url"
   ]
  },
  {
   "cell_type": "code",
   "execution_count": 4,
   "metadata": {},
   "outputs": [
    {
     "data": {
      "text/plain": [
       "200"
      ]
     },
     "execution_count": 4,
     "metadata": {},
     "output_type": "execute_result"
    }
   ],
   "source": [
    "# Check the status code of the response.\n",
    "response.status_code"
   ]
  },
  {
   "cell_type": "code",
   "execution_count": 5,
   "metadata": {},
   "outputs": [
    {
     "data": {
      "text/plain": [
       "{'Server': 'nginx/1.10.3', 'Date': 'Sun, 04 Dec 2022 05:51:29 GMT', 'Content-Type': 'application/json', 'Content-Length': '114', 'Connection': 'keep-alive', 'access-control-allow-origin': '*'}"
      ]
     },
     "execution_count": 5,
     "metadata": {},
     "output_type": "execute_result"
    }
   ],
   "source": [
    "response.headers"
   ]
  },
  {
   "cell_type": "code",
   "execution_count": 6,
   "metadata": {},
   "outputs": [
    {
     "data": {
      "text/plain": [
       "'application/json'"
      ]
     },
     "execution_count": 6,
     "metadata": {},
     "output_type": "execute_result"
    }
   ],
   "source": [
    "# Check the response content type\n",
    "response.headers['Content-Type']"
   ]
  },
  {
   "cell_type": "code",
   "execution_count": 7,
   "metadata": {},
   "outputs": [
    {
     "data": {
      "text/plain": [
       "'utf-8'"
      ]
     },
     "execution_count": 7,
     "metadata": {},
     "output_type": "execute_result"
    }
   ],
   "source": [
    "# Check the response encoding\n",
    "response.encoding"
   ]
  },
  {
   "cell_type": "code",
   "execution_count": 8,
   "metadata": {},
   "outputs": [
    {
     "data": {
      "text/plain": [
       "'{\"timestamp\": 1670133089, \"iss_position\": {\"latitude\": \"-41.9956\", \"longitude\": \"-81.2892\"}, \"message\": \"success\"}'"
      ]
     },
     "execution_count": 8,
     "metadata": {},
     "output_type": "execute_result"
    }
   ],
   "source": [
    "# Response Content\n",
    "response.text"
   ]
  },
  {
   "cell_type": "code",
   "execution_count": 9,
   "metadata": {},
   "outputs": [
    {
     "data": {
      "text/plain": [
       "b'{\"timestamp\": 1670133089, \"iss_position\": {\"latitude\": \"-41.9956\", \"longitude\": \"-81.2892\"}, \"message\": \"success\"}'"
      ]
     },
     "execution_count": 9,
     "metadata": {},
     "output_type": "execute_result"
    }
   ],
   "source": [
    "# Binary Response Content\n",
    "# This is useful if the response body contains non-text data\n",
    "response.content"
   ]
  },
  {
   "cell_type": "code",
   "execution_count": 10,
   "metadata": {},
   "outputs": [
    {
     "data": {
      "text/plain": [
       "{'timestamp': 1670133089,\n",
       " 'iss_position': {'latitude': '-41.9956', 'longitude': '-81.2892'},\n",
       " 'message': 'success'}"
      ]
     },
     "execution_count": 10,
     "metadata": {},
     "output_type": "execute_result"
    }
   ],
   "source": [
    "# JSON Response Content\n",
    "response.json()"
   ]
  },
  {
   "cell_type": "markdown",
   "metadata": {},
   "source": [
    "### Example 2"
   ]
  },
  {
   "cell_type": "code",
   "execution_count": 11,
   "metadata": {
    "ExecuteTime": {
     "end_time": "2018-09-04T03:32:43.971470Z",
     "start_time": "2018-09-04T03:32:43.967795Z"
    }
   },
   "outputs": [],
   "source": [
    "import requests"
   ]
  },
  {
   "cell_type": "code",
   "execution_count": 12,
   "metadata": {
    "ExecuteTime": {
     "end_time": "2018-09-04T03:33:20.386628Z",
     "start_time": "2018-09-04T03:33:19.151218Z"
    }
   },
   "outputs": [],
   "source": [
    "# Make a get request to get the latest position of \n",
    "# the international space station from the opennotify api.\n",
    "response = requests.get(\"https://google.com/search?q=kanav\")"
   ]
  },
  {
   "cell_type": "code",
   "execution_count": 13,
   "metadata": {},
   "outputs": [
    {
     "data": {
      "text/plain": [
       "'https://www.google.com/search?q=kanav'"
      ]
     },
     "execution_count": 13,
     "metadata": {},
     "output_type": "execute_result"
    }
   ],
   "source": [
    "# Check the response URL\n",
    "response.url"
   ]
  },
  {
   "cell_type": "code",
   "execution_count": 14,
   "metadata": {},
   "outputs": [
    {
     "data": {
      "text/plain": [
       "200"
      ]
     },
     "execution_count": 14,
     "metadata": {},
     "output_type": "execute_result"
    }
   ],
   "source": [
    "# Check the status code of the response.\n",
    "response.status_code"
   ]
  },
  {
   "cell_type": "code",
   "execution_count": 15,
   "metadata": {},
   "outputs": [
    {
     "data": {
      "text/plain": [
       "{'Content-Type': 'text/html; charset=ISO-8859-1', 'Date': 'Sun, 04 Dec 2022 05:51:40 GMT', 'Expires': '-1', 'Cache-Control': 'private, max-age=0', 'Content-Security-Policy': \"object-src 'none';base-uri 'self';script-src 'nonce-h5t_vQX9FAxqz5JE28XY7g' 'strict-dynamic' 'report-sample' 'unsafe-eval' 'unsafe-inline' https: http:;report-uri https://csp.withgoogle.com/csp/gws/xsrp\", 'Cross-Origin-Opener-Policy-Report-Only': 'same-origin-allow-popups; report-to=\"gws\"', 'Report-To': '{\"group\":\"gws\",\"max_age\":2592000,\"endpoints\":[{\"url\":\"https://csp.withgoogle.com/csp/report-to/gws/xsrp\"}]}', 'P3P': 'CP=\"This is not a P3P policy! See g.co/p3phelp for more info.\"', 'Content-Encoding': 'gzip', 'Server': 'gws', 'X-XSS-Protection': '0', 'X-Frame-Options': 'SAMEORIGIN', 'Set-Cookie': '1P_JAR=2022-12-04-05; expires=Tue, 03-Jan-2023 05:51:40 GMT; path=/; domain=.google.com; Secure, AEC=AakniGMWpWhGtPx8GtnUaWMDxqBYm53uEEYoo_J-XtKJjOvo5dG3TAOr1w; expires=Fri, 02-Jun-2023 05:51:40 GMT; path=/; domain=.google.com; Secure; HttpOnly; SameSite=lax, NID=511=N10NbmXqideLw32lIRS4oMnSyFUCZCWeX3vr4sW-uheAB-JQTj9f8Nwy05IPhp-XSUjfuou0XPgU5f5PQLIq8TwLjGPyW-mziU4SjnoLVKW77HCyxibNUUkiMOExAlXeA24HbYroUvAItQjufjH-nhP0g_pM5VVBPEp1Wg7eh80; expires=Mon, 05-Jun-2023 05:51:40 GMT; path=/; domain=.google.com; HttpOnly', 'Alt-Svc': 'h3=\":443\"; ma=2592000,h3-29=\":443\"; ma=2592000,h3-Q050=\":443\"; ma=2592000,h3-Q046=\":443\"; ma=2592000,h3-Q043=\":443\"; ma=2592000,quic=\":443\"; ma=2592000; v=\"46,43\"', 'Transfer-Encoding': 'chunked'}"
      ]
     },
     "execution_count": 15,
     "metadata": {},
     "output_type": "execute_result"
    }
   ],
   "source": [
    "response.headers"
   ]
  },
  {
   "cell_type": "code",
   "execution_count": 16,
   "metadata": {},
   "outputs": [
    {
     "data": {
      "text/plain": [
       "'text/html; charset=ISO-8859-1'"
      ]
     },
     "execution_count": 16,
     "metadata": {},
     "output_type": "execute_result"
    }
   ],
   "source": [
    "# Check the response content type\n",
    "response.headers['Content-Type']"
   ]
  },
  {
   "cell_type": "code",
   "execution_count": 17,
   "metadata": {},
   "outputs": [
    {
     "data": {
      "text/plain": [
       "'ISO-8859-1'"
      ]
     },
     "execution_count": 17,
     "metadata": {},
     "output_type": "execute_result"
    }
   ],
   "source": [
    "# Check the response encoding\n",
    "response.encoding"
   ]
  },
  {
   "cell_type": "code",
   "execution_count": 18,
   "metadata": {},
   "outputs": [
    {
     "data": {
      "text/plain": [
       "'<!doctype html><html lang=\"en-IN\"><head><meta charset=\"UTF-8\"><meta content=\"/images/branding/googleg/1x/googleg_standard_color_128dp.png\" itemprop=\"image\"><title>kanav - Google Search</title><script nonce=\"h5t_vQX9FAxqz5JE28XY7g\">(function(){\\ndocument.documentElement.addEventListener(\"submit\",function(b){var a;if(a=b.target){var c=a.getAttribute(\"data-submitfalse\");a=\"1\"===c||\"q\"===c&&!a.elements.q.value?!0:!1}else a=!1;a&&(b.preventDefault(),b.stopPropagation())},!0);document.documentElement.addEventListener(\"click\",function(b){var a;a:{for(a=b.target;a&&a!==document.documentElement;a=a.parentElement)if(\"A\"===a.tagName){a=\"1\"===a.getAttribute(\"data-nohref\");break a}a=!1}a&&b.preventDefault()},!0);}).call(this);(function(){var a=window.performance;window.start=Date.now();a:{var b=window;if(a){var c=a.timing;if(c){var d=c.navigationStart,f=c.responseStart;if(f>d&&f<=window.start){window.start=f;b.wsrt=f-d;break a}}a.now&&(b.wsrt=Math.floor(a.now()))}}window.google=window.google||{};var h=function(g){g&&g.target.setAttribute(\"data-iml\",String(Date.now()))};document.documentElement.addEventListener(\"load\",h,!0);google.rglh=function(){document.documentElement.removeEventListener(\"load\",h,!0)};}).call(this);(function(){window._skwEvts=[];})();(function(){window.google.erd={jsr:1,bv:1698,de:true};})();(function(){var sdo=false;var mei=10;\\nvar h=this||self;var k,l=null!=(k=h.mei)?k:1,n,p=null!=(n=h.sdo)?n:!0,q=0,r,t=google.erd,v=t.jsr;google.ml=function(a,b,d,m,e){e=void 0===e?2:e;b&&(r=a&&a.message);if(google.dl)return google.dl(a,e,d),null;if(0>v){window.console&&console.error(a,d);if(-2===v)throw a;b=!1}else b=!a||!a.message||\"Error loading script\"===a.message||q>=l&&!m?!1:!0;if(!b)return null;q++;d=d||{};b=encodeURIComponent;var c=\"/gen_204?atyp=i&ei=\"+b(google.kEI);google.kEXPI&&(c+=\"&jexpid=\"+b(google.kEXPI));c+=\"&srcpg=\"+b(google.sn)+\"&jsr=\"+b(t.jsr)+\"&bver=\"+b(t.bv);var f=a.lineNumber;void 0!==f&&(c+=\"&line=\"+f);var g=\\na.fileName;g&&(0<g.indexOf(\"-extension:/\")&&(e=3),c+=\"&script=\"+b(g),f&&g===window.location.href&&(f=document.documentElement.outerHTML.split(\"\\\\n\")[f],c+=\"&cad=\"+b(f?f.substring(0,300):\"No script found.\")));c+=\"&jsel=\"+e;for(var u in d)c+=\"&\",c+=b(u),c+=\"=\",c+=b(d[u]);c=c+\"&emsg=\"+b(a.name+\": \"+a.message);c=c+\"&jsst=\"+b(a.stack||\"N/A\");12288<=c.length&&(c=c.substr(0,12288));a=c;m||google.log(0,\"\",a);return a};window.onerror=function(a,b,d,m,e){r!==a&&(a=e instanceof Error?e:Error(a),void 0===d||\"lineNumber\"in a||(a.lineNumber=d),void 0===b||\"fileName\"in a||(a.fileName=b),google.ml(a,!1,void 0,!1,\"SyntaxError\"===a.name||\"SyntaxError\"===a.message.substring(0,11)||-1!==a.message.indexOf(\"Script error\")?3:0));r=null;p&&q>=l&&(window.onerror=null)};})();(function(){var c=[],e=0;window.ping=function(b){-1==b.indexOf(\"&zx\")&&(b+=\"&zx=\"+Date.now());var a=new Image,d=e++;c[d]=a;a.onerror=a.onload=a.onabort=function(){delete c[d]};a.src=b};}).call(this);</script><style>a{color:#1a0dab;text-decoration:none;tap-highlight-color:rgba(0,0,0,.10)}a:visited{color:#4b11a8}a:hover{text-decoration:underline}img{border:0}html{font-family:arial,sans-serif;font-size:14px;line-height:20px;text-size-adjust:100%;color:#3c4043;word-wrap:break-word;background-color:#fff}.bRsWnc{background-color:#fff;border-top:1px solid #dadce0;height:39px;overflow:hidden}.N6RWV{height:51px;overflow-scrolling:touch;overflow-x:auto;overflow-y:hidden}.Uv67qb{box-pack:justify;font-size:12px;line-height:37px;justify-content:space-between;justify-content:space-between}.Uv67qb a,.Uv67qb span{color:#70757a;display:block;flex:none;padding:0 16px;text-align:center;text-transform:uppercase;}span.OXXup{border-bottom:2px solid #4285f4;color:#4285f4;font-weight:bold}a.eZt8xd:visited{color:#70757a}.FElbsf{border-left:1px solid rgba(0,0,0,.12)}header article{overflow:visible}.Pg70bf{height:39px;display:box;display:flex;display:flex;width:100%}.H0PQec{position:relative;flex:1}.sbc{display:flex;width:100%}.Pg70bf input{margin:2px 4px 2px 8px;}.x{width:26px;color:#70757a;font:27px/38px arial, sans-serif;line-height:40px;}#qdClwb{flex:0 0 auto;width:39px;height:39px;border-bottom:0;padding:0;border-top-right-radius:8px;background-color:#1a73e8;border:1px solid #1a73e8;background-image:url(data:image/gif;base64,R0lGODdhJAAjAPIHAODr/nCk+MPZ/FmV96zK+/7+/5K5+kqL9iwAAAAAJAAjAEADani63P4wykmbKcQRXDscQAEMXmmeaLQVLCukzyC09AjfeK7v/MAajACLhPMVAgwjsUcEiZa8xgAYrVqv2Kx2iwsIAAABknfBBAKrTE4IcMyot8ur8datqIbQfJdnAfo2WE6BV05wXIiJigkAOw==);}.sc{font-size:16px;position:absolute;top:39px;left:0;right:0;box-shadow:0 2px 5px rgba(0,0,0,.2);z-index:2;background-color:#fff}.sc>div{padding:10px 10px;padding-left:16px;padding-left:14px;border-top:1px solid #dfe1e5;}.scs{background-color:#fafafa;}.noHIxc{display:block;font-size:16px;padding:0 0 0 8px;flex:1;height:35px;outline:none;border:none;width:100%;-webkit-tap-highlight-color:rgba(0,0,0,0);overflow:hidden;}.sbc input[type=text]{background:none}.bz1lBb{background-color:#fff;border-radius:8px 8px 0 0;box-shadow:0 0 0 1px #dfe1e5;margin-top:24px;}.KP7LCb{border-radius:0 0 8px 8px;box-shadow:0px 1px 0px 1px #dfe1e5;margin-bottom:30px;overflow:hidden}html{background-color:#fff}body{margin:0 auto 0 156px;max-width:652px;min-width:652px;padding:0 8px}.cOl4Id{letter-spacing:-1px;text-align:center;font:22pt Futura, Arial, sans-serif;height:37px;font-smoothing:antialiased;padding:32px 28px 0 24px;position:absolute;left:0;top:0}.cOl4Id span{display:inline-block}.V6gwVd{color:#4285f4}.iWkuvd{color:#ea4335}.cDrQ7{color:#fcc934}.ntlR9{color:#34a853}.tJ3Myc{-webkit-transform:rotate(-20deg);position:relative;left:-1px;display:inline-block}footer{text-align:center;margin-top:18px}footer a,footer a:visited,.smiUbb{color:#70757a}.xeDNfc{margin:0 13px;white-space:nowrap}#EOlPnc{margin-top:36px}#EOlPnc>div{margin:20px}.Srfpq{color:#70757a}</style></head><body jsmodel=\"hspDDf\"><header id=\"hdr\"><script nonce=\"h5t_vQX9FAxqz5JE28XY7g\">(function(){\\nvar k=this||self,l=function(a){var b=typeof a;return\"object\"==b&&null!=a||\"function\"==b},m=function(a,b){function c(){}c.prototype=b.prototype;a.j=b.prototype;a.prototype=new c;a.prototype.constructor=a;a.l=function(d,e,f){for(var g=Array(arguments.length-2),h=2;h<arguments.length;h++)g[h-2]=arguments[h];return b.prototype[e].apply(d,g)}};var n=Array.prototype.indexOf?function(a,b){return Array.prototype.indexOf.call(a,b,void 0)}:function(a,b){if(\"string\"===typeof a)return\"string\"!==typeof b||1!=b.length?-1:a.indexOf(b,0);for(var c=0;c<a.length;c++)if(c in a&&a[c]===b)return c;return-1};var p=function(a){return\"string\"==typeof a.className?a.className:a.getAttribute&&a.getAttribute(\"class\")||\"\"},q=function(a,b){\"string\"==typeof a.className?a.className=b:a.setAttribute&&a.setAttribute(\"class\",b)},r=function(a,b){a.classList?b=a.classList.contains(b):(a=a.classList?a.classList:p(a).match(/\\\\S+/g)||[],b=0<=n(a,b));return b},v=function(){var a=t,b=u;a.classList?a.classList.remove(b):r(a,b)&&q(a,Array.prototype.filter.call(a.classList?a.classList:p(a).match(/\\\\S+/g)||[],function(c){return c!=\\nb}).join(\" \"))};function w(){var a=k.navigator;return a&&(a=a.userAgent)?a:\"\"};var x=function(a){x[\" \"](a);return a};x[\" \"]=function(){};var y=-1!=w().indexOf(\"Gecko\")&&!(-1!=w().toLowerCase().indexOf(\"webkit\")&&-1==w().indexOf(\"Edge\"))&&!(-1!=w().indexOf(\"Trident\")||-1!=w().indexOf(\"MSIE\"))&&-1==w().indexOf(\"Edge\");var z=function(a,b){this.type=a;this.target=b};z.prototype.g=function(){};var A=function(){if(!k.addEventListener||!Object.defineProperty)return!1;var a=!1,b=Object.defineProperty({},\"passive\",{get:function(){a=!0}});try{k.addEventListener(\"test\",function(){},b),k.removeEventListener(\"test\",function(){},b)}catch(c){}return a}();var C=function(a){z.call(this,a?a.type:\"\");this.relatedTarget=this.target=null;this.button=this.screenY=this.screenX=this.clientY=this.clientX=0;this.key=\"\";this.keyCode=0;this.metaKey=this.shiftKey=this.altKey=this.ctrlKey=!1;this.state=null;this.pointerId=0;this.pointerType=\"\";this.h=null;if(a){var b=this.type=a.type,c=a.changedTouches&&a.changedTouches.length?a.changedTouches[0]:null;this.target=a.target||a.srcElement;var d=a.relatedTarget;if(d){if(y){a:{try{x(d.nodeName);var e=!0;break a}catch(f){}e=\\n!1}e||(d=null)}}else\"mouseover\"==b?d=a.fromElement:\"mouseout\"==b&&(d=a.toElement);this.relatedTarget=d;c?(this.clientX=void 0!==c.clientX?c.clientX:c.pageX,this.clientY=void 0!==c.clientY?c.clientY:c.pageY,this.screenX=c.screenX||0,this.screenY=c.screenY||0):(this.clientX=void 0!==a.clientX?a.clientX:a.pageX,this.clientY=void 0!==a.clientY?a.clientY:a.pageY,this.screenX=a.screenX||0,this.screenY=a.screenY||0);this.button=a.button;this.keyCode=a.keyCode||0;this.key=a.key||\"\";this.ctrlKey=a.ctrlKey;this.altKey=a.altKey;this.shiftKey=a.shiftKey;this.metaKey=a.metaKey;this.pointerId=a.pointerId||0;this.pointerType=\"string\"===typeof a.pointerType?a.pointerType:B[a.pointerType]||\"\";this.state=a.state;this.h=a;a.defaultPrevented&&C.j.g.call(this)}};m(C,z);var B={2:\"touch\",3:\"pen\",4:\"mouse\"};C.prototype.g=function(){C.j.g.call(this);var a=this.h;a.preventDefault?a.preventDefault():a.returnValue=!1};var D=\"closure_listenable_\"+(1E6*Math.random()|0);var E=0;var F=function(a,b,c,d,e){this.listener=a;this.proxy=null;this.src=b;this.type=c;this.capture=!!d;this.h=e;this.key=++E;this.g=this.i=!1},G=function(a){a.g=!0;a.listener=null;a.proxy=null;a.src=null;a.h=null};var H=function(a){this.src=a;this.g={};this.h=0};H.prototype.add=function(a,b,c,d,e){var f=a.toString();a=this.g[f];a||(a=this.g[f]=[],this.h++);var g;a:{for(g=0;g<a.length;++g){var h=a[g];if(!h.g&&h.listener==b&&h.capture==!!d&&h.h==e)break a}g=-1}-1<g?(b=a[g],c||(b.i=!1)):(b=new F(b,this.src,f,!!d,e),b.i=c,a.push(b));return b};var I=\"closure_lm_\"+(1E6*Math.random()|0),J={},K=0,M=function(a,b,c,d,e){if(d&&d.once)return L(a,b,c,d,e);if(Array.isArray(b)){for(var f=0;f<b.length;f++)M(a,b[f],c,d,e);return null}c=N(c);return a&&a[D]?a.g(b,c,l(d)?!!d.capture:!!d,e):O(a,b,c,!1,d,e)},O=function(a,b,c,d,e,f){if(!b)throw Error(\"a\");var g=l(e)?!!e.capture:!!e,h=P(a);h||(a[I]=h=new H(a));c=h.add(b,c,d,g,f);if(c.proxy)return c;d=Q();c.proxy=d;d.src=a;d.listener=c;if(a.addEventListener)A||(e=g),void 0===e&&(e=!1),a.addEventListener(b.toString(),d,e);else if(a.attachEvent)a.attachEvent(R(b.toString()),d);else if(a.addListener&&a.removeListener)a.addListener(d);else throw Error(\"b\");K++;return c},Q=function(){var a=S,b=function(c){return a.call(b.src,b.listener,c)};return b},L=function(a,b,c,d,e){if(Array.isArray(b)){for(var f=0;f<b.length;f++)L(a,b[f],c,d,e);return null}c=N(c);return a&&a[D]?a.h(b,c,l(d)?!!d.capture:!!d,e):O(a,b,c,!0,d,e)},T=function(a){if(\"number\"!==typeof a&&a&&!a.g){var b=a.src;if(b&&b[D])b.o(a);else{var c=a.type,d=a.proxy;b.removeEventListener?b.removeEventListener(c,d,a.capture):b.detachEvent?b.detachEvent(R(c),d):b.addListener&&b.removeListener&&b.removeListener(d);K--;if(c=P(b)){d=a.type;if(d in c.g){var e=c.g[d],f=n(e,a),g;(g=0<=f)&&Array.prototype.splice.call(e,f,1);g&&(G(a),0==c.g[d].length&&(delete c.g[d],c.h--))}0==c.h&&(c.src=null,b[I]=null)}else G(a)}}},R=function(a){return a in J?J[a]:J[a]=\"on\"+a},S=function(a,b){if(a.g)a=!0;else{b=new C(b,this);var c=a.listener,d=a.h||a.src;a.i&&T(a);a=c.call(d,b)}return a},P=function(a){a=a[I];return a instanceof H?a:null},U=\"__closure_events_fn_\"+(1E9*Math.random()>>>0),N=function(a){if(\"function\"===typeof a)return a;a[U]||(a[U]=function(b){return a.handleEvent(b)});return a[U]};var u,t=document.documentElement,V;function W(){T(V);V=L(t,\"mousedown\",function(){v();X()},{capture:!0})}function X(){T(V);V=M(t,\"keydown\",function(a){if(9===a.keyCode){a=t;var b=u;if(a.classList)a.classList.add(b);else if(!r(a,b)){var c=p(a);q(a,c+(0<c.length?\" \"+b:b))}W()}})};u=\"zAoYTe\";X();}).call(this);</script><div class=\"cOl4Id\"><a href=\"/?sa=X&amp;ved=0ahUKEwixwq_Rot_7AhXgQUEAHcocBykQOwgC\"><span class=\"V6gwVd\">G</span><span class=\"iWkuvd\">o</span><span class=\"cDrQ7\">o</span><span class=\"V6gwVd\">g</span><span class=\"ntlR9\">l</span><span class=\"iWkuvd tJ3Myc\">e</span></a></div><div class=\"bz1lBb\"><form class=\"Pg70bf\" id=\"sf\"><input name=\"ie\" value=\"ISO-8859-1\" type=\"hidden\"><div class=\"H0PQec\"><div class=\"sbc esbc\"><input class=\"noHIxc\" value=\"kanav\" autocapitalize=\"none\" autocomplete=\"off\" name=\"q\" spellcheck=\"false\" type=\"text\"><input name=\"oq\" type=\"hidden\"><input name=\"aqs\" type=\"hidden\"><div class=\"x\">×</div><div class=\"sc\"></div></div></div><button id=\"qdClwb\" type=\"submit\"></button></form></div><noscript><meta content=\"0;url=/search?q=kanav&amp;ie=UTF-8&amp;gbv=1&amp;sei=bDWMY7HcEuCDhbIPyrmcyAI\" http-equiv=\"refresh\"><style>table,div,span,p{display:none}</style><div style=\"display:block\">Please click <a href=\"/search?q=kanav&amp;ie=UTF-8&amp;gbv=1&amp;sei=bDWMY7HcEuCDhbIPyrmcyAI\">here</a> if you are not redirected within a few seconds.</div></noscript></header><div id=\"main\"><div><div class=\"KP7LCb\"> <div class=\"bRsWnc\"> <div class=\"N6RWV\"> <div class=\"Pg70bf Uv67qb\"> <span class=\"OXXup\">All</span><a class=\"eZt8xd\" href=\"/search?q=kanav&amp;ie=UTF-8&amp;source=lnms&amp;tbm=isch&amp;sa=X&amp;ved=0ahUKEwixwq_Rot_7AhXgQUEAHcocBykQ_AUIBigB\">Images</a><a class=\"eZt8xd\" href=\"/search?q=kanav&amp;ie=UTF-8&amp;source=lnms&amp;tbm=nws&amp;sa=X&amp;ved=0ahUKEwixwq_Rot_7AhXgQUEAHcocBykQ_AUIBygC\">News</a><a class=\"eZt8xd\" href=\"https://maps.google.com/maps?q=kanav&amp;um=1&amp;ie=UTF-8&amp;sa=X&amp;ved=0ahUKEwixwq_Rot_7AhXgQUEAHcocBykQ_AUICCgD\">Maps</a>  <a href=\"/search?q=kanav&amp;ie=UTF-8&amp;source=lnms&amp;tbm=vid&amp;sa=X&amp;ved=0ahUKEwixwq_Rot_7AhXgQUEAHcocBykQ_AUICSgE\">Videos</a>  <a href=\"/search?q=kanav&amp;ie=UTF-8&amp;source=lnms&amp;tbm=shop&amp;sa=X&amp;ved=0ahUKEwixwq_Rot_7AhXgQUEAHcocBykQ_AUICigF\">Shopping</a>  <a href=\"/search?q=kanav&amp;ie=UTF-8&amp;source=lnms&amp;tbm=bks&amp;sa=X&amp;ved=0ahUKEwixwq_Rot_7AhXgQUEAHcocBykQ_AUICygG\">Books</a>  <div class=\"FElbsf\"><a href=\"/advanced_search\" style=\"white-space:nowrap\" id=\"st-toggle\" role=\"button\">Search tools</a></div> </div> </div> </div> </div><div class=\"Pg70bf wEsjbd Gx5Zad xpd EtOod pkphOe\" style=\"display:none\" id=\"st-card\"><style>.wEsjbd{background-color:#fff;height:44px;white-space:nowrap}.coPU8c{height:60px;overflow-scrolling:touch;overflow-x:auto;overflow-y:hidden}.Xj2aue{height:44px;overflow:hidden}.RnNGze{margin:11px 16px}.wEsjbd div,.wEsjbd a,.wEsjbd li{outline-width:0;outline:none}</style><div class=\"Xj2aue\"><div class=\"coPU8c\"><div class=\"RnNGze\"><style>.PA9J5{display:inline-block}.RXaOfd{display:inline-block;height:22px;position:relative;padding-top:0;padding-bottom:0;padding-right:16px;padding-left:0;line-height:22px;cursor:pointer;text-transform:uppercase;font-size:12px;color:#70757a}.sa1toc{background:#fff;display:none;position:absolute;border:1px solid #d6d6d6;box-shadow:0 2px 4px rgba(0,0,0,.3);margin:0;white-space:nowrap;z-index:103;line-height:17px;padding-top:5px;padding-bottom:5px;padding-left:0}.PA9J5:hover .sa1toc{display:block}.mGSy8d a:active,.RXaOfd:active{color:#4285f4}</style><div class=\"PA9J5\"><div class=\"RXaOfd\" role=\"button\" tabindex=\"0\"><style>.TWMOUc{display:inline-block;padding-right:14px;white-space:nowrap}.vQYuGf{font-weight:bold}.OmTIzf{border-color:#909090 transparent;border-style:solid;border-width:4px 4px 0 4px;width:0;height:0;margin-left:-10px;top:50%;margin-top:-2px;position:absolute}.RXaOfd:active .OmTIzf{border-color:#4285f4 transparent}</style><div class=\"TWMOUc\">Any time</div><span class=\"OmTIzf\"></span></div><ul class=\"sa1toc ozatM\"><style>.ozatM{font-size:12px;text-transform:uppercase}.ozatM .yNFsl,.ozatM li{list-style-type:none;list-style-position:outside;list-style-image:none}.yNFsl.SkUj4c,.yNFsl a{color:#70757a;text-decoration:none;padding:6px 44px 6px 14px;line-height:17px;display:block}.SkUj4c{background-image:url(//ssl.gstatic.com/ui/v1/menu/checkmark2.png);background-position:right center;background-repeat:no-repeat}.SkUj4c:active{background-color:#f8f9fa}</style><li class=\"yNFsl SkUj4c\">Any time</li><li class=\"yNFsl\"><a href=\"/search?q=kanav&amp;ie=UTF-8&amp;source=lnt&amp;tbs=qdr:h&amp;sa=X&amp;ved=0ahUKEwixwq_Rot_7AhXgQUEAHcocBykQpwUIDQ\">Past hour</a></li><li class=\"yNFsl\"><a href=\"/search?q=kanav&amp;ie=UTF-8&amp;source=lnt&amp;tbs=qdr:d&amp;sa=X&amp;ved=0ahUKEwixwq_Rot_7AhXgQUEAHcocBykQpwUIDg\">Past 24 hours</a></li><li class=\"yNFsl\"><a href=\"/search?q=kanav&amp;ie=UTF-8&amp;source=lnt&amp;tbs=qdr:w&amp;sa=X&amp;ved=0ahUKEwixwq_Rot_7AhXgQUEAHcocBykQpwUIDw\">Past week</a></li><li class=\"yNFsl\"><a href=\"/search?q=kanav&amp;ie=UTF-8&amp;source=lnt&amp;tbs=qdr:m&amp;sa=X&amp;ved=0ahUKEwixwq_Rot_7AhXgQUEAHcocBykQpwUIEA\">Past month</a></li><li class=\"yNFsl\"><a href=\"/search?q=kanav&amp;ie=UTF-8&amp;source=lnt&amp;tbs=qdr:y&amp;sa=X&amp;ved=0ahUKEwixwq_Rot_7AhXgQUEAHcocBykQpwUIEQ\">Past year</a></li></ul></div><div class=\"PA9J5\"><div class=\"RXaOfd\" role=\"button\" tabindex=\"0\"><div class=\"TWMOUc\">All results</div><span class=\"OmTIzf\"></span></div><ul class=\"sa1toc ozatM\"><li class=\"yNFsl SkUj4c\">All results</li><li class=\"yNFsl\"><a href=\"/search?q=kanav&amp;ie=UTF-8&amp;source=lnt&amp;tbs=li:1&amp;sa=X&amp;ved=0ahUKEwixwq_Rot_7AhXgQUEAHcocBykQpwUIEw\">Verbatim</a></li></ul></div></div></div></div><script nonce=\"h5t_vQX9FAxqz5JE28XY7g\">(function(){var a=document.getElementById(\"st-toggle\"),b=document.getElementById(\"st-card\");a&&b&&a.addEventListener(\"click\",function(c){b.style.display=b.style.display?\"\":\"none\";c.preventDefault()},!1);}).call(this);</script></div></div><style>.ZTv9Bb{display:block}.nVTMpe{border-radius:8px}.wVMPHe{margin:0 auto}.Gx5Zad{background-color:#fff;margin-bottom:30px;box-shadow:0 0 0 1px #dfe1e5;border-radius:8px}.pkphOe{font-size:14px;line-height:22px;}.EtOod>*:first-child{border-top-left-radius:8px;border-top-right-radius:8px}.EtOod>*:last-child{border-bottom-left-radius:8px;border-bottom-right-radius:8px}.EtOod>.qxDOhb>*:first-child{border-top-left-radius:8px;border-top-right-radius:8px}.EtOod>.qxDOhb>*:last-child{border-bottom-left-radius:8px;border-bottom-right-radius:8px}.kCrYT{padding:12px 16px 12px}.l97dzf{font-weight:400}.zBAuLc{line-height:normal;margin:0;padding:0}.BNeawe{white-space:pre-line;word-wrap:break-word}.deIvCb{font-size:16px;line-height:20px;font-weight:400}.deIvCb.HrGdeb{color:#fff}.deIvCb.AP7Wnd{color:#202124}.tAd8D{font-size:14px;line-height:20px}.tAd8D.HrGdeb{color:rgba(255,255,255,.70)}.tAd8D.AP7Wnd{color:#70757a}a.fdYsqf{color:#4b11a8}.RJI4s{vertical-align:middle}.x54gtf{height:1px;background-color:#dadce0;margin:0 16px}.Q0HXG{height:1px;background-color:#dadce0}.X7NTVe{display:table;width:100%;padding-right:16px;box-sizing:border-box}.tHmfQe{display:table-cell;padding:12px 0 12px 16px}.UHtrk{width:72px}.HBTM6d{width:30px}.XS7yGd{display:table-cell;text-align:center;vertical-align:middle;padding:12px 0 12px 8px}.am3QBf{display:table;vertical-align:top}.Icx6Cd{margin:0 auto 8px}.ZAfNud{display:table;width:100%}.naKQFc{display:table-cell;vertical-align:top}.Ne5sAf{vertical-align:middle}.xevp3d{overflow:hidden}.XCaUNd{display:block}.mugnXc{color:#3c4043;font-size:14px}.Q0cixc{display:block;white-space:pre-line;word-wrap:break-word}.mugnXc.Q0cixc{line-height:22px}.K8tyEc{padding-bottom:12px}.mEUgP{font-weight:bold;font-size:16px;color:#000;margin:0;padding:12px 16px 0 16px}.FCUp0c{font-weight:bold}.C7GS5b{margin-left:12px;display:table-cell;vertical-align:middle}.rkGIWe{padding:14px}.xpc .hwc,.xpx .hwx{display:none}.iIWm4b{box-sizing:border-box;min-height:48px}.fLtXsc{padding:14px;position:relative}.NtmAdb{width:40px;height:40px;overflow:hidden;margin-top:-10px;margin-bottom:-16px;margin-right:8px;border-radius:4px}.xpc .NtmAdb{display:inline-block}.xpx .NtmAdb{display:none}.Lt3Tzc{display:inline-block;padding-right:26px}.Lym8W{width:14px;height:20px;position:relative;margin:0 auto}.xCgLUe{position:absolute;right:16px;margin-top:-10px;top:50%}.Lym8W div{position:absolute;border-left:7px solid transparent;border-right:7px solid transparent;width:0;height:0;left:0}.IyYaEd{top:7px;border-top:7px solid #70757a}.ECUHQe{top:4px;border-top:7px solid #fff}.AeQQub{bottom:7px;border-bottom:7px solid #70757a}.YCU7eb{bottom:4px;border-bottom:7px solid #fff}.qxDOhb{border-radius:0}.yStFkb .xpd{border-radius:8px;box-shadow:none;border:1px solid #dadce0;margin-bottom:0}.oTWEpb{padding-top:12px}.n1Qedd{overflow:hidden;text-align:center}.KMAGC{margin:0 auto;display:block}.ho0sdc{margin:0 -50%;display:inline-block}.Ap5OSd{padding-bottom:12px}.s3v9rd{font-size:14px;line-height:22px}.s3v9rd.HrGdeb{color:#fff}.s3v9rd.AP7Wnd{color:#202124}.vvjwJb{color:#1a0dab;font-size:20px;line-height:26px}a:visited .vvjwJb,.vvjwJb a:visited{color:#4b11a8}.vvjwJb.HrGdeb{color:#fff}a:visited .vvjwJb.HrGdeb,.vvjwJb.HrGdeb a:visited{color:rgba(255,255,255,.70)}.Xb5VRe{color:#1a0dab}a:visited .Xb5VRe{color:#4b11a8}.Xb5VRe.tr0dw{color:#fff}a:visited .Xb5VRe.tr0dw{color:rgba(255,255,255,.70)}.UPmit{font-size:14px;line-height:22px}.UPmit.HrGdeb{color:rgba(255,255,255,.70)}.UPmit.AP7Wnd{color:#202124}.P1NWSe{display:table;width:100%;padding-top:16px;padding-bottom:16px;margin-bottom:-12px}.wOMIed{display:table-cell;vertical-align:top}.nkPlDb{vertical-align:middle}.JhFlyf{color:#3c4043;font-size:14px;text-align:center}.VQFmSd{display:block;white-space:pre-line;word-wrap:break-word}.JhFlyf.VQFmSd{line-height:22px}.f4J0H{padding:18px}.fP1Qef{background:transparent !important;box-shadow:none !important;border:none !important}.Gx5Zad.fP1Qef{margin-top:-12px;margin-bottom:18px}.rl7ilb{display:block;clear:both}.egMi0{margin-bottom:-19px}.sCuL3{position:absolute;width:100%;top:0;left:0;padding-top:1px;margin-bottom:-1px}.j039Wc{padding-top:28px;margin-bottom:-1px}.DnJfK{position:relative}.lRVwie{text-overflow:ellipsis;white-space:nowrap;overflow:hidden}.mSx1Ee{padding-left:48px;margin:0}.v9i61e{padding-bottom:8px}.zJIOJe{clear:both}.AzGoi{float:left;padding-right:16px}.h1hFNe{display:inline-block;position:relative}.Iaa5if{overflow:hidden;position:relative}.l7d08{align-items:center;display:flex;flex-direction:column;justify-content:space-around}.Xdlr0d{overflow-x:auto;-webkit-overflow-scrolling:touch;margin:0 -8px;padding:2px 0 16px 24px;margin-top:-2px;transform:translate3d(0,0,0)}.idg8be{display:table;border-collapse:separate;border-spacing:8px 0;margin:0 -8px;padding-right:16px}.BVG0Nb{display:table-cell;vertical-align:top;background-color:#fff;border-radius:8px;box-shadow:0 0 0 1px #dfe1e5;overflow:hidden}.mHhylf{display:table-cell;vertical-align:middle}.WZ5GJf{align-items:center;padding:0 20px;min-width:112px}.qN9Ked,.DXk5Me{margin:0 auto}.DXk5Me{cursor:pointer;margin-bottom:12px}.Dk7jOe{display:block;margin:0 auto}.Qi9Fd{background:#fff;border:0;border-radius:999px;display:block;height:56px;justify-content:center;width:56px;z-index:0}.Qi9Fd{box-shadow:0 0 0 1px #dfe1e5,inset 0 0 0 0 rgba(0,0,0,.1),inset 0 0 0 0 rgba(255,255,255,.5)}.Qi9Fd:focus{outline:none}.Qi9Fd .hWHuJ{display:block;margin:0 auto}.ji5jpf{text-align:center}.r0bn4c.tr0dw{color:rgba(255,255,255,.70)}.r0bn4c.rQMQod{color:#70757a}.gGQDvd{padding:14px;position:relative}.Q71vJc{display:block;position:relative;width:100%}.kjGX2{position:absolute;left:48px;right:0;vertical-align:bottom;display:inline-block;color:#3c4043}.ieB2Dd{overflow:hidden;margin-top:-10px;margin-bottom:-16px;margin-right:8px;border-radius:4px;display:inline-block;border-radius:50%;padding:10px}.OEaqif{width:20px;height:20px;display:block}.rLshyf,.BmP5tf{padding-top:12px;padding-bottom:12px}.YOx3Ab{padding-left:16px;}.w1C3Le,.BmP5tf,.G5NbBd,.CS4w5b{padding-left:16px;padding-right:16px;}.G5NbBd{padding-bottom:12px}.CS4w5b{padding-top:12px}.nMymef{display:flex}.G5eFlf{flex:1;display:block}.nMymef span{text-align:center}.EYqSq{margin:6px 4px 9px 0;border-radius:100%;display:inline-block;height:10px;vertical-align:middle;width:10px}.dfB0uf{color:#3c4043;font-weight:bold}</style><div><!--SW_C_X--></div><div></div><div><div class=\"Gx5Zad xpd EtOod pkphOe\"><div class=\"kCrYT\"><div class=\"q4vBJc\"></div><span><h2 class=\"zBAuLc l97dzf\"><div class=\"BNeawe deIvCb AP7Wnd\">Places</div></h2></span><span><div class=\"BNeawe tAd8D AP7Wnd\">near Hyderabad, Telangana</div></span></div><div style=\"max-height:200px\"><a href=\"https://maps.google.com/maps?um=1&amp;ie=UTF-8&amp;fb=1&amp;gl=in&amp;sa=X&amp;sll=17.505399,78.426254&amp;sspn=0.1257384,0.175801&amp;q=kanav&amp;ved=2ahUKEwixwq_Rot_7AhXgQUEAHcocBykQtgN6BAgGEAE\"><img class=\"ZTv9Bb wVMPHe\" style=\"max-width:100%;max-height:200px\" alt=\"Map image\" src=\"data:image/gif;base64,R0lGODlhAQABAIAAAP///////yH5BAEKAAEALAAAAAABAAEAAAICTAEAOw==\" id=\"dimg_1\" data-deferred=\"1\"></a></div><div class=\"Q0HXG\"></div><div class=\"X7NTVe\"><a class=\"tHmfQe\" href=\"/search?ie=UTF-8&amp;q=Kanav+Infotech+Hyderabad,+Telangana&amp;ludocid=13456885631979071237&amp;gsas=1&amp;lsig=AB86z5UXn0kvg9RNbV31bhXaI8Jw&amp;sa=X&amp;ved=2ahUKEwixwq_Rot_7AhXgQUEAHcocBykQvS56BAgGEAQ\"><div class=\"am3QBf\"><div><span><h3 class=\"zBAuLc l97dzf\"><div class=\"BNeawe deIvCb AP7Wnd\">Kanav Infotech</div></h3></span><span><div class=\"BNeawe tAd8D AP7Wnd\">Software company · Ground Floor, Plot No. 32-34, Adj HSBC, Mind Space, Hitech city, Madhapur, Hyderabad, Telangana &#8211; 500081 Phone No. : +91 (0)40</div></span></div></div></a><div class=\"HBTM6d XS7yGd\"><a href=\"/search?ie=UTF-8&amp;q=Kanav+Infotech+Hyderabad,+Telangana&amp;ludocid=13456885631979071237&amp;gsas=1&amp;lsig=AB86z5UXn0kvg9RNbV31bhXaI8Jw&amp;sa=X&amp;ved=2ahUKEwixwq_Rot_7AhXgQUEAHcocBykQ_pABegQIBhAF\"><img class=\"ZTv9Bb Icx6Cd\" alt=\"Arrow\" src=\"data:image/gif;base64,R0lGODlhAQABAIAAAP///////yH5BAEKAAEALAAAAAABAAEAAAICTAEAOw==\" style=\"max-width:24px;max-height:24px\" id=\"dimg_7\" data-deferred=\"1\"></a></div></div><div class=\"Q0HXG\"></div><div class=\"X7NTVe\"><a class=\"tHmfQe\" href=\"/search?ie=UTF-8&amp;q=Kanav+Enterprises+Hyderabad,+Telangana&amp;ludocid=1041378423397403092&amp;gsas=1&amp;lsig=AB86z5VbIMe5rlPoe5kXLaNgH73q&amp;sa=X&amp;ved=2ahUKEwixwq_Rot_7AhXgQUEAHcocBykQvS56BAgGEAc\"><div class=\"am3QBf\"><div><span><h3 class=\"zBAuLc l97dzf\"><div class=\"BNeawe deIvCb AP7Wnd\">Kanav Enterprises</div></h3></span><span><div class=\"BNeawe tAd8D AP7Wnd\">Manufacturer · HF99+7G6<br>Closed &#8901; Opens 9AM Mon</div></span></div></div></a><div class=\"HBTM6d XS7yGd\"><a href=\"/search?ie=UTF-8&amp;q=Kanav+Enterprises+Hyderabad,+Telangana&amp;ludocid=1041378423397403092&amp;gsas=1&amp;lsig=AB86z5VbIMe5rlPoe5kXLaNgH73q&amp;sa=X&amp;ved=2ahUKEwixwq_Rot_7AhXgQUEAHcocBykQ_pABegQIBhAI\"><img class=\"ZTv9Bb Icx6Cd\" alt=\"Arrow\" src=\"data:image/gif;base64,R0lGODlhAQABAIAAAP///////yH5BAEKAAEALAAAAAABAAEAAAICTAEAOw==\" style=\"max-width:24px;max-height:24px\" id=\"dimg_11\" data-deferred=\"1\"></a></div></div><div class=\"Q0HXG\"></div><div class=\"X7NTVe\"><a class=\"tHmfQe\" href=\"/search?ie=UTF-8&amp;q=Kanav+Enterprises+Hyderabad,+Telangana&amp;ludocid=2075522123907665143&amp;gsas=1&amp;lsig=AB86z5UZs0P_8HZfsg5NcFjGQ6Wq&amp;sa=X&amp;ved=2ahUKEwixwq_Rot_7AhXgQUEAHcocBykQvS56BAgGEAo\"><div class=\"am3QBf\"><div><span><h3 class=\"zBAuLc l97dzf\"><div class=\"BNeawe deIvCb AP7Wnd\">Kanav Enterprises</div></h3></span><span><div class=\"BNeawe tAd8D AP7Wnd\">8, Madhapur Rd<br>Temporarily closed</div></span></div></div></a><div class=\"HBTM6d XS7yGd\"><a href=\"/search?ie=UTF-8&amp;q=Kanav+Enterprises+Hyderabad,+Telangana&amp;ludocid=2075522123907665143&amp;gsas=1&amp;lsig=AB86z5UZs0P_8HZfsg5NcFjGQ6Wq&amp;sa=X&amp;ved=2ahUKEwixwq_Rot_7AhXgQUEAHcocBykQ_pABegQIBhAL\"><img class=\"ZTv9Bb Icx6Cd\" alt=\"Arrow\" src=\"data:image/gif;base64,R0lGODlhAQABAIAAAP///////yH5BAEKAAEALAAAAAABAAEAAAICTAEAOw==\" style=\"max-width:24px;max-height:24px\" id=\"dimg_17\" data-deferred=\"1\"></a></div></div><div class=\"Q0HXG\"></div><div><a href=\"/search?ie=UTF-8&amp;tbs=lf:1,lf_ui:1&amp;q=kanav&amp;rlst=f&amp;rflfq=1&amp;num=10&amp;sa=X&amp;ved=2ahUKEwixwq_Rot_7AhXgQUEAHcocBykQjGp6BAgGEAw\"><div class=\"kCrYT\"><div class=\"ZAfNud\"><div class=\"naKQFc Ne5sAf\" style=\"width:40px\"><div class=\"xevp3d\"><img class=\"XCaUNd\" height=\"24\" src=\"data:image/png;base64,iVBORw0KGgoAAAANSUhEUgAAADAAAAAwCAQAAAD9CzEMAAAAaklEQVRYw+2VOwqAQAwFcy0/13qFYLF6ZD1ALNxWUfSByEzqnSmykAgAuIkmFad+ViptCY3KOp6EGi0kSJAgsT/JB1PcgSuJbwfeX7Ra6z9y6zv0Z/oV/ZG+R38WGMzHJULFqq8Jpx7gp2wNbJTpL+jhtwAAAABJRU5ErkJggg==\" style=\"margin:0px 16px 0px 0px\" width=\"24\"></div></div><div class=\"naKQFc Ne5sAf\"><span class=\"mugnXc Q0cixc\">More places</span></div></div></div></a></div></div></div><div><div class=\"Gx5Zad xpd EtOod pkphOe\"><div class=\"K8tyEc\"><div class=\"mEUgP\"><span><div class=\"BNeawe\"><span class=\"FCUp0c rQMQod\">People also ask</span></div></span></div></div><div class=\"x54gtf\"></div><div><div class=\"xpc\"><div class=\"duf-h\"><div class=\"fLtXsc iIWm4b\" aria-expanded=\"false\" id=\"tsuid_1\" role=\"button\" tabindex=\"0\" data-ved=\"2ahUKEwixwq_Rot_7AhXgQUEAHcocBykQuk56BAgHEAI\"><div class=\"Lt3Tzc\">What does kanav mean?</div><div class=\"Lym8W xCgLUe\"><div class=\"AeQQub hwc\"></div><div class=\"YCU7eb hwc\"></div><div class=\"IyYaEd hwx\"></div><div class=\"ECUHQe hwx\"></div></div></div></div><div class=\"qxDOhb\" id=\"accdef_1\"></div></div></div><div class=\"x54gtf\"></div><div><div class=\"xpc\"><div class=\"duf-h\"><div class=\"fLtXsc iIWm4b\" aria-expanded=\"false\" id=\"tsuid_2\" role=\"button\" tabindex=\"0\" data-ved=\"2ahUKEwixwq_Rot_7AhXgQUEAHcocBykQuk56BAgHEAk\"><div class=\"Lt3Tzc\">What is the spelling of kanav?</div><div class=\"Lym8W xCgLUe\"><div class=\"AeQQub hwc\"></div><div class=\"YCU7eb hwc\"></div><div class=\"IyYaEd hwx\"></div><div class=\"ECUHQe hwx\"></div></div></div></div><div class=\"qxDOhb\" id=\"accdef_3\"></div></div></div><div class=\"x54gtf\"></div><div><div class=\"xpc\"><div class=\"duf-h\"><div class=\"fLtXsc iIWm4b\" aria-expanded=\"false\" id=\"tsuid_3\" role=\"button\" tabindex=\"0\" data-ved=\"2ahUKEwixwq_Rot_7AhXgQUEAHcocBykQuk56BAgHEBA\"><div class=\"Lt3Tzc\">What does kiaan mean?</div><div class=\"Lym8W xCgLUe\"><div class=\"AeQQub hwc\"></div><div class=\"YCU7eb hwc\"></div><div class=\"IyYaEd hwx\"></div><div class=\"ECUHQe hwx\"></div></div></div></div><div class=\"qxDOhb\" id=\"accdef_5\"></div></div></div><div class=\"x54gtf\"></div><div><div class=\"xpc\"><div class=\"duf-h\"><div class=\"fLtXsc iIWm4b\" aria-expanded=\"false\" id=\"tsuid_4\" role=\"button\" tabindex=\"0\" data-ved=\"2ahUKEwixwq_Rot_7AhXgQUEAHcocBykQuk56BAgHEBc\"><div class=\"Lt3Tzc\">What is the meaning of Kabir?</div><div class=\"Lym8W xCgLUe\"><div class=\"AeQQub hwc\"></div><div class=\"YCU7eb hwc\"></div><div class=\"IyYaEd hwx\"></div><div class=\"ECUHQe hwx\"></div></div></div></div><div class=\"qxDOhb\" id=\"accdef_7\"></div></div></div></div></div><div><div class=\"Gx5Zad fP1Qef xpd EtOod pkphOe\"><div class=\"egMi0 kCrYT\"><a href=\"/url?q=https://www.babycenter.in/babyname/1077195/kanav&amp;sa=U&amp;ved=2ahUKEwixwq_Rot_7AhXgQUEAHcocBykQFnoECAkQAg&amp;usg=AOvVaw3TdixPBDyPmM34zhfSHINg\"><div class=\"DnJfK\"><div class=\"j039Wc\"><h3 class=\"zBAuLc l97dzf\"><div class=\"BNeawe vvjwJb AP7Wnd\">Kanav: name meaning and origin - BabyCenter India</div></h3></div><div class=\"sCuL3\"><div class=\"BNeawe UPmit AP7Wnd lRVwie\">www.babycenter.in &#8250; ... &#8250; Naming your baby &#8250; Baby name search results</div></div></div></a></div><div class=\"kCrYT\"><div><div class=\"BNeawe s3v9rd AP7Wnd\"><div><div><div class=\"BNeawe s3v9rd AP7Wnd\">Kanav ; Gender. Boy ; Origin. Hindu, Marathi, Indian ; Meaning. Compassion and pity ; Facts. Also popularly believed to be a name of a Hindu sage ; Numerology. 4.</div></div></div></div></div></div></div></div><div><div class=\"Gx5Zad xpd EtOod pkphOe\"><div><a href=\"/url?q=https://twitter.com/KanavKariya%3Fref_src%3Dtwsrc%255Egoogle%257Ctwcamp%255Eserp%257Ctwgr%255Eauthor&amp;sa=U&amp;ved=2ahUKEwixwq_Rot_7AhXgQUEAHcocBykQ6F56BAgMEAI&amp;usg=AOvVaw0zGmMbM8Ok9Q3W5JQPSnP3\"><div class=\"kCrYT\"><div class=\"AzGoi l7d08\" style=\"width:40px;height:40px\"><img class=\"h1hFNe\" alt=\"\" src=\"data:image/gif;base64,R0lGODlhAQABAIAAAP///////yH5BAEKAAEALAAAAAABAAEAAAICTAEAOw==\" style=\"max-width:40px;max-height:40px\" id=\"dimg_25\" data-deferred=\"1\"></div><div><div class=\"BNeawe vvjwJb AP7Wnd\">Kanav Kariya &#10003;</div><div class=\"BNeawe UPmit AP7Wnd\">Twitter &#8250; KanavKariya</div></div><div class=\"zJIOJe\"></div></div></a></div><div><div><div><div class=\"Xdlr0d\"><div class=\"idg8be\"><a class=\"BVG0Nb\" href=\"/url?q=https://twitter.com/KanavKariya/status/1596926669344092160%3Fref_src%3Dtwsrc%255Egoogle%257Ctwcamp%255Eserp%257Ctwgr%255Etweet&amp;sa=U&amp;ved=2ahUKEwixwq_Rot_7AhXgQUEAHcocBykQglR6BAgMEAQ&amp;usg=AOvVaw1kOMPxFIhu1l_NSataC35I\"><div><div style=\"width:232px\"><div class=\"RWuggc kCrYT\"><div><div class=\"BNeawe s3v9rd AP7Wnd\">1/ Can we trust each other?  It&#8217;s one of the fundamental questions that, after the still unbelievable demise of FTX, our industry is struggling to answer.   No, we can&#8217;t  Can we?</div></div><div><div class=\"BNeawe tAd8D AP7Wnd\">Twitter &#8226; 6 days ago</div></div></div></div></div></a><a class=\"BVG0Nb\" href=\"/url?q=https://twitter.com/KanavKariya/status/1590559715322646529%3Fref_src%3Dtwsrc%255Egoogle%257Ctwcamp%255Eserp%257Ctwgr%255Etweet&amp;sa=U&amp;ved=2ahUKEwixwq_Rot_7AhXgQUEAHcocBykQglR6BAgMEAY&amp;usg=AOvVaw2yN5PnIXfw_zDSlCS_uTs3\"><div><div style=\"width:232px\"><div class=\"RWuggc kCrYT\"><div><div class=\"BNeawe s3v9rd AP7Wnd\">1/ Cool things building on Solana   xNFTs and Backpack with Armani and Tristan - new paradigm in app specification, A+ team  Phantom as one of the smoothest product experiences in the space</div></div><div><div class=\"BNeawe tAd8D AP7Wnd\">Twitter &#8226; 24 days ago</div></div></div></div></div></a><a class=\"BVG0Nb\" href=\"/url?q=https://twitter.com/KanavKariya/status/1589682524019560448%3Fref_src%3Dtwsrc%255Egoogle%257Ctwcamp%255Eserp%257Ctwgr%255Etweet&amp;sa=U&amp;ved=2ahUKEwixwq_Rot_7AhXgQUEAHcocBykQglR6BAgMEAg&amp;usg=AOvVaw1KHEHw17cMfKXx6-P7mfX-\"><div><div style=\"width:232px\"><div class=\"RWuggc kCrYT\"><div><div class=\"BNeawe s3v9rd AP7Wnd\">Inspirational talk by Dan Boneh at CESC. The breadth of opportunities ZK enables is very compelling  Presents a great opportunity for the industry to showcase the societal value that our investments can enable even outside of web3 apps  1:52:23 - 2:12:00 www.youtube.com/watch?v=k&#8230;</div></div><div><div class=\"BNeawe tAd8D AP7Wnd\">Twitter &#8226; 26 days ago</div></div></div></div></div></a><a class=\"BVG0Nb\" href=\"/url?q=https://twitter.com/KanavKariya/status/1588968058152189952%3Fref_src%3Dtwsrc%255Egoogle%257Ctwcamp%255Eserp%257Ctwgr%255Etweet&amp;sa=U&amp;ved=2ahUKEwixwq_Rot_7AhXgQUEAHcocBykQglR6BAgMEAo&amp;usg=AOvVaw0nHgmVnQnOGzkE1vFJc8Iy\"><div><div style=\"width:232px\"><div class=\"RWuggc kCrYT\"><div><div class=\"BNeawe s3v9rd AP7Wnd\">Benchmark part 2 on @AcquiredFM one of my favorite of all time. Clearly people at the very top of their craft, pursuing venture capital as a means to grow and support founders.</div></div><div><div class=\"BNeawe tAd8D AP7Wnd\">Twitter &#8226; 28 days ago</div></div></div></div></div></a><a class=\"BVG0Nb\" href=\"/url?q=https://twitter.com/KanavKariya/status/1584953764758573056%3Fref_src%3Dtwsrc%255Egoogle%257Ctwcamp%255Eserp%257Ctwgr%255Etweet&amp;sa=U&amp;ved=2ahUKEwixwq_Rot_7AhXgQUEAHcocBykQglR6BAgMEAw&amp;usg=AOvVaw2sc3cQW7ru7NXDukmVrRSG\"><div><div style=\"width:232px\"><div class=\"RWuggc kCrYT\"><div><div class=\"BNeawe s3v9rd AP7Wnd\">What are the best community distribution programs we&#8217;ve seen in crypto   Really digging Hashverse @hashflow  @graphprotocol incentivized testnet was well executed and arguably ahead of its time @axelarcore pre launch grant program was solid   What others come to mind?</div></div><div><div class=\"BNeawe tAd8D AP7Wnd\">Twitter &#8226; 1 month ago</div></div></div></div></div></a><div class=\"mHhylf\"><div class=\"WZ5GJf\"><a class=\"qN9Ked\" href=\"/url?q=https://twitter.com/KanavKariya%3Fref_src%3Dtwsrc%255Egoogle%257Ctwcamp%255Eserp%257Ctwgr%255Eauthor&amp;sa=U&amp;ved=2ahUKEwixwq_Rot_7AhXgQUEAHcocBykQp_gBegQIDBAN&amp;usg=AOvVaw1g02H72jyrLUvoABRog31b\"><button class=\"DXk5Me Qi9Fd\" tabindex=\"-1\"><span class=\"hWHuJ\"><img class=\"Dk7jOe\" alt=\"\" src=\"data:image/gif;base64,R0lGODlhAQABAIAAAP///////yH5BAEKAAEALAAAAAABAAEAAAICTAEAOw==\" style=\"max-width:24px;max-height:24px\" id=\"dimg_27\" data-deferred=\"1\"></span></button><div class=\"BNeawe ji5jpf tAd8D AP7Wnd\">View on Twitter</div></a></div></div></div></div></div></div></div></div></div><div><div class=\"Gx5Zad fP1Qef xpd EtOod pkphOe\"><div class=\"egMi0 kCrYT\"><a href=\"/url?q=https://parenting.firstcry.com/baby-names/meaning-of-kanav/&amp;sa=U&amp;ved=2ahUKEwixwq_Rot_7AhXgQUEAHcocBykQFnoECAUQAg&amp;usg=AOvVaw3xtxJL2F3mj3qhk6dsYm_H\"><div class=\"DnJfK\"><div class=\"j039Wc\"><h3 class=\"zBAuLc l97dzf\"><div class=\"BNeawe vvjwJb AP7Wnd\">Meaning of Kanav - Baby Names - FirstCry Parenting</div></h3></div><div class=\"sCuL3\"><div class=\"BNeawe UPmit AP7Wnd lRVwie\">parenting.firstcry.com &#8250; baby-names &#8250; meaning-of-kanav</div></div></div></a></div><div class=\"kCrYT\"><div><div class=\"BNeawe s3v9rd AP7Wnd\"><div><div><div class=\"BNeawe s3v9rd AP7Wnd\">Name :Kanav · Meaning :Kundal in Lord krishnas ear, Name of a sage, Wise, Beautiful, Name of an Ancient Hindu Rishi · Gender :Boy · Numerology :4 · Syllables :3\\xa0...</div></div></div></div></div></div></div></div><div><div class=\"Gx5Zad fP1Qef xpd EtOod pkphOe\"><div class=\"egMi0 kCrYT\"><a href=\"/url?q=https://www.moonastro.com/babyname/baby%2520name%2520kanav%2520meaning.aspx&amp;sa=U&amp;ved=2ahUKEwixwq_Rot_7AhXgQUEAHcocBykQFnoECAEQAg&amp;usg=AOvVaw3zNplbXagFknD5TkVoyW0w\"><div class=\"DnJfK\"><div class=\"j039Wc\"><h3 class=\"zBAuLc l97dzf\"><div class=\"BNeawe vvjwJb AP7Wnd\">Baby Name Kanav meaning and Astrology - MoonAstro.com</div></h3></div><div class=\"sCuL3\"><div class=\"BNeawe UPmit AP7Wnd lRVwie\">www.moonastro.com &#8250; Baby Names</div></div></div></a></div><div class=\"kCrYT\"><div><div class=\"BNeawe s3v9rd AP7Wnd\"><div><div><div class=\"BNeawe s3v9rd AP7Wnd\">Name Kanav or (Kanav) means A Hindu Sage. Person with name Kanav are the symbol of ecstasy. Person with this name as prevailing influence upon them, are born\\xa0...</div></div></div></div></div></div></div></div><div><div class=\"Gx5Zad fP1Qef xpd EtOod pkphOe\"><div class=\"egMi0 kCrYT\"><a href=\"/url?q=https://www.baby360.in/baby-name/meaning-of-kanav/&amp;sa=U&amp;ved=2ahUKEwixwq_Rot_7AhXgQUEAHcocBykQFnoECAMQAg&amp;usg=AOvVaw0qrzHPyNnV8JcnJklBkS68\"><div class=\"DnJfK\"><div class=\"j039Wc\"><h3 class=\"zBAuLc l97dzf\"><div class=\"BNeawe vvjwJb AP7Wnd\">Meaning of Kanav | Rashi and Nakshatra of Kanav - Baby360</div></h3></div><div class=\"sCuL3\"><div class=\"BNeawe UPmit AP7Wnd lRVwie\">www.baby360.in &#8250; baby-name &#8250; meaning-of-kanav</div></div></div></a></div><div class=\"kCrYT\"><div><div class=\"BNeawe s3v9rd AP7Wnd\"><div><div class=\"v9i61e\"><div class=\"BNeawe s3v9rd AP7Wnd\">Meaning of Kanav, Kanav is mrigashiras baby name, Kanav means Kundal in Lord Krishna\\'s ear, Name of a sage, Wise, Beautiful. See Rashi, Nakshatra, Origin,\\xa0...</div></div><div><div class=\"BNeawe s3v9rd AP7Wnd\">Meaning: <span class=\"r0bn4c rQMQod\">Kundal in Lord Krishna\\'s ear, Name of a sage, Wise, Beautiful</span><br>Rashi: <span class=\"r0bn4c rQMQod\">Boy</span><br>Origin: <span class=\"r0bn4c rQMQod\">Indian</span><br>Numerology: <span class=\"r0bn4c rQMQod\">mithun</span></div></div></div></div></div></div></div></div><div><div class=\"Gx5Zad fP1Qef xpd EtOod pkphOe\"><div class=\"egMi0 kCrYT\"><a href=\"/url?q=https://www.kidpaw.com/names/kanav&amp;sa=U&amp;ved=2ahUKEwixwq_Rot_7AhXgQUEAHcocBykQFnoECAQQAg&amp;usg=AOvVaw3NdsEhsRsMu6hcs_pJ-EUD\"><div class=\"DnJfK\"><div class=\"j039Wc\"><h3 class=\"zBAuLc l97dzf\"><div class=\"BNeawe vvjwJb AP7Wnd\">&#2325;&#2366;&#2344;&#2357; | Kanav Name Meaning in Hindi, Origin, Lucky Number, Rashi ...</div></h3></div><div class=\"sCuL3\"><div class=\"BNeawe UPmit AP7Wnd lRVwie\">www.kidpaw.com &#8250; names &#8250; kanav</div></div></div></a></div><div class=\"kCrYT\"><div><div class=\"BNeawe s3v9rd AP7Wnd\"><div><div><div class=\"BNeawe s3v9rd AP7Wnd\">Kanav is baby boy name mainly popular in Hindu religion and its main origin is Hindi. Kanav name meanings is Kundal in krishnas ear, Name of a sage. People\\xa0...</div></div></div></div></div></div></div></div><div><div class=\"Gx5Zad fP1Qef xpd EtOod pkphOe\"><div class=\"egMi0 kCrYT\"><a href=\"/url?q=https://www.kanavhealthcare.in/&amp;sa=U&amp;ved=2ahUKEwixwq_Rot_7AhXgQUEAHcocBykQFnoECAAQAg&amp;usg=AOvVaw3DwjGZrTLgVd0cRot0RgNI\"><div class=\"DnJfK\"><div class=\"j039Wc\"><h3 class=\"zBAuLc l97dzf\"><div class=\"BNeawe vvjwJb AP7Wnd\">Welcome to Kanav Healthcare Pvt Ltd</div></h3></div><div class=\"sCuL3\"><div class=\"BNeawe UPmit AP7Wnd lRVwie\">www.kanavhealthcare.in</div></div></div></a></div><div class=\"kCrYT\"><div><div class=\"BNeawe s3v9rd AP7Wnd\"><div><div><div class=\"BNeawe s3v9rd AP7Wnd\">Youleg Stockings/Arm Sleeves · Matrisurg External Silicon Breast Insole/Heel/Compression Garments · Bao Health Colostomy/Ileostomy/Urostomy/Fistula Drainage.</div></div></div></div></div></div></div></div><div><div class=\"Gx5Zad fP1Qef xpd EtOod pkphOe\"><div class=\"egMi0 kCrYT\"><a href=\"/url?q=https://www.myupchar.com/baby-names/meaning-of-kanav&amp;sa=U&amp;ved=2ahUKEwixwq_Rot_7AhXgQUEAHcocBykQFnoECAoQAg&amp;usg=AOvVaw3YNR9xpBv4296wBjxg5qOc\"><div class=\"DnJfK\"><div class=\"j039Wc\"><h3 class=\"zBAuLc l97dzf\"><div class=\"BNeawe vvjwJb AP7Wnd\">&#2325;&#2366;&#2344;&#2357; &#2325;&#2366; &#2350;&#2340;&#2354;&#2348; &#2324;&#2352; &#2352;&#2366;&#2358;&#2367; - Kanav meaning aur rashi in hindi</div></h3></div><div class=\"sCuL3\"><div class=\"BNeawe UPmit AP7Wnd lRVwie\">www.myupchar.com &#8250; ... &#8250; &#2361;&#2367;&#2344;&#2381;&#2342;&#2370; &#2354;&#2337;&#2364;&#2325;&#2379;&#2306; &#2325;&#2375; &#2344;&#2366;&#2350; &#2324;&#2352; &#2309;&#2352;&#2381;&#2341;</div></div></div></a></div><div class=\"kCrYT\"><div><div class=\"BNeawe s3v9rd AP7Wnd\"><div><div><div class=\"BNeawe s3v9rd AP7Wnd\">&#2325;&#2366;&#2344;&#2357; &#2344;&#2366;&#2350; &#2325;&#2366; &#2350;&#2340;&#2354;&#2348; - Kanav ka arth ... &#2325;&#2366;&#2344;&#2357; &#2344;&#2366;&#2350; &#2325;&#2366; &#2350;&#2340;&#2354;&#2348; &#2349;&#2327;&#2357;&#2366;&#2344; &#2325;&#2371;&#2359;&#2381;&#2339; &#2325;&#2366;&#2344; &#2350;&#2375;&#2306; Kundal, &#2319;&#2325; &#2315;&#2359;&#2367; &#2325;&#2366; &#2344;&#2366;&#2350;, &#2360;&#2350;&#2333;&#2342;&#2366;&#2352;,\\xa0...</div></div></div></div></div></div></div></div><div><div class=\"Gx5Zad fP1Qef xpd EtOod pkphOe\"><div class=\"egMi0 kCrYT\"><a href=\"/url?q=http://www.kanavcapital.com/&amp;sa=U&amp;ved=2ahUKEwixwq_Rot_7AhXgQUEAHcocBykQFnoECAIQAg&amp;usg=AOvVaw1kkdpbqSdl2Aoxw1YsMLYo\"><div class=\"DnJfK\"><div class=\"j039Wc\"><h3 class=\"zBAuLc l97dzf\"><div class=\"BNeawe vvjwJb AP7Wnd\">Kanav Capital: Home</div></h3></div><div class=\"sCuL3\"><div class=\"BNeawe UPmit AP7Wnd lRVwie\">www.kanavcapital.com</div></div></div></a></div><div class=\"kCrYT\"><div><div class=\"BNeawe s3v9rd AP7Wnd\"><div><div><div class=\"BNeawe s3v9rd AP7Wnd\">To get more detail about our services. Welcome to Kanav Capital Compliance is increasingly becoming a very important corporate function that\\xa0...</div></div></div></div></div></div></div></div><div><div class=\"Gx5Zad fP1Qef xpd EtOod pkphOe\"><div class=\"egMi0 kCrYT\"><a href=\"/url?q=https://www.instagram.com/kanav.sahgal/%3Fhl%3Den&amp;sa=U&amp;ved=2ahUKEwixwq_Rot_7AhXgQUEAHcocBykQFnoECAsQAg&amp;usg=AOvVaw3_jZfbM4UNHaKozX-ZfODA\"><div class=\"DnJfK\"><div class=\"j039Wc\"><h3 class=\"zBAuLc l97dzf\"><div class=\"BNeawe vvjwJb AP7Wnd\">Kanav (@kanav.sahgal) &#8226; Instagram photos and videos</div></h3></div><div class=\"sCuL3\"><div class=\"BNeawe UPmit AP7Wnd lRVwie\">www.instagram.com &#8250; kanav.sahgal</div></div></div></a></div><div class=\"kCrYT\"><div><div class=\"BNeawe s3v9rd AP7Wnd\"><div><div><div class=\"BNeawe s3v9rd AP7Wnd\">10.4k Followers, 128 Following, 2964 Posts - See Instagram photos and videos from Kanav (@kanav.sahgal)</div></div></div></div></div></div></div></div><div><div class=\"Gx5Zad xpd EtOod pkphOe\"><div class=\"K8tyEc\"><div class=\"mEUgP\"><span><div class=\"BNeawe\">Related searches</div></span></div></div><div class=\"x54gtf\"></div><div><div class=\"gGQDvd iIWm4b\"><a class=\"Q71vJc\" href=\"/search?ie=UTF-8&amp;q=Kanav+meaning+in+Hindi&amp;sa=X&amp;ved=2ahUKEwixwq_Rot_7AhXgQUEAHcocBykQ1QJ6BAgIEAI\"><accordion-entry-search-icon><span class=\"ieB2Dd\"><img class=\"OEaqif\" alt=\"\" src=\"data:image/gif;base64,R0lGODlhAQABAIAAAP///////yH5BAEKAAEALAAAAAABAAEAAAICTAEAOw==\" style=\"max-width:20px;max-height:20px\" id=\"dimg_3\" data-deferred=\"1\"></span></accordion-entry-search-icon><div class=\"kjGX2\"><span><div class=\"BNeawe s3v9rd AP7Wnd lRVwie\">Kanav meaning in Hindi</div></span></div></a></div></div><div class=\"x54gtf\"></div><div><div class=\"gGQDvd iIWm4b\"><a class=\"Q71vJc\" href=\"/search?ie=UTF-8&amp;q=Kanav+Rishi&amp;sa=X&amp;ved=2ahUKEwixwq_Rot_7AhXgQUEAHcocBykQ1QJ6BAgIEAQ\"><accordion-entry-search-icon><span class=\"ieB2Dd\"><img class=\"OEaqif\" alt=\"\" src=\"data:image/gif;base64,R0lGODlhAQABAIAAAP///////yH5BAEKAAEALAAAAAABAAEAAAICTAEAOw==\" style=\"max-width:20px;max-height:20px\" id=\"dimg_5\" data-deferred=\"1\"></span></accordion-entry-search-icon><div class=\"kjGX2\"><span><div class=\"BNeawe s3v9rd AP7Wnd lRVwie\">Kanav Rishi</div></span></div></a></div></div><div class=\"x54gtf\"></div><div><div class=\"gGQDvd iIWm4b\"><a class=\"Q71vJc\" href=\"/search?ie=UTF-8&amp;q=Kanav+pronunciation&amp;sa=X&amp;ved=2ahUKEwixwq_Rot_7AhXgQUEAHcocBykQ1QJ6BAgIEAY\"><accordion-entry-search-icon><span class=\"ieB2Dd\"><img class=\"OEaqif\" alt=\"\" src=\"data:image/gif;base64,R0lGODlhAQABAIAAAP///////yH5BAEKAAEALAAAAAABAAEAAAICTAEAOw==\" style=\"max-width:20px;max-height:20px\" id=\"dimg_9\" data-deferred=\"1\"></span></accordion-entry-search-icon><div class=\"kjGX2\"><span><div class=\"BNeawe s3v9rd AP7Wnd lRVwie\">Kanav pronunciation</div></span></div></a></div></div><div class=\"x54gtf\"></div><div><div class=\"gGQDvd iIWm4b\"><a class=\"Q71vJc\" href=\"/search?ie=UTF-8&amp;q=Kanav+Kariya&amp;sa=X&amp;ved=2ahUKEwixwq_Rot_7AhXgQUEAHcocBykQ1QJ6BAgIEAg\"><accordion-entry-search-icon><span class=\"ieB2Dd\"><img class=\"OEaqif\" alt=\"\" src=\"data:image/gif;base64,R0lGODlhAQABAIAAAP///////yH5BAEKAAEALAAAAAABAAEAAAICTAEAOw==\" style=\"max-width:20px;max-height:20px\" id=\"dimg_13\" data-deferred=\"1\"></span></accordion-entry-search-icon><div class=\"kjGX2\"><span><div class=\"BNeawe s3v9rd AP7Wnd lRVwie\">Kanav Kariya</div></span></div></a></div></div><div class=\"x54gtf\"></div><div><div class=\"gGQDvd iIWm4b\"><a class=\"Q71vJc\" href=\"/search?ie=UTF-8&amp;q=Kanav+meaning+in+English&amp;sa=X&amp;ved=2ahUKEwixwq_Rot_7AhXgQUEAHcocBykQ1QJ6BAgIEAo\"><accordion-entry-search-icon><span class=\"ieB2Dd\"><img class=\"OEaqif\" alt=\"\" src=\"data:image/gif;base64,R0lGODlhAQABAIAAAP///////yH5BAEKAAEALAAAAAABAAEAAAICTAEAOw==\" style=\"max-width:20px;max-height:20px\" id=\"dimg_15\" data-deferred=\"1\"></span></accordion-entry-search-icon><div class=\"kjGX2\"><span><div class=\"BNeawe s3v9rd AP7Wnd lRVwie\">Kanav meaning in English</div></span></div></a></div></div><div class=\"x54gtf\"></div><div><div class=\"gGQDvd iIWm4b\"><a class=\"Q71vJc\" href=\"/search?ie=UTF-8&amp;q=Kanav+Jump&amp;sa=X&amp;ved=2ahUKEwixwq_Rot_7AhXgQUEAHcocBykQ1QJ6BAgIEAw\"><accordion-entry-search-icon><span class=\"ieB2Dd\"><img class=\"OEaqif\" alt=\"\" src=\"data:image/gif;base64,R0lGODlhAQABAIAAAP///////yH5BAEKAAEALAAAAAABAAEAAAICTAEAOw==\" style=\"max-width:20px;max-height:20px\" id=\"dimg_19\" data-deferred=\"1\"></span></accordion-entry-search-icon><div class=\"kjGX2\"><span><div class=\"BNeawe s3v9rd AP7Wnd lRVwie\">Kanav Jump</div></span></div></a></div></div><div class=\"x54gtf\"></div><div><div class=\"gGQDvd iIWm4b\"><a class=\"Q71vJc\" href=\"/search?ie=UTF-8&amp;q=Kanav+Factory+Outlet&amp;sa=X&amp;ved=2ahUKEwixwq_Rot_7AhXgQUEAHcocBykQ1QJ6BAgIEA4\"><accordion-entry-search-icon><span class=\"ieB2Dd\"><img class=\"OEaqif\" alt=\"\" src=\"data:image/gif;base64,R0lGODlhAQABAIAAAP///////yH5BAEKAAEALAAAAAABAAEAAAICTAEAOw==\" style=\"max-width:20px;max-height:20px\" id=\"dimg_21\" data-deferred=\"1\"></span></accordion-entry-search-icon><div class=\"kjGX2\"><span><div class=\"BNeawe s3v9rd AP7Wnd lRVwie\">Kanav Factory Outlet</div></span></div></a></div></div><div class=\"x54gtf\"></div><div><div class=\"gGQDvd iIWm4b\"><a class=\"Q71vJc\" href=\"/search?ie=UTF-8&amp;q=Kanav+vc&amp;sa=X&amp;ved=2ahUKEwixwq_Rot_7AhXgQUEAHcocBykQ1QJ6BAgIEBA\"><accordion-entry-search-icon><span class=\"ieB2Dd\"><img class=\"OEaqif\" alt=\"\" src=\"data:image/gif;base64,R0lGODlhAQABAIAAAP///////yH5BAEKAAEALAAAAAABAAEAAAICTAEAOw==\" style=\"max-width:20px;max-height:20px\" id=\"dimg_23\" data-deferred=\"1\"></span></accordion-entry-search-icon><div class=\"kjGX2\"><span><div class=\"BNeawe s3v9rd AP7Wnd lRVwie\">Kanav vc</div></span></div></a></div></div></div></div><footer> <div>  <div class=\"Gx5Zad xpd EtOod pkphOe BmP5tf\"><div class=\"nMymef MUxGbd lyLwlc\"><a class=\"nBDE1b G5eFlf\" href=\"/search?q=kanav&amp;ie=UTF-8&amp;ei=bDWMY7HcEuCDhbIPyrmcyAI&amp;start=10&amp;sa=N\" aria-label=\"Next page\">Next &gt;</a></div></div> </div>  <div id=\"EOlPnc\"><div class=\"Srfpq\"><div><span class=\"EYqSq unknown_loc\"></span><span class=\"dfB0uf\">Hyderabad, Telangana</span></div><span>From your IP address</span><span>&nbsp;-&nbsp;</span><a href=\"/url?q=https://support.google.com/websearch%3Fp%3Dws_settings_location%26hl%3Den-IN&amp;sa=U&amp;ved=0ahUKEwixwq_Rot_7AhXgQUEAHcocBykQty4IiQE&amp;usg=AOvVaw345nDnqdChXMLehMr6WzIR\">Learn more</a></div><div><a href=\"/url?q=https://accounts.google.com/ServiceLogin%3Fcontinue%3Dhttps://www.google.com/search%253Fq%253Dkanav%26hl%3Den&amp;sa=U&amp;ved=0ahUKEwixwq_Rot_7AhXgQUEAHcocBykQxs8CCIoB&amp;usg=AOvVaw1Au1kijOmmT3CI2npRQg9M\">Sign in</a></div><div><a class=\"xeDNfc\" href=\"https://www.google.com/preferences?hl=en-IN&amp;fg=1&amp;sa=X&amp;ved=0ahUKEwixwq_Rot_7AhXgQUEAHcocBykQ5fUCCIsB\">Settings</a><a class=\"xeDNfc\" href=\"https://policies.google.com/privacy?hl=en-IN&amp;fg=1\">Privacy</a><a class=\"xeDNfc\" href=\"https://policies.google.com/terms?hl=en-IN&amp;fg=1\">Terms</a></div></div> </footer><script nonce=\"h5t_vQX9FAxqz5JE28XY7g\">(function(){var hl=\\'en-IN\\';(function(){\\nvar f=this||self,g=function(a){return a};var h,k=function(){if(void 0===h){var a=null,b=f.trustedTypes;if(b&&b.createPolicy){try{a=b.createPolicy(\"goog#html\",{createHTML:g,createScript:g,createScriptURL:g})}catch(c){f.console&&f.console.error(c.message)}h=a}else h=a}return h};var p=function(a,b){this.h=a===l&&b||\"\";this.g=m},q=function(a){return a instanceof p&&a.constructor===p&&a.g===m?a.h:\"type_error:Const\"},m={},l={};var t=function(a,b){this.g=b===r?a:\"\"};t.prototype.toString=function(){return this.g+\"\"};var u=function(a){return a instanceof t&&a.constructor===t?a.g:\"type_error:TrustedResourceUrl\"},y=function(){var a={},b=q(new p(l,\"/complete/search\"));if(!v.test(b))throw Error(\"a`\"+b);var c=b.replace(w,function(e,d){if(!Object.prototype.hasOwnProperty.call(a,d))throw Error(\"b`\"+d+\"`\"+b+\"`\"+JSON.stringify(a));e=a[d];return e instanceof p?q(e):encodeURIComponent(String(e))});return x(c)},w=/%{(\\\\w+)}/g,v=RegExp(\"^((https:)?//[0-9a-z.:[\\\\\\\\]-]+/|/[^/\\\\\\\\\\\\\\\\]|[^:/\\\\\\\\\\\\\\\\%]+/|[^:/\\\\\\\\\\\\\\\\%]*[?#]|about:blank#)\",\"i\"),z=/^([^?#]*)(\\\\?[^#]*)?(#[\\\\s\\\\S]*)?/,r={},x=function(a){var b=k();a=b?b.createScriptURL(a):a;return new t(a,r)},A=function(a,b,c){if(null==c)return b;if(\"string\"===typeof c)return c?a+encodeURIComponent(c):\"\";for(var e in c)if(Object.prototype.hasOwnProperty.call(c,e)){var d=c[e];d=Array.isArray(d)?d:[d];for(var n=0;n<d.length;n++){var P=d[n];null!=P&&(b||(b=a),b+=(b.length>a.length?\"&\":\"\")+encodeURIComponent(e)+\"=\"+encodeURIComponent(String(P)))}}return b};var B={},C=function(a,b){this.g=b===B?a:\"\"};C.prototype.toString=function(){return this.g.toString()};var D=function(a){var b=k();a=b?b.createHTML(a):a;return new C(a,B)};\\nfunction E(a,b){if(void 0!==a.tagName){if(\"script\"===a.tagName.toLowerCase())throw Error(\"c\");if(\"style\"===a.tagName.toLowerCase())throw Error(\"d\");}a.innerHTML=b instanceof C&&b.constructor===C?b.g:\"type_error:SafeHtml\"};var F=document.querySelector(\".l\"),G=document.querySelector(\"#sf\"),H=G.querySelector(\".sbc\"),I=G.querySelector(\"[type=text]\"),J=G.querySelector(\"[type=submit]\"),K=G.querySelector(\".sc\"),L=G.querySelector(\".x\"),M=I.value,N=[],O=-1,Q=M,R,S,T;M||(L&&(L.style.display=\"none\"),U(!1));function U(a){if(H.classList.contains(\"esbc\")){var b=H.classList.contains(\"chsbc\"),c=H.classList.contains(\"rtlsbc\");a&&(K.style.display=\"block\",b?(G.style.borderRadius=\"20px 20px 0 0\",K.style.borderBottom=\"1px solid #DFE1E5\",J.style.borderRadius=c?\"20px 0 0 0\":\"0 20px 0 0\"):H.style.borderRadius=c?\"0 8px 0 0\":\"8px 0 0 0\");a||(K.style.display=\"none\",b?(G.style.borderRadius=\"20px\",K.style.borderBottom=\"none\",J.style.borderRadius=c?\"20px 0 0 20px\":\"0 20px 20px 0\"):H.style.borderRadius=c?\"0 8px 8px 0\":\"8px 0 0 8px\")}}function V(){G.querySelector(\"[name=oq]\").value=Q;G.querySelector(\"[name=aqs]\").value=\"heirloom-srp.\"+(0<=O?O:\"\")+\".\"+(0<N.length?\"0l\"+N.length:\"\")}\\nfunction W(){R=null;if(S){var a={client:\"heirloom-srp\",hl:hl,json:\"t\",callback:\"hS\",q:S};\"undefined\"!==typeof ds&&ds&&(a.ds=ds);var b=document;var c=\"SCRIPT\";\"application/xhtml+xml\"===b.contentType&&(c=c.toLowerCase());c=b.createElement(c);b=y();b=z.exec(u(b).toString());var e=b[3]||\"\";a=x(b[1]+A(\"?\",b[2]||\"\",a)+A(\"#\",e));c.src=u(a);var d,n;(d=(a=null==(n=(d=(c.ownerDocument&&c.ownerDocument.defaultView||window).document).querySelector)?void 0:n.call(d,\"script[nonce]\"))?a.nonce||a.getAttribute(\"nonce\")||\\n\"\":\"\")&&c.setAttribute(\"nonce\",d);document.body.appendChild(c);S=null;R=setTimeout(W,500)}}function X(){for(;K.firstChild;)K.removeChild(K.firstChild);N=[];O=-1;U(!1)}function Y(){var a=K.querySelector(\".scs\");a&&(a.className=\"\");0<=O?(a=K.childNodes[O],a.className=\"scs\",M=a.textContent):M=Q;I.value=M}I.addEventListener(\"focus\",function(){F&&(F.style.display=\"none\")},!1);I.addEventListener(\"blur\",function(){X();F&&(F.style.display=\"\")},!1);I.addEventListener(\"keyup\",function(a){M=I.value;T=!1;13===a.which?V():27===a.which?(X(),F&&(F.style.display=\"\"),M=Q,I.value=M):40===a.which?(O++,O>=N.length&&(O=-1),Y()):38===a.which?(O--,-1>O&&(O=N.length-1),Y()):(a=M)?(L&&(L.style.display=\"\"),S=a,R||W(),Q=a):(L&&(L.style.display=\"none\"),U(!1),X(),Q=\"\",T=!0)},!1);J.addEventListener(\"click\",V,!1);L.addEventListener(\"click\",function(){I.value=\"\";L.style.display=\"none\";U(!1)},!1);H.addEventListener(\"click\",function(){I.focus()},!1);window.hS=function(a){if(!T){X();0===a[1].length&&U(!1);for(var b=0;b<a[1].length;b++){var c=a[1][b][0],e=document.createElement(\"div\");E(e,D(c));e.addEventListener(\"mousedown\",function(d){d.preventDefault();return!1},!1);c=c.replace(/<\\\\/?b>/g,\"\");e.addEventListener(\"click\",function(d){return function(){O=d;V();Y();X();G.submit()}}(b),!1);e.addEventListener(\"mouseover\",function(d){return function(){O!==d&&(O=d,Y())}}(b),!1);K.appendChild(e);U(!0);N.push(c)}}};}).call(this);})();(function(){function b(a){for(a=a.target||a.srcElement;a&&\"A\"!==a.nodeName;)a=a.parentElement;a&&(a.href||\"\").match(/\\\\/search.*[?&]tbm=isch/)&&(a.href+=\"&biw=\"+document.documentElement.clientWidth,a.href+=\"&bih=\"+document.documentElement.clientHeight)}document.addEventListener(\"click\",b,!1);document.addEventListener(\"touchStart\",b,!1);}).call(this);</script></div><!-- cctlcm 5 cctlcm --><textarea class=\"csi\" name=\"csi\" style=\"display:none\"></textarea><script nonce=\"h5t_vQX9FAxqz5JE28XY7g\">(function(){var e=\\'bDWMY7HcEuCDhbIPyrmcyAI\\';var sn=\\'web\\';var timl=false;var gecoh=true;var fil=true;(function(){function B(a){var b=gecoh;if(!a||C(a))return 0;if(!a.getBoundingClientRect)return 1;var c=function(d){return d.getBoundingClientRect()};return D(a,c,b)?0:J(a,c)}function D(a,b,c){a:{for(var d=a;d&&null!==d;d=d.parentElement)if(\"hidden\"===d.style.overflow||c&&\"G-EXPANDABLE-CONTENT\"===d.tagName&&\"hidden\"===getComputedStyle(d).getPropertyValue(\"overflow\")){c=d;break a}c=null}if(!c)return!1;a=b(a);b=b(c);return a.bottom<b.top||a.top>=b.bottom||a.right<b.left||a.left>=b.right}\\nfunction C(a){return\"none\"===a.style.display?!0:document.defaultView&&document.defaultView.getComputedStyle?(a=document.defaultView.getComputedStyle(a),!!a&&(\"hidden\"===a.visibility||\"0px\"===a.height&&\"0px\"===a.width)):!1}\\nfunction J(a,b){var c=b(a);a=c.left+window.pageXOffset;b=c.top+window.pageYOffset;var d=c.width;c=c.height;var g=0;if(0>=c&&0>=d)return g;var q=window.innerHeight||document.documentElement.clientHeight;0>b+c?g=2:b>=q&&(g=4);if(0>a+d||a>=(window.innerWidth||document.documentElement.clientWidth))g|=8;g||(g=1,b+c>q&&(g|=4));return g};var K=e,L=sn,M=\"undefined\"===typeof de?!0:!1!==de,N=[],O=\"undefined\"!==typeof fil?fil:!1;function P(a,b,c){a=\"/gen_204?atyp=csi&s=\"+L+\"&t=\"+a+(\"&lite=1&ei=\"+K+\"&conn=\"+(window.navigator&&window.navigator.connection?window.navigator.connection.type:-1)+b);b=\"&rt=\";for(var d in c)a+=\"\"+b+d+\".\"+c[d],b=\",\";return a}function Q(a){a={prt:a};window.wsrt&&(a.wsrt=window.wsrt);return a}function R(a){window.ping?window.ping(a):(new Image).src=a}\\n(function(){for(var a=(new Date).getTime()-window.start,b=Q(a),c=0,d=0,g=0,q=document.getElementsByTagName(\"img\"),r=M?\"&biw=\"+window.innerWidth+\"&bih=\"+window.innerHeight:\"\",E=function(){r+=\"&ima=\"+g;b.aft=c;R(P(\"aft\",r,b))},x=0,S=function(h,t,u){var n=h.src;h.onload=function(){u&&n&&n===h.src||(d=(new Date).getTime()-window.start,t&&++x===g&&(c=d,E()),h.onload=null)}},T=0,f=void 0;f=q[T++];){var v=B(f),p=!!(v&1);p&&++g;var l=f.hasAttribute(\"data-ilite\"),w=f.hasAttribute(\"data-deferred\"),F=f.hasAttribute(\"data-src\")||\\nf.hasAttribute(\"data-lzysrc\"),y=!w&&!l&&F;N.push([v,w||l,y,!!(google.ldi&&f.id&&google.ldi[f.id])||l&&F]);l=(v=f.complete&&!w&&!(p&&y))&&Number(f.getAttribute(\"data-iml\"))||0;v&&l?(p&&++x,l&&(f=l-window.start,p&&(c=Math.max(c,f)),d=Math.max(d,f))):S(f,p,O&&(w||y))}c||(c=a);d||(d=c);x===g&&E();google.rglh&&google.rglh();window.addEventListener(\"load\",function(){window.setTimeout(function(){b.ol=(new Date).getTime()-window.start;timl&&(b.iml=d);var h=window.performance&&window.performance.timing;h&&\\n(b.rqst=h.responseEnd-h.requestStart,b.rspt=h.responseEnd-h.responseStart);for(var t=h=0,u=0,n=0,G=0,H=0,U=0,k;k=N[U++];){var m=k[0],z=k[1],I=k[2];k=k[3];var V=0==m,W=m&8,A=m&1;m=!A&&m&4;A&&(z&&!k||++u,I&&++H);z&&(A&&k&&++h,m&&!k&&++t);V||W?I||++G:z||++n}r+=\"&ime=\"+u+\"&imel=\"+H+(\"&imex=\"+n+\"&imeh=\"+G)+(\"&imea=\"+h+\"&imeb=\"+t);R(P(\"all\",r,b))},0)},!1)})();}).call(this);})();</script><script nonce=\"h5t_vQX9FAxqz5JE28XY7g\">window._setImagesSrc=function(e,f){function g(b){b.onerror=function(){b.style.display=\"none\"};b.setAttribute(\"data-deferred\",\"2\");b.src=f}for(var c=0;c<e.length;++c){var a=e[c],d=document.getElementById(a)||document.querySelector(\\'img[data-iid=\"\\'+a+\\'\"]\\');d?(a=void 0,(null==(a=google.c)?0:a.setup)&&google.c.setup(d),g(d)):(google.iir=google.iir||{},google.iir[a]=f)}};\"undefined\"===typeof window.google&&(window.google={});</script><script nonce=\"h5t_vQX9FAxqz5JE28XY7g\">(function(){var s=\\'data:image/png;base64,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\\\\x3d\\\\x3d\\';var i=[\\'dimg_1\\'];_setImagesSrc(i,s);})();</script><script nonce=\"h5t_vQX9FAxqz5JE28XY7g\">(function(){var s=\\'data:image/png;base64,iVBORw0KGgoAAAANSUhEUgAAADAAAAAwCAYAAABXAvmHAAAAb0lEQVR4Ae3WsQ1AUBSGUSMZAZMYxuttwIYkXg+FhhZyk3OS239/d4tnAABQd3lsUh4ix6/HhRuxB/dnfMgRVcplk5bZCCOMMOJ/Rhjx0oC6W6brgOP9EC9evHjx4n+3x7Yx4+8jbvHhRnwXDwDABsxvfQWs9DFMAAAAAElFTkSuQmCC\\';var i=[\\'dimg_7\\',\\'dimg_11\\',\\'dimg_17\\'];_setImagesSrc(i,s);})();</script><script nonce=\"h5t_vQX9FAxqz5JE28XY7g\">(function(){var s=\\'data:image/jpeg;base64,/9j/4AAQSkZJRgABAQAAAQABAAD/2wCEAAkGBwgHBgkIBwgKCgkLDRYPDQwMDRsUFRAWIB0iIiAdHx8kKDQsJCYxJx8fLT0tMTU3Ojo6Iys/RD84QzQ5OjcBCgoKDQwNGg8PGjclHyU3Nzc3Nzc3Nzc3Nzc3Nzc3Nzc3Nzc3Nzc3Nzc3Nzc3Nzc3Nzc3Nzc3Nzc3Nzc3Nzc3N//AABEIACgAKAMBIgACEQEDEQH/xAAaAAEBAAMBAQAAAAAAAAAAAAAABwQFBgIB/8QALRAAAQMDAgUDAgcAAAAAAAAAAQIDBAAFERIxBgchUXFBkaEiYRMUMjOBksH/xAAZAQADAAMAAAAAAAAAAAAAAAACAwQAAQX/xAAcEQADAAIDAQAAAAAAAAAAAAAAAQIDEQQSIRP/2gAMAwEAAhEDEQA/ALgdqmnOHjiRwxFj260qLc+YkqL2P2kbZH3zVLO1Q7m+tlzjuKt1hbyIsJAUkJz1UpR6fFDVKVsKI7vSJ2jjHiiO6X2r7c9YOolUha0/1P0/FW3lHzAc4sYet900i6Rk6ytIwHUbZx371y6LpZmra0Vw1JbeyAlcfHUb5ztXnldBbi8ypEhvSiO5EV+GnGPqUQQnzgE0rHnVvWh+XjPGtouQ2pTNKeTA7VKebKXrZeYN0hshx2QyWCF40jHUfBPtVW9K4zms5DRwXPD62w+AkxgoZUHdQ047H0z96C52hmKutJk4hS7qxboX5iDHfQCCdG4JJ6qB87jzVB4DtYdWq8Eo0rWsNgDqPTOfeuAt5m3GIy1OfbbZ6HSyNJV5NUzgVcuNZhHmRw0w2ohhWcFaSe3+1JiSdl/Jt/Pw6v06UokgjIOaVccto0t4uSkOKitEggDUrz6D+K0btvj3JtxqW0l5C/1BYJzSlYGjNtVlttv+qJCZbUdlYyR71tVqymvtKFJBU2ZDWU9QevalKVsWf//Z\\';var i=[\\'dimg_25\\'];_setImagesSrc(i,s);})();</script><script nonce=\"h5t_vQX9FAxqz5JE28XY7g\">(function(){var s=\\'data:image/png;base64,iVBORw0KGgoAAAANSUhEUgAAABgAAAAYAgMAAACdGdVrAAAADFBMVEVMaXFChfRChfRChfT0tCPZAAAAA3RSTlMAgFJEkGxNAAAAL0lEQVR4AWPADxgdwBT3BTDF9AUiuhdC6WNK/v///y+UggrClSA07EWVglmEFwAA5eYSExeCwigAAAAASUVORK5CYII\\\\x3d\\';var i=[\\'dimg_27\\'];_setImagesSrc(i,s);})();</script><script nonce=\"h5t_vQX9FAxqz5JE28XY7g\">(function(){var s=\\'data:image/png;base64,iVBORw0KGgoAAAANSUhEUgAAABQAAAAUCAYAAACNiR0NAAABAUlEQVR4AWMYesChoYElLjkzPj4lY3d8csZjIL4MxPNjUzPcSTYsISFLAqj5NBD/h+LPQPwbiT87NCuLh2gDgRr2QzXuT0jNMoBYksARn5zuHJ+UcR0kB6RXE2VYXHJGOlTDZmzyIJcB5e+D1CSkZDgQNBAaZv+jU1JkcKpJygiGeZ0I76a/Byq8jU9NZFqaCNTA48SE33/iDcw8TIyBt0GKQTFN0Msp6f2EIyUpo57YSIlLSrMhIg0WCIBcCfXSdlzJBsheTHQ6jEnOUgEFOLaEDbMIlhZBOYrorAdJk+nroVnvPsSgdGdoOF7HZyhZ2XPoGQoqjbCpIbt0AiejIQMArVLI7k/DXFkAAAAASUVORK5CYII\\\\x3d\\';var i=[\\'dimg_3\\',\\'dimg_5\\',\\'dimg_9\\',\\'dimg_13\\',\\'dimg_15\\',\\'dimg_19\\',\\'dimg_21\\',\\'dimg_23\\'];_setImagesSrc(i,s);})();</script><script nonce=\"h5t_vQX9FAxqz5JE28XY7g\">(function(){var e=\\'bDWMY7HcEuCDhbIPyrmcyAI\\';(function(){var a=e;2===(window.performance&&window.performance.navigation&&window.performance.navigation.type)&&window.ping(\"/gen_204?ct=backbutton&ei=\"+a);}).call(this);})();(function(){var b=[function(){google.tick&&google.tick(\"load\",\"dcl\")}];google.dclc=function(a){b.length?b.push(a):a()};function c(){for(var a=b.shift();a;)a(),a=b.shift()}window.addEventListener?(document.addEventListener(\"DOMContentLoaded\",c,!1),window.addEventListener(\"load\",c,!1)):window.attachEvent&&window.attachEvent(\"onload\",c);}).call(this);window.jsl=window.jsl||{};window.jsl.dh=function(a,b,f){try{var g=document.getElementById(a);if(g)g.innerHTML=b,f&&f();else{var c={id:a,script:String(!!f),milestone:String(google.jslm||0)};google.jsla&&(c.async=google.jsla);var h=a.indexOf(\"_\"),d=0<h?a.substring(0,h):\"\",k=document.createElement(\"div\");k.innerHTML=b;var e=k.children[0];if(e&&(c.tag=e.tagName,c[\"class\"]=String(e.className||null),c.name=String(e.getAttribute(\"jsname\")),d)){a=[];var l=document.querySelectorAll(\\'[id^=\"\\'+d+\\'_\"]\\');for(b=0;b<l.length;++b)a.push(l[b].id);c.ids=a.join(\",\")}google.ml(Error(d?\"Missing ID with prefix \"+d:\"Missing ID\"),!1,c)}}catch(m){google.ml(m,!0,{\"jsl.dh\":!0})}};(function(){var x=false;google.jslm=x?2:1;})();(function(){(function(){google.csct={};google.csct.ps=\\'AOvVaw13kpe40GfiQI65MNhmYJSJ\\\\x26ust\\\\x3d1670219500344621\\';})();})();(function(){(function(){google.csct.rd=true;})();})();(function(){(function(){google.csct.rl=true;})();})();(function(){window.xp=function(b){function f(k,g,h){return\"xp\"+(\"x\"==g?\"c\":\"x\")+h}for(var c=/\\\\bxp(x|c)(\\\\d?)\\\\b/,a=b;a;){var e=a.className,d=e.match(c);if(d){d=\"c\"==d[1];a.className=e.replace(c,f);b&&b.setAttribute(\"aria-expanded\",d);if(d)for(b=a.getElementsByTagName(\"img\"),c=0;c<b.length;++c)if(a=b[c],e=a.getAttribute(\"data-ll\"))a.src=e,a.removeAttribute(\"data-ll\");break}a=a.parentElement}};})();(function(){(function(){window.logVe=function(a){a&&a.attributes[\"data-ved\"]&&window.ping(\"/gen_204?ved=\"+a.attributes[\"data-ved\"].value)};}).call(this);})();(function(){(function(){var id=\\'tsuid_1\\';var lve=true;(function(){\\nvar e=\"undefined\"!=typeof navigator&&!/Opera/.test(navigator.userAgent)&&/WebKit/.test(navigator.userAgent),f={A:1,INPUT:1,TEXTAREA:1,SELECT:1,BUTTON:1},g={Enter:13,\" \":32},h={A:13,BUTTON:0,CHECKBOX:32,COMBOBOX:13,FILE:0,GRIDCELL:13,LINK:13,LISTBOX:13,MENU:0,MENUBAR:0,MENUITEM:0,MENUITEMCHECKBOX:0,MENUITEMRADIO:0,OPTION:0,RADIO:32,RADIOGROUP:32,RESET:0,SUBMIT:0,SWITCH:32,TAB:0,TREE:13,TREEITEM:13},k={CHECKBOX:!0,FILE:!0,OPTION:!0,RADIO:!0},l={COLOR:!0,DATE:!0,DATETIME:!0,\"DATETIME-LOCAL\":!0,EMAIL:!0,MONTH:!0,NUMBER:!0,PASSWORD:!0,RANGE:!0,SEARCH:!0,TEL:!0,TEXT:!0,TEXTAREA:!0,TIME:!0,URL:!0,WEEK:!0};document.getElementById(id).onclick=function(){window.xp(this);lve&&window.logVe(this)};document.getElementById(id).onkeydown=function(d){var c=d.which||d.keyCode;!c&&d.key&&(c=g[d.key]);e&&3==c&&(c=13);if(13!=c&&32!=c)c=!1;else{var a=d.target||d.srcElement;!a.getAttribute&&a.parentNode&&(a=a.parentNode);var b;if(!(b=\"keydown\"!=d.type)){if(b=\"getAttribute\"in a)b=!((a.getAttribute(\"type\")||a.tagName).toUpperCase()in l);b=!(b&&!(\"BUTTON\"==a.tagName.toUpperCase()||a.type&&\"FILE\"==a.type.toUpperCase())&&!a.isContentEditable)}(b=b||d.ctrlKey||d.shiftKey||d.altKey||d.metaKey||(a.getAttribute(\"type\")||\\na.tagName).toUpperCase()in k&&32==c)||((b=a.tagName in f)||(b=a.getAttributeNode(\"tabindex\"),b=null!=b&&b.specified),b=!(b&&!a.disabled));if(b)c=!1;else{b=(a.getAttribute(\"role\")||a.type||a.tagName).toUpperCase();var m=!(b in h)&&13==c;a=\"INPUT\"!=a.tagName.toUpperCase()||!!a.type;c=(0==h[b]%c||m)&&a}}c&&(d.preventDefault(),window.xp(this),lve&&window.logVe(this))};}).call(this);})();})();(function(){window.jsl=window.jsl||{};window.jsl.dh=window.jsl.dh||function(i,c,d){try{var e=document.getElementById(i);if(e){e.innerHTML=c;if(d){d();}}else{if(window.jsl.el){window.jsl.el(new Error(\\'Missing ID.\\'),{\\'id\\':i});}}}catch(e){if(window.jsl.el){window.jsl.el(new Error(\\'jsl.dh\\'));}}};})();(function(){window.jsl.dh(\\'accdef_1\\',\\'\\\\x3cdiv\\\\x3e\\\\x3cdiv style\\\\x3d\\\\x22padding-bottom:12px;padding-top:0px\\\\x22 class\\\\x3d\\\\x22hwc kCrYT\\\\x22\\\\x3e\\\\x3cdiv class\\\\x3d\\\\x22yStFkb\\\\x22\\\\x3e\\\\x3cdiv class\\\\x3d\\\\x22Gx5Zad xpd EtOod pkphOe\\\\x22\\\\x3e\\\\x3cdiv class\\\\x3d\\\\x22kCrYT\\\\x22\\\\x3e\\\\x3cdiv\\\\x3e\\\\x3cdiv class\\\\x3d\\\\x22BNeawe s3v9rd AP7Wnd\\\\x22\\\\x3e\\\\x3cdiv\\\\x3e\\\\x3cdiv class\\\\x3d\\\\x22BNeawe s3v9rd AP7Wnd\\\\x22\\\\x3e\\\\x3cspan class\\\\x3d\\\\x22FCUp0c rQMQod\\\\x22\\\\x3eCompassion and pity\\\\x3c/span\\\\x3e. Also popularly believed to be a name of a Hindu sage.\\\\x3c/div\\\\x3e\\\\x3c/div\\\\x3e\\\\x3c/div\\\\x3e\\\\x3c/div\\\\x3e\\\\x3c/div\\\\x3e\\\\x3cdiv class\\\\x3d\\\\x22x54gtf\\\\x22\\\\x3e\\\\x3c/div\\\\x3e\\\\x3cdiv class\\\\x3d\\\\x22kCrYT\\\\x22\\\\x3e\\\\x3ca href\\\\x3d\\\\x22/url?q\\\\x3dhttps://www.babycenter.in/babyname/1077195/kanav\\\\x26amp;sa\\\\x3dU\\\\x26amp;ved\\\\x3d2ahUKEwixwq_Rot_7AhXgQUEAHcocBykQFnoECAcQBg\\\\x26amp;usg\\\\x3dAOvVaw3vCZvkrVPIbkgusVtUKaMJ\\\\x22\\\\x3e\\\\x3cspan\\\\x3e\\\\x3cdiv class\\\\x3d\\\\x22BNeawe vvjwJb AP7Wnd\\\\x22\\\\x3e\\\\x3cspan class\\\\x3d\\\\x22rQMQod Xb5VRe\\\\x22\\\\x3eKanav: name meaning and origin - BabyCenter India\\\\x3c/span\\\\x3e\\\\x3c/div\\\\x3e\\\\x3c/span\\\\x3e\\\\x3cspan\\\\x3e\\\\x3cdiv class\\\\x3d\\\\x22BNeawe UPmit AP7Wnd\\\\x22\\\\x3ewww.babycenter.in \\\\u203a ... \\\\u203a Naming your baby \\\\u203a Baby name search results\\\\x3c/div\\\\x3e\\\\x3c/span\\\\x3e\\\\x3c/a\\\\x3e\\\\x3c/div\\\\x3e\\\\x3c/div\\\\x3e\\\\x3c/div\\\\x3e\\\\x3cdiv\\\\x3e\\\\x3cdiv class\\\\x3d\\\\x22P1NWSe\\\\x22\\\\x3e\\\\x3cdiv class\\\\x3d\\\\x22wOMIed nkPlDb\\\\x22\\\\x3e\\\\x3cspan class\\\\x3d\\\\x22JhFlyf VQFmSd\\\\x22\\\\x3e\\\\x3ca class\\\\x3d\\\\x22f4J0H\\\\x22 href\\\\x3d\\\\x22https://www.google.com/search?ie\\\\x3dUTF-8\\\\x26amp;ei\\\\x3dbDWMY7HcEuCDhbIPyrmcyAI\\\\x26amp;q\\\\x3dWhat+does+kanav+mean?\\\\x26amp;sa\\\\x3dX\\\\x26amp;ved\\\\x3d2ahUKEwixwq_Rot_7AhXgQUEAHcocBykQzmd6BAgHEAc\\\\x22\\\\x3eMore results\\\\x3c/a\\\\x3e\\\\x3c/span\\\\x3e\\\\x3c/div\\\\x3e\\\\x3c/div\\\\x3e\\\\x3c/div\\\\x3e\\\\x3c/div\\\\x3e\\\\x3c/div\\\\x3e\\');})();(function(){(function(){var id=\\'tsuid_2\\';var lve=true;(function(){\\nvar e=\"undefined\"!=typeof navigator&&!/Opera/.test(navigator.userAgent)&&/WebKit/.test(navigator.userAgent),f={A:1,INPUT:1,TEXTAREA:1,SELECT:1,BUTTON:1},g={Enter:13,\" \":32},h={A:13,BUTTON:0,CHECKBOX:32,COMBOBOX:13,FILE:0,GRIDCELL:13,LINK:13,LISTBOX:13,MENU:0,MENUBAR:0,MENUITEM:0,MENUITEMCHECKBOX:0,MENUITEMRADIO:0,OPTION:0,RADIO:32,RADIOGROUP:32,RESET:0,SUBMIT:0,SWITCH:32,TAB:0,TREE:13,TREEITEM:13},k={CHECKBOX:!0,FILE:!0,OPTION:!0,RADIO:!0},l={COLOR:!0,DATE:!0,DATETIME:!0,\"DATETIME-LOCAL\":!0,EMAIL:!0,MONTH:!0,NUMBER:!0,PASSWORD:!0,RANGE:!0,SEARCH:!0,TEL:!0,TEXT:!0,TEXTAREA:!0,TIME:!0,URL:!0,WEEK:!0};document.getElementById(id).onclick=function(){window.xp(this);lve&&window.logVe(this)};document.getElementById(id).onkeydown=function(d){var c=d.which||d.keyCode;!c&&d.key&&(c=g[d.key]);e&&3==c&&(c=13);if(13!=c&&32!=c)c=!1;else{var a=d.target||d.srcElement;!a.getAttribute&&a.parentNode&&(a=a.parentNode);var b;if(!(b=\"keydown\"!=d.type)){if(b=\"getAttribute\"in a)b=!((a.getAttribute(\"type\")||a.tagName).toUpperCase()in l);b=!(b&&!(\"BUTTON\"==a.tagName.toUpperCase()||a.type&&\"FILE\"==a.type.toUpperCase())&&!a.isContentEditable)}(b=b||d.ctrlKey||d.shiftKey||d.altKey||d.metaKey||(a.getAttribute(\"type\")||\\na.tagName).toUpperCase()in k&&32==c)||((b=a.tagName in f)||(b=a.getAttributeNode(\"tabindex\"),b=null!=b&&b.specified),b=!(b&&!a.disabled));if(b)c=!1;else{b=(a.getAttribute(\"role\")||a.type||a.tagName).toUpperCase();var m=!(b in h)&&13==c;a=\"INPUT\"!=a.tagName.toUpperCase()||!!a.type;c=(0==h[b]%c||m)&&a}}c&&(d.preventDefault(),window.xp(this),lve&&window.logVe(this))};}).call(this);})();})();(function(){window.jsl.dh(\\'accdef_3\\',\\'\\\\x3cdiv\\\\x3e\\\\x3cdiv style\\\\x3d\\\\x22padding-bottom:12px;padding-top:0px\\\\x22 class\\\\x3d\\\\x22hwc kCrYT\\\\x22\\\\x3e\\\\x3cdiv class\\\\x3d\\\\x22yStFkb\\\\x22\\\\x3e\\\\x3cdiv class\\\\x3d\\\\x22Gx5Zad xpd EtOod pkphOe\\\\x22\\\\x3e\\\\x3cdiv class\\\\x3d\\\\x22kCrYT\\\\x22\\\\x3e\\\\x3cdiv\\\\x3e\\\\x3cdiv class\\\\x3d\\\\x22BNeawe s3v9rd AP7Wnd\\\\x22\\\\x3e\\\\x3cdiv\\\\x3e\\\\x3cdiv class\\\\x3d\\\\x22BNeawe s3v9rd AP7Wnd\\\\x22\\\\x3e\\\\x3cspan class\\\\x3d\\\\x22FCUp0c rQMQod\\\\x22\\\\x3eKanav\\\\x3c/span\\\\x3e is baby boy name mainly popular in Hindu religion and its main origin is Hindi. Kanav name meanings is Kundal in krishnas ear, Name of a sage. People search this name as Kanav stylish name. Kanav is written in Hindi as \\\\u0915\\\\u093e\\\\u0928\\\\u0935 .\\\\x3c/div\\\\x3e\\\\x3c/div\\\\x3e\\\\x3c/div\\\\x3e\\\\x3c/div\\\\x3e\\\\x3c/div\\\\x3e\\\\x3cdiv class\\\\x3d\\\\x22x54gtf\\\\x22\\\\x3e\\\\x3c/div\\\\x3e\\\\x3cdiv class\\\\x3d\\\\x22kCrYT\\\\x22\\\\x3e\\\\x3ca href\\\\x3d\\\\x22/url?q\\\\x3dhttps://www.kidpaw.com/names/kanav\\\\x26amp;sa\\\\x3dU\\\\x26amp;ved\\\\x3d2ahUKEwixwq_Rot_7AhXgQUEAHcocBykQFnoECAcQDQ\\\\x26amp;usg\\\\x3dAOvVaw0LyUel3Qmbg4w86WYChoOh\\\\x22\\\\x3e\\\\x3cspan\\\\x3e\\\\x3cdiv class\\\\x3d\\\\x22BNeawe vvjwJb AP7Wnd\\\\x22\\\\x3e\\\\x3cspan class\\\\x3d\\\\x22rQMQod Xb5VRe\\\\x22\\\\x3e\\\\u0915\\\\u093e\\\\u0928\\\\u0935 | Kanav Name Meaning in Hindi, Origin, Lucky Number, Rashi ...\\\\x3c/span\\\\x3e\\\\x3c/div\\\\x3e\\\\x3c/span\\\\x3e\\\\x3cspan\\\\x3e\\\\x3cdiv class\\\\x3d\\\\x22BNeawe UPmit AP7Wnd\\\\x22\\\\x3ewww.kidpaw.com \\\\u203a names \\\\u203a kanav\\\\x3c/div\\\\x3e\\\\x3c/span\\\\x3e\\\\x3c/a\\\\x3e\\\\x3c/div\\\\x3e\\\\x3c/div\\\\x3e\\\\x3c/div\\\\x3e\\\\x3cdiv\\\\x3e\\\\x3cdiv class\\\\x3d\\\\x22P1NWSe\\\\x22\\\\x3e\\\\x3cdiv class\\\\x3d\\\\x22wOMIed nkPlDb\\\\x22\\\\x3e\\\\x3cspan class\\\\x3d\\\\x22JhFlyf VQFmSd\\\\x22\\\\x3e\\\\x3ca class\\\\x3d\\\\x22f4J0H\\\\x22 href\\\\x3d\\\\x22https://www.google.com/search?ie\\\\x3dUTF-8\\\\x26amp;ei\\\\x3dbDWMY7HcEuCDhbIPyrmcyAI\\\\x26amp;q\\\\x3dWhat+is+the+spelling+of+kanav?\\\\x26amp;sa\\\\x3dX\\\\x26amp;ved\\\\x3d2ahUKEwixwq_Rot_7AhXgQUEAHcocBykQzmd6BAgHEA4\\\\x22\\\\x3eMore results\\\\x3c/a\\\\x3e\\\\x3c/span\\\\x3e\\\\x3c/div\\\\x3e\\\\x3c/div\\\\x3e\\\\x3c/div\\\\x3e\\\\x3c/div\\\\x3e\\\\x3c/div\\\\x3e\\');})();(function(){(function(){var id=\\'tsuid_3\\';var lve=true;(function(){\\nvar e=\"undefined\"!=typeof navigator&&!/Opera/.test(navigator.userAgent)&&/WebKit/.test(navigator.userAgent),f={A:1,INPUT:1,TEXTAREA:1,SELECT:1,BUTTON:1},g={Enter:13,\" \":32},h={A:13,BUTTON:0,CHECKBOX:32,COMBOBOX:13,FILE:0,GRIDCELL:13,LINK:13,LISTBOX:13,MENU:0,MENUBAR:0,MENUITEM:0,MENUITEMCHECKBOX:0,MENUITEMRADIO:0,OPTION:0,RADIO:32,RADIOGROUP:32,RESET:0,SUBMIT:0,SWITCH:32,TAB:0,TREE:13,TREEITEM:13},k={CHECKBOX:!0,FILE:!0,OPTION:!0,RADIO:!0},l={COLOR:!0,DATE:!0,DATETIME:!0,\"DATETIME-LOCAL\":!0,EMAIL:!0,MONTH:!0,NUMBER:!0,PASSWORD:!0,RANGE:!0,SEARCH:!0,TEL:!0,TEXT:!0,TEXTAREA:!0,TIME:!0,URL:!0,WEEK:!0};document.getElementById(id).onclick=function(){window.xp(this);lve&&window.logVe(this)};document.getElementById(id).onkeydown=function(d){var c=d.which||d.keyCode;!c&&d.key&&(c=g[d.key]);e&&3==c&&(c=13);if(13!=c&&32!=c)c=!1;else{var a=d.target||d.srcElement;!a.getAttribute&&a.parentNode&&(a=a.parentNode);var b;if(!(b=\"keydown\"!=d.type)){if(b=\"getAttribute\"in a)b=!((a.getAttribute(\"type\")||a.tagName).toUpperCase()in l);b=!(b&&!(\"BUTTON\"==a.tagName.toUpperCase()||a.type&&\"FILE\"==a.type.toUpperCase())&&!a.isContentEditable)}(b=b||d.ctrlKey||d.shiftKey||d.altKey||d.metaKey||(a.getAttribute(\"type\")||\\na.tagName).toUpperCase()in k&&32==c)||((b=a.tagName in f)||(b=a.getAttributeNode(\"tabindex\"),b=null!=b&&b.specified),b=!(b&&!a.disabled));if(b)c=!1;else{b=(a.getAttribute(\"role\")||a.type||a.tagName).toUpperCase();var m=!(b in h)&&13==c;a=\"INPUT\"!=a.tagName.toUpperCase()||!!a.type;c=(0==h[b]%c||m)&&a}}c&&(d.preventDefault(),window.xp(this),lve&&window.logVe(this))};}).call(this);})();})();(function(){window.jsl.dh(\\'accdef_5\\',\\'\\\\x3cdiv\\\\x3e\\\\x3cdiv style\\\\x3d\\\\x22padding-bottom:12px;padding-top:0px\\\\x22 class\\\\x3d\\\\x22hwc kCrYT\\\\x22\\\\x3e\\\\x3cdiv class\\\\x3d\\\\x22yStFkb\\\\x22\\\\x3e\\\\x3cdiv class\\\\x3d\\\\x22Gx5Zad xpd EtOod pkphOe\\\\x22\\\\x3e\\\\x3cdiv class\\\\x3d\\\\x22kCrYT\\\\x22\\\\x3e\\\\x3cdiv\\\\x3e\\\\x3cdiv class\\\\x3d\\\\x22BNeawe s3v9rd AP7Wnd\\\\x22\\\\x3e\\\\x3cdiv\\\\x3e\\\\x3cdiv class\\\\x3d\\\\x22BNeawe s3v9rd AP7Wnd\\\\x22\\\\x3eKiaan Origin and Meaning\\\\n\\\\n The name Kiaan is boy\\\\x27s name meaning \\\\x22\\\\x3cspan class\\\\x3d\\\\x22FCUp0c rQMQod\\\\x22\\\\x3egrace of God\\\\x3c/span\\\\x3e\\\\x22. One of the many South Asian names skyrocketing up the U.S. popularity charts.\\\\x3c/div\\\\x3e\\\\x3c/div\\\\x3e\\\\x3c/div\\\\x3e\\\\x3c/div\\\\x3e\\\\x3c/div\\\\x3e\\\\x3cdiv class\\\\x3d\\\\x22x54gtf\\\\x22\\\\x3e\\\\x3c/div\\\\x3e\\\\x3cdiv class\\\\x3d\\\\x22kCrYT\\\\x22\\\\x3e\\\\x3ca href\\\\x3d\\\\x22/url?q\\\\x3dhttps://nameberry.com/babyname/kiaan\\\\x26amp;sa\\\\x3dU\\\\x26amp;ved\\\\x3d2ahUKEwixwq_Rot_7AhXgQUEAHcocBykQFnoECAcQFA\\\\x26amp;usg\\\\x3dAOvVaw0GpO2_eEJcpxMcqTXruDdT\\\\x22\\\\x3e\\\\x3cspan\\\\x3e\\\\x3cdiv class\\\\x3d\\\\x22BNeawe vvjwJb AP7Wnd\\\\x22\\\\x3e\\\\x3cspan class\\\\x3d\\\\x22rQMQod Xb5VRe\\\\x22\\\\x3eKiaan - Baby Name Meaning, Origin, and Popularity | Nameberry\\\\x3c/span\\\\x3e\\\\x3c/div\\\\x3e\\\\x3c/span\\\\x3e\\\\x3cspan\\\\x3e\\\\x3cdiv class\\\\x3d\\\\x22BNeawe UPmit AP7Wnd\\\\x22\\\\x3enameberry.com \\\\u203a babyname \\\\u203a kiaan\\\\x3c/div\\\\x3e\\\\x3c/span\\\\x3e\\\\x3c/a\\\\x3e\\\\x3c/div\\\\x3e\\\\x3c/div\\\\x3e\\\\x3c/div\\\\x3e\\\\x3cdiv\\\\x3e\\\\x3cdiv class\\\\x3d\\\\x22P1NWSe\\\\x22\\\\x3e\\\\x3cdiv class\\\\x3d\\\\x22wOMIed nkPlDb\\\\x22\\\\x3e\\\\x3cspan class\\\\x3d\\\\x22JhFlyf VQFmSd\\\\x22\\\\x3e\\\\x3ca class\\\\x3d\\\\x22f4J0H\\\\x22 href\\\\x3d\\\\x22https://www.google.com/search?ie\\\\x3dUTF-8\\\\x26amp;ei\\\\x3dbDWMY7HcEuCDhbIPyrmcyAI\\\\x26amp;q\\\\x3dWhat+does+kiaan+mean?\\\\x26amp;sa\\\\x3dX\\\\x26amp;ved\\\\x3d2ahUKEwixwq_Rot_7AhXgQUEAHcocBykQzmd6BAgHEBU\\\\x22\\\\x3eMore results\\\\x3c/a\\\\x3e\\\\x3c/span\\\\x3e\\\\x3c/div\\\\x3e\\\\x3c/div\\\\x3e\\\\x3c/div\\\\x3e\\\\x3c/div\\\\x3e\\\\x3c/div\\\\x3e\\');})();(function(){(function(){var id=\\'tsuid_4\\';var lve=true;(function(){\\nvar e=\"undefined\"!=typeof navigator&&!/Opera/.test(navigator.userAgent)&&/WebKit/.test(navigator.userAgent),f={A:1,INPUT:1,TEXTAREA:1,SELECT:1,BUTTON:1},g={Enter:13,\" \":32},h={A:13,BUTTON:0,CHECKBOX:32,COMBOBOX:13,FILE:0,GRIDCELL:13,LINK:13,LISTBOX:13,MENU:0,MENUBAR:0,MENUITEM:0,MENUITEMCHECKBOX:0,MENUITEMRADIO:0,OPTION:0,RADIO:32,RADIOGROUP:32,RESET:0,SUBMIT:0,SWITCH:32,TAB:0,TREE:13,TREEITEM:13},k={CHECKBOX:!0,FILE:!0,OPTION:!0,RADIO:!0},l={COLOR:!0,DATE:!0,DATETIME:!0,\"DATETIME-LOCAL\":!0,EMAIL:!0,MONTH:!0,NUMBER:!0,PASSWORD:!0,RANGE:!0,SEARCH:!0,TEL:!0,TEXT:!0,TEXTAREA:!0,TIME:!0,URL:!0,WEEK:!0};document.getElementById(id).onclick=function(){window.xp(this);lve&&window.logVe(this)};document.getElementById(id).onkeydown=function(d){var c=d.which||d.keyCode;!c&&d.key&&(c=g[d.key]);e&&3==c&&(c=13);if(13!=c&&32!=c)c=!1;else{var a=d.target||d.srcElement;!a.getAttribute&&a.parentNode&&(a=a.parentNode);var b;if(!(b=\"keydown\"!=d.type)){if(b=\"getAttribute\"in a)b=!((a.getAttribute(\"type\")||a.tagName).toUpperCase()in l);b=!(b&&!(\"BUTTON\"==a.tagName.toUpperCase()||a.type&&\"FILE\"==a.type.toUpperCase())&&!a.isContentEditable)}(b=b||d.ctrlKey||d.shiftKey||d.altKey||d.metaKey||(a.getAttribute(\"type\")||\\na.tagName).toUpperCase()in k&&32==c)||((b=a.tagName in f)||(b=a.getAttributeNode(\"tabindex\"),b=null!=b&&b.specified),b=!(b&&!a.disabled));if(b)c=!1;else{b=(a.getAttribute(\"role\")||a.type||a.tagName).toUpperCase();var m=!(b in h)&&13==c;a=\"INPUT\"!=a.tagName.toUpperCase()||!!a.type;c=(0==h[b]%c||m)&&a}}c&&(d.preventDefault(),window.xp(this),lve&&window.logVe(this))};}).call(this);})();})();(function(){window.jsl.dh(\\'accdef_7\\',\\'\\\\x3cdiv\\\\x3e\\\\x3cdiv style\\\\x3d\\\\x22padding-bottom:12px;padding-top:0px\\\\x22 class\\\\x3d\\\\x22hwc kCrYT\\\\x22\\\\x3e\\\\x3cdiv class\\\\x3d\\\\x22yStFkb\\\\x22\\\\x3e\\\\x3cdiv class\\\\x3d\\\\x22Gx5Zad xpd EtOod pkphOe\\\\x22\\\\x3e\\\\x3cdiv class\\\\x3d\\\\x22kCrYT\\\\x22\\\\x3e\\\\x3cdiv\\\\x3e\\\\x3cdiv class\\\\x3d\\\\x22BNeawe s3v9rd AP7Wnd\\\\x22\\\\x3e\\\\x3cdiv\\\\x3e\\\\x3cdiv class\\\\x3d\\\\x22BNeawe s3v9rd AP7Wnd\\\\x22\\\\x3e\\\\x3cspan class\\\\x3d\\\\x22FCUp0c rQMQod\\\\x22\\\\x3ePowerful; great; respected\\\\x3c/span\\\\x3e.\\\\x3c/div\\\\x3e\\\\x3c/div\\\\x3e\\\\x3c/div\\\\x3e\\\\x3c/div\\\\x3e\\\\x3c/div\\\\x3e\\\\x3cdiv class\\\\x3d\\\\x22x54gtf\\\\x22\\\\x3e\\\\x3c/div\\\\x3e\\\\x3cdiv class\\\\x3d\\\\x22kCrYT\\\\x22\\\\x3e\\\\x3ca href\\\\x3d\\\\x22/url?q\\\\x3dhttps://www.babycenter.in/babyname/1081347/kabir\\\\x26amp;sa\\\\x3dU\\\\x26amp;ved\\\\x3d2ahUKEwixwq_Rot_7AhXgQUEAHcocBykQFnoECAcQGw\\\\x26amp;usg\\\\x3dAOvVaw3mLn0WLpRNpbUKWeOSKy50\\\\x22\\\\x3e\\\\x3cspan\\\\x3e\\\\x3cdiv class\\\\x3d\\\\x22BNeawe vvjwJb AP7Wnd\\\\x22\\\\x3e\\\\x3cspan class\\\\x3d\\\\x22rQMQod Xb5VRe\\\\x22\\\\x3eKabir: name meaning and origin - BabyCenter India\\\\x3c/span\\\\x3e\\\\x3c/div\\\\x3e\\\\x3c/span\\\\x3e\\\\x3cspan\\\\x3e\\\\x3cdiv class\\\\x3d\\\\x22BNeawe UPmit AP7Wnd\\\\x22\\\\x3ewww.babycenter.in \\\\u203a babyname \\\\u203a kabir\\\\x3c/div\\\\x3e\\\\x3c/span\\\\x3e\\\\x3c/a\\\\x3e\\\\x3c/div\\\\x3e\\\\x3c/div\\\\x3e\\\\x3c/div\\\\x3e\\\\x3cdiv\\\\x3e\\\\x3cdiv class\\\\x3d\\\\x22P1NWSe\\\\x22\\\\x3e\\\\x3cdiv class\\\\x3d\\\\x22wOMIed nkPlDb\\\\x22\\\\x3e\\\\x3cspan class\\\\x3d\\\\x22JhFlyf VQFmSd\\\\x22\\\\x3e\\\\x3ca class\\\\x3d\\\\x22f4J0H\\\\x22 href\\\\x3d\\\\x22https://www.google.com/search?ie\\\\x3dUTF-8\\\\x26amp;ei\\\\x3dbDWMY7HcEuCDhbIPyrmcyAI\\\\x26amp;q\\\\x3dWhat+is+the+meaning+of+Kabir?\\\\x26amp;sa\\\\x3dX\\\\x26amp;ved\\\\x3d2ahUKEwixwq_Rot_7AhXgQUEAHcocBykQzmd6BAgHEBw\\\\x22\\\\x3eMore results\\\\x3c/a\\\\x3e\\\\x3c/span\\\\x3e\\\\x3c/div\\\\x3e\\\\x3c/div\\\\x3e\\\\x3c/div\\\\x3e\\\\x3c/div\\\\x3e\\\\x3c/div\\\\x3e\\');})();google.drty&&google.drty(undefined,true);</script></body></html>'"
      ]
     },
     "execution_count": 18,
     "metadata": {},
     "output_type": "execute_result"
    }
   ],
   "source": [
    "# Response Content\n",
    "response.text"
   ]
  },
  {
   "cell_type": "code",
   "execution_count": 19,
   "metadata": {},
   "outputs": [
    {
     "data": {
      "text/plain": [
       "b'<!doctype html><html lang=\"en-IN\"><head><meta charset=\"UTF-8\"><meta content=\"/images/branding/googleg/1x/googleg_standard_color_128dp.png\" itemprop=\"image\"><title>kanav - Google Search</title><script nonce=\"h5t_vQX9FAxqz5JE28XY7g\">(function(){\\ndocument.documentElement.addEventListener(\"submit\",function(b){var a;if(a=b.target){var c=a.getAttribute(\"data-submitfalse\");a=\"1\"===c||\"q\"===c&&!a.elements.q.value?!0:!1}else a=!1;a&&(b.preventDefault(),b.stopPropagation())},!0);document.documentElement.addEventListener(\"click\",function(b){var a;a:{for(a=b.target;a&&a!==document.documentElement;a=a.parentElement)if(\"A\"===a.tagName){a=\"1\"===a.getAttribute(\"data-nohref\");break a}a=!1}a&&b.preventDefault()},!0);}).call(this);(function(){var a=window.performance;window.start=Date.now();a:{var b=window;if(a){var c=a.timing;if(c){var d=c.navigationStart,f=c.responseStart;if(f>d&&f<=window.start){window.start=f;b.wsrt=f-d;break a}}a.now&&(b.wsrt=Math.floor(a.now()))}}window.google=window.google||{};var h=function(g){g&&g.target.setAttribute(\"data-iml\",String(Date.now()))};document.documentElement.addEventListener(\"load\",h,!0);google.rglh=function(){document.documentElement.removeEventListener(\"load\",h,!0)};}).call(this);(function(){window._skwEvts=[];})();(function(){window.google.erd={jsr:1,bv:1698,de:true};})();(function(){var sdo=false;var mei=10;\\nvar h=this||self;var k,l=null!=(k=h.mei)?k:1,n,p=null!=(n=h.sdo)?n:!0,q=0,r,t=google.erd,v=t.jsr;google.ml=function(a,b,d,m,e){e=void 0===e?2:e;b&&(r=a&&a.message);if(google.dl)return google.dl(a,e,d),null;if(0>v){window.console&&console.error(a,d);if(-2===v)throw a;b=!1}else b=!a||!a.message||\"Error loading script\"===a.message||q>=l&&!m?!1:!0;if(!b)return null;q++;d=d||{};b=encodeURIComponent;var c=\"/gen_204?atyp=i&ei=\"+b(google.kEI);google.kEXPI&&(c+=\"&jexpid=\"+b(google.kEXPI));c+=\"&srcpg=\"+b(google.sn)+\"&jsr=\"+b(t.jsr)+\"&bver=\"+b(t.bv);var f=a.lineNumber;void 0!==f&&(c+=\"&line=\"+f);var g=\\na.fileName;g&&(0<g.indexOf(\"-extension:/\")&&(e=3),c+=\"&script=\"+b(g),f&&g===window.location.href&&(f=document.documentElement.outerHTML.split(\"\\\\n\")[f],c+=\"&cad=\"+b(f?f.substring(0,300):\"No script found.\")));c+=\"&jsel=\"+e;for(var u in d)c+=\"&\",c+=b(u),c+=\"=\",c+=b(d[u]);c=c+\"&emsg=\"+b(a.name+\": \"+a.message);c=c+\"&jsst=\"+b(a.stack||\"N/A\");12288<=c.length&&(c=c.substr(0,12288));a=c;m||google.log(0,\"\",a);return a};window.onerror=function(a,b,d,m,e){r!==a&&(a=e instanceof Error?e:Error(a),void 0===d||\"lineNumber\"in a||(a.lineNumber=d),void 0===b||\"fileName\"in a||(a.fileName=b),google.ml(a,!1,void 0,!1,\"SyntaxError\"===a.name||\"SyntaxError\"===a.message.substring(0,11)||-1!==a.message.indexOf(\"Script error\")?3:0));r=null;p&&q>=l&&(window.onerror=null)};})();(function(){var c=[],e=0;window.ping=function(b){-1==b.indexOf(\"&zx\")&&(b+=\"&zx=\"+Date.now());var a=new Image,d=e++;c[d]=a;a.onerror=a.onload=a.onabort=function(){delete c[d]};a.src=b};}).call(this);</script><style>a{color:#1a0dab;text-decoration:none;tap-highlight-color:rgba(0,0,0,.10)}a:visited{color:#4b11a8}a:hover{text-decoration:underline}img{border:0}html{font-family:arial,sans-serif;font-size:14px;line-height:20px;text-size-adjust:100%;color:#3c4043;word-wrap:break-word;background-color:#fff}.bRsWnc{background-color:#fff;border-top:1px solid #dadce0;height:39px;overflow:hidden}.N6RWV{height:51px;overflow-scrolling:touch;overflow-x:auto;overflow-y:hidden}.Uv67qb{box-pack:justify;font-size:12px;line-height:37px;justify-content:space-between;justify-content:space-between}.Uv67qb a,.Uv67qb span{color:#70757a;display:block;flex:none;padding:0 16px;text-align:center;text-transform:uppercase;}span.OXXup{border-bottom:2px solid #4285f4;color:#4285f4;font-weight:bold}a.eZt8xd:visited{color:#70757a}.FElbsf{border-left:1px solid rgba(0,0,0,.12)}header article{overflow:visible}.Pg70bf{height:39px;display:box;display:flex;display:flex;width:100%}.H0PQec{position:relative;flex:1}.sbc{display:flex;width:100%}.Pg70bf input{margin:2px 4px 2px 8px;}.x{width:26px;color:#70757a;font:27px/38px arial, sans-serif;line-height:40px;}#qdClwb{flex:0 0 auto;width:39px;height:39px;border-bottom:0;padding:0;border-top-right-radius:8px;background-color:#1a73e8;border:1px solid #1a73e8;background-image:url(data:image/gif;base64,R0lGODdhJAAjAPIHAODr/nCk+MPZ/FmV96zK+/7+/5K5+kqL9iwAAAAAJAAjAEADani63P4wykmbKcQRXDscQAEMXmmeaLQVLCukzyC09AjfeK7v/MAajACLhPMVAgwjsUcEiZa8xgAYrVqv2Kx2iwsIAAABknfBBAKrTE4IcMyot8ur8datqIbQfJdnAfo2WE6BV05wXIiJigkAOw==);}.sc{font-size:16px;position:absolute;top:39px;left:0;right:0;box-shadow:0 2px 5px rgba(0,0,0,.2);z-index:2;background-color:#fff}.sc>div{padding:10px 10px;padding-left:16px;padding-left:14px;border-top:1px solid #dfe1e5;}.scs{background-color:#fafafa;}.noHIxc{display:block;font-size:16px;padding:0 0 0 8px;flex:1;height:35px;outline:none;border:none;width:100%;-webkit-tap-highlight-color:rgba(0,0,0,0);overflow:hidden;}.sbc input[type=text]{background:none}.bz1lBb{background-color:#fff;border-radius:8px 8px 0 0;box-shadow:0 0 0 1px #dfe1e5;margin-top:24px;}.KP7LCb{border-radius:0 0 8px 8px;box-shadow:0px 1px 0px 1px #dfe1e5;margin-bottom:30px;overflow:hidden}html{background-color:#fff}body{margin:0 auto 0 156px;max-width:652px;min-width:652px;padding:0 8px}.cOl4Id{letter-spacing:-1px;text-align:center;font:22pt Futura, Arial, sans-serif;height:37px;font-smoothing:antialiased;padding:32px 28px 0 24px;position:absolute;left:0;top:0}.cOl4Id span{display:inline-block}.V6gwVd{color:#4285f4}.iWkuvd{color:#ea4335}.cDrQ7{color:#fcc934}.ntlR9{color:#34a853}.tJ3Myc{-webkit-transform:rotate(-20deg);position:relative;left:-1px;display:inline-block}footer{text-align:center;margin-top:18px}footer a,footer a:visited,.smiUbb{color:#70757a}.xeDNfc{margin:0 13px;white-space:nowrap}#EOlPnc{margin-top:36px}#EOlPnc>div{margin:20px}.Srfpq{color:#70757a}</style></head><body jsmodel=\"hspDDf\"><header id=\"hdr\"><script nonce=\"h5t_vQX9FAxqz5JE28XY7g\">(function(){\\nvar k=this||self,l=function(a){var b=typeof a;return\"object\"==b&&null!=a||\"function\"==b},m=function(a,b){function c(){}c.prototype=b.prototype;a.j=b.prototype;a.prototype=new c;a.prototype.constructor=a;a.l=function(d,e,f){for(var g=Array(arguments.length-2),h=2;h<arguments.length;h++)g[h-2]=arguments[h];return b.prototype[e].apply(d,g)}};var n=Array.prototype.indexOf?function(a,b){return Array.prototype.indexOf.call(a,b,void 0)}:function(a,b){if(\"string\"===typeof a)return\"string\"!==typeof b||1!=b.length?-1:a.indexOf(b,0);for(var c=0;c<a.length;c++)if(c in a&&a[c]===b)return c;return-1};var p=function(a){return\"string\"==typeof a.className?a.className:a.getAttribute&&a.getAttribute(\"class\")||\"\"},q=function(a,b){\"string\"==typeof a.className?a.className=b:a.setAttribute&&a.setAttribute(\"class\",b)},r=function(a,b){a.classList?b=a.classList.contains(b):(a=a.classList?a.classList:p(a).match(/\\\\S+/g)||[],b=0<=n(a,b));return b},v=function(){var a=t,b=u;a.classList?a.classList.remove(b):r(a,b)&&q(a,Array.prototype.filter.call(a.classList?a.classList:p(a).match(/\\\\S+/g)||[],function(c){return c!=\\nb}).join(\" \"))};function w(){var a=k.navigator;return a&&(a=a.userAgent)?a:\"\"};var x=function(a){x[\" \"](a);return a};x[\" \"]=function(){};var y=-1!=w().indexOf(\"Gecko\")&&!(-1!=w().toLowerCase().indexOf(\"webkit\")&&-1==w().indexOf(\"Edge\"))&&!(-1!=w().indexOf(\"Trident\")||-1!=w().indexOf(\"MSIE\"))&&-1==w().indexOf(\"Edge\");var z=function(a,b){this.type=a;this.target=b};z.prototype.g=function(){};var A=function(){if(!k.addEventListener||!Object.defineProperty)return!1;var a=!1,b=Object.defineProperty({},\"passive\",{get:function(){a=!0}});try{k.addEventListener(\"test\",function(){},b),k.removeEventListener(\"test\",function(){},b)}catch(c){}return a}();var C=function(a){z.call(this,a?a.type:\"\");this.relatedTarget=this.target=null;this.button=this.screenY=this.screenX=this.clientY=this.clientX=0;this.key=\"\";this.keyCode=0;this.metaKey=this.shiftKey=this.altKey=this.ctrlKey=!1;this.state=null;this.pointerId=0;this.pointerType=\"\";this.h=null;if(a){var b=this.type=a.type,c=a.changedTouches&&a.changedTouches.length?a.changedTouches[0]:null;this.target=a.target||a.srcElement;var d=a.relatedTarget;if(d){if(y){a:{try{x(d.nodeName);var e=!0;break a}catch(f){}e=\\n!1}e||(d=null)}}else\"mouseover\"==b?d=a.fromElement:\"mouseout\"==b&&(d=a.toElement);this.relatedTarget=d;c?(this.clientX=void 0!==c.clientX?c.clientX:c.pageX,this.clientY=void 0!==c.clientY?c.clientY:c.pageY,this.screenX=c.screenX||0,this.screenY=c.screenY||0):(this.clientX=void 0!==a.clientX?a.clientX:a.pageX,this.clientY=void 0!==a.clientY?a.clientY:a.pageY,this.screenX=a.screenX||0,this.screenY=a.screenY||0);this.button=a.button;this.keyCode=a.keyCode||0;this.key=a.key||\"\";this.ctrlKey=a.ctrlKey;this.altKey=a.altKey;this.shiftKey=a.shiftKey;this.metaKey=a.metaKey;this.pointerId=a.pointerId||0;this.pointerType=\"string\"===typeof a.pointerType?a.pointerType:B[a.pointerType]||\"\";this.state=a.state;this.h=a;a.defaultPrevented&&C.j.g.call(this)}};m(C,z);var B={2:\"touch\",3:\"pen\",4:\"mouse\"};C.prototype.g=function(){C.j.g.call(this);var a=this.h;a.preventDefault?a.preventDefault():a.returnValue=!1};var D=\"closure_listenable_\"+(1E6*Math.random()|0);var E=0;var F=function(a,b,c,d,e){this.listener=a;this.proxy=null;this.src=b;this.type=c;this.capture=!!d;this.h=e;this.key=++E;this.g=this.i=!1},G=function(a){a.g=!0;a.listener=null;a.proxy=null;a.src=null;a.h=null};var H=function(a){this.src=a;this.g={};this.h=0};H.prototype.add=function(a,b,c,d,e){var f=a.toString();a=this.g[f];a||(a=this.g[f]=[],this.h++);var g;a:{for(g=0;g<a.length;++g){var h=a[g];if(!h.g&&h.listener==b&&h.capture==!!d&&h.h==e)break a}g=-1}-1<g?(b=a[g],c||(b.i=!1)):(b=new F(b,this.src,f,!!d,e),b.i=c,a.push(b));return b};var I=\"closure_lm_\"+(1E6*Math.random()|0),J={},K=0,M=function(a,b,c,d,e){if(d&&d.once)return L(a,b,c,d,e);if(Array.isArray(b)){for(var f=0;f<b.length;f++)M(a,b[f],c,d,e);return null}c=N(c);return a&&a[D]?a.g(b,c,l(d)?!!d.capture:!!d,e):O(a,b,c,!1,d,e)},O=function(a,b,c,d,e,f){if(!b)throw Error(\"a\");var g=l(e)?!!e.capture:!!e,h=P(a);h||(a[I]=h=new H(a));c=h.add(b,c,d,g,f);if(c.proxy)return c;d=Q();c.proxy=d;d.src=a;d.listener=c;if(a.addEventListener)A||(e=g),void 0===e&&(e=!1),a.addEventListener(b.toString(),d,e);else if(a.attachEvent)a.attachEvent(R(b.toString()),d);else if(a.addListener&&a.removeListener)a.addListener(d);else throw Error(\"b\");K++;return c},Q=function(){var a=S,b=function(c){return a.call(b.src,b.listener,c)};return b},L=function(a,b,c,d,e){if(Array.isArray(b)){for(var f=0;f<b.length;f++)L(a,b[f],c,d,e);return null}c=N(c);return a&&a[D]?a.h(b,c,l(d)?!!d.capture:!!d,e):O(a,b,c,!0,d,e)},T=function(a){if(\"number\"!==typeof a&&a&&!a.g){var b=a.src;if(b&&b[D])b.o(a);else{var c=a.type,d=a.proxy;b.removeEventListener?b.removeEventListener(c,d,a.capture):b.detachEvent?b.detachEvent(R(c),d):b.addListener&&b.removeListener&&b.removeListener(d);K--;if(c=P(b)){d=a.type;if(d in c.g){var e=c.g[d],f=n(e,a),g;(g=0<=f)&&Array.prototype.splice.call(e,f,1);g&&(G(a),0==c.g[d].length&&(delete c.g[d],c.h--))}0==c.h&&(c.src=null,b[I]=null)}else G(a)}}},R=function(a){return a in J?J[a]:J[a]=\"on\"+a},S=function(a,b){if(a.g)a=!0;else{b=new C(b,this);var c=a.listener,d=a.h||a.src;a.i&&T(a);a=c.call(d,b)}return a},P=function(a){a=a[I];return a instanceof H?a:null},U=\"__closure_events_fn_\"+(1E9*Math.random()>>>0),N=function(a){if(\"function\"===typeof a)return a;a[U]||(a[U]=function(b){return a.handleEvent(b)});return a[U]};var u,t=document.documentElement,V;function W(){T(V);V=L(t,\"mousedown\",function(){v();X()},{capture:!0})}function X(){T(V);V=M(t,\"keydown\",function(a){if(9===a.keyCode){a=t;var b=u;if(a.classList)a.classList.add(b);else if(!r(a,b)){var c=p(a);q(a,c+(0<c.length?\" \"+b:b))}W()}})};u=\"zAoYTe\";X();}).call(this);</script><div class=\"cOl4Id\"><a href=\"/?sa=X&amp;ved=0ahUKEwixwq_Rot_7AhXgQUEAHcocBykQOwgC\"><span class=\"V6gwVd\">G</span><span class=\"iWkuvd\">o</span><span class=\"cDrQ7\">o</span><span class=\"V6gwVd\">g</span><span class=\"ntlR9\">l</span><span class=\"iWkuvd tJ3Myc\">e</span></a></div><div class=\"bz1lBb\"><form class=\"Pg70bf\" id=\"sf\"><input name=\"ie\" value=\"ISO-8859-1\" type=\"hidden\"><div class=\"H0PQec\"><div class=\"sbc esbc\"><input class=\"noHIxc\" value=\"kanav\" autocapitalize=\"none\" autocomplete=\"off\" name=\"q\" spellcheck=\"false\" type=\"text\"><input name=\"oq\" type=\"hidden\"><input name=\"aqs\" type=\"hidden\"><div class=\"x\">\\xd7</div><div class=\"sc\"></div></div></div><button id=\"qdClwb\" type=\"submit\"></button></form></div><noscript><meta content=\"0;url=/search?q=kanav&amp;ie=UTF-8&amp;gbv=1&amp;sei=bDWMY7HcEuCDhbIPyrmcyAI\" http-equiv=\"refresh\"><style>table,div,span,p{display:none}</style><div style=\"display:block\">Please click <a href=\"/search?q=kanav&amp;ie=UTF-8&amp;gbv=1&amp;sei=bDWMY7HcEuCDhbIPyrmcyAI\">here</a> if you are not redirected within a few seconds.</div></noscript></header><div id=\"main\"><div><div class=\"KP7LCb\"> <div class=\"bRsWnc\"> <div class=\"N6RWV\"> <div class=\"Pg70bf Uv67qb\"> <span class=\"OXXup\">All</span><a class=\"eZt8xd\" href=\"/search?q=kanav&amp;ie=UTF-8&amp;source=lnms&amp;tbm=isch&amp;sa=X&amp;ved=0ahUKEwixwq_Rot_7AhXgQUEAHcocBykQ_AUIBigB\">Images</a><a class=\"eZt8xd\" href=\"/search?q=kanav&amp;ie=UTF-8&amp;source=lnms&amp;tbm=nws&amp;sa=X&amp;ved=0ahUKEwixwq_Rot_7AhXgQUEAHcocBykQ_AUIBygC\">News</a><a class=\"eZt8xd\" href=\"https://maps.google.com/maps?q=kanav&amp;um=1&amp;ie=UTF-8&amp;sa=X&amp;ved=0ahUKEwixwq_Rot_7AhXgQUEAHcocBykQ_AUICCgD\">Maps</a>  <a href=\"/search?q=kanav&amp;ie=UTF-8&amp;source=lnms&amp;tbm=vid&amp;sa=X&amp;ved=0ahUKEwixwq_Rot_7AhXgQUEAHcocBykQ_AUICSgE\">Videos</a>  <a href=\"/search?q=kanav&amp;ie=UTF-8&amp;source=lnms&amp;tbm=shop&amp;sa=X&amp;ved=0ahUKEwixwq_Rot_7AhXgQUEAHcocBykQ_AUICigF\">Shopping</a>  <a href=\"/search?q=kanav&amp;ie=UTF-8&amp;source=lnms&amp;tbm=bks&amp;sa=X&amp;ved=0ahUKEwixwq_Rot_7AhXgQUEAHcocBykQ_AUICygG\">Books</a>  <div class=\"FElbsf\"><a href=\"/advanced_search\" style=\"white-space:nowrap\" id=\"st-toggle\" role=\"button\">Search tools</a></div> </div> </div> </div> </div><div class=\"Pg70bf wEsjbd Gx5Zad xpd EtOod pkphOe\" style=\"display:none\" id=\"st-card\"><style>.wEsjbd{background-color:#fff;height:44px;white-space:nowrap}.coPU8c{height:60px;overflow-scrolling:touch;overflow-x:auto;overflow-y:hidden}.Xj2aue{height:44px;overflow:hidden}.RnNGze{margin:11px 16px}.wEsjbd div,.wEsjbd a,.wEsjbd li{outline-width:0;outline:none}</style><div class=\"Xj2aue\"><div class=\"coPU8c\"><div class=\"RnNGze\"><style>.PA9J5{display:inline-block}.RXaOfd{display:inline-block;height:22px;position:relative;padding-top:0;padding-bottom:0;padding-right:16px;padding-left:0;line-height:22px;cursor:pointer;text-transform:uppercase;font-size:12px;color:#70757a}.sa1toc{background:#fff;display:none;position:absolute;border:1px solid #d6d6d6;box-shadow:0 2px 4px rgba(0,0,0,.3);margin:0;white-space:nowrap;z-index:103;line-height:17px;padding-top:5px;padding-bottom:5px;padding-left:0}.PA9J5:hover .sa1toc{display:block}.mGSy8d a:active,.RXaOfd:active{color:#4285f4}</style><div class=\"PA9J5\"><div class=\"RXaOfd\" role=\"button\" tabindex=\"0\"><style>.TWMOUc{display:inline-block;padding-right:14px;white-space:nowrap}.vQYuGf{font-weight:bold}.OmTIzf{border-color:#909090 transparent;border-style:solid;border-width:4px 4px 0 4px;width:0;height:0;margin-left:-10px;top:50%;margin-top:-2px;position:absolute}.RXaOfd:active .OmTIzf{border-color:#4285f4 transparent}</style><div class=\"TWMOUc\">Any time</div><span class=\"OmTIzf\"></span></div><ul class=\"sa1toc ozatM\"><style>.ozatM{font-size:12px;text-transform:uppercase}.ozatM .yNFsl,.ozatM li{list-style-type:none;list-style-position:outside;list-style-image:none}.yNFsl.SkUj4c,.yNFsl a{color:#70757a;text-decoration:none;padding:6px 44px 6px 14px;line-height:17px;display:block}.SkUj4c{background-image:url(//ssl.gstatic.com/ui/v1/menu/checkmark2.png);background-position:right center;background-repeat:no-repeat}.SkUj4c:active{background-color:#f8f9fa}</style><li class=\"yNFsl SkUj4c\">Any time</li><li class=\"yNFsl\"><a href=\"/search?q=kanav&amp;ie=UTF-8&amp;source=lnt&amp;tbs=qdr:h&amp;sa=X&amp;ved=0ahUKEwixwq_Rot_7AhXgQUEAHcocBykQpwUIDQ\">Past hour</a></li><li class=\"yNFsl\"><a href=\"/search?q=kanav&amp;ie=UTF-8&amp;source=lnt&amp;tbs=qdr:d&amp;sa=X&amp;ved=0ahUKEwixwq_Rot_7AhXgQUEAHcocBykQpwUIDg\">Past 24 hours</a></li><li class=\"yNFsl\"><a href=\"/search?q=kanav&amp;ie=UTF-8&amp;source=lnt&amp;tbs=qdr:w&amp;sa=X&amp;ved=0ahUKEwixwq_Rot_7AhXgQUEAHcocBykQpwUIDw\">Past week</a></li><li class=\"yNFsl\"><a href=\"/search?q=kanav&amp;ie=UTF-8&amp;source=lnt&amp;tbs=qdr:m&amp;sa=X&amp;ved=0ahUKEwixwq_Rot_7AhXgQUEAHcocBykQpwUIEA\">Past month</a></li><li class=\"yNFsl\"><a href=\"/search?q=kanav&amp;ie=UTF-8&amp;source=lnt&amp;tbs=qdr:y&amp;sa=X&amp;ved=0ahUKEwixwq_Rot_7AhXgQUEAHcocBykQpwUIEQ\">Past year</a></li></ul></div><div class=\"PA9J5\"><div class=\"RXaOfd\" role=\"button\" tabindex=\"0\"><div class=\"TWMOUc\">All results</div><span class=\"OmTIzf\"></span></div><ul class=\"sa1toc ozatM\"><li class=\"yNFsl SkUj4c\">All results</li><li class=\"yNFsl\"><a href=\"/search?q=kanav&amp;ie=UTF-8&amp;source=lnt&amp;tbs=li:1&amp;sa=X&amp;ved=0ahUKEwixwq_Rot_7AhXgQUEAHcocBykQpwUIEw\">Verbatim</a></li></ul></div></div></div></div><script nonce=\"h5t_vQX9FAxqz5JE28XY7g\">(function(){var a=document.getElementById(\"st-toggle\"),b=document.getElementById(\"st-card\");a&&b&&a.addEventListener(\"click\",function(c){b.style.display=b.style.display?\"\":\"none\";c.preventDefault()},!1);}).call(this);</script></div></div><style>.ZTv9Bb{display:block}.nVTMpe{border-radius:8px}.wVMPHe{margin:0 auto}.Gx5Zad{background-color:#fff;margin-bottom:30px;box-shadow:0 0 0 1px #dfe1e5;border-radius:8px}.pkphOe{font-size:14px;line-height:22px;}.EtOod>*:first-child{border-top-left-radius:8px;border-top-right-radius:8px}.EtOod>*:last-child{border-bottom-left-radius:8px;border-bottom-right-radius:8px}.EtOod>.qxDOhb>*:first-child{border-top-left-radius:8px;border-top-right-radius:8px}.EtOod>.qxDOhb>*:last-child{border-bottom-left-radius:8px;border-bottom-right-radius:8px}.kCrYT{padding:12px 16px 12px}.l97dzf{font-weight:400}.zBAuLc{line-height:normal;margin:0;padding:0}.BNeawe{white-space:pre-line;word-wrap:break-word}.deIvCb{font-size:16px;line-height:20px;font-weight:400}.deIvCb.HrGdeb{color:#fff}.deIvCb.AP7Wnd{color:#202124}.tAd8D{font-size:14px;line-height:20px}.tAd8D.HrGdeb{color:rgba(255,255,255,.70)}.tAd8D.AP7Wnd{color:#70757a}a.fdYsqf{color:#4b11a8}.RJI4s{vertical-align:middle}.x54gtf{height:1px;background-color:#dadce0;margin:0 16px}.Q0HXG{height:1px;background-color:#dadce0}.X7NTVe{display:table;width:100%;padding-right:16px;box-sizing:border-box}.tHmfQe{display:table-cell;padding:12px 0 12px 16px}.UHtrk{width:72px}.HBTM6d{width:30px}.XS7yGd{display:table-cell;text-align:center;vertical-align:middle;padding:12px 0 12px 8px}.am3QBf{display:table;vertical-align:top}.Icx6Cd{margin:0 auto 8px}.ZAfNud{display:table;width:100%}.naKQFc{display:table-cell;vertical-align:top}.Ne5sAf{vertical-align:middle}.xevp3d{overflow:hidden}.XCaUNd{display:block}.mugnXc{color:#3c4043;font-size:14px}.Q0cixc{display:block;white-space:pre-line;word-wrap:break-word}.mugnXc.Q0cixc{line-height:22px}.K8tyEc{padding-bottom:12px}.mEUgP{font-weight:bold;font-size:16px;color:#000;margin:0;padding:12px 16px 0 16px}.FCUp0c{font-weight:bold}.C7GS5b{margin-left:12px;display:table-cell;vertical-align:middle}.rkGIWe{padding:14px}.xpc .hwc,.xpx .hwx{display:none}.iIWm4b{box-sizing:border-box;min-height:48px}.fLtXsc{padding:14px;position:relative}.NtmAdb{width:40px;height:40px;overflow:hidden;margin-top:-10px;margin-bottom:-16px;margin-right:8px;border-radius:4px}.xpc .NtmAdb{display:inline-block}.xpx .NtmAdb{display:none}.Lt3Tzc{display:inline-block;padding-right:26px}.Lym8W{width:14px;height:20px;position:relative;margin:0 auto}.xCgLUe{position:absolute;right:16px;margin-top:-10px;top:50%}.Lym8W div{position:absolute;border-left:7px solid transparent;border-right:7px solid transparent;width:0;height:0;left:0}.IyYaEd{top:7px;border-top:7px solid #70757a}.ECUHQe{top:4px;border-top:7px solid #fff}.AeQQub{bottom:7px;border-bottom:7px solid #70757a}.YCU7eb{bottom:4px;border-bottom:7px solid #fff}.qxDOhb{border-radius:0}.yStFkb .xpd{border-radius:8px;box-shadow:none;border:1px solid #dadce0;margin-bottom:0}.oTWEpb{padding-top:12px}.n1Qedd{overflow:hidden;text-align:center}.KMAGC{margin:0 auto;display:block}.ho0sdc{margin:0 -50%;display:inline-block}.Ap5OSd{padding-bottom:12px}.s3v9rd{font-size:14px;line-height:22px}.s3v9rd.HrGdeb{color:#fff}.s3v9rd.AP7Wnd{color:#202124}.vvjwJb{color:#1a0dab;font-size:20px;line-height:26px}a:visited .vvjwJb,.vvjwJb a:visited{color:#4b11a8}.vvjwJb.HrGdeb{color:#fff}a:visited .vvjwJb.HrGdeb,.vvjwJb.HrGdeb a:visited{color:rgba(255,255,255,.70)}.Xb5VRe{color:#1a0dab}a:visited .Xb5VRe{color:#4b11a8}.Xb5VRe.tr0dw{color:#fff}a:visited .Xb5VRe.tr0dw{color:rgba(255,255,255,.70)}.UPmit{font-size:14px;line-height:22px}.UPmit.HrGdeb{color:rgba(255,255,255,.70)}.UPmit.AP7Wnd{color:#202124}.P1NWSe{display:table;width:100%;padding-top:16px;padding-bottom:16px;margin-bottom:-12px}.wOMIed{display:table-cell;vertical-align:top}.nkPlDb{vertical-align:middle}.JhFlyf{color:#3c4043;font-size:14px;text-align:center}.VQFmSd{display:block;white-space:pre-line;word-wrap:break-word}.JhFlyf.VQFmSd{line-height:22px}.f4J0H{padding:18px}.fP1Qef{background:transparent !important;box-shadow:none !important;border:none !important}.Gx5Zad.fP1Qef{margin-top:-12px;margin-bottom:18px}.rl7ilb{display:block;clear:both}.egMi0{margin-bottom:-19px}.sCuL3{position:absolute;width:100%;top:0;left:0;padding-top:1px;margin-bottom:-1px}.j039Wc{padding-top:28px;margin-bottom:-1px}.DnJfK{position:relative}.lRVwie{text-overflow:ellipsis;white-space:nowrap;overflow:hidden}.mSx1Ee{padding-left:48px;margin:0}.v9i61e{padding-bottom:8px}.zJIOJe{clear:both}.AzGoi{float:left;padding-right:16px}.h1hFNe{display:inline-block;position:relative}.Iaa5if{overflow:hidden;position:relative}.l7d08{align-items:center;display:flex;flex-direction:column;justify-content:space-around}.Xdlr0d{overflow-x:auto;-webkit-overflow-scrolling:touch;margin:0 -8px;padding:2px 0 16px 24px;margin-top:-2px;transform:translate3d(0,0,0)}.idg8be{display:table;border-collapse:separate;border-spacing:8px 0;margin:0 -8px;padding-right:16px}.BVG0Nb{display:table-cell;vertical-align:top;background-color:#fff;border-radius:8px;box-shadow:0 0 0 1px #dfe1e5;overflow:hidden}.mHhylf{display:table-cell;vertical-align:middle}.WZ5GJf{align-items:center;padding:0 20px;min-width:112px}.qN9Ked,.DXk5Me{margin:0 auto}.DXk5Me{cursor:pointer;margin-bottom:12px}.Dk7jOe{display:block;margin:0 auto}.Qi9Fd{background:#fff;border:0;border-radius:999px;display:block;height:56px;justify-content:center;width:56px;z-index:0}.Qi9Fd{box-shadow:0 0 0 1px #dfe1e5,inset 0 0 0 0 rgba(0,0,0,.1),inset 0 0 0 0 rgba(255,255,255,.5)}.Qi9Fd:focus{outline:none}.Qi9Fd .hWHuJ{display:block;margin:0 auto}.ji5jpf{text-align:center}.r0bn4c.tr0dw{color:rgba(255,255,255,.70)}.r0bn4c.rQMQod{color:#70757a}.gGQDvd{padding:14px;position:relative}.Q71vJc{display:block;position:relative;width:100%}.kjGX2{position:absolute;left:48px;right:0;vertical-align:bottom;display:inline-block;color:#3c4043}.ieB2Dd{overflow:hidden;margin-top:-10px;margin-bottom:-16px;margin-right:8px;border-radius:4px;display:inline-block;border-radius:50%;padding:10px}.OEaqif{width:20px;height:20px;display:block}.rLshyf,.BmP5tf{padding-top:12px;padding-bottom:12px}.YOx3Ab{padding-left:16px;}.w1C3Le,.BmP5tf,.G5NbBd,.CS4w5b{padding-left:16px;padding-right:16px;}.G5NbBd{padding-bottom:12px}.CS4w5b{padding-top:12px}.nMymef{display:flex}.G5eFlf{flex:1;display:block}.nMymef span{text-align:center}.EYqSq{margin:6px 4px 9px 0;border-radius:100%;display:inline-block;height:10px;vertical-align:middle;width:10px}.dfB0uf{color:#3c4043;font-weight:bold}</style><div><!--SW_C_X--></div><div></div><div><div class=\"Gx5Zad xpd EtOod pkphOe\"><div class=\"kCrYT\"><div class=\"q4vBJc\"></div><span><h2 class=\"zBAuLc l97dzf\"><div class=\"BNeawe deIvCb AP7Wnd\">Places</div></h2></span><span><div class=\"BNeawe tAd8D AP7Wnd\">near Hyderabad, Telangana</div></span></div><div style=\"max-height:200px\"><a href=\"https://maps.google.com/maps?um=1&amp;ie=UTF-8&amp;fb=1&amp;gl=in&amp;sa=X&amp;sll=17.505399,78.426254&amp;sspn=0.1257384,0.175801&amp;q=kanav&amp;ved=2ahUKEwixwq_Rot_7AhXgQUEAHcocBykQtgN6BAgGEAE\"><img class=\"ZTv9Bb wVMPHe\" style=\"max-width:100%;max-height:200px\" alt=\"Map image\" src=\"data:image/gif;base64,R0lGODlhAQABAIAAAP///////yH5BAEKAAEALAAAAAABAAEAAAICTAEAOw==\" id=\"dimg_1\" data-deferred=\"1\"></a></div><div class=\"Q0HXG\"></div><div class=\"X7NTVe\"><a class=\"tHmfQe\" href=\"/search?ie=UTF-8&amp;q=Kanav+Infotech+Hyderabad,+Telangana&amp;ludocid=13456885631979071237&amp;gsas=1&amp;lsig=AB86z5UXn0kvg9RNbV31bhXaI8Jw&amp;sa=X&amp;ved=2ahUKEwixwq_Rot_7AhXgQUEAHcocBykQvS56BAgGEAQ\"><div class=\"am3QBf\"><div><span><h3 class=\"zBAuLc l97dzf\"><div class=\"BNeawe deIvCb AP7Wnd\">Kanav Infotech</div></h3></span><span><div class=\"BNeawe tAd8D AP7Wnd\">Software company \\xb7 Ground Floor, Plot No. 32-34, Adj HSBC, Mind Space, Hitech city, Madhapur, Hyderabad, Telangana &#8211; 500081 Phone No. : +91 (0)40</div></span></div></div></a><div class=\"HBTM6d XS7yGd\"><a href=\"/search?ie=UTF-8&amp;q=Kanav+Infotech+Hyderabad,+Telangana&amp;ludocid=13456885631979071237&amp;gsas=1&amp;lsig=AB86z5UXn0kvg9RNbV31bhXaI8Jw&amp;sa=X&amp;ved=2ahUKEwixwq_Rot_7AhXgQUEAHcocBykQ_pABegQIBhAF\"><img class=\"ZTv9Bb Icx6Cd\" alt=\"Arrow\" src=\"data:image/gif;base64,R0lGODlhAQABAIAAAP///////yH5BAEKAAEALAAAAAABAAEAAAICTAEAOw==\" style=\"max-width:24px;max-height:24px\" id=\"dimg_7\" data-deferred=\"1\"></a></div></div><div class=\"Q0HXG\"></div><div class=\"X7NTVe\"><a class=\"tHmfQe\" href=\"/search?ie=UTF-8&amp;q=Kanav+Enterprises+Hyderabad,+Telangana&amp;ludocid=1041378423397403092&amp;gsas=1&amp;lsig=AB86z5VbIMe5rlPoe5kXLaNgH73q&amp;sa=X&amp;ved=2ahUKEwixwq_Rot_7AhXgQUEAHcocBykQvS56BAgGEAc\"><div class=\"am3QBf\"><div><span><h3 class=\"zBAuLc l97dzf\"><div class=\"BNeawe deIvCb AP7Wnd\">Kanav Enterprises</div></h3></span><span><div class=\"BNeawe tAd8D AP7Wnd\">Manufacturer \\xb7 HF99+7G6<br>Closed &#8901; Opens 9AM Mon</div></span></div></div></a><div class=\"HBTM6d XS7yGd\"><a href=\"/search?ie=UTF-8&amp;q=Kanav+Enterprises+Hyderabad,+Telangana&amp;ludocid=1041378423397403092&amp;gsas=1&amp;lsig=AB86z5VbIMe5rlPoe5kXLaNgH73q&amp;sa=X&amp;ved=2ahUKEwixwq_Rot_7AhXgQUEAHcocBykQ_pABegQIBhAI\"><img class=\"ZTv9Bb Icx6Cd\" alt=\"Arrow\" src=\"data:image/gif;base64,R0lGODlhAQABAIAAAP///////yH5BAEKAAEALAAAAAABAAEAAAICTAEAOw==\" style=\"max-width:24px;max-height:24px\" id=\"dimg_11\" data-deferred=\"1\"></a></div></div><div class=\"Q0HXG\"></div><div class=\"X7NTVe\"><a class=\"tHmfQe\" href=\"/search?ie=UTF-8&amp;q=Kanav+Enterprises+Hyderabad,+Telangana&amp;ludocid=2075522123907665143&amp;gsas=1&amp;lsig=AB86z5UZs0P_8HZfsg5NcFjGQ6Wq&amp;sa=X&amp;ved=2ahUKEwixwq_Rot_7AhXgQUEAHcocBykQvS56BAgGEAo\"><div class=\"am3QBf\"><div><span><h3 class=\"zBAuLc l97dzf\"><div class=\"BNeawe deIvCb AP7Wnd\">Kanav Enterprises</div></h3></span><span><div class=\"BNeawe tAd8D AP7Wnd\">8, Madhapur Rd<br>Temporarily closed</div></span></div></div></a><div class=\"HBTM6d XS7yGd\"><a href=\"/search?ie=UTF-8&amp;q=Kanav+Enterprises+Hyderabad,+Telangana&amp;ludocid=2075522123907665143&amp;gsas=1&amp;lsig=AB86z5UZs0P_8HZfsg5NcFjGQ6Wq&amp;sa=X&amp;ved=2ahUKEwixwq_Rot_7AhXgQUEAHcocBykQ_pABegQIBhAL\"><img class=\"ZTv9Bb Icx6Cd\" alt=\"Arrow\" src=\"data:image/gif;base64,R0lGODlhAQABAIAAAP///////yH5BAEKAAEALAAAAAABAAEAAAICTAEAOw==\" style=\"max-width:24px;max-height:24px\" id=\"dimg_17\" data-deferred=\"1\"></a></div></div><div class=\"Q0HXG\"></div><div><a href=\"/search?ie=UTF-8&amp;tbs=lf:1,lf_ui:1&amp;q=kanav&amp;rlst=f&amp;rflfq=1&amp;num=10&amp;sa=X&amp;ved=2ahUKEwixwq_Rot_7AhXgQUEAHcocBykQjGp6BAgGEAw\"><div class=\"kCrYT\"><div class=\"ZAfNud\"><div class=\"naKQFc Ne5sAf\" style=\"width:40px\"><div class=\"xevp3d\"><img class=\"XCaUNd\" height=\"24\" src=\"data:image/png;base64,iVBORw0KGgoAAAANSUhEUgAAADAAAAAwCAQAAAD9CzEMAAAAaklEQVRYw+2VOwqAQAwFcy0/13qFYLF6ZD1ALNxWUfSByEzqnSmykAgAuIkmFad+ViptCY3KOp6EGi0kSJAgsT/JB1PcgSuJbwfeX7Ra6z9y6zv0Z/oV/ZG+R38WGMzHJULFqq8Jpx7gp2wNbJTpL+jhtwAAAABJRU5ErkJggg==\" style=\"margin:0px 16px 0px 0px\" width=\"24\"></div></div><div class=\"naKQFc Ne5sAf\"><span class=\"mugnXc Q0cixc\">More places</span></div></div></div></a></div></div></div><div><div class=\"Gx5Zad xpd EtOod pkphOe\"><div class=\"K8tyEc\"><div class=\"mEUgP\"><span><div class=\"BNeawe\"><span class=\"FCUp0c rQMQod\">People also ask</span></div></span></div></div><div class=\"x54gtf\"></div><div><div class=\"xpc\"><div class=\"duf-h\"><div class=\"fLtXsc iIWm4b\" aria-expanded=\"false\" id=\"tsuid_1\" role=\"button\" tabindex=\"0\" data-ved=\"2ahUKEwixwq_Rot_7AhXgQUEAHcocBykQuk56BAgHEAI\"><div class=\"Lt3Tzc\">What does kanav mean?</div><div class=\"Lym8W xCgLUe\"><div class=\"AeQQub hwc\"></div><div class=\"YCU7eb hwc\"></div><div class=\"IyYaEd hwx\"></div><div class=\"ECUHQe hwx\"></div></div></div></div><div class=\"qxDOhb\" id=\"accdef_1\"></div></div></div><div class=\"x54gtf\"></div><div><div class=\"xpc\"><div class=\"duf-h\"><div class=\"fLtXsc iIWm4b\" aria-expanded=\"false\" id=\"tsuid_2\" role=\"button\" tabindex=\"0\" data-ved=\"2ahUKEwixwq_Rot_7AhXgQUEAHcocBykQuk56BAgHEAk\"><div class=\"Lt3Tzc\">What is the spelling of kanav?</div><div class=\"Lym8W xCgLUe\"><div class=\"AeQQub hwc\"></div><div class=\"YCU7eb hwc\"></div><div class=\"IyYaEd hwx\"></div><div class=\"ECUHQe hwx\"></div></div></div></div><div class=\"qxDOhb\" id=\"accdef_3\"></div></div></div><div class=\"x54gtf\"></div><div><div class=\"xpc\"><div class=\"duf-h\"><div class=\"fLtXsc iIWm4b\" aria-expanded=\"false\" id=\"tsuid_3\" role=\"button\" tabindex=\"0\" data-ved=\"2ahUKEwixwq_Rot_7AhXgQUEAHcocBykQuk56BAgHEBA\"><div class=\"Lt3Tzc\">What does kiaan mean?</div><div class=\"Lym8W xCgLUe\"><div class=\"AeQQub hwc\"></div><div class=\"YCU7eb hwc\"></div><div class=\"IyYaEd hwx\"></div><div class=\"ECUHQe hwx\"></div></div></div></div><div class=\"qxDOhb\" id=\"accdef_5\"></div></div></div><div class=\"x54gtf\"></div><div><div class=\"xpc\"><div class=\"duf-h\"><div class=\"fLtXsc iIWm4b\" aria-expanded=\"false\" id=\"tsuid_4\" role=\"button\" tabindex=\"0\" data-ved=\"2ahUKEwixwq_Rot_7AhXgQUEAHcocBykQuk56BAgHEBc\"><div class=\"Lt3Tzc\">What is the meaning of Kabir?</div><div class=\"Lym8W xCgLUe\"><div class=\"AeQQub hwc\"></div><div class=\"YCU7eb hwc\"></div><div class=\"IyYaEd hwx\"></div><div class=\"ECUHQe hwx\"></div></div></div></div><div class=\"qxDOhb\" id=\"accdef_7\"></div></div></div></div></div><div><div class=\"Gx5Zad fP1Qef xpd EtOod pkphOe\"><div class=\"egMi0 kCrYT\"><a href=\"/url?q=https://www.babycenter.in/babyname/1077195/kanav&amp;sa=U&amp;ved=2ahUKEwixwq_Rot_7AhXgQUEAHcocBykQFnoECAkQAg&amp;usg=AOvVaw3TdixPBDyPmM34zhfSHINg\"><div class=\"DnJfK\"><div class=\"j039Wc\"><h3 class=\"zBAuLc l97dzf\"><div class=\"BNeawe vvjwJb AP7Wnd\">Kanav: name meaning and origin - BabyCenter India</div></h3></div><div class=\"sCuL3\"><div class=\"BNeawe UPmit AP7Wnd lRVwie\">www.babycenter.in &#8250; ... &#8250; Naming your baby &#8250; Baby name search results</div></div></div></a></div><div class=\"kCrYT\"><div><div class=\"BNeawe s3v9rd AP7Wnd\"><div><div><div class=\"BNeawe s3v9rd AP7Wnd\">Kanav ; Gender. Boy ; Origin. Hindu, Marathi, Indian ; Meaning. Compassion and pity ; Facts. Also popularly believed to be a name of a Hindu sage ; Numerology. 4.</div></div></div></div></div></div></div></div><div><div class=\"Gx5Zad xpd EtOod pkphOe\"><div><a href=\"/url?q=https://twitter.com/KanavKariya%3Fref_src%3Dtwsrc%255Egoogle%257Ctwcamp%255Eserp%257Ctwgr%255Eauthor&amp;sa=U&amp;ved=2ahUKEwixwq_Rot_7AhXgQUEAHcocBykQ6F56BAgMEAI&amp;usg=AOvVaw0zGmMbM8Ok9Q3W5JQPSnP3\"><div class=\"kCrYT\"><div class=\"AzGoi l7d08\" style=\"width:40px;height:40px\"><img class=\"h1hFNe\" alt=\"\" src=\"data:image/gif;base64,R0lGODlhAQABAIAAAP///////yH5BAEKAAEALAAAAAABAAEAAAICTAEAOw==\" style=\"max-width:40px;max-height:40px\" id=\"dimg_25\" data-deferred=\"1\"></div><div><div class=\"BNeawe vvjwJb AP7Wnd\">Kanav Kariya &#10003;</div><div class=\"BNeawe UPmit AP7Wnd\">Twitter &#8250; KanavKariya</div></div><div class=\"zJIOJe\"></div></div></a></div><div><div><div><div class=\"Xdlr0d\"><div class=\"idg8be\"><a class=\"BVG0Nb\" href=\"/url?q=https://twitter.com/KanavKariya/status/1596926669344092160%3Fref_src%3Dtwsrc%255Egoogle%257Ctwcamp%255Eserp%257Ctwgr%255Etweet&amp;sa=U&amp;ved=2ahUKEwixwq_Rot_7AhXgQUEAHcocBykQglR6BAgMEAQ&amp;usg=AOvVaw1kOMPxFIhu1l_NSataC35I\"><div><div style=\"width:232px\"><div class=\"RWuggc kCrYT\"><div><div class=\"BNeawe s3v9rd AP7Wnd\">1/ Can we trust each other?  It&#8217;s one of the fundamental questions that, after the still unbelievable demise of FTX, our industry is struggling to answer.   No, we can&#8217;t  Can we?</div></div><div><div class=\"BNeawe tAd8D AP7Wnd\">Twitter &#8226; 6 days ago</div></div></div></div></div></a><a class=\"BVG0Nb\" href=\"/url?q=https://twitter.com/KanavKariya/status/1590559715322646529%3Fref_src%3Dtwsrc%255Egoogle%257Ctwcamp%255Eserp%257Ctwgr%255Etweet&amp;sa=U&amp;ved=2ahUKEwixwq_Rot_7AhXgQUEAHcocBykQglR6BAgMEAY&amp;usg=AOvVaw2yN5PnIXfw_zDSlCS_uTs3\"><div><div style=\"width:232px\"><div class=\"RWuggc kCrYT\"><div><div class=\"BNeawe s3v9rd AP7Wnd\">1/ Cool things building on Solana   xNFTs and Backpack with Armani and Tristan - new paradigm in app specification, A+ team  Phantom as one of the smoothest product experiences in the space</div></div><div><div class=\"BNeawe tAd8D AP7Wnd\">Twitter &#8226; 24 days ago</div></div></div></div></div></a><a class=\"BVG0Nb\" href=\"/url?q=https://twitter.com/KanavKariya/status/1589682524019560448%3Fref_src%3Dtwsrc%255Egoogle%257Ctwcamp%255Eserp%257Ctwgr%255Etweet&amp;sa=U&amp;ved=2ahUKEwixwq_Rot_7AhXgQUEAHcocBykQglR6BAgMEAg&amp;usg=AOvVaw1KHEHw17cMfKXx6-P7mfX-\"><div><div style=\"width:232px\"><div class=\"RWuggc kCrYT\"><div><div class=\"BNeawe s3v9rd AP7Wnd\">Inspirational talk by Dan Boneh at CESC. The breadth of opportunities ZK enables is very compelling  Presents a great opportunity for the industry to showcase the societal value that our investments can enable even outside of web3 apps  1:52:23 - 2:12:00 www.youtube.com/watch?v=k&#8230;</div></div><div><div class=\"BNeawe tAd8D AP7Wnd\">Twitter &#8226; 26 days ago</div></div></div></div></div></a><a class=\"BVG0Nb\" href=\"/url?q=https://twitter.com/KanavKariya/status/1588968058152189952%3Fref_src%3Dtwsrc%255Egoogle%257Ctwcamp%255Eserp%257Ctwgr%255Etweet&amp;sa=U&amp;ved=2ahUKEwixwq_Rot_7AhXgQUEAHcocBykQglR6BAgMEAo&amp;usg=AOvVaw0nHgmVnQnOGzkE1vFJc8Iy\"><div><div style=\"width:232px\"><div class=\"RWuggc kCrYT\"><div><div class=\"BNeawe s3v9rd AP7Wnd\">Benchmark part 2 on @AcquiredFM one of my favorite of all time. Clearly people at the very top of their craft, pursuing venture capital as a means to grow and support founders.</div></div><div><div class=\"BNeawe tAd8D AP7Wnd\">Twitter &#8226; 28 days ago</div></div></div></div></div></a><a class=\"BVG0Nb\" href=\"/url?q=https://twitter.com/KanavKariya/status/1584953764758573056%3Fref_src%3Dtwsrc%255Egoogle%257Ctwcamp%255Eserp%257Ctwgr%255Etweet&amp;sa=U&amp;ved=2ahUKEwixwq_Rot_7AhXgQUEAHcocBykQglR6BAgMEAw&amp;usg=AOvVaw2sc3cQW7ru7NXDukmVrRSG\"><div><div style=\"width:232px\"><div class=\"RWuggc kCrYT\"><div><div class=\"BNeawe s3v9rd AP7Wnd\">What are the best community distribution programs we&#8217;ve seen in crypto   Really digging Hashverse @hashflow  @graphprotocol incentivized testnet was well executed and arguably ahead of its time @axelarcore pre launch grant program was solid   What others come to mind?</div></div><div><div class=\"BNeawe tAd8D AP7Wnd\">Twitter &#8226; 1 month ago</div></div></div></div></div></a><div class=\"mHhylf\"><div class=\"WZ5GJf\"><a class=\"qN9Ked\" href=\"/url?q=https://twitter.com/KanavKariya%3Fref_src%3Dtwsrc%255Egoogle%257Ctwcamp%255Eserp%257Ctwgr%255Eauthor&amp;sa=U&amp;ved=2ahUKEwixwq_Rot_7AhXgQUEAHcocBykQp_gBegQIDBAN&amp;usg=AOvVaw1g02H72jyrLUvoABRog31b\"><button class=\"DXk5Me Qi9Fd\" tabindex=\"-1\"><span class=\"hWHuJ\"><img class=\"Dk7jOe\" alt=\"\" src=\"data:image/gif;base64,R0lGODlhAQABAIAAAP///////yH5BAEKAAEALAAAAAABAAEAAAICTAEAOw==\" style=\"max-width:24px;max-height:24px\" id=\"dimg_27\" data-deferred=\"1\"></span></button><div class=\"BNeawe ji5jpf tAd8D AP7Wnd\">View on Twitter</div></a></div></div></div></div></div></div></div></div></div><div><div class=\"Gx5Zad fP1Qef xpd EtOod pkphOe\"><div class=\"egMi0 kCrYT\"><a href=\"/url?q=https://parenting.firstcry.com/baby-names/meaning-of-kanav/&amp;sa=U&amp;ved=2ahUKEwixwq_Rot_7AhXgQUEAHcocBykQFnoECAUQAg&amp;usg=AOvVaw3xtxJL2F3mj3qhk6dsYm_H\"><div class=\"DnJfK\"><div class=\"j039Wc\"><h3 class=\"zBAuLc l97dzf\"><div class=\"BNeawe vvjwJb AP7Wnd\">Meaning of Kanav - Baby Names - FirstCry Parenting</div></h3></div><div class=\"sCuL3\"><div class=\"BNeawe UPmit AP7Wnd lRVwie\">parenting.firstcry.com &#8250; baby-names &#8250; meaning-of-kanav</div></div></div></a></div><div class=\"kCrYT\"><div><div class=\"BNeawe s3v9rd AP7Wnd\"><div><div><div class=\"BNeawe s3v9rd AP7Wnd\">Name :Kanav \\xb7 Meaning :Kundal in Lord krishnas ear, Name of a sage, Wise, Beautiful, Name of an Ancient Hindu Rishi \\xb7 Gender :Boy \\xb7 Numerology :4 \\xb7 Syllables :3\\xa0...</div></div></div></div></div></div></div></div><div><div class=\"Gx5Zad fP1Qef xpd EtOod pkphOe\"><div class=\"egMi0 kCrYT\"><a href=\"/url?q=https://www.moonastro.com/babyname/baby%2520name%2520kanav%2520meaning.aspx&amp;sa=U&amp;ved=2ahUKEwixwq_Rot_7AhXgQUEAHcocBykQFnoECAEQAg&amp;usg=AOvVaw3zNplbXagFknD5TkVoyW0w\"><div class=\"DnJfK\"><div class=\"j039Wc\"><h3 class=\"zBAuLc l97dzf\"><div class=\"BNeawe vvjwJb AP7Wnd\">Baby Name Kanav meaning and Astrology - MoonAstro.com</div></h3></div><div class=\"sCuL3\"><div class=\"BNeawe UPmit AP7Wnd lRVwie\">www.moonastro.com &#8250; Baby Names</div></div></div></a></div><div class=\"kCrYT\"><div><div class=\"BNeawe s3v9rd AP7Wnd\"><div><div><div class=\"BNeawe s3v9rd AP7Wnd\">Name Kanav or (Kanav) means A Hindu Sage. Person with name Kanav are the symbol of ecstasy. Person with this name as prevailing influence upon them, are born\\xa0...</div></div></div></div></div></div></div></div><div><div class=\"Gx5Zad fP1Qef xpd EtOod pkphOe\"><div class=\"egMi0 kCrYT\"><a href=\"/url?q=https://www.baby360.in/baby-name/meaning-of-kanav/&amp;sa=U&amp;ved=2ahUKEwixwq_Rot_7AhXgQUEAHcocBykQFnoECAMQAg&amp;usg=AOvVaw0qrzHPyNnV8JcnJklBkS68\"><div class=\"DnJfK\"><div class=\"j039Wc\"><h3 class=\"zBAuLc l97dzf\"><div class=\"BNeawe vvjwJb AP7Wnd\">Meaning of Kanav | Rashi and Nakshatra of Kanav - Baby360</div></h3></div><div class=\"sCuL3\"><div class=\"BNeawe UPmit AP7Wnd lRVwie\">www.baby360.in &#8250; baby-name &#8250; meaning-of-kanav</div></div></div></a></div><div class=\"kCrYT\"><div><div class=\"BNeawe s3v9rd AP7Wnd\"><div><div class=\"v9i61e\"><div class=\"BNeawe s3v9rd AP7Wnd\">Meaning of Kanav, Kanav is mrigashiras baby name, Kanav means Kundal in Lord Krishna\\'s ear, Name of a sage, Wise, Beautiful. See Rashi, Nakshatra, Origin,\\xa0...</div></div><div><div class=\"BNeawe s3v9rd AP7Wnd\">Meaning: <span class=\"r0bn4c rQMQod\">Kundal in Lord Krishna\\'s ear, Name of a sage, Wise, Beautiful</span><br>Rashi: <span class=\"r0bn4c rQMQod\">Boy</span><br>Origin: <span class=\"r0bn4c rQMQod\">Indian</span><br>Numerology: <span class=\"r0bn4c rQMQod\">mithun</span></div></div></div></div></div></div></div></div><div><div class=\"Gx5Zad fP1Qef xpd EtOod pkphOe\"><div class=\"egMi0 kCrYT\"><a href=\"/url?q=https://www.kidpaw.com/names/kanav&amp;sa=U&amp;ved=2ahUKEwixwq_Rot_7AhXgQUEAHcocBykQFnoECAQQAg&amp;usg=AOvVaw3NdsEhsRsMu6hcs_pJ-EUD\"><div class=\"DnJfK\"><div class=\"j039Wc\"><h3 class=\"zBAuLc l97dzf\"><div class=\"BNeawe vvjwJb AP7Wnd\">&#2325;&#2366;&#2344;&#2357; | Kanav Name Meaning in Hindi, Origin, Lucky Number, Rashi ...</div></h3></div><div class=\"sCuL3\"><div class=\"BNeawe UPmit AP7Wnd lRVwie\">www.kidpaw.com &#8250; names &#8250; kanav</div></div></div></a></div><div class=\"kCrYT\"><div><div class=\"BNeawe s3v9rd AP7Wnd\"><div><div><div class=\"BNeawe s3v9rd AP7Wnd\">Kanav is baby boy name mainly popular in Hindu religion and its main origin is Hindi. Kanav name meanings is Kundal in krishnas ear, Name of a sage. People\\xa0...</div></div></div></div></div></div></div></div><div><div class=\"Gx5Zad fP1Qef xpd EtOod pkphOe\"><div class=\"egMi0 kCrYT\"><a href=\"/url?q=https://www.kanavhealthcare.in/&amp;sa=U&amp;ved=2ahUKEwixwq_Rot_7AhXgQUEAHcocBykQFnoECAAQAg&amp;usg=AOvVaw3DwjGZrTLgVd0cRot0RgNI\"><div class=\"DnJfK\"><div class=\"j039Wc\"><h3 class=\"zBAuLc l97dzf\"><div class=\"BNeawe vvjwJb AP7Wnd\">Welcome to Kanav Healthcare Pvt Ltd</div></h3></div><div class=\"sCuL3\"><div class=\"BNeawe UPmit AP7Wnd lRVwie\">www.kanavhealthcare.in</div></div></div></a></div><div class=\"kCrYT\"><div><div class=\"BNeawe s3v9rd AP7Wnd\"><div><div><div class=\"BNeawe s3v9rd AP7Wnd\">Youleg Stockings/Arm Sleeves \\xb7 Matrisurg External Silicon Breast Insole/Heel/Compression Garments \\xb7 Bao Health Colostomy/Ileostomy/Urostomy/Fistula Drainage.</div></div></div></div></div></div></div></div><div><div class=\"Gx5Zad fP1Qef xpd EtOod pkphOe\"><div class=\"egMi0 kCrYT\"><a href=\"/url?q=https://www.myupchar.com/baby-names/meaning-of-kanav&amp;sa=U&amp;ved=2ahUKEwixwq_Rot_7AhXgQUEAHcocBykQFnoECAoQAg&amp;usg=AOvVaw3YNR9xpBv4296wBjxg5qOc\"><div class=\"DnJfK\"><div class=\"j039Wc\"><h3 class=\"zBAuLc l97dzf\"><div class=\"BNeawe vvjwJb AP7Wnd\">&#2325;&#2366;&#2344;&#2357; &#2325;&#2366; &#2350;&#2340;&#2354;&#2348; &#2324;&#2352; &#2352;&#2366;&#2358;&#2367; - Kanav meaning aur rashi in hindi</div></h3></div><div class=\"sCuL3\"><div class=\"BNeawe UPmit AP7Wnd lRVwie\">www.myupchar.com &#8250; ... &#8250; &#2361;&#2367;&#2344;&#2381;&#2342;&#2370; &#2354;&#2337;&#2364;&#2325;&#2379;&#2306; &#2325;&#2375; &#2344;&#2366;&#2350; &#2324;&#2352; &#2309;&#2352;&#2381;&#2341;</div></div></div></a></div><div class=\"kCrYT\"><div><div class=\"BNeawe s3v9rd AP7Wnd\"><div><div><div class=\"BNeawe s3v9rd AP7Wnd\">&#2325;&#2366;&#2344;&#2357; &#2344;&#2366;&#2350; &#2325;&#2366; &#2350;&#2340;&#2354;&#2348; - Kanav ka arth ... &#2325;&#2366;&#2344;&#2357; &#2344;&#2366;&#2350; &#2325;&#2366; &#2350;&#2340;&#2354;&#2348; &#2349;&#2327;&#2357;&#2366;&#2344; &#2325;&#2371;&#2359;&#2381;&#2339; &#2325;&#2366;&#2344; &#2350;&#2375;&#2306; Kundal, &#2319;&#2325; &#2315;&#2359;&#2367; &#2325;&#2366; &#2344;&#2366;&#2350;, &#2360;&#2350;&#2333;&#2342;&#2366;&#2352;,\\xa0...</div></div></div></div></div></div></div></div><div><div class=\"Gx5Zad fP1Qef xpd EtOod pkphOe\"><div class=\"egMi0 kCrYT\"><a href=\"/url?q=http://www.kanavcapital.com/&amp;sa=U&amp;ved=2ahUKEwixwq_Rot_7AhXgQUEAHcocBykQFnoECAIQAg&amp;usg=AOvVaw1kkdpbqSdl2Aoxw1YsMLYo\"><div class=\"DnJfK\"><div class=\"j039Wc\"><h3 class=\"zBAuLc l97dzf\"><div class=\"BNeawe vvjwJb AP7Wnd\">Kanav Capital: Home</div></h3></div><div class=\"sCuL3\"><div class=\"BNeawe UPmit AP7Wnd lRVwie\">www.kanavcapital.com</div></div></div></a></div><div class=\"kCrYT\"><div><div class=\"BNeawe s3v9rd AP7Wnd\"><div><div><div class=\"BNeawe s3v9rd AP7Wnd\">To get more detail about our services. Welcome to Kanav Capital Compliance is increasingly becoming a very important corporate function that\\xa0...</div></div></div></div></div></div></div></div><div><div class=\"Gx5Zad fP1Qef xpd EtOod pkphOe\"><div class=\"egMi0 kCrYT\"><a href=\"/url?q=https://www.instagram.com/kanav.sahgal/%3Fhl%3Den&amp;sa=U&amp;ved=2ahUKEwixwq_Rot_7AhXgQUEAHcocBykQFnoECAsQAg&amp;usg=AOvVaw3_jZfbM4UNHaKozX-ZfODA\"><div class=\"DnJfK\"><div class=\"j039Wc\"><h3 class=\"zBAuLc l97dzf\"><div class=\"BNeawe vvjwJb AP7Wnd\">Kanav (@kanav.sahgal) &#8226; Instagram photos and videos</div></h3></div><div class=\"sCuL3\"><div class=\"BNeawe UPmit AP7Wnd lRVwie\">www.instagram.com &#8250; kanav.sahgal</div></div></div></a></div><div class=\"kCrYT\"><div><div class=\"BNeawe s3v9rd AP7Wnd\"><div><div><div class=\"BNeawe s3v9rd AP7Wnd\">10.4k Followers, 128 Following, 2964 Posts - See Instagram photos and videos from Kanav (@kanav.sahgal)</div></div></div></div></div></div></div></div><div><div class=\"Gx5Zad xpd EtOod pkphOe\"><div class=\"K8tyEc\"><div class=\"mEUgP\"><span><div class=\"BNeawe\">Related searches</div></span></div></div><div class=\"x54gtf\"></div><div><div class=\"gGQDvd iIWm4b\"><a class=\"Q71vJc\" href=\"/search?ie=UTF-8&amp;q=Kanav+meaning+in+Hindi&amp;sa=X&amp;ved=2ahUKEwixwq_Rot_7AhXgQUEAHcocBykQ1QJ6BAgIEAI\"><accordion-entry-search-icon><span class=\"ieB2Dd\"><img class=\"OEaqif\" alt=\"\" src=\"data:image/gif;base64,R0lGODlhAQABAIAAAP///////yH5BAEKAAEALAAAAAABAAEAAAICTAEAOw==\" style=\"max-width:20px;max-height:20px\" id=\"dimg_3\" data-deferred=\"1\"></span></accordion-entry-search-icon><div class=\"kjGX2\"><span><div class=\"BNeawe s3v9rd AP7Wnd lRVwie\">Kanav meaning in Hindi</div></span></div></a></div></div><div class=\"x54gtf\"></div><div><div class=\"gGQDvd iIWm4b\"><a class=\"Q71vJc\" href=\"/search?ie=UTF-8&amp;q=Kanav+Rishi&amp;sa=X&amp;ved=2ahUKEwixwq_Rot_7AhXgQUEAHcocBykQ1QJ6BAgIEAQ\"><accordion-entry-search-icon><span class=\"ieB2Dd\"><img class=\"OEaqif\" alt=\"\" src=\"data:image/gif;base64,R0lGODlhAQABAIAAAP///////yH5BAEKAAEALAAAAAABAAEAAAICTAEAOw==\" style=\"max-width:20px;max-height:20px\" id=\"dimg_5\" data-deferred=\"1\"></span></accordion-entry-search-icon><div class=\"kjGX2\"><span><div class=\"BNeawe s3v9rd AP7Wnd lRVwie\">Kanav Rishi</div></span></div></a></div></div><div class=\"x54gtf\"></div><div><div class=\"gGQDvd iIWm4b\"><a class=\"Q71vJc\" href=\"/search?ie=UTF-8&amp;q=Kanav+pronunciation&amp;sa=X&amp;ved=2ahUKEwixwq_Rot_7AhXgQUEAHcocBykQ1QJ6BAgIEAY\"><accordion-entry-search-icon><span class=\"ieB2Dd\"><img class=\"OEaqif\" alt=\"\" src=\"data:image/gif;base64,R0lGODlhAQABAIAAAP///////yH5BAEKAAEALAAAAAABAAEAAAICTAEAOw==\" style=\"max-width:20px;max-height:20px\" id=\"dimg_9\" data-deferred=\"1\"></span></accordion-entry-search-icon><div class=\"kjGX2\"><span><div class=\"BNeawe s3v9rd AP7Wnd lRVwie\">Kanav pronunciation</div></span></div></a></div></div><div class=\"x54gtf\"></div><div><div class=\"gGQDvd iIWm4b\"><a class=\"Q71vJc\" href=\"/search?ie=UTF-8&amp;q=Kanav+Kariya&amp;sa=X&amp;ved=2ahUKEwixwq_Rot_7AhXgQUEAHcocBykQ1QJ6BAgIEAg\"><accordion-entry-search-icon><span class=\"ieB2Dd\"><img class=\"OEaqif\" alt=\"\" src=\"data:image/gif;base64,R0lGODlhAQABAIAAAP///////yH5BAEKAAEALAAAAAABAAEAAAICTAEAOw==\" style=\"max-width:20px;max-height:20px\" id=\"dimg_13\" data-deferred=\"1\"></span></accordion-entry-search-icon><div class=\"kjGX2\"><span><div class=\"BNeawe s3v9rd AP7Wnd lRVwie\">Kanav Kariya</div></span></div></a></div></div><div class=\"x54gtf\"></div><div><div class=\"gGQDvd iIWm4b\"><a class=\"Q71vJc\" href=\"/search?ie=UTF-8&amp;q=Kanav+meaning+in+English&amp;sa=X&amp;ved=2ahUKEwixwq_Rot_7AhXgQUEAHcocBykQ1QJ6BAgIEAo\"><accordion-entry-search-icon><span class=\"ieB2Dd\"><img class=\"OEaqif\" alt=\"\" src=\"data:image/gif;base64,R0lGODlhAQABAIAAAP///////yH5BAEKAAEALAAAAAABAAEAAAICTAEAOw==\" style=\"max-width:20px;max-height:20px\" id=\"dimg_15\" data-deferred=\"1\"></span></accordion-entry-search-icon><div class=\"kjGX2\"><span><div class=\"BNeawe s3v9rd AP7Wnd lRVwie\">Kanav meaning in English</div></span></div></a></div></div><div class=\"x54gtf\"></div><div><div class=\"gGQDvd iIWm4b\"><a class=\"Q71vJc\" href=\"/search?ie=UTF-8&amp;q=Kanav+Jump&amp;sa=X&amp;ved=2ahUKEwixwq_Rot_7AhXgQUEAHcocBykQ1QJ6BAgIEAw\"><accordion-entry-search-icon><span class=\"ieB2Dd\"><img class=\"OEaqif\" alt=\"\" src=\"data:image/gif;base64,R0lGODlhAQABAIAAAP///////yH5BAEKAAEALAAAAAABAAEAAAICTAEAOw==\" style=\"max-width:20px;max-height:20px\" id=\"dimg_19\" data-deferred=\"1\"></span></accordion-entry-search-icon><div class=\"kjGX2\"><span><div class=\"BNeawe s3v9rd AP7Wnd lRVwie\">Kanav Jump</div></span></div></a></div></div><div class=\"x54gtf\"></div><div><div class=\"gGQDvd iIWm4b\"><a class=\"Q71vJc\" href=\"/search?ie=UTF-8&amp;q=Kanav+Factory+Outlet&amp;sa=X&amp;ved=2ahUKEwixwq_Rot_7AhXgQUEAHcocBykQ1QJ6BAgIEA4\"><accordion-entry-search-icon><span class=\"ieB2Dd\"><img class=\"OEaqif\" alt=\"\" src=\"data:image/gif;base64,R0lGODlhAQABAIAAAP///////yH5BAEKAAEALAAAAAABAAEAAAICTAEAOw==\" style=\"max-width:20px;max-height:20px\" id=\"dimg_21\" data-deferred=\"1\"></span></accordion-entry-search-icon><div class=\"kjGX2\"><span><div class=\"BNeawe s3v9rd AP7Wnd lRVwie\">Kanav Factory Outlet</div></span></div></a></div></div><div class=\"x54gtf\"></div><div><div class=\"gGQDvd iIWm4b\"><a class=\"Q71vJc\" href=\"/search?ie=UTF-8&amp;q=Kanav+vc&amp;sa=X&amp;ved=2ahUKEwixwq_Rot_7AhXgQUEAHcocBykQ1QJ6BAgIEBA\"><accordion-entry-search-icon><span class=\"ieB2Dd\"><img class=\"OEaqif\" alt=\"\" src=\"data:image/gif;base64,R0lGODlhAQABAIAAAP///////yH5BAEKAAEALAAAAAABAAEAAAICTAEAOw==\" style=\"max-width:20px;max-height:20px\" id=\"dimg_23\" data-deferred=\"1\"></span></accordion-entry-search-icon><div class=\"kjGX2\"><span><div class=\"BNeawe s3v9rd AP7Wnd lRVwie\">Kanav vc</div></span></div></a></div></div></div></div><footer> <div>  <div class=\"Gx5Zad xpd EtOod pkphOe BmP5tf\"><div class=\"nMymef MUxGbd lyLwlc\"><a class=\"nBDE1b G5eFlf\" href=\"/search?q=kanav&amp;ie=UTF-8&amp;ei=bDWMY7HcEuCDhbIPyrmcyAI&amp;start=10&amp;sa=N\" aria-label=\"Next page\">Next &gt;</a></div></div> </div>  <div id=\"EOlPnc\"><div class=\"Srfpq\"><div><span class=\"EYqSq unknown_loc\"></span><span class=\"dfB0uf\">Hyderabad, Telangana</span></div><span>From your IP address</span><span>&nbsp;-&nbsp;</span><a href=\"/url?q=https://support.google.com/websearch%3Fp%3Dws_settings_location%26hl%3Den-IN&amp;sa=U&amp;ved=0ahUKEwixwq_Rot_7AhXgQUEAHcocBykQty4IiQE&amp;usg=AOvVaw345nDnqdChXMLehMr6WzIR\">Learn more</a></div><div><a href=\"/url?q=https://accounts.google.com/ServiceLogin%3Fcontinue%3Dhttps://www.google.com/search%253Fq%253Dkanav%26hl%3Den&amp;sa=U&amp;ved=0ahUKEwixwq_Rot_7AhXgQUEAHcocBykQxs8CCIoB&amp;usg=AOvVaw1Au1kijOmmT3CI2npRQg9M\">Sign in</a></div><div><a class=\"xeDNfc\" href=\"https://www.google.com/preferences?hl=en-IN&amp;fg=1&amp;sa=X&amp;ved=0ahUKEwixwq_Rot_7AhXgQUEAHcocBykQ5fUCCIsB\">Settings</a><a class=\"xeDNfc\" href=\"https://policies.google.com/privacy?hl=en-IN&amp;fg=1\">Privacy</a><a class=\"xeDNfc\" href=\"https://policies.google.com/terms?hl=en-IN&amp;fg=1\">Terms</a></div></div> </footer><script nonce=\"h5t_vQX9FAxqz5JE28XY7g\">(function(){var hl=\\'en-IN\\';(function(){\\nvar f=this||self,g=function(a){return a};var h,k=function(){if(void 0===h){var a=null,b=f.trustedTypes;if(b&&b.createPolicy){try{a=b.createPolicy(\"goog#html\",{createHTML:g,createScript:g,createScriptURL:g})}catch(c){f.console&&f.console.error(c.message)}h=a}else h=a}return h};var p=function(a,b){this.h=a===l&&b||\"\";this.g=m},q=function(a){return a instanceof p&&a.constructor===p&&a.g===m?a.h:\"type_error:Const\"},m={},l={};var t=function(a,b){this.g=b===r?a:\"\"};t.prototype.toString=function(){return this.g+\"\"};var u=function(a){return a instanceof t&&a.constructor===t?a.g:\"type_error:TrustedResourceUrl\"},y=function(){var a={},b=q(new p(l,\"/complete/search\"));if(!v.test(b))throw Error(\"a`\"+b);var c=b.replace(w,function(e,d){if(!Object.prototype.hasOwnProperty.call(a,d))throw Error(\"b`\"+d+\"`\"+b+\"`\"+JSON.stringify(a));e=a[d];return e instanceof p?q(e):encodeURIComponent(String(e))});return x(c)},w=/%{(\\\\w+)}/g,v=RegExp(\"^((https:)?//[0-9a-z.:[\\\\\\\\]-]+/|/[^/\\\\\\\\\\\\\\\\]|[^:/\\\\\\\\\\\\\\\\%]+/|[^:/\\\\\\\\\\\\\\\\%]*[?#]|about:blank#)\",\"i\"),z=/^([^?#]*)(\\\\?[^#]*)?(#[\\\\s\\\\S]*)?/,r={},x=function(a){var b=k();a=b?b.createScriptURL(a):a;return new t(a,r)},A=function(a,b,c){if(null==c)return b;if(\"string\"===typeof c)return c?a+encodeURIComponent(c):\"\";for(var e in c)if(Object.prototype.hasOwnProperty.call(c,e)){var d=c[e];d=Array.isArray(d)?d:[d];for(var n=0;n<d.length;n++){var P=d[n];null!=P&&(b||(b=a),b+=(b.length>a.length?\"&\":\"\")+encodeURIComponent(e)+\"=\"+encodeURIComponent(String(P)))}}return b};var B={},C=function(a,b){this.g=b===B?a:\"\"};C.prototype.toString=function(){return this.g.toString()};var D=function(a){var b=k();a=b?b.createHTML(a):a;return new C(a,B)};\\nfunction E(a,b){if(void 0!==a.tagName){if(\"script\"===a.tagName.toLowerCase())throw Error(\"c\");if(\"style\"===a.tagName.toLowerCase())throw Error(\"d\");}a.innerHTML=b instanceof C&&b.constructor===C?b.g:\"type_error:SafeHtml\"};var F=document.querySelector(\".l\"),G=document.querySelector(\"#sf\"),H=G.querySelector(\".sbc\"),I=G.querySelector(\"[type=text]\"),J=G.querySelector(\"[type=submit]\"),K=G.querySelector(\".sc\"),L=G.querySelector(\".x\"),M=I.value,N=[],O=-1,Q=M,R,S,T;M||(L&&(L.style.display=\"none\"),U(!1));function U(a){if(H.classList.contains(\"esbc\")){var b=H.classList.contains(\"chsbc\"),c=H.classList.contains(\"rtlsbc\");a&&(K.style.display=\"block\",b?(G.style.borderRadius=\"20px 20px 0 0\",K.style.borderBottom=\"1px solid #DFE1E5\",J.style.borderRadius=c?\"20px 0 0 0\":\"0 20px 0 0\"):H.style.borderRadius=c?\"0 8px 0 0\":\"8px 0 0 0\");a||(K.style.display=\"none\",b?(G.style.borderRadius=\"20px\",K.style.borderBottom=\"none\",J.style.borderRadius=c?\"20px 0 0 20px\":\"0 20px 20px 0\"):H.style.borderRadius=c?\"0 8px 8px 0\":\"8px 0 0 8px\")}}function V(){G.querySelector(\"[name=oq]\").value=Q;G.querySelector(\"[name=aqs]\").value=\"heirloom-srp.\"+(0<=O?O:\"\")+\".\"+(0<N.length?\"0l\"+N.length:\"\")}\\nfunction W(){R=null;if(S){var a={client:\"heirloom-srp\",hl:hl,json:\"t\",callback:\"hS\",q:S};\"undefined\"!==typeof ds&&ds&&(a.ds=ds);var b=document;var c=\"SCRIPT\";\"application/xhtml+xml\"===b.contentType&&(c=c.toLowerCase());c=b.createElement(c);b=y();b=z.exec(u(b).toString());var e=b[3]||\"\";a=x(b[1]+A(\"?\",b[2]||\"\",a)+A(\"#\",e));c.src=u(a);var d,n;(d=(a=null==(n=(d=(c.ownerDocument&&c.ownerDocument.defaultView||window).document).querySelector)?void 0:n.call(d,\"script[nonce]\"))?a.nonce||a.getAttribute(\"nonce\")||\\n\"\":\"\")&&c.setAttribute(\"nonce\",d);document.body.appendChild(c);S=null;R=setTimeout(W,500)}}function X(){for(;K.firstChild;)K.removeChild(K.firstChild);N=[];O=-1;U(!1)}function Y(){var a=K.querySelector(\".scs\");a&&(a.className=\"\");0<=O?(a=K.childNodes[O],a.className=\"scs\",M=a.textContent):M=Q;I.value=M}I.addEventListener(\"focus\",function(){F&&(F.style.display=\"none\")},!1);I.addEventListener(\"blur\",function(){X();F&&(F.style.display=\"\")},!1);I.addEventListener(\"keyup\",function(a){M=I.value;T=!1;13===a.which?V():27===a.which?(X(),F&&(F.style.display=\"\"),M=Q,I.value=M):40===a.which?(O++,O>=N.length&&(O=-1),Y()):38===a.which?(O--,-1>O&&(O=N.length-1),Y()):(a=M)?(L&&(L.style.display=\"\"),S=a,R||W(),Q=a):(L&&(L.style.display=\"none\"),U(!1),X(),Q=\"\",T=!0)},!1);J.addEventListener(\"click\",V,!1);L.addEventListener(\"click\",function(){I.value=\"\";L.style.display=\"none\";U(!1)},!1);H.addEventListener(\"click\",function(){I.focus()},!1);window.hS=function(a){if(!T){X();0===a[1].length&&U(!1);for(var b=0;b<a[1].length;b++){var c=a[1][b][0],e=document.createElement(\"div\");E(e,D(c));e.addEventListener(\"mousedown\",function(d){d.preventDefault();return!1},!1);c=c.replace(/<\\\\/?b>/g,\"\");e.addEventListener(\"click\",function(d){return function(){O=d;V();Y();X();G.submit()}}(b),!1);e.addEventListener(\"mouseover\",function(d){return function(){O!==d&&(O=d,Y())}}(b),!1);K.appendChild(e);U(!0);N.push(c)}}};}).call(this);})();(function(){function b(a){for(a=a.target||a.srcElement;a&&\"A\"!==a.nodeName;)a=a.parentElement;a&&(a.href||\"\").match(/\\\\/search.*[?&]tbm=isch/)&&(a.href+=\"&biw=\"+document.documentElement.clientWidth,a.href+=\"&bih=\"+document.documentElement.clientHeight)}document.addEventListener(\"click\",b,!1);document.addEventListener(\"touchStart\",b,!1);}).call(this);</script></div><!-- cctlcm 5 cctlcm --><textarea class=\"csi\" name=\"csi\" style=\"display:none\"></textarea><script nonce=\"h5t_vQX9FAxqz5JE28XY7g\">(function(){var e=\\'bDWMY7HcEuCDhbIPyrmcyAI\\';var sn=\\'web\\';var timl=false;var gecoh=true;var fil=true;(function(){function B(a){var b=gecoh;if(!a||C(a))return 0;if(!a.getBoundingClientRect)return 1;var c=function(d){return d.getBoundingClientRect()};return D(a,c,b)?0:J(a,c)}function D(a,b,c){a:{for(var d=a;d&&null!==d;d=d.parentElement)if(\"hidden\"===d.style.overflow||c&&\"G-EXPANDABLE-CONTENT\"===d.tagName&&\"hidden\"===getComputedStyle(d).getPropertyValue(\"overflow\")){c=d;break a}c=null}if(!c)return!1;a=b(a);b=b(c);return a.bottom<b.top||a.top>=b.bottom||a.right<b.left||a.left>=b.right}\\nfunction C(a){return\"none\"===a.style.display?!0:document.defaultView&&document.defaultView.getComputedStyle?(a=document.defaultView.getComputedStyle(a),!!a&&(\"hidden\"===a.visibility||\"0px\"===a.height&&\"0px\"===a.width)):!1}\\nfunction J(a,b){var c=b(a);a=c.left+window.pageXOffset;b=c.top+window.pageYOffset;var d=c.width;c=c.height;var g=0;if(0>=c&&0>=d)return g;var q=window.innerHeight||document.documentElement.clientHeight;0>b+c?g=2:b>=q&&(g=4);if(0>a+d||a>=(window.innerWidth||document.documentElement.clientWidth))g|=8;g||(g=1,b+c>q&&(g|=4));return g};var K=e,L=sn,M=\"undefined\"===typeof de?!0:!1!==de,N=[],O=\"undefined\"!==typeof fil?fil:!1;function P(a,b,c){a=\"/gen_204?atyp=csi&s=\"+L+\"&t=\"+a+(\"&lite=1&ei=\"+K+\"&conn=\"+(window.navigator&&window.navigator.connection?window.navigator.connection.type:-1)+b);b=\"&rt=\";for(var d in c)a+=\"\"+b+d+\".\"+c[d],b=\",\";return a}function Q(a){a={prt:a};window.wsrt&&(a.wsrt=window.wsrt);return a}function R(a){window.ping?window.ping(a):(new Image).src=a}\\n(function(){for(var a=(new Date).getTime()-window.start,b=Q(a),c=0,d=0,g=0,q=document.getElementsByTagName(\"img\"),r=M?\"&biw=\"+window.innerWidth+\"&bih=\"+window.innerHeight:\"\",E=function(){r+=\"&ima=\"+g;b.aft=c;R(P(\"aft\",r,b))},x=0,S=function(h,t,u){var n=h.src;h.onload=function(){u&&n&&n===h.src||(d=(new Date).getTime()-window.start,t&&++x===g&&(c=d,E()),h.onload=null)}},T=0,f=void 0;f=q[T++];){var v=B(f),p=!!(v&1);p&&++g;var l=f.hasAttribute(\"data-ilite\"),w=f.hasAttribute(\"data-deferred\"),F=f.hasAttribute(\"data-src\")||\\nf.hasAttribute(\"data-lzysrc\"),y=!w&&!l&&F;N.push([v,w||l,y,!!(google.ldi&&f.id&&google.ldi[f.id])||l&&F]);l=(v=f.complete&&!w&&!(p&&y))&&Number(f.getAttribute(\"data-iml\"))||0;v&&l?(p&&++x,l&&(f=l-window.start,p&&(c=Math.max(c,f)),d=Math.max(d,f))):S(f,p,O&&(w||y))}c||(c=a);d||(d=c);x===g&&E();google.rglh&&google.rglh();window.addEventListener(\"load\",function(){window.setTimeout(function(){b.ol=(new Date).getTime()-window.start;timl&&(b.iml=d);var h=window.performance&&window.performance.timing;h&&\\n(b.rqst=h.responseEnd-h.requestStart,b.rspt=h.responseEnd-h.responseStart);for(var t=h=0,u=0,n=0,G=0,H=0,U=0,k;k=N[U++];){var m=k[0],z=k[1],I=k[2];k=k[3];var V=0==m,W=m&8,A=m&1;m=!A&&m&4;A&&(z&&!k||++u,I&&++H);z&&(A&&k&&++h,m&&!k&&++t);V||W?I||++G:z||++n}r+=\"&ime=\"+u+\"&imel=\"+H+(\"&imex=\"+n+\"&imeh=\"+G)+(\"&imea=\"+h+\"&imeb=\"+t);R(P(\"all\",r,b))},0)},!1)})();}).call(this);})();</script><script nonce=\"h5t_vQX9FAxqz5JE28XY7g\">window._setImagesSrc=function(e,f){function g(b){b.onerror=function(){b.style.display=\"none\"};b.setAttribute(\"data-deferred\",\"2\");b.src=f}for(var c=0;c<e.length;++c){var a=e[c],d=document.getElementById(a)||document.querySelector(\\'img[data-iid=\"\\'+a+\\'\"]\\');d?(a=void 0,(null==(a=google.c)?0:a.setup)&&google.c.setup(d),g(d)):(google.iir=google.iir||{},google.iir[a]=f)}};\"undefined\"===typeof window.google&&(window.google={});</script><script nonce=\"h5t_vQX9FAxqz5JE28XY7g\">(function(){var s=\\'data:image/png;base64,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\\\\x3d\\\\x3d\\';var i=[\\'dimg_1\\'];_setImagesSrc(i,s);})();</script><script nonce=\"h5t_vQX9FAxqz5JE28XY7g\">(function(){var s=\\'data:image/png;base64,iVBORw0KGgoAAAANSUhEUgAAADAAAAAwCAYAAABXAvmHAAAAb0lEQVR4Ae3WsQ1AUBSGUSMZAZMYxuttwIYkXg+FhhZyk3OS239/d4tnAABQd3lsUh4ix6/HhRuxB/dnfMgRVcplk5bZCCOMMOJ/Rhjx0oC6W6brgOP9EC9evHjx4n+3x7Yx4+8jbvHhRnwXDwDABsxvfQWs9DFMAAAAAElFTkSuQmCC\\';var i=[\\'dimg_7\\',\\'dimg_11\\',\\'dimg_17\\'];_setImagesSrc(i,s);})();</script><script nonce=\"h5t_vQX9FAxqz5JE28XY7g\">(function(){var s=\\'data:image/jpeg;base64,/9j/4AAQSkZJRgABAQAAAQABAAD/2wCEAAkGBwgHBgkIBwgKCgkLDRYPDQwMDRsUFRAWIB0iIiAdHx8kKDQsJCYxJx8fLT0tMTU3Ojo6Iys/RD84QzQ5OjcBCgoKDQwNGg8PGjclHyU3Nzc3Nzc3Nzc3Nzc3Nzc3Nzc3Nzc3Nzc3Nzc3Nzc3Nzc3Nzc3Nzc3Nzc3Nzc3Nzc3N//AABEIACgAKAMBIgACEQEDEQH/xAAaAAEBAAMBAQAAAAAAAAAAAAAABwQFBgIB/8QALRAAAQMDAgUDAgcAAAAAAAAAAQIDBAAFERIxBgchUXFBkaEiYRMUMjOBksH/xAAZAQADAAMAAAAAAAAAAAAAAAACAwQAAQX/xAAcEQADAAIDAQAAAAAAAAAAAAAAAQIDEQQSIRP/2gAMAwEAAhEDEQA/ALgdqmnOHjiRwxFj260qLc+YkqL2P2kbZH3zVLO1Q7m+tlzjuKt1hbyIsJAUkJz1UpR6fFDVKVsKI7vSJ2jjHiiO6X2r7c9YOolUha0/1P0/FW3lHzAc4sYet900i6Rk6ytIwHUbZx371y6LpZmra0Vw1JbeyAlcfHUb5ztXnldBbi8ypEhvSiO5EV+GnGPqUQQnzgE0rHnVvWh+XjPGtouQ2pTNKeTA7VKebKXrZeYN0hshx2QyWCF40jHUfBPtVW9K4zms5DRwXPD62w+AkxgoZUHdQ047H0z96C52hmKutJk4hS7qxboX5iDHfQCCdG4JJ6qB87jzVB4DtYdWq8Eo0rWsNgDqPTOfeuAt5m3GIy1OfbbZ6HSyNJV5NUzgVcuNZhHmRw0w2ohhWcFaSe3+1JiSdl/Jt/Pw6v06UokgjIOaVccto0t4uSkOKitEggDUrz6D+K0btvj3JtxqW0l5C/1BYJzSlYGjNtVlttv+qJCZbUdlYyR71tVqymvtKFJBU2ZDWU9QevalKVsWf//Z\\';var i=[\\'dimg_25\\'];_setImagesSrc(i,s);})();</script><script nonce=\"h5t_vQX9FAxqz5JE28XY7g\">(function(){var s=\\'data:image/png;base64,iVBORw0KGgoAAAANSUhEUgAAABgAAAAYAgMAAACdGdVrAAAADFBMVEVMaXFChfRChfRChfT0tCPZAAAAA3RSTlMAgFJEkGxNAAAAL0lEQVR4AWPADxgdwBT3BTDF9AUiuhdC6WNK/v///y+UggrClSA07EWVglmEFwAA5eYSExeCwigAAAAASUVORK5CYII\\\\x3d\\';var i=[\\'dimg_27\\'];_setImagesSrc(i,s);})();</script><script nonce=\"h5t_vQX9FAxqz5JE28XY7g\">(function(){var s=\\'data:image/png;base64,iVBORw0KGgoAAAANSUhEUgAAABQAAAAUCAYAAACNiR0NAAABAUlEQVR4AWMYesChoYElLjkzPj4lY3d8csZjIL4MxPNjUzPcSTYsISFLAqj5NBD/h+LPQPwbiT87NCuLh2gDgRr2QzXuT0jNMoBYksARn5zuHJ+UcR0kB6RXE2VYXHJGOlTDZmzyIJcB5e+D1CSkZDgQNBAaZv+jU1JkcKpJygiGeZ0I76a/Byq8jU9NZFqaCNTA48SE33/iDcw8TIyBt0GKQTFN0Msp6f2EIyUpo57YSIlLSrMhIg0WCIBcCfXSdlzJBsheTHQ6jEnOUgEFOLaEDbMIlhZBOYrorAdJk+nroVnvPsSgdGdoOF7HZyhZ2XPoGQoqjbCpIbt0AiejIQMArVLI7k/DXFkAAAAASUVORK5CYII\\\\x3d\\';var i=[\\'dimg_3\\',\\'dimg_5\\',\\'dimg_9\\',\\'dimg_13\\',\\'dimg_15\\',\\'dimg_19\\',\\'dimg_21\\',\\'dimg_23\\'];_setImagesSrc(i,s);})();</script><script nonce=\"h5t_vQX9FAxqz5JE28XY7g\">(function(){var e=\\'bDWMY7HcEuCDhbIPyrmcyAI\\';(function(){var a=e;2===(window.performance&&window.performance.navigation&&window.performance.navigation.type)&&window.ping(\"/gen_204?ct=backbutton&ei=\"+a);}).call(this);})();(function(){var b=[function(){google.tick&&google.tick(\"load\",\"dcl\")}];google.dclc=function(a){b.length?b.push(a):a()};function c(){for(var a=b.shift();a;)a(),a=b.shift()}window.addEventListener?(document.addEventListener(\"DOMContentLoaded\",c,!1),window.addEventListener(\"load\",c,!1)):window.attachEvent&&window.attachEvent(\"onload\",c);}).call(this);window.jsl=window.jsl||{};window.jsl.dh=function(a,b,f){try{var g=document.getElementById(a);if(g)g.innerHTML=b,f&&f();else{var c={id:a,script:String(!!f),milestone:String(google.jslm||0)};google.jsla&&(c.async=google.jsla);var h=a.indexOf(\"_\"),d=0<h?a.substring(0,h):\"\",k=document.createElement(\"div\");k.innerHTML=b;var e=k.children[0];if(e&&(c.tag=e.tagName,c[\"class\"]=String(e.className||null),c.name=String(e.getAttribute(\"jsname\")),d)){a=[];var l=document.querySelectorAll(\\'[id^=\"\\'+d+\\'_\"]\\');for(b=0;b<l.length;++b)a.push(l[b].id);c.ids=a.join(\",\")}google.ml(Error(d?\"Missing ID with prefix \"+d:\"Missing ID\"),!1,c)}}catch(m){google.ml(m,!0,{\"jsl.dh\":!0})}};(function(){var x=false;google.jslm=x?2:1;})();(function(){(function(){google.csct={};google.csct.ps=\\'AOvVaw13kpe40GfiQI65MNhmYJSJ\\\\x26ust\\\\x3d1670219500344621\\';})();})();(function(){(function(){google.csct.rd=true;})();})();(function(){(function(){google.csct.rl=true;})();})();(function(){window.xp=function(b){function f(k,g,h){return\"xp\"+(\"x\"==g?\"c\":\"x\")+h}for(var c=/\\\\bxp(x|c)(\\\\d?)\\\\b/,a=b;a;){var e=a.className,d=e.match(c);if(d){d=\"c\"==d[1];a.className=e.replace(c,f);b&&b.setAttribute(\"aria-expanded\",d);if(d)for(b=a.getElementsByTagName(\"img\"),c=0;c<b.length;++c)if(a=b[c],e=a.getAttribute(\"data-ll\"))a.src=e,a.removeAttribute(\"data-ll\");break}a=a.parentElement}};})();(function(){(function(){window.logVe=function(a){a&&a.attributes[\"data-ved\"]&&window.ping(\"/gen_204?ved=\"+a.attributes[\"data-ved\"].value)};}).call(this);})();(function(){(function(){var id=\\'tsuid_1\\';var lve=true;(function(){\\nvar e=\"undefined\"!=typeof navigator&&!/Opera/.test(navigator.userAgent)&&/WebKit/.test(navigator.userAgent),f={A:1,INPUT:1,TEXTAREA:1,SELECT:1,BUTTON:1},g={Enter:13,\" \":32},h={A:13,BUTTON:0,CHECKBOX:32,COMBOBOX:13,FILE:0,GRIDCELL:13,LINK:13,LISTBOX:13,MENU:0,MENUBAR:0,MENUITEM:0,MENUITEMCHECKBOX:0,MENUITEMRADIO:0,OPTION:0,RADIO:32,RADIOGROUP:32,RESET:0,SUBMIT:0,SWITCH:32,TAB:0,TREE:13,TREEITEM:13},k={CHECKBOX:!0,FILE:!0,OPTION:!0,RADIO:!0},l={COLOR:!0,DATE:!0,DATETIME:!0,\"DATETIME-LOCAL\":!0,EMAIL:!0,MONTH:!0,NUMBER:!0,PASSWORD:!0,RANGE:!0,SEARCH:!0,TEL:!0,TEXT:!0,TEXTAREA:!0,TIME:!0,URL:!0,WEEK:!0};document.getElementById(id).onclick=function(){window.xp(this);lve&&window.logVe(this)};document.getElementById(id).onkeydown=function(d){var c=d.which||d.keyCode;!c&&d.key&&(c=g[d.key]);e&&3==c&&(c=13);if(13!=c&&32!=c)c=!1;else{var a=d.target||d.srcElement;!a.getAttribute&&a.parentNode&&(a=a.parentNode);var b;if(!(b=\"keydown\"!=d.type)){if(b=\"getAttribute\"in a)b=!((a.getAttribute(\"type\")||a.tagName).toUpperCase()in l);b=!(b&&!(\"BUTTON\"==a.tagName.toUpperCase()||a.type&&\"FILE\"==a.type.toUpperCase())&&!a.isContentEditable)}(b=b||d.ctrlKey||d.shiftKey||d.altKey||d.metaKey||(a.getAttribute(\"type\")||\\na.tagName).toUpperCase()in k&&32==c)||((b=a.tagName in f)||(b=a.getAttributeNode(\"tabindex\"),b=null!=b&&b.specified),b=!(b&&!a.disabled));if(b)c=!1;else{b=(a.getAttribute(\"role\")||a.type||a.tagName).toUpperCase();var m=!(b in h)&&13==c;a=\"INPUT\"!=a.tagName.toUpperCase()||!!a.type;c=(0==h[b]%c||m)&&a}}c&&(d.preventDefault(),window.xp(this),lve&&window.logVe(this))};}).call(this);})();})();(function(){window.jsl=window.jsl||{};window.jsl.dh=window.jsl.dh||function(i,c,d){try{var e=document.getElementById(i);if(e){e.innerHTML=c;if(d){d();}}else{if(window.jsl.el){window.jsl.el(new Error(\\'Missing ID.\\'),{\\'id\\':i});}}}catch(e){if(window.jsl.el){window.jsl.el(new Error(\\'jsl.dh\\'));}}};})();(function(){window.jsl.dh(\\'accdef_1\\',\\'\\\\x3cdiv\\\\x3e\\\\x3cdiv style\\\\x3d\\\\x22padding-bottom:12px;padding-top:0px\\\\x22 class\\\\x3d\\\\x22hwc kCrYT\\\\x22\\\\x3e\\\\x3cdiv class\\\\x3d\\\\x22yStFkb\\\\x22\\\\x3e\\\\x3cdiv class\\\\x3d\\\\x22Gx5Zad xpd EtOod pkphOe\\\\x22\\\\x3e\\\\x3cdiv class\\\\x3d\\\\x22kCrYT\\\\x22\\\\x3e\\\\x3cdiv\\\\x3e\\\\x3cdiv class\\\\x3d\\\\x22BNeawe s3v9rd AP7Wnd\\\\x22\\\\x3e\\\\x3cdiv\\\\x3e\\\\x3cdiv class\\\\x3d\\\\x22BNeawe s3v9rd AP7Wnd\\\\x22\\\\x3e\\\\x3cspan class\\\\x3d\\\\x22FCUp0c rQMQod\\\\x22\\\\x3eCompassion and pity\\\\x3c/span\\\\x3e. Also popularly believed to be a name of a Hindu sage.\\\\x3c/div\\\\x3e\\\\x3c/div\\\\x3e\\\\x3c/div\\\\x3e\\\\x3c/div\\\\x3e\\\\x3c/div\\\\x3e\\\\x3cdiv class\\\\x3d\\\\x22x54gtf\\\\x22\\\\x3e\\\\x3c/div\\\\x3e\\\\x3cdiv class\\\\x3d\\\\x22kCrYT\\\\x22\\\\x3e\\\\x3ca href\\\\x3d\\\\x22/url?q\\\\x3dhttps://www.babycenter.in/babyname/1077195/kanav\\\\x26amp;sa\\\\x3dU\\\\x26amp;ved\\\\x3d2ahUKEwixwq_Rot_7AhXgQUEAHcocBykQFnoECAcQBg\\\\x26amp;usg\\\\x3dAOvVaw3vCZvkrVPIbkgusVtUKaMJ\\\\x22\\\\x3e\\\\x3cspan\\\\x3e\\\\x3cdiv class\\\\x3d\\\\x22BNeawe vvjwJb AP7Wnd\\\\x22\\\\x3e\\\\x3cspan class\\\\x3d\\\\x22rQMQod Xb5VRe\\\\x22\\\\x3eKanav: name meaning and origin - BabyCenter India\\\\x3c/span\\\\x3e\\\\x3c/div\\\\x3e\\\\x3c/span\\\\x3e\\\\x3cspan\\\\x3e\\\\x3cdiv class\\\\x3d\\\\x22BNeawe UPmit AP7Wnd\\\\x22\\\\x3ewww.babycenter.in \\\\u203a ... \\\\u203a Naming your baby \\\\u203a Baby name search results\\\\x3c/div\\\\x3e\\\\x3c/span\\\\x3e\\\\x3c/a\\\\x3e\\\\x3c/div\\\\x3e\\\\x3c/div\\\\x3e\\\\x3c/div\\\\x3e\\\\x3cdiv\\\\x3e\\\\x3cdiv class\\\\x3d\\\\x22P1NWSe\\\\x22\\\\x3e\\\\x3cdiv class\\\\x3d\\\\x22wOMIed nkPlDb\\\\x22\\\\x3e\\\\x3cspan class\\\\x3d\\\\x22JhFlyf VQFmSd\\\\x22\\\\x3e\\\\x3ca class\\\\x3d\\\\x22f4J0H\\\\x22 href\\\\x3d\\\\x22https://www.google.com/search?ie\\\\x3dUTF-8\\\\x26amp;ei\\\\x3dbDWMY7HcEuCDhbIPyrmcyAI\\\\x26amp;q\\\\x3dWhat+does+kanav+mean?\\\\x26amp;sa\\\\x3dX\\\\x26amp;ved\\\\x3d2ahUKEwixwq_Rot_7AhXgQUEAHcocBykQzmd6BAgHEAc\\\\x22\\\\x3eMore results\\\\x3c/a\\\\x3e\\\\x3c/span\\\\x3e\\\\x3c/div\\\\x3e\\\\x3c/div\\\\x3e\\\\x3c/div\\\\x3e\\\\x3c/div\\\\x3e\\\\x3c/div\\\\x3e\\');})();(function(){(function(){var id=\\'tsuid_2\\';var lve=true;(function(){\\nvar e=\"undefined\"!=typeof navigator&&!/Opera/.test(navigator.userAgent)&&/WebKit/.test(navigator.userAgent),f={A:1,INPUT:1,TEXTAREA:1,SELECT:1,BUTTON:1},g={Enter:13,\" \":32},h={A:13,BUTTON:0,CHECKBOX:32,COMBOBOX:13,FILE:0,GRIDCELL:13,LINK:13,LISTBOX:13,MENU:0,MENUBAR:0,MENUITEM:0,MENUITEMCHECKBOX:0,MENUITEMRADIO:0,OPTION:0,RADIO:32,RADIOGROUP:32,RESET:0,SUBMIT:0,SWITCH:32,TAB:0,TREE:13,TREEITEM:13},k={CHECKBOX:!0,FILE:!0,OPTION:!0,RADIO:!0},l={COLOR:!0,DATE:!0,DATETIME:!0,\"DATETIME-LOCAL\":!0,EMAIL:!0,MONTH:!0,NUMBER:!0,PASSWORD:!0,RANGE:!0,SEARCH:!0,TEL:!0,TEXT:!0,TEXTAREA:!0,TIME:!0,URL:!0,WEEK:!0};document.getElementById(id).onclick=function(){window.xp(this);lve&&window.logVe(this)};document.getElementById(id).onkeydown=function(d){var c=d.which||d.keyCode;!c&&d.key&&(c=g[d.key]);e&&3==c&&(c=13);if(13!=c&&32!=c)c=!1;else{var a=d.target||d.srcElement;!a.getAttribute&&a.parentNode&&(a=a.parentNode);var b;if(!(b=\"keydown\"!=d.type)){if(b=\"getAttribute\"in a)b=!((a.getAttribute(\"type\")||a.tagName).toUpperCase()in l);b=!(b&&!(\"BUTTON\"==a.tagName.toUpperCase()||a.type&&\"FILE\"==a.type.toUpperCase())&&!a.isContentEditable)}(b=b||d.ctrlKey||d.shiftKey||d.altKey||d.metaKey||(a.getAttribute(\"type\")||\\na.tagName).toUpperCase()in k&&32==c)||((b=a.tagName in f)||(b=a.getAttributeNode(\"tabindex\"),b=null!=b&&b.specified),b=!(b&&!a.disabled));if(b)c=!1;else{b=(a.getAttribute(\"role\")||a.type||a.tagName).toUpperCase();var m=!(b in h)&&13==c;a=\"INPUT\"!=a.tagName.toUpperCase()||!!a.type;c=(0==h[b]%c||m)&&a}}c&&(d.preventDefault(),window.xp(this),lve&&window.logVe(this))};}).call(this);})();})();(function(){window.jsl.dh(\\'accdef_3\\',\\'\\\\x3cdiv\\\\x3e\\\\x3cdiv style\\\\x3d\\\\x22padding-bottom:12px;padding-top:0px\\\\x22 class\\\\x3d\\\\x22hwc kCrYT\\\\x22\\\\x3e\\\\x3cdiv class\\\\x3d\\\\x22yStFkb\\\\x22\\\\x3e\\\\x3cdiv class\\\\x3d\\\\x22Gx5Zad xpd EtOod pkphOe\\\\x22\\\\x3e\\\\x3cdiv class\\\\x3d\\\\x22kCrYT\\\\x22\\\\x3e\\\\x3cdiv\\\\x3e\\\\x3cdiv class\\\\x3d\\\\x22BNeawe s3v9rd AP7Wnd\\\\x22\\\\x3e\\\\x3cdiv\\\\x3e\\\\x3cdiv class\\\\x3d\\\\x22BNeawe s3v9rd AP7Wnd\\\\x22\\\\x3e\\\\x3cspan class\\\\x3d\\\\x22FCUp0c rQMQod\\\\x22\\\\x3eKanav\\\\x3c/span\\\\x3e is baby boy name mainly popular in Hindu religion and its main origin is Hindi. Kanav name meanings is Kundal in krishnas ear, Name of a sage. People search this name as Kanav stylish name. Kanav is written in Hindi as \\\\u0915\\\\u093e\\\\u0928\\\\u0935 .\\\\x3c/div\\\\x3e\\\\x3c/div\\\\x3e\\\\x3c/div\\\\x3e\\\\x3c/div\\\\x3e\\\\x3c/div\\\\x3e\\\\x3cdiv class\\\\x3d\\\\x22x54gtf\\\\x22\\\\x3e\\\\x3c/div\\\\x3e\\\\x3cdiv class\\\\x3d\\\\x22kCrYT\\\\x22\\\\x3e\\\\x3ca href\\\\x3d\\\\x22/url?q\\\\x3dhttps://www.kidpaw.com/names/kanav\\\\x26amp;sa\\\\x3dU\\\\x26amp;ved\\\\x3d2ahUKEwixwq_Rot_7AhXgQUEAHcocBykQFnoECAcQDQ\\\\x26amp;usg\\\\x3dAOvVaw0LyUel3Qmbg4w86WYChoOh\\\\x22\\\\x3e\\\\x3cspan\\\\x3e\\\\x3cdiv class\\\\x3d\\\\x22BNeawe vvjwJb AP7Wnd\\\\x22\\\\x3e\\\\x3cspan class\\\\x3d\\\\x22rQMQod Xb5VRe\\\\x22\\\\x3e\\\\u0915\\\\u093e\\\\u0928\\\\u0935 | Kanav Name Meaning in Hindi, Origin, Lucky Number, Rashi ...\\\\x3c/span\\\\x3e\\\\x3c/div\\\\x3e\\\\x3c/span\\\\x3e\\\\x3cspan\\\\x3e\\\\x3cdiv class\\\\x3d\\\\x22BNeawe UPmit AP7Wnd\\\\x22\\\\x3ewww.kidpaw.com \\\\u203a names \\\\u203a kanav\\\\x3c/div\\\\x3e\\\\x3c/span\\\\x3e\\\\x3c/a\\\\x3e\\\\x3c/div\\\\x3e\\\\x3c/div\\\\x3e\\\\x3c/div\\\\x3e\\\\x3cdiv\\\\x3e\\\\x3cdiv class\\\\x3d\\\\x22P1NWSe\\\\x22\\\\x3e\\\\x3cdiv class\\\\x3d\\\\x22wOMIed nkPlDb\\\\x22\\\\x3e\\\\x3cspan class\\\\x3d\\\\x22JhFlyf VQFmSd\\\\x22\\\\x3e\\\\x3ca class\\\\x3d\\\\x22f4J0H\\\\x22 href\\\\x3d\\\\x22https://www.google.com/search?ie\\\\x3dUTF-8\\\\x26amp;ei\\\\x3dbDWMY7HcEuCDhbIPyrmcyAI\\\\x26amp;q\\\\x3dWhat+is+the+spelling+of+kanav?\\\\x26amp;sa\\\\x3dX\\\\x26amp;ved\\\\x3d2ahUKEwixwq_Rot_7AhXgQUEAHcocBykQzmd6BAgHEA4\\\\x22\\\\x3eMore results\\\\x3c/a\\\\x3e\\\\x3c/span\\\\x3e\\\\x3c/div\\\\x3e\\\\x3c/div\\\\x3e\\\\x3c/div\\\\x3e\\\\x3c/div\\\\x3e\\\\x3c/div\\\\x3e\\');})();(function(){(function(){var id=\\'tsuid_3\\';var lve=true;(function(){\\nvar e=\"undefined\"!=typeof navigator&&!/Opera/.test(navigator.userAgent)&&/WebKit/.test(navigator.userAgent),f={A:1,INPUT:1,TEXTAREA:1,SELECT:1,BUTTON:1},g={Enter:13,\" \":32},h={A:13,BUTTON:0,CHECKBOX:32,COMBOBOX:13,FILE:0,GRIDCELL:13,LINK:13,LISTBOX:13,MENU:0,MENUBAR:0,MENUITEM:0,MENUITEMCHECKBOX:0,MENUITEMRADIO:0,OPTION:0,RADIO:32,RADIOGROUP:32,RESET:0,SUBMIT:0,SWITCH:32,TAB:0,TREE:13,TREEITEM:13},k={CHECKBOX:!0,FILE:!0,OPTION:!0,RADIO:!0},l={COLOR:!0,DATE:!0,DATETIME:!0,\"DATETIME-LOCAL\":!0,EMAIL:!0,MONTH:!0,NUMBER:!0,PASSWORD:!0,RANGE:!0,SEARCH:!0,TEL:!0,TEXT:!0,TEXTAREA:!0,TIME:!0,URL:!0,WEEK:!0};document.getElementById(id).onclick=function(){window.xp(this);lve&&window.logVe(this)};document.getElementById(id).onkeydown=function(d){var c=d.which||d.keyCode;!c&&d.key&&(c=g[d.key]);e&&3==c&&(c=13);if(13!=c&&32!=c)c=!1;else{var a=d.target||d.srcElement;!a.getAttribute&&a.parentNode&&(a=a.parentNode);var b;if(!(b=\"keydown\"!=d.type)){if(b=\"getAttribute\"in a)b=!((a.getAttribute(\"type\")||a.tagName).toUpperCase()in l);b=!(b&&!(\"BUTTON\"==a.tagName.toUpperCase()||a.type&&\"FILE\"==a.type.toUpperCase())&&!a.isContentEditable)}(b=b||d.ctrlKey||d.shiftKey||d.altKey||d.metaKey||(a.getAttribute(\"type\")||\\na.tagName).toUpperCase()in k&&32==c)||((b=a.tagName in f)||(b=a.getAttributeNode(\"tabindex\"),b=null!=b&&b.specified),b=!(b&&!a.disabled));if(b)c=!1;else{b=(a.getAttribute(\"role\")||a.type||a.tagName).toUpperCase();var m=!(b in h)&&13==c;a=\"INPUT\"!=a.tagName.toUpperCase()||!!a.type;c=(0==h[b]%c||m)&&a}}c&&(d.preventDefault(),window.xp(this),lve&&window.logVe(this))};}).call(this);})();})();(function(){window.jsl.dh(\\'accdef_5\\',\\'\\\\x3cdiv\\\\x3e\\\\x3cdiv style\\\\x3d\\\\x22padding-bottom:12px;padding-top:0px\\\\x22 class\\\\x3d\\\\x22hwc kCrYT\\\\x22\\\\x3e\\\\x3cdiv class\\\\x3d\\\\x22yStFkb\\\\x22\\\\x3e\\\\x3cdiv class\\\\x3d\\\\x22Gx5Zad xpd EtOod pkphOe\\\\x22\\\\x3e\\\\x3cdiv class\\\\x3d\\\\x22kCrYT\\\\x22\\\\x3e\\\\x3cdiv\\\\x3e\\\\x3cdiv class\\\\x3d\\\\x22BNeawe s3v9rd AP7Wnd\\\\x22\\\\x3e\\\\x3cdiv\\\\x3e\\\\x3cdiv class\\\\x3d\\\\x22BNeawe s3v9rd AP7Wnd\\\\x22\\\\x3eKiaan Origin and Meaning\\\\n\\\\n The name Kiaan is boy\\\\x27s name meaning \\\\x22\\\\x3cspan class\\\\x3d\\\\x22FCUp0c rQMQod\\\\x22\\\\x3egrace of God\\\\x3c/span\\\\x3e\\\\x22. One of the many South Asian names skyrocketing up the U.S. popularity charts.\\\\x3c/div\\\\x3e\\\\x3c/div\\\\x3e\\\\x3c/div\\\\x3e\\\\x3c/div\\\\x3e\\\\x3c/div\\\\x3e\\\\x3cdiv class\\\\x3d\\\\x22x54gtf\\\\x22\\\\x3e\\\\x3c/div\\\\x3e\\\\x3cdiv class\\\\x3d\\\\x22kCrYT\\\\x22\\\\x3e\\\\x3ca href\\\\x3d\\\\x22/url?q\\\\x3dhttps://nameberry.com/babyname/kiaan\\\\x26amp;sa\\\\x3dU\\\\x26amp;ved\\\\x3d2ahUKEwixwq_Rot_7AhXgQUEAHcocBykQFnoECAcQFA\\\\x26amp;usg\\\\x3dAOvVaw0GpO2_eEJcpxMcqTXruDdT\\\\x22\\\\x3e\\\\x3cspan\\\\x3e\\\\x3cdiv class\\\\x3d\\\\x22BNeawe vvjwJb AP7Wnd\\\\x22\\\\x3e\\\\x3cspan class\\\\x3d\\\\x22rQMQod Xb5VRe\\\\x22\\\\x3eKiaan - Baby Name Meaning, Origin, and Popularity | Nameberry\\\\x3c/span\\\\x3e\\\\x3c/div\\\\x3e\\\\x3c/span\\\\x3e\\\\x3cspan\\\\x3e\\\\x3cdiv class\\\\x3d\\\\x22BNeawe UPmit AP7Wnd\\\\x22\\\\x3enameberry.com \\\\u203a babyname \\\\u203a kiaan\\\\x3c/div\\\\x3e\\\\x3c/span\\\\x3e\\\\x3c/a\\\\x3e\\\\x3c/div\\\\x3e\\\\x3c/div\\\\x3e\\\\x3c/div\\\\x3e\\\\x3cdiv\\\\x3e\\\\x3cdiv class\\\\x3d\\\\x22P1NWSe\\\\x22\\\\x3e\\\\x3cdiv class\\\\x3d\\\\x22wOMIed nkPlDb\\\\x22\\\\x3e\\\\x3cspan class\\\\x3d\\\\x22JhFlyf VQFmSd\\\\x22\\\\x3e\\\\x3ca class\\\\x3d\\\\x22f4J0H\\\\x22 href\\\\x3d\\\\x22https://www.google.com/search?ie\\\\x3dUTF-8\\\\x26amp;ei\\\\x3dbDWMY7HcEuCDhbIPyrmcyAI\\\\x26amp;q\\\\x3dWhat+does+kiaan+mean?\\\\x26amp;sa\\\\x3dX\\\\x26amp;ved\\\\x3d2ahUKEwixwq_Rot_7AhXgQUEAHcocBykQzmd6BAgHEBU\\\\x22\\\\x3eMore results\\\\x3c/a\\\\x3e\\\\x3c/span\\\\x3e\\\\x3c/div\\\\x3e\\\\x3c/div\\\\x3e\\\\x3c/div\\\\x3e\\\\x3c/div\\\\x3e\\\\x3c/div\\\\x3e\\');})();(function(){(function(){var id=\\'tsuid_4\\';var lve=true;(function(){\\nvar e=\"undefined\"!=typeof navigator&&!/Opera/.test(navigator.userAgent)&&/WebKit/.test(navigator.userAgent),f={A:1,INPUT:1,TEXTAREA:1,SELECT:1,BUTTON:1},g={Enter:13,\" \":32},h={A:13,BUTTON:0,CHECKBOX:32,COMBOBOX:13,FILE:0,GRIDCELL:13,LINK:13,LISTBOX:13,MENU:0,MENUBAR:0,MENUITEM:0,MENUITEMCHECKBOX:0,MENUITEMRADIO:0,OPTION:0,RADIO:32,RADIOGROUP:32,RESET:0,SUBMIT:0,SWITCH:32,TAB:0,TREE:13,TREEITEM:13},k={CHECKBOX:!0,FILE:!0,OPTION:!0,RADIO:!0},l={COLOR:!0,DATE:!0,DATETIME:!0,\"DATETIME-LOCAL\":!0,EMAIL:!0,MONTH:!0,NUMBER:!0,PASSWORD:!0,RANGE:!0,SEARCH:!0,TEL:!0,TEXT:!0,TEXTAREA:!0,TIME:!0,URL:!0,WEEK:!0};document.getElementById(id).onclick=function(){window.xp(this);lve&&window.logVe(this)};document.getElementById(id).onkeydown=function(d){var c=d.which||d.keyCode;!c&&d.key&&(c=g[d.key]);e&&3==c&&(c=13);if(13!=c&&32!=c)c=!1;else{var a=d.target||d.srcElement;!a.getAttribute&&a.parentNode&&(a=a.parentNode);var b;if(!(b=\"keydown\"!=d.type)){if(b=\"getAttribute\"in a)b=!((a.getAttribute(\"type\")||a.tagName).toUpperCase()in l);b=!(b&&!(\"BUTTON\"==a.tagName.toUpperCase()||a.type&&\"FILE\"==a.type.toUpperCase())&&!a.isContentEditable)}(b=b||d.ctrlKey||d.shiftKey||d.altKey||d.metaKey||(a.getAttribute(\"type\")||\\na.tagName).toUpperCase()in k&&32==c)||((b=a.tagName in f)||(b=a.getAttributeNode(\"tabindex\"),b=null!=b&&b.specified),b=!(b&&!a.disabled));if(b)c=!1;else{b=(a.getAttribute(\"role\")||a.type||a.tagName).toUpperCase();var m=!(b in h)&&13==c;a=\"INPUT\"!=a.tagName.toUpperCase()||!!a.type;c=(0==h[b]%c||m)&&a}}c&&(d.preventDefault(),window.xp(this),lve&&window.logVe(this))};}).call(this);})();})();(function(){window.jsl.dh(\\'accdef_7\\',\\'\\\\x3cdiv\\\\x3e\\\\x3cdiv style\\\\x3d\\\\x22padding-bottom:12px;padding-top:0px\\\\x22 class\\\\x3d\\\\x22hwc kCrYT\\\\x22\\\\x3e\\\\x3cdiv class\\\\x3d\\\\x22yStFkb\\\\x22\\\\x3e\\\\x3cdiv class\\\\x3d\\\\x22Gx5Zad xpd EtOod pkphOe\\\\x22\\\\x3e\\\\x3cdiv class\\\\x3d\\\\x22kCrYT\\\\x22\\\\x3e\\\\x3cdiv\\\\x3e\\\\x3cdiv class\\\\x3d\\\\x22BNeawe s3v9rd AP7Wnd\\\\x22\\\\x3e\\\\x3cdiv\\\\x3e\\\\x3cdiv class\\\\x3d\\\\x22BNeawe s3v9rd AP7Wnd\\\\x22\\\\x3e\\\\x3cspan class\\\\x3d\\\\x22FCUp0c rQMQod\\\\x22\\\\x3ePowerful; great; respected\\\\x3c/span\\\\x3e.\\\\x3c/div\\\\x3e\\\\x3c/div\\\\x3e\\\\x3c/div\\\\x3e\\\\x3c/div\\\\x3e\\\\x3c/div\\\\x3e\\\\x3cdiv class\\\\x3d\\\\x22x54gtf\\\\x22\\\\x3e\\\\x3c/div\\\\x3e\\\\x3cdiv class\\\\x3d\\\\x22kCrYT\\\\x22\\\\x3e\\\\x3ca href\\\\x3d\\\\x22/url?q\\\\x3dhttps://www.babycenter.in/babyname/1081347/kabir\\\\x26amp;sa\\\\x3dU\\\\x26amp;ved\\\\x3d2ahUKEwixwq_Rot_7AhXgQUEAHcocBykQFnoECAcQGw\\\\x26amp;usg\\\\x3dAOvVaw3mLn0WLpRNpbUKWeOSKy50\\\\x22\\\\x3e\\\\x3cspan\\\\x3e\\\\x3cdiv class\\\\x3d\\\\x22BNeawe vvjwJb AP7Wnd\\\\x22\\\\x3e\\\\x3cspan class\\\\x3d\\\\x22rQMQod Xb5VRe\\\\x22\\\\x3eKabir: name meaning and origin - BabyCenter India\\\\x3c/span\\\\x3e\\\\x3c/div\\\\x3e\\\\x3c/span\\\\x3e\\\\x3cspan\\\\x3e\\\\x3cdiv class\\\\x3d\\\\x22BNeawe UPmit AP7Wnd\\\\x22\\\\x3ewww.babycenter.in \\\\u203a babyname \\\\u203a kabir\\\\x3c/div\\\\x3e\\\\x3c/span\\\\x3e\\\\x3c/a\\\\x3e\\\\x3c/div\\\\x3e\\\\x3c/div\\\\x3e\\\\x3c/div\\\\x3e\\\\x3cdiv\\\\x3e\\\\x3cdiv class\\\\x3d\\\\x22P1NWSe\\\\x22\\\\x3e\\\\x3cdiv class\\\\x3d\\\\x22wOMIed nkPlDb\\\\x22\\\\x3e\\\\x3cspan class\\\\x3d\\\\x22JhFlyf VQFmSd\\\\x22\\\\x3e\\\\x3ca class\\\\x3d\\\\x22f4J0H\\\\x22 href\\\\x3d\\\\x22https://www.google.com/search?ie\\\\x3dUTF-8\\\\x26amp;ei\\\\x3dbDWMY7HcEuCDhbIPyrmcyAI\\\\x26amp;q\\\\x3dWhat+is+the+meaning+of+Kabir?\\\\x26amp;sa\\\\x3dX\\\\x26amp;ved\\\\x3d2ahUKEwixwq_Rot_7AhXgQUEAHcocBykQzmd6BAgHEBw\\\\x22\\\\x3eMore results\\\\x3c/a\\\\x3e\\\\x3c/span\\\\x3e\\\\x3c/div\\\\x3e\\\\x3c/div\\\\x3e\\\\x3c/div\\\\x3e\\\\x3c/div\\\\x3e\\\\x3c/div\\\\x3e\\');})();google.drty&&google.drty(undefined,true);</script></body></html>'"
      ]
     },
     "execution_count": 19,
     "metadata": {},
     "output_type": "execute_result"
    }
   ],
   "source": [
    "# Binary Response Content\n",
    "# This is useful if the response body contains non-text data\n",
    "response.content"
   ]
  },
  {
   "cell_type": "code",
   "execution_count": 20,
   "metadata": {},
   "outputs": [],
   "source": [
    "## JSON Response Content\n",
    "# response.json()\n",
    "## Generates Error"
   ]
  },
  {
   "cell_type": "markdown",
   "metadata": {},
   "source": [
    "## Status Code"
   ]
  },
  {
   "cell_type": "markdown",
   "metadata": {
    "ExecuteTime": {
     "end_time": "2018-09-04T03:33:22.480635Z",
     "start_time": "2018-09-04T03:33:22.476175Z"
    }
   },
   "source": [
    "Here are some codes that are relevant to GET requests:\n",
    "> **200** - everything went okay, and the result has been returned (if any).  \n",
    "> **301** - the server is redirecting you to a different endpoint. This can happen when a company switches domain names, or an endpoint name is changed.  \n",
    "> **401** - the server thinks you're not authenticated. This happens when you don't send the right credentials to access an API (we'll talk about authentication in a later post).  \n",
    "> **400** - the server thinks you made a bad request. This can happen when you don't send along the right data, among other things.  \n",
    "> **403** - the resource you're trying to access is forbidden -- you don't have the right permissions to see it.  \n",
    "> **404** - the resource you tried to access wasn't found on the server.  \n",
    "\n",
    "\n",
    "**Remember**\n",
    "> **2xx** - Success  \n",
    "> **3xx** - Redirection  \n",
    "> **4xx** - Client Error  \n",
    "> **5xx** - Server Error"
   ]
  },
  {
   "cell_type": "code",
   "execution_count": 21,
   "metadata": {},
   "outputs": [
    {
     "name": "stdout",
     "output_type": "stream",
     "text": [
      "404\n"
     ]
    },
    {
     "data": {
      "text/plain": [
       "b''"
      ]
     },
     "execution_count": 21,
     "metadata": {},
     "output_type": "execute_result"
    }
   ],
   "source": [
    "# Try the endpoint that doesnot exist\n",
    "\n",
    "response = requests.get(\"http://api.open-notify.org/astro\")\n",
    "print(response.status_code)\n",
    "response.content\n",
    "\n",
    "# response.json() # Generates error"
   ]
  },
  {
   "cell_type": "code",
   "execution_count": 22,
   "metadata": {},
   "outputs": [
    {
     "name": "stdout",
     "output_type": "stream",
     "text": [
      "200\n"
     ]
    },
    {
     "data": {
      "text/plain": [
       "{'people': [{'craft': 'Tiangong', 'name': 'Cai Xuzhe'},\n",
       "  {'craft': 'Tiangong', 'name': 'Chen Dong'},\n",
       "  {'craft': 'Tiangong', 'name': 'Liu Yang'},\n",
       "  {'craft': 'ISS', 'name': 'Sergey Prokopyev'},\n",
       "  {'craft': 'ISS', 'name': 'Dmitry Petelin'},\n",
       "  {'craft': 'ISS', 'name': 'Frank Rubio'},\n",
       "  {'craft': 'ISS', 'name': 'Nicole Mann'},\n",
       "  {'craft': 'ISS', 'name': 'Josh Cassada'},\n",
       "  {'craft': 'ISS', 'name': 'Koichi Wakata'},\n",
       "  {'craft': 'ISS', 'name': 'Anna Kikina'},\n",
       "  {'craft': 'Shenzhou 15', 'name': 'Fei Junlong'},\n",
       "  {'craft': 'Shenzhou 15', 'name': 'Deng Qingming'},\n",
       "  {'craft': 'Shenzhou 15', 'name': 'Zhang Lu'}],\n",
       " 'number': 13,\n",
       " 'message': 'success'}"
      ]
     },
     "execution_count": 22,
     "metadata": {},
     "output_type": "execute_result"
    }
   ],
   "source": [
    "# Lets now add .json and try again\n",
    "\n",
    "response = requests.get(\"http://api.open-notify.org/astros.json\")\n",
    "print(response.status_code)\n",
    "response.json()"
   ]
  },
  {
   "cell_type": "markdown",
   "metadata": {},
   "source": [
    "## Query Parameters"
   ]
  },
  {
   "cell_type": "markdown",
   "metadata": {},
   "source": [
    "**Warning - iss-pass.json endpoint is removed from OpenNotify's API.**"
   ]
  },
  {
   "cell_type": "code",
   "execution_count": 7,
   "metadata": {
    "ExecuteTime": {
     "end_time": "2018-09-04T03:33:30.791852Z",
     "start_time": "2018-09-04T03:33:29.704155Z"
    },
    "scrolled": true
   },
   "outputs": [
    {
     "name": "stdout",
     "output_type": "stream",
     "text": [
      "404\n"
     ]
    }
   ],
   "source": [
    "# Set up the parameters we want to pass to the API.\n",
    "# This is the latitude and longitude of New York City.\n",
    "parameters = {\"lat\": 40.71, \"lon\": -74}\n",
    "\n",
    "# Make a get request with the parameters.\n",
    "response = requests.get(\"http://api.open-notify.org/iss-pass.json\", params=parameters)\n",
    "\n",
    "# Print the status code of the response.\n",
    "print(response.status_code)"
   ]
  },
  {
   "cell_type": "code",
   "execution_count": 19,
   "metadata": {},
   "outputs": [
    {
     "name": "stdout",
     "output_type": "stream",
     "text": [
      "b'{\\n  \"message\": \"success\", \\n  \"request\": {\\n    \"altitude\": 100, \\n    \"datetime\": 1634416081, \\n    \"latitude\": 40.71, \\n    \"longitude\": -74.0, \\n    \"passes\": 5\\n  }, \\n  \"response\": [\\n    {\\n      \"duration\": 482, \\n      \"risetime\": 1634417305\\n    }, \\n    {\\n      \"duration\": 322, \\n      \"risetime\": 1634466030\\n    }, \\n    {\\n      \"duration\": 640, \\n      \"risetime\": 1634471633\\n    }, \\n    {\\n      \"duration\": 630, \\n      \"risetime\": 1634477452\\n    }, \\n    {\\n      \"duration\": 563, \\n      \"risetime\": 1634483345\\n    }\\n  ]\\n}\\n'\n"
     ]
    }
   ],
   "source": [
    "# Print the content of the response (the data the server returned)\n",
    "print(response.content)"
   ]
  },
  {
   "cell_type": "code",
   "execution_count": 23,
   "metadata": {},
   "outputs": [
    {
     "data": {
      "text/plain": [
       "{'message': 'success',\n",
       " 'request': {'altitude': 100,\n",
       "  'datetime': 1634416081,\n",
       "  'latitude': 40.71,\n",
       "  'longitude': -74.0,\n",
       "  'passes': 5},\n",
       " 'response': [{'duration': 482, 'risetime': 1634417305},\n",
       "  {'duration': 322, 'risetime': 1634466030},\n",
       "  {'duration': 640, 'risetime': 1634471633},\n",
       "  {'duration': 630, 'risetime': 1634477452},\n",
       "  {'duration': 563, 'risetime': 1634483345}]}"
      ]
     },
     "execution_count": 23,
     "metadata": {},
     "output_type": "execute_result"
    }
   ],
   "source": [
    "# Print the content in JSON format\n",
    "response.json()"
   ]
  },
  {
   "cell_type": "code",
   "execution_count": 57,
   "metadata": {
    "ExecuteTime": {
     "end_time": "2018-09-04T03:33:32.634098Z",
     "start_time": "2018-09-04T03:33:32.014684Z"
    }
   },
   "outputs": [
    {
     "name": "stdout",
     "output_type": "stream",
     "text": [
      "b'{\\n  \"message\": \"success\", \\n  \"request\": {\\n    \"altitude\": 100, \\n    \"datetime\": 1634416081, \\n    \"latitude\": 40.71, \\n    \"longitude\": -74.0, \\n    \"passes\": 5\\n  }, \\n  \"response\": [\\n    {\\n      \"duration\": 482, \\n      \"risetime\": 1634417305\\n    }, \\n    {\\n      \"duration\": 322, \\n      \"risetime\": 1634466030\\n    }, \\n    {\\n      \"duration\": 640, \\n      \"risetime\": 1634471633\\n    }, \\n    {\\n      \"duration\": 630, \\n      \"risetime\": 1634477452\\n    }, \\n    {\\n      \"duration\": 563, \\n      \"risetime\": 1634483345\\n    }\\n  ]\\n}\\n'\n"
     ]
    }
   ],
   "source": [
    "# This gets the same data as the command above\n",
    "response = requests.get(\"http://api.open-notify.org/iss-pass.json?lat=40.71&lon=-74\")\n",
    "print(response.content)"
   ]
  },
  {
   "cell_type": "code",
   "execution_count": 58,
   "metadata": {},
   "outputs": [
    {
     "data": {
      "text/plain": [
       "{'message': 'success',\n",
       " 'request': {'altitude': 100,\n",
       "  'datetime': 1634416081,\n",
       "  'latitude': 40.71,\n",
       "  'longitude': -74.0,\n",
       "  'passes': 5},\n",
       " 'response': [{'duration': 482, 'risetime': 1634417305},\n",
       "  {'duration': 322, 'risetime': 1634466030},\n",
       "  {'duration': 640, 'risetime': 1634471633},\n",
       "  {'duration': 630, 'risetime': 1634477452},\n",
       "  {'duration': 563, 'risetime': 1634483345}]}"
      ]
     },
     "execution_count": 58,
     "metadata": {},
     "output_type": "execute_result"
    }
   ],
   "source": [
    "response.json()"
   ]
  },
  {
   "cell_type": "markdown",
   "metadata": {},
   "source": [
    "## Query Parameters (Another example)"
   ]
  },
  {
   "cell_type": "code",
   "execution_count": 23,
   "metadata": {
    "scrolled": true
   },
   "outputs": [
    {
     "name": "stdout",
     "output_type": "stream",
     "text": [
      "200\n",
      "<!doctype html><html itemscope=\"\" itemtype=\"http://schema.org/WebPage\" lang=\"en-IN\"><head><meta content=\"text/html; charset=UTF-8\" http-equiv=\"Content-Type\"><meta content=\"/images/branding/googleg/1x/googleg_standard_color_128dp.png\" itemprop=\"image\"><title>Google</title><script nonce=\"5arG2CcrvikpGk6e6cYYpg\">(function(){window.google={kEI:'hTWMY-CVFfTdkPIPx9uOoAQ',kEXPI:'0,202525,1156884,6058,207,4804,2316,383,246,5,5367,1123753,1197783,618,380090,16114,28684,22431,1361,12314,17585,4998,13228,3847,10622,22742,5080,887,706,1279,2742,149,1103,840,2197,4100,3514,606,2023,2297,14670,3227,2845,7,5599,23476,4142,553,1851,6514,9242,3,346,230,1014,1,5444,149,11323,2652,4,1528,2304,7039,22023,5708,4163,3194,13658,4437,16786,5809,2548,4094,17,4035,3,3541,1,42154,2,14022,2715,23024,5679,1021,2380,28741,4568,6256,23421,1252,5835,14967,4333,8,5008,2468,445,2,2,1,10957,15675,8155,7381,2,1399,14568,873,7829,11806,6,1354,568,4079,1705,3995,21779,9543,4832,15759,10744,20137,14,82,3890,482,269,2070,3283,3339,6071,120,3,679,1622,782,997,1854,1997,1119,6,3787,5122,79,248,454,2789,649,1763,1742,813,1542,1095,1223,84,1417,2,566,401,587,2094,226,215,221,701,1033,42,291,4086,231,470,33,1093,622,3,216,2414,135,963,341,246,583,32,315,1,2136,14,979,57,541,4,6,38,268,306,922,52,236,283,26,660,704,483,42,29,3,499,40,1150,23,873,372,80,124,646,575,1085,63,294,702,148,52,498,304,433,284,109,2,19,107,97,43,9,600,5,48,124,6,62,135,449,144,35,1100,364,3,351,21,18,11,595,406,1,513,56,11,1627,958,407,290,7,2,298,613,178,87,238,234,453,232,1593,2,726,177,618,4,5283967,3971,103,81,66,21,61,5994523,2804424,3311,141,795,19735,1,1,346,1755,1004,41,342,1,61,128,14,1,23947138,511,19,13,4041599,1964,3094,13579,3405,5595,11,1535065',kBL:'p9Xv'};google.sn='webhp';google.kHL='en-IN';})();(function(){\n",
      "var f=this||self;var h,k=[];function l(a){for(var b;a&&(!a.getAttribute||!(b=a.getAttribute(\"eid\")));)a=a.parentNode;return b||h}function m(a){for(var b=null;a&&(!a.getAttribute||!(b=a.getAttribute(\"leid\")));)a=a.parentNode;return b}\n",
      "function n(a,b,c,d,g){var e=\"\";c||-1!==b.search(\"&ei=\")||(e=\"&ei=\"+l(d),-1===b.search(\"&lei=\")&&(d=m(d))&&(e+=\"&lei=\"+d));d=\"\";!c&&f._cshid&&-1===b.search(\"&cshid=\")&&\"slh\"!==a&&(d=\"&cshid=\"+f._cshid);c=c||\"/\"+(g||\"gen_204\")+\"?atyp=i&ct=\"+a+\"&cad=\"+b+e+\"&zx=\"+Date.now()+d;/^http:/i.test(c)&&\"https:\"===window.location.protocol&&(google.ml&&google.ml(Error(\"a\"),!1,{src:c,glmm:1}),c=\"\");return c};h=google.kEI;google.getEI=l;google.getLEI=m;google.ml=function(){return null};google.log=function(a,b,c,d,g){if(c=n(a,b,c,d,g)){a=new Image;var e=k.length;k[e]=a;a.onerror=a.onload=a.onabort=function(){delete k[e]};a.src=c}};google.logUrl=n;}).call(this);(function(){google.y={};google.sy=[];google.x=function(a,b){if(a)var c=a.id;else{do c=Math.random();while(google.y[c])}google.y[c]=[a,b];return!1};google.sx=function(a){google.sy.push(a)};google.lm=[];google.plm=function(a){google.lm.push.apply(google.lm,a)};google.lq=[];google.load=function(a,b,c){google.lq.push([[a],b,c])};google.loadAll=function(a,b){google.lq.push([a,b])};google.bx=!1;google.lx=function(){};}).call(this);google.f={};(function(){\n",
      "document.documentElement.addEventListener(\"submit\",function(b){var a;if(a=b.target){var c=a.getAttribute(\"data-submitfalse\");a=\"1\"===c||\"q\"===c&&!a.elements.q.value?!0:!1}else a=!1;a&&(b.preventDefault(),b.stopPropagation())},!0);document.documentElement.addEventListener(\"click\",function(b){var a;a:{for(a=b.target;a&&a!==document.documentElement;a=a.parentElement)if(\"A\"===a.tagName){a=\"1\"===a.getAttribute(\"data-nohref\");break a}a=!1}a&&b.preventDefault()},!0);}).call(this);</script><style>#gbar,#guser{font-size:13px;padding-top:1px !important;}#gbar{height:22px}#guser{padding-bottom:7px !important;text-align:right}.gbh,.gbd{border-top:1px solid #c9d7f1;font-size:1px}.gbh{height:0;position:absolute;top:24px;width:100%}@media all{.gb1{height:22px;margin-right:.5em;vertical-align:top}#gbar{float:left}}a.gb1,a.gb4{text-decoration:underline !important}a.gb1,a.gb4{color:#00c !important}.gbi .gb4{color:#dd8e27 !important}.gbf .gb4{color:#900 !important}\n",
      "</style><style>body,td,a,p,.h{font-family:arial,sans-serif}body{margin:0;overflow-y:scroll}#gog{padding:3px 8px 0}td{line-height:.8em}.gac_m td{line-height:17px}form{margin-bottom:20px}.h{color:#1558d6}em{font-weight:bold;font-style:normal}.lst{height:25px;width:496px}.gsfi,.lst{font:18px arial,sans-serif}.gsfs{font:17px arial,sans-serif}.ds{display:inline-box;display:inline-block;margin:3px 0 4px;margin-left:4px}input{font-family:inherit}body{background:#fff;color:#000}a{color:#4b11a8;text-decoration:none}a:hover,a:active{text-decoration:underline}.fl a{color:#1558d6}a:visited{color:#4b11a8}.sblc{padding-top:5px}.sblc a{display:block;margin:2px 0;margin-left:13px;font-size:11px}.lsbb{background:#f8f9fa;border:solid 1px;border-color:#dadce0 #70757a #70757a #dadce0;height:30px}.lsbb{display:block}#WqQANb a{display:inline-block;margin:0 12px}.lsb{background:url(/images/nav_logo229.png) 0 -261px repeat-x;border:none;color:#000;cursor:pointer;height:30px;margin:0;outline:0;font:15px arial,sans-serif;vertical-align:top}.lsb:active{background:#dadce0}.lst:focus{outline:none}</style><script nonce=\"5arG2CcrvikpGk6e6cYYpg\">(function(){window.google.erd={jsr:1,bv:1698,de:true};\n",
      "var h=this||self;var k,l=null!=(k=h.mei)?k:1,n,p=null!=(n=h.sdo)?n:!0,q=0,r,t=google.erd,v=t.jsr;google.ml=function(a,b,d,m,e){e=void 0===e?2:e;b&&(r=a&&a.message);if(google.dl)return google.dl(a,e,d),null;if(0>v){window.console&&console.error(a,d);if(-2===v)throw a;b=!1}else b=!a||!a.message||\"Error loading script\"===a.message||q>=l&&!m?!1:!0;if(!b)return null;q++;d=d||{};b=encodeURIComponent;var c=\"/gen_204?atyp=i&ei=\"+b(google.kEI);google.kEXPI&&(c+=\"&jexpid=\"+b(google.kEXPI));c+=\"&srcpg=\"+b(google.sn)+\"&jsr=\"+b(t.jsr)+\"&bver=\"+b(t.bv);var f=a.lineNumber;void 0!==f&&(c+=\"&line=\"+f);var g=\n",
      "a.fileName;g&&(0<g.indexOf(\"-extension:/\")&&(e=3),c+=\"&script=\"+b(g),f&&g===window.location.href&&(f=document.documentElement.outerHTML.split(\"\\n\")[f],c+=\"&cad=\"+b(f?f.substring(0,300):\"No script found.\")));c+=\"&jsel=\"+e;for(var u in d)c+=\"&\",c+=b(u),c+=\"=\",c+=b(d[u]);c=c+\"&emsg=\"+b(a.name+\": \"+a.message);c=c+\"&jsst=\"+b(a.stack||\"N/A\");12288<=c.length&&(c=c.substr(0,12288));a=c;m||google.log(0,\"\",a);return a};window.onerror=function(a,b,d,m,e){r!==a&&(a=e instanceof Error?e:Error(a),void 0===d||\"lineNumber\"in a||(a.lineNumber=d),void 0===b||\"fileName\"in a||(a.fileName=b),google.ml(a,!1,void 0,!1,\"SyntaxError\"===a.name||\"SyntaxError\"===a.message.substring(0,11)||-1!==a.message.indexOf(\"Script error\")?3:0));r=null;p&&q>=l&&(window.onerror=null)};})();</script></head><body bgcolor=\"#fff\"><script nonce=\"5arG2CcrvikpGk6e6cYYpg\">(function(){var src='/images/nav_logo229.png';var iesg=false;document.body.onload = function(){window.n && window.n();if (document.images){new Image().src=src;}\n",
      "if (!iesg){document.f&&document.f.q.focus();document.gbqf&&document.gbqf.q.focus();}\n",
      "}\n",
      "})();</script><div id=\"mngb\"><div id=gbar><nobr><b class=gb1>Search</b> <a class=gb1 href=\"https://www.google.co.in/imghp?hl=en&tab=wi\">Images</a> <a class=gb1 href=\"https://maps.google.co.in/maps?hl=en&tab=wl\">Maps</a> <a class=gb1 href=\"https://play.google.com/?hl=en&tab=w8\">Play</a> <a class=gb1 href=\"https://www.youtube.com/?tab=w1\">YouTube</a> <a class=gb1 href=\"https://news.google.com/?tab=wn\">News</a> <a class=gb1 href=\"https://mail.google.com/mail/?tab=wm\">Gmail</a> <a class=gb1 href=\"https://drive.google.com/?tab=wo\">Drive</a> <a class=gb1 style=\"text-decoration:none\" href=\"https://www.google.co.in/intl/en/about/products?tab=wh\"><u>More</u> &raquo;</a></nobr></div><div id=guser width=100%><nobr><span id=gbn class=gbi></span><span id=gbf class=gbf></span><span id=gbe></span><a href=\"http://www.google.co.in/history/optout?hl=en\" class=gb4>Web History</a> | <a  href=\"/preferences?hl=en\" class=gb4>Settings</a> | <a target=_top id=gb_70 href=\"https://accounts.google.com/ServiceLogin?hl=en&passive=true&continue=https://www.google.com/webhp&ec=GAZAAQ\" class=gb4>Sign in</a></nobr></div><div class=gbh style=left:0></div><div class=gbh style=right:0></div></div><center><br clear=\"all\" id=\"lgpd\"><div id=\"lga\"><img alt=\"Google\" height=\"92\" src=\"/images/branding/googlelogo/1x/googlelogo_white_background_color_272x92dp.png\" style=\"padding:28px 0 14px\" width=\"272\" id=\"hplogo\"><br><br></div><form action=\"/search\" name=\"f\"><table cellpadding=\"0\" cellspacing=\"0\"><tr valign=\"top\"><td width=\"25%\">&nbsp;</td><td align=\"center\" nowrap=\"\"><input name=\"ie\" value=\"ISO-8859-1\" type=\"hidden\"><input value=\"en-IN\" name=\"hl\" type=\"hidden\"><input name=\"source\" type=\"hidden\" value=\"hp\"><input name=\"biw\" type=\"hidden\"><input name=\"bih\" type=\"hidden\"><div class=\"ds\" style=\"height:32px;margin:4px 0\"><input class=\"lst\" style=\"margin:0;padding:5px 8px 0 6px;vertical-align:top;color:#000\" autocomplete=\"off\" value=\"\" title=\"Google Search\" maxlength=\"2048\" name=\"q\" size=\"57\"></div><br style=\"line-height:0\"><span class=\"ds\"><span class=\"lsbb\"><input class=\"lsb\" value=\"Google Search\" name=\"btnG\" type=\"submit\"></span></span><span class=\"ds\"><span class=\"lsbb\"><input class=\"lsb\" id=\"tsuid_1\" value=\"I'm Feeling Lucky\" name=\"btnI\" type=\"submit\"><script nonce=\"5arG2CcrvikpGk6e6cYYpg\">(function(){var id='tsuid_1';document.getElementById(id).onclick = function(){if (this.form.q.value){this.checked = 1;if (this.form.iflsig)this.form.iflsig.disabled = false;}\n",
      "else top.location='/doodles/';};})();</script><input value=\"AJiK0e8AAAAAY4xDlVbRs4C_I_OB5_G4bL1qmLhJdlH7\" name=\"iflsig\" type=\"hidden\"></span></span></td><td class=\"fl sblc\" align=\"left\" nowrap=\"\" width=\"25%\"><a href=\"/advanced_search?hl=en-IN&amp;authuser=0\">Advanced search</a></td></tr></table><input id=\"gbv\" name=\"gbv\" type=\"hidden\" value=\"1\"><script nonce=\"5arG2CcrvikpGk6e6cYYpg\">(function(){var a,b=\"1\";if(document&&document.getElementById)if(\"undefined\"!=typeof XMLHttpRequest)b=\"2\";else if(\"undefined\"!=typeof ActiveXObject){var c,d,e=[\"MSXML2.XMLHTTP.6.0\",\"MSXML2.XMLHTTP.3.0\",\"MSXML2.XMLHTTP\",\"Microsoft.XMLHTTP\"];for(c=0;d=e[c++];)try{new ActiveXObject(d),b=\"2\"}catch(h){}}a=b;if(\"2\"==a&&-1==location.search.indexOf(\"&gbv=2\")){var f=google.gbvu,g=document.getElementById(\"gbv\");g&&(g.value=a);f&&window.setTimeout(function(){location.href=f},0)};}).call(this);</script></form><div id=\"gac_scont\"></div><div style=\"font-size:83%;min-height:3.5em\"><br><div id=\"gws-output-pages-elements-homepage_additional_languages__als\"><style>#gws-output-pages-elements-homepage_additional_languages__als{font-size:small;margin-bottom:24px}#SIvCob{color:#3c4043;display:inline-block;line-height:28px;}#SIvCob a{padding:0 3px;}.H6sW5{display:inline-block;margin:0 2px;white-space:nowrap}.z4hgWe{display:inline-block;margin:0 2px}</style><div id=\"SIvCob\">Google offered in:  <a href=\"https://www.google.com/setprefs?sig=0_SAgsC3An0erCbQGaqx5hnfHRppg%3D&amp;hl=hi&amp;source=homepage&amp;sa=X&amp;ved=0ahUKEwig7Kfdot_7AhX0LkQIHcetA0QQ2ZgBCAU\">&#2361;&#2367;&#2344;&#2381;&#2342;&#2368;</a>    <a href=\"https://www.google.com/setprefs?sig=0_SAgsC3An0erCbQGaqx5hnfHRppg%3D&amp;hl=bn&amp;source=homepage&amp;sa=X&amp;ved=0ahUKEwig7Kfdot_7AhX0LkQIHcetA0QQ2ZgBCAY\">&#2476;&#2494;&#2434;&#2482;&#2494;</a>    <a href=\"https://www.google.com/setprefs?sig=0_SAgsC3An0erCbQGaqx5hnfHRppg%3D&amp;hl=te&amp;source=homepage&amp;sa=X&amp;ved=0ahUKEwig7Kfdot_7AhX0LkQIHcetA0QQ2ZgBCAc\">&#3108;&#3142;&#3122;&#3137;&#3095;&#3137;</a>    <a href=\"https://www.google.com/setprefs?sig=0_SAgsC3An0erCbQGaqx5hnfHRppg%3D&amp;hl=mr&amp;source=homepage&amp;sa=X&amp;ved=0ahUKEwig7Kfdot_7AhX0LkQIHcetA0QQ2ZgBCAg\">&#2350;&#2352;&#2366;&#2336;&#2368;</a>    <a href=\"https://www.google.com/setprefs?sig=0_SAgsC3An0erCbQGaqx5hnfHRppg%3D&amp;hl=ta&amp;source=homepage&amp;sa=X&amp;ved=0ahUKEwig7Kfdot_7AhX0LkQIHcetA0QQ2ZgBCAk\">&#2980;&#2990;&#3007;&#2996;&#3021;</a>    <a href=\"https://www.google.com/setprefs?sig=0_SAgsC3An0erCbQGaqx5hnfHRppg%3D&amp;hl=gu&amp;source=homepage&amp;sa=X&amp;ved=0ahUKEwig7Kfdot_7AhX0LkQIHcetA0QQ2ZgBCAo\">&#2711;&#2753;&#2716;&#2736;&#2750;&#2724;&#2752;</a>    <a href=\"https://www.google.com/setprefs?sig=0_SAgsC3An0erCbQGaqx5hnfHRppg%3D&amp;hl=kn&amp;source=homepage&amp;sa=X&amp;ved=0ahUKEwig7Kfdot_7AhX0LkQIHcetA0QQ2ZgBCAs\">&#3221;&#3240;&#3277;&#3240;&#3233;</a>    <a href=\"https://www.google.com/setprefs?sig=0_SAgsC3An0erCbQGaqx5hnfHRppg%3D&amp;hl=ml&amp;source=homepage&amp;sa=X&amp;ved=0ahUKEwig7Kfdot_7AhX0LkQIHcetA0QQ2ZgBCAw\">&#3374;&#3378;&#3375;&#3390;&#3379;&#3330;</a>    <a href=\"https://www.google.com/setprefs?sig=0_SAgsC3An0erCbQGaqx5hnfHRppg%3D&amp;hl=pa&amp;source=homepage&amp;sa=X&amp;ved=0ahUKEwig7Kfdot_7AhX0LkQIHcetA0QQ2ZgBCA0\">&#2602;&#2672;&#2588;&#2622;&#2604;&#2624;</a>  </div></div></div><span id=\"footer\"><div style=\"font-size:10pt\"><div style=\"margin:19px auto;text-align:center\" id=\"WqQANb\"><a href=\"/intl/en/ads/\">Advertising Programs</a><a href=\"http://www.google.co.in/services/\">Business Solutions</a><a href=\"/intl/en/about.html\">About Google</a><a href=\"https://www.google.com/setprefdomain?prefdom=IN&amp;prev=https://www.google.co.in/&amp;sig=K_GPUQT2TpEG1uIQUWgA3Kr5Wk9gw%3D\">Google.co.in</a></div></div><p style=\"font-size:8pt;color:#70757a\">&copy; 2022 - <a href=\"/intl/en/policies/privacy/\">Privacy</a> - <a href=\"/intl/en/policies/terms/\">Terms</a></p></span></center><script nonce=\"5arG2CcrvikpGk6e6cYYpg\">(function(){window.google.cdo={height:757,width:1440};(function(){var a=window.innerWidth,b=window.innerHeight;if(!a||!b){var c=window.document,d=\"CSS1Compat\"==c.compatMode?c.documentElement:c.body;a=d.clientWidth;b=d.clientHeight}a&&b&&(a!=google.cdo.width||b!=google.cdo.height)&&google.log(\"\",\"\",\"/client_204?&atyp=i&biw=\"+a+\"&bih=\"+b+\"&ei=\"+google.kEI);}).call(this);})();</script> <script nonce=\"5arG2CcrvikpGk6e6cYYpg\">(function(){google.xjs={ck:'xjs.hp.oxai9SxkIQY.L.X.O',cs:'ACT90oEGh-_ImDfBjn6aD_ABGaOlD2MqVw',excm:[]};})();</script>  <script nonce=\"5arG2CcrvikpGk6e6cYYpg\">(function(){var u='/xjs/_/js/k\\x3dxjs.hp.en.9b-uVUIpJU8.O/am\\x3dAADoBABQAGAB/d\\x3d1/ed\\x3d1/rs\\x3dACT90oG-6KYVksw4jxVvNcwan406xE6qVw/m\\x3dsb_he,d';var amd=0;\n",
      "var d=this||self,e=function(a){return a};var g;var l=function(a,b){this.g=b===h?a:\"\"};l.prototype.toString=function(){return this.g+\"\"};var h={};\n",
      "function m(){var a=u;google.lx=function(){p(a);google.lx=function(){}};google.bx||google.lx()}\n",
      "function p(a){google.timers&&google.timers.load&&google.tick&&google.tick(\"load\",\"xjsls\");var b=document;var c=\"SCRIPT\";\"application/xhtml+xml\"===b.contentType&&(c=c.toLowerCase());c=b.createElement(c);if(void 0===g){b=null;var k=d.trustedTypes;if(k&&k.createPolicy){try{b=k.createPolicy(\"goog#html\",{createHTML:e,createScript:e,createScriptURL:e})}catch(q){d.console&&d.console.error(q.message)}g=b}else g=b}a=(b=g)?b.createScriptURL(a):a;a=new l(a,h);c.src=a instanceof l&&a.constructor===l?a.g:\"type_error:TrustedResourceUrl\";var f,n;(f=(a=null==(n=(f=(c.ownerDocument&&c.ownerDocument.defaultView||window).document).querySelector)?void 0:n.call(f,\"script[nonce]\"))?a.nonce||a.getAttribute(\"nonce\")||\"\":\"\")&&c.setAttribute(\"nonce\",f);document.body.appendChild(c);google.psa=!0};google.xjsu=u;setTimeout(function(){0<amd?google.caft(function(){return m()},amd):m()},0);})();function _DumpException(e){throw e;}\n",
      "function _F_installCss(c){}\n",
      "(function(){google.jl={blt:'none',chnk:0,dw:false,dwu:true,emtn:0,end:0,ico:false,ikb:0,ine:false,injs:'none',injt:0,injth:0,injv2:false,lls:'default',pdt:0,rep:0,snet:true,strt:0,ubm:false,uwp:true};})();(function(){var pmc='{\\x22d\\x22:{},\\x22sb_he\\x22:{\\x22agen\\x22:true,\\x22cgen\\x22:true,\\x22client\\x22:\\x22heirloom-hp\\x22,\\x22dh\\x22:true,\\x22ds\\x22:\\x22\\x22,\\x22fl\\x22:true,\\x22host\\x22:\\x22google.com\\x22,\\x22jsonp\\x22:true,\\x22msgs\\x22:{\\x22cibl\\x22:\\x22Clear Search\\x22,\\x22dym\\x22:\\x22Did you mean:\\x22,\\x22lcky\\x22:\\x22I\\\\u0026#39;m Feeling Lucky\\x22,\\x22lml\\x22:\\x22Learn more\\x22,\\x22psrc\\x22:\\x22This search was removed from your \\\\u003Ca href\\x3d\\\\\\x22/history\\\\\\x22\\\\u003EWeb History\\\\u003C/a\\\\u003E\\x22,\\x22psrl\\x22:\\x22Remove\\x22,\\x22sbit\\x22:\\x22Search by image\\x22,\\x22srch\\x22:\\x22Google Search\\x22},\\x22ovr\\x22:{},\\x22pq\\x22:\\x22\\x22,\\x22rfs\\x22:[],\\x22sbas\\x22:\\x220 3px 8px 0 rgba(0,0,0,0.2),0 0 0 1px rgba(0,0,0,0.08)\\x22,\\x22stok\\x22:\\x229wG_udwhyyB_tQZpb0uR7BIAfoc\\x22}}';google.pmc=JSON.parse(pmc);})();</script>        </body></html>\n"
     ]
    }
   ],
   "source": [
    "import requests\n",
    "\n",
    "response = requests.get(\"https://google.com/search\")\n",
    "print(response.status_code)\n",
    "print(response.text)"
   ]
  },
  {
   "cell_type": "code",
   "execution_count": 24,
   "metadata": {},
   "outputs": [
    {
     "name": "stdout",
     "output_type": "stream",
     "text": [
      "200\n",
      "<!doctype html><html lang=\"en-IN\"><head><meta charset=\"UTF-8\"><meta content=\"/images/branding/googleg/1x/googleg_standard_color_128dp.png\" itemprop=\"image\"><title>Kanav Bansal - Google Search</title><script nonce=\"JmmTRD-OqgL4VgdbPX2EYA\">(function(){\n",
      "document.documentElement.addEventListener(\"submit\",function(b){var a;if(a=b.target){var c=a.getAttribute(\"data-submitfalse\");a=\"1\"===c||\"q\"===c&&!a.elements.q.value?!0:!1}else a=!1;a&&(b.preventDefault(),b.stopPropagation())},!0);document.documentElement.addEventListener(\"click\",function(b){var a;a:{for(a=b.target;a&&a!==document.documentElement;a=a.parentElement)if(\"A\"===a.tagName){a=\"1\"===a.getAttribute(\"data-nohref\");break a}a=!1}a&&b.preventDefault()},!0);}).call(this);(function(){var a=window.performance;window.start=Date.now();a:{var b=window;if(a){var c=a.timing;if(c){var d=c.navigationStart,f=c.responseStart;if(f>d&&f<=window.start){window.start=f;b.wsrt=f-d;break a}}a.now&&(b.wsrt=Math.floor(a.now()))}}window.google=window.google||{};var h=function(g){g&&g.target.setAttribute(\"data-iml\",String(Date.now()))};document.documentElement.addEventListener(\"load\",h,!0);google.rglh=function(){document.documentElement.removeEventListener(\"load\",h,!0)};}).call(this);(function(){window._skwEvts=[];})();(function(){window.google.erd={jsr:1,bv:1698,de:true};})();(function(){var sdo=false;var mei=10;\n",
      "var h=this||self;var k,l=null!=(k=h.mei)?k:1,n,p=null!=(n=h.sdo)?n:!0,q=0,r,t=google.erd,v=t.jsr;google.ml=function(a,b,d,m,e){e=void 0===e?2:e;b&&(r=a&&a.message);if(google.dl)return google.dl(a,e,d),null;if(0>v){window.console&&console.error(a,d);if(-2===v)throw a;b=!1}else b=!a||!a.message||\"Error loading script\"===a.message||q>=l&&!m?!1:!0;if(!b)return null;q++;d=d||{};b=encodeURIComponent;var c=\"/gen_204?atyp=i&ei=\"+b(google.kEI);google.kEXPI&&(c+=\"&jexpid=\"+b(google.kEXPI));c+=\"&srcpg=\"+b(google.sn)+\"&jsr=\"+b(t.jsr)+\"&bver=\"+b(t.bv);var f=a.lineNumber;void 0!==f&&(c+=\"&line=\"+f);var g=\n",
      "a.fileName;g&&(0<g.indexOf(\"-extension:/\")&&(e=3),c+=\"&script=\"+b(g),f&&g===window.location.href&&(f=document.documentElement.outerHTML.split(\"\\n\")[f],c+=\"&cad=\"+b(f?f.substring(0,300):\"No script found.\")));c+=\"&jsel=\"+e;for(var u in d)c+=\"&\",c+=b(u),c+=\"=\",c+=b(d[u]);c=c+\"&emsg=\"+b(a.name+\": \"+a.message);c=c+\"&jsst=\"+b(a.stack||\"N/A\");12288<=c.length&&(c=c.substr(0,12288));a=c;m||google.log(0,\"\",a);return a};window.onerror=function(a,b,d,m,e){r!==a&&(a=e instanceof Error?e:Error(a),void 0===d||\"lineNumber\"in a||(a.lineNumber=d),void 0===b||\"fileName\"in a||(a.fileName=b),google.ml(a,!1,void 0,!1,\"SyntaxError\"===a.name||\"SyntaxError\"===a.message.substring(0,11)||-1!==a.message.indexOf(\"Script error\")?3:0));r=null;p&&q>=l&&(window.onerror=null)};})();(function(){var c=[],e=0;window.ping=function(b){-1==b.indexOf(\"&zx\")&&(b+=\"&zx=\"+Date.now());var a=new Image,d=e++;c[d]=a;a.onerror=a.onload=a.onabort=function(){delete c[d]};a.src=b};}).call(this);</script><style>a{color:#1a0dab;text-decoration:none;tap-highlight-color:rgba(0,0,0,.10)}a:visited{color:#4b11a8}a:hover{text-decoration:underline}img{border:0}html{font-family:arial,sans-serif;font-size:14px;line-height:20px;text-size-adjust:100%;color:#3c4043;word-wrap:break-word;background-color:#fff}.bRsWnc{background-color:#fff;border-top:1px solid #dadce0;height:39px;overflow:hidden}.N6RWV{height:51px;overflow-scrolling:touch;overflow-x:auto;overflow-y:hidden}.Uv67qb{box-pack:justify;font-size:12px;line-height:37px;justify-content:space-between;justify-content:space-between}.Uv67qb a,.Uv67qb span{color:#70757a;display:block;flex:none;padding:0 16px;text-align:center;text-transform:uppercase;}span.OXXup{border-bottom:2px solid #4285f4;color:#4285f4;font-weight:bold}a.eZt8xd:visited{color:#70757a}.FElbsf{border-left:1px solid rgba(0,0,0,.12)}header article{overflow:visible}.Pg70bf{height:39px;display:box;display:flex;display:flex;width:100%}.H0PQec{position:relative;flex:1}.sbc{display:flex;width:100%}.Pg70bf input{margin:2px 4px 2px 8px;}.x{width:26px;color:#70757a;font:27px/38px arial, sans-serif;line-height:40px;}#qdClwb{flex:0 0 auto;width:39px;height:39px;border-bottom:0;padding:0;border-top-right-radius:8px;background-color:#1a73e8;border:1px solid #1a73e8;background-image:url(data:image/gif;base64,R0lGODdhJAAjAPIHAODr/nCk+MPZ/FmV96zK+/7+/5K5+kqL9iwAAAAAJAAjAEADani63P4wykmbKcQRXDscQAEMXmmeaLQVLCukzyC09AjfeK7v/MAajACLhPMVAgwjsUcEiZa8xgAYrVqv2Kx2iwsIAAABknfBBAKrTE4IcMyot8ur8datqIbQfJdnAfo2WE6BV05wXIiJigkAOw==);}.sc{font-size:16px;position:absolute;top:39px;left:0;right:0;box-shadow:0 2px 5px rgba(0,0,0,.2);z-index:2;background-color:#fff}.sc>div{padding:10px 10px;padding-left:16px;padding-left:14px;border-top:1px solid #dfe1e5;}.scs{background-color:#fafafa;}.noHIxc{display:block;font-size:16px;padding:0 0 0 8px;flex:1;height:35px;outline:none;border:none;width:100%;-webkit-tap-highlight-color:rgba(0,0,0,0);overflow:hidden;}.sbc input[type=text]{background:none}.bz1lBb{background-color:#fff;border-radius:8px 8px 0 0;box-shadow:0 0 0 1px #dfe1e5;margin-top:24px;}.KP7LCb{border-radius:0 0 8px 8px;box-shadow:0px 1px 0px 1px #dfe1e5;margin-bottom:30px;overflow:hidden}html{background-color:#fff}body{margin:0 auto 0 156px;max-width:652px;min-width:652px;padding:0 8px}.cOl4Id{letter-spacing:-1px;text-align:center;font:22pt Futura, Arial, sans-serif;height:37px;font-smoothing:antialiased;padding:32px 28px 0 24px;position:absolute;left:0;top:0}.cOl4Id span{display:inline-block}.V6gwVd{color:#4285f4}.iWkuvd{color:#ea4335}.cDrQ7{color:#fcc934}.ntlR9{color:#34a853}.tJ3Myc{-webkit-transform:rotate(-20deg);position:relative;left:-1px;display:inline-block}footer{text-align:center;margin-top:18px}footer a,footer a:visited,.smiUbb{color:#70757a}.xeDNfc{margin:0 13px;white-space:nowrap}#EOlPnc{margin-top:36px}#EOlPnc>div{margin:20px}.Srfpq{color:#70757a}</style></head><body jsmodel=\"hspDDf\"><header id=\"hdr\"><script nonce=\"JmmTRD-OqgL4VgdbPX2EYA\">(function(){\n",
      "var k=this||self,l=function(a){var b=typeof a;return\"object\"==b&&null!=a||\"function\"==b},m=function(a,b){function c(){}c.prototype=b.prototype;a.j=b.prototype;a.prototype=new c;a.prototype.constructor=a;a.l=function(d,e,f){for(var g=Array(arguments.length-2),h=2;h<arguments.length;h++)g[h-2]=arguments[h];return b.prototype[e].apply(d,g)}};var n=Array.prototype.indexOf?function(a,b){return Array.prototype.indexOf.call(a,b,void 0)}:function(a,b){if(\"string\"===typeof a)return\"string\"!==typeof b||1!=b.length?-1:a.indexOf(b,0);for(var c=0;c<a.length;c++)if(c in a&&a[c]===b)return c;return-1};var p=function(a){return\"string\"==typeof a.className?a.className:a.getAttribute&&a.getAttribute(\"class\")||\"\"},q=function(a,b){\"string\"==typeof a.className?a.className=b:a.setAttribute&&a.setAttribute(\"class\",b)},r=function(a,b){a.classList?b=a.classList.contains(b):(a=a.classList?a.classList:p(a).match(/\\S+/g)||[],b=0<=n(a,b));return b},v=function(){var a=t,b=u;a.classList?a.classList.remove(b):r(a,b)&&q(a,Array.prototype.filter.call(a.classList?a.classList:p(a).match(/\\S+/g)||[],function(c){return c!=\n",
      "b}).join(\" \"))};function w(){var a=k.navigator;return a&&(a=a.userAgent)?a:\"\"};var x=function(a){x[\" \"](a);return a};x[\" \"]=function(){};var y=-1!=w().indexOf(\"Gecko\")&&!(-1!=w().toLowerCase().indexOf(\"webkit\")&&-1==w().indexOf(\"Edge\"))&&!(-1!=w().indexOf(\"Trident\")||-1!=w().indexOf(\"MSIE\"))&&-1==w().indexOf(\"Edge\");var z=function(a,b){this.type=a;this.target=b};z.prototype.g=function(){};var A=function(){if(!k.addEventListener||!Object.defineProperty)return!1;var a=!1,b=Object.defineProperty({},\"passive\",{get:function(){a=!0}});try{k.addEventListener(\"test\",function(){},b),k.removeEventListener(\"test\",function(){},b)}catch(c){}return a}();var C=function(a){z.call(this,a?a.type:\"\");this.relatedTarget=this.target=null;this.button=this.screenY=this.screenX=this.clientY=this.clientX=0;this.key=\"\";this.keyCode=0;this.metaKey=this.shiftKey=this.altKey=this.ctrlKey=!1;this.state=null;this.pointerId=0;this.pointerType=\"\";this.h=null;if(a){var b=this.type=a.type,c=a.changedTouches&&a.changedTouches.length?a.changedTouches[0]:null;this.target=a.target||a.srcElement;var d=a.relatedTarget;if(d){if(y){a:{try{x(d.nodeName);var e=!0;break a}catch(f){}e=\n",
      "!1}e||(d=null)}}else\"mouseover\"==b?d=a.fromElement:\"mouseout\"==b&&(d=a.toElement);this.relatedTarget=d;c?(this.clientX=void 0!==c.clientX?c.clientX:c.pageX,this.clientY=void 0!==c.clientY?c.clientY:c.pageY,this.screenX=c.screenX||0,this.screenY=c.screenY||0):(this.clientX=void 0!==a.clientX?a.clientX:a.pageX,this.clientY=void 0!==a.clientY?a.clientY:a.pageY,this.screenX=a.screenX||0,this.screenY=a.screenY||0);this.button=a.button;this.keyCode=a.keyCode||0;this.key=a.key||\"\";this.ctrlKey=a.ctrlKey;this.altKey=a.altKey;this.shiftKey=a.shiftKey;this.metaKey=a.metaKey;this.pointerId=a.pointerId||0;this.pointerType=\"string\"===typeof a.pointerType?a.pointerType:B[a.pointerType]||\"\";this.state=a.state;this.h=a;a.defaultPrevented&&C.j.g.call(this)}};m(C,z);var B={2:\"touch\",3:\"pen\",4:\"mouse\"};C.prototype.g=function(){C.j.g.call(this);var a=this.h;a.preventDefault?a.preventDefault():a.returnValue=!1};var D=\"closure_listenable_\"+(1E6*Math.random()|0);var E=0;var F=function(a,b,c,d,e){this.listener=a;this.proxy=null;this.src=b;this.type=c;this.capture=!!d;this.h=e;this.key=++E;this.g=this.i=!1},G=function(a){a.g=!0;a.listener=null;a.proxy=null;a.src=null;a.h=null};var H=function(a){this.src=a;this.g={};this.h=0};H.prototype.add=function(a,b,c,d,e){var f=a.toString();a=this.g[f];a||(a=this.g[f]=[],this.h++);var g;a:{for(g=0;g<a.length;++g){var h=a[g];if(!h.g&&h.listener==b&&h.capture==!!d&&h.h==e)break a}g=-1}-1<g?(b=a[g],c||(b.i=!1)):(b=new F(b,this.src,f,!!d,e),b.i=c,a.push(b));return b};var I=\"closure_lm_\"+(1E6*Math.random()|0),J={},K=0,M=function(a,b,c,d,e){if(d&&d.once)return L(a,b,c,d,e);if(Array.isArray(b)){for(var f=0;f<b.length;f++)M(a,b[f],c,d,e);return null}c=N(c);return a&&a[D]?a.g(b,c,l(d)?!!d.capture:!!d,e):O(a,b,c,!1,d,e)},O=function(a,b,c,d,e,f){if(!b)throw Error(\"a\");var g=l(e)?!!e.capture:!!e,h=P(a);h||(a[I]=h=new H(a));c=h.add(b,c,d,g,f);if(c.proxy)return c;d=Q();c.proxy=d;d.src=a;d.listener=c;if(a.addEventListener)A||(e=g),void 0===e&&(e=!1),a.addEventListener(b.toString(),d,e);else if(a.attachEvent)a.attachEvent(R(b.toString()),d);else if(a.addListener&&a.removeListener)a.addListener(d);else throw Error(\"b\");K++;return c},Q=function(){var a=S,b=function(c){return a.call(b.src,b.listener,c)};return b},L=function(a,b,c,d,e){if(Array.isArray(b)){for(var f=0;f<b.length;f++)L(a,b[f],c,d,e);return null}c=N(c);return a&&a[D]?a.h(b,c,l(d)?!!d.capture:!!d,e):O(a,b,c,!0,d,e)},T=function(a){if(\"number\"!==typeof a&&a&&!a.g){var b=a.src;if(b&&b[D])b.o(a);else{var c=a.type,d=a.proxy;b.removeEventListener?b.removeEventListener(c,d,a.capture):b.detachEvent?b.detachEvent(R(c),d):b.addListener&&b.removeListener&&b.removeListener(d);K--;if(c=P(b)){d=a.type;if(d in c.g){var e=c.g[d],f=n(e,a),g;(g=0<=f)&&Array.prototype.splice.call(e,f,1);g&&(G(a),0==c.g[d].length&&(delete c.g[d],c.h--))}0==c.h&&(c.src=null,b[I]=null)}else G(a)}}},R=function(a){return a in J?J[a]:J[a]=\"on\"+a},S=function(a,b){if(a.g)a=!0;else{b=new C(b,this);var c=a.listener,d=a.h||a.src;a.i&&T(a);a=c.call(d,b)}return a},P=function(a){a=a[I];return a instanceof H?a:null},U=\"__closure_events_fn_\"+(1E9*Math.random()>>>0),N=function(a){if(\"function\"===typeof a)return a;a[U]||(a[U]=function(b){return a.handleEvent(b)});return a[U]};var u,t=document.documentElement,V;function W(){T(V);V=L(t,\"mousedown\",function(){v();X()},{capture:!0})}function X(){T(V);V=M(t,\"keydown\",function(a){if(9===a.keyCode){a=t;var b=u;if(a.classList)a.classList.add(b);else if(!r(a,b)){var c=p(a);q(a,c+(0<c.length?\" \"+b:b))}W()}})};u=\"zAoYTe\";X();}).call(this);</script><div class=\"cOl4Id\"><a href=\"/?sa=X&amp;ved=0ahUKEwijnezeot_7AhX-7jgGHS_sDOQQOwgC\"><span class=\"V6gwVd\">G</span><span class=\"iWkuvd\">o</span><span class=\"cDrQ7\">o</span><span class=\"V6gwVd\">g</span><span class=\"ntlR9\">l</span><span class=\"iWkuvd tJ3Myc\">e</span></a></div><div class=\"bz1lBb\"><form class=\"Pg70bf\" id=\"sf\"><input name=\"ie\" value=\"ISO-8859-1\" type=\"hidden\"><div class=\"H0PQec\"><div class=\"sbc esbc\"><input class=\"noHIxc\" value=\"Kanav Bansal\" autocapitalize=\"none\" autocomplete=\"off\" name=\"q\" spellcheck=\"false\" type=\"text\"><input name=\"oq\" type=\"hidden\"><input name=\"aqs\" type=\"hidden\"><div class=\"x\">×</div><div class=\"sc\"></div></div></div><button id=\"qdClwb\" type=\"submit\"></button></form></div><noscript><meta content=\"0;url=/search?q=Kanav+Bansal&amp;ie=UTF-8&amp;gbv=1&amp;sei=iDWMY6O5Iv7d4-EPr9izoA4\" http-equiv=\"refresh\"><style>table,div,span,p{display:none}</style><div style=\"display:block\">Please click <a href=\"/search?q=Kanav+Bansal&amp;ie=UTF-8&amp;gbv=1&amp;sei=iDWMY6O5Iv7d4-EPr9izoA4\">here</a> if you are not redirected within a few seconds.</div></noscript></header><div id=\"main\"><div><div class=\"KP7LCb\"> <div class=\"bRsWnc\"> <div class=\"N6RWV\"> <div class=\"Pg70bf Uv67qb\"> <span class=\"OXXup\">All</span><a class=\"eZt8xd\" href=\"/search?q=Kanav+Bansal&amp;ie=UTF-8&amp;source=lnms&amp;tbm=nws&amp;sa=X&amp;ved=0ahUKEwijnezeot_7AhX-7jgGHS_sDOQQ_AUIBigB\">News</a><a class=\"eZt8xd\" href=\"/search?q=Kanav+Bansal&amp;ie=UTF-8&amp;source=lnms&amp;tbm=isch&amp;sa=X&amp;ved=0ahUKEwijnezeot_7AhX-7jgGHS_sDOQQ_AUIBygC\">Images</a><a class=\"eZt8xd\" href=\"/search?q=Kanav+Bansal&amp;ie=UTF-8&amp;source=lnms&amp;tbm=vid&amp;sa=X&amp;ved=0ahUKEwijnezeot_7AhX-7jgGHS_sDOQQ_AUICCgD\">Videos</a>  <a href=\"https://maps.google.com/maps?q=Kanav+Bansal&amp;um=1&amp;ie=UTF-8&amp;sa=X&amp;ved=0ahUKEwijnezeot_7AhX-7jgGHS_sDOQQ_AUICSgE\">Maps</a>  <a href=\"/search?q=Kanav+Bansal&amp;ie=UTF-8&amp;source=lnms&amp;tbm=shop&amp;sa=X&amp;ved=0ahUKEwijnezeot_7AhX-7jgGHS_sDOQQ_AUICigF\">Shopping</a>  <a href=\"/search?q=Kanav+Bansal&amp;ie=UTF-8&amp;source=lnms&amp;tbm=bks&amp;sa=X&amp;ved=0ahUKEwijnezeot_7AhX-7jgGHS_sDOQQ_AUICygG\">Books</a>  <div class=\"FElbsf\"><a href=\"/advanced_search\" style=\"white-space:nowrap\" id=\"st-toggle\" role=\"button\">Search tools</a></div> </div> </div> </div> </div><div class=\"Pg70bf wEsjbd Gx5Zad xpd EtOod pkphOe\" style=\"display:none\" id=\"st-card\"><style>.wEsjbd{background-color:#fff;height:44px;white-space:nowrap}.coPU8c{height:60px;overflow-scrolling:touch;overflow-x:auto;overflow-y:hidden}.Xj2aue{height:44px;overflow:hidden}.RnNGze{margin:11px 16px}.wEsjbd div,.wEsjbd a,.wEsjbd li{outline-width:0;outline:none}</style><div class=\"Xj2aue\"><div class=\"coPU8c\"><div class=\"RnNGze\"><style>.PA9J5{display:inline-block}.RXaOfd{display:inline-block;height:22px;position:relative;padding-top:0;padding-bottom:0;padding-right:16px;padding-left:0;line-height:22px;cursor:pointer;text-transform:uppercase;font-size:12px;color:#70757a}.sa1toc{background:#fff;display:none;position:absolute;border:1px solid #d6d6d6;box-shadow:0 2px 4px rgba(0,0,0,.3);margin:0;white-space:nowrap;z-index:103;line-height:17px;padding-top:5px;padding-bottom:5px;padding-left:0}.PA9J5:hover .sa1toc{display:block}.mGSy8d a:active,.RXaOfd:active{color:#4285f4}</style><div class=\"PA9J5\"><div class=\"RXaOfd\" role=\"button\" tabindex=\"0\"><style>.TWMOUc{display:inline-block;padding-right:14px;white-space:nowrap}.vQYuGf{font-weight:bold}.OmTIzf{border-color:#909090 transparent;border-style:solid;border-width:4px 4px 0 4px;width:0;height:0;margin-left:-10px;top:50%;margin-top:-2px;position:absolute}.RXaOfd:active .OmTIzf{border-color:#4285f4 transparent}</style><div class=\"TWMOUc\">Any time</div><span class=\"OmTIzf\"></span></div><ul class=\"sa1toc ozatM\"><style>.ozatM{font-size:12px;text-transform:uppercase}.ozatM .yNFsl,.ozatM li{list-style-type:none;list-style-position:outside;list-style-image:none}.yNFsl.SkUj4c,.yNFsl a{color:#70757a;text-decoration:none;padding:6px 44px 6px 14px;line-height:17px;display:block}.SkUj4c{background-image:url(//ssl.gstatic.com/ui/v1/menu/checkmark2.png);background-position:right center;background-repeat:no-repeat}.SkUj4c:active{background-color:#f8f9fa}</style><li class=\"yNFsl SkUj4c\">Any time</li><li class=\"yNFsl\"><a href=\"/search?q=Kanav+Bansal&amp;ie=UTF-8&amp;source=lnt&amp;tbs=qdr:h&amp;sa=X&amp;ved=0ahUKEwijnezeot_7AhX-7jgGHS_sDOQQpwUIDQ\">Past hour</a></li><li class=\"yNFsl\"><a href=\"/search?q=Kanav+Bansal&amp;ie=UTF-8&amp;source=lnt&amp;tbs=qdr:d&amp;sa=X&amp;ved=0ahUKEwijnezeot_7AhX-7jgGHS_sDOQQpwUIDg\">Past 24 hours</a></li><li class=\"yNFsl\"><a href=\"/search?q=Kanav+Bansal&amp;ie=UTF-8&amp;source=lnt&amp;tbs=qdr:w&amp;sa=X&amp;ved=0ahUKEwijnezeot_7AhX-7jgGHS_sDOQQpwUIDw\">Past week</a></li><li class=\"yNFsl\"><a href=\"/search?q=Kanav+Bansal&amp;ie=UTF-8&amp;source=lnt&amp;tbs=qdr:m&amp;sa=X&amp;ved=0ahUKEwijnezeot_7AhX-7jgGHS_sDOQQpwUIEA\">Past month</a></li><li class=\"yNFsl\"><a href=\"/search?q=Kanav+Bansal&amp;ie=UTF-8&amp;source=lnt&amp;tbs=qdr:y&amp;sa=X&amp;ved=0ahUKEwijnezeot_7AhX-7jgGHS_sDOQQpwUIEQ\">Past year</a></li></ul></div><div class=\"PA9J5\"><div class=\"RXaOfd\" role=\"button\" tabindex=\"0\"><div class=\"TWMOUc\">All results</div><span class=\"OmTIzf\"></span></div><ul class=\"sa1toc ozatM\"><li class=\"yNFsl SkUj4c\">All results</li><li class=\"yNFsl\"><a href=\"/search?q=Kanav+Bansal&amp;ie=UTF-8&amp;source=lnt&amp;tbs=li:1&amp;sa=X&amp;ved=0ahUKEwijnezeot_7AhX-7jgGHS_sDOQQpwUIEw\">Verbatim</a></li></ul></div></div></div></div><script nonce=\"JmmTRD-OqgL4VgdbPX2EYA\">(function(){var a=document.getElementById(\"st-toggle\"),b=document.getElementById(\"st-card\");a&&b&&a.addEventListener(\"click\",function(c){b.style.display=b.style.display?\"\":\"none\";c.preventDefault()},!1);}).call(this);</script></div></div><style>.Gx5Zad{background-color:#fff;margin-bottom:30px;box-shadow:0 0 0 1px #dfe1e5;border-radius:8px}.pkphOe{font-size:14px;line-height:22px;}.EtOod>*:first-child{border-top-left-radius:8px;border-top-right-radius:8px}.EtOod>*:last-child{border-bottom-left-radius:8px;border-bottom-right-radius:8px}.EtOod>.qxDOhb>*:first-child{border-top-left-radius:8px;border-top-right-radius:8px}.EtOod>.qxDOhb>*:last-child{border-bottom-left-radius:8px;border-bottom-right-radius:8px}.fP1Qef{background:transparent !important;box-shadow:none !important;border:none !important}.Gx5Zad.fP1Qef{margin-top:-12px;margin-bottom:18px}.rl7ilb{display:block;clear:both}.egMi0{margin-bottom:-19px}.kCrYT{padding:12px 16px 12px}a.fdYsqf{color:#4b11a8}.sCuL3{position:absolute;width:100%;top:0;left:0;padding-top:1px;margin-bottom:-1px}.j039Wc{padding-top:28px;margin-bottom:-1px}.DnJfK{position:relative}.l97dzf{font-weight:400}.zBAuLc{line-height:normal;margin:0;padding:0}.BNeawe{white-space:pre-line;word-wrap:break-word}.vvjwJb{color:#1a0dab;font-size:20px;line-height:26px}a:visited .vvjwJb,.vvjwJb a:visited{color:#4b11a8}.vvjwJb.HrGdeb{color:#fff}a:visited .vvjwJb.HrGdeb,.vvjwJb.HrGdeb a:visited{color:rgba(255,255,255,.70)}.UPmit{font-size:14px;line-height:22px}.UPmit.HrGdeb{color:rgba(255,255,255,.70)}.UPmit.AP7Wnd{color:#202124}.lRVwie{text-overflow:ellipsis;white-space:nowrap;overflow:hidden}.Ap5OSd{padding-bottom:12px}.s3v9rd{font-size:14px;line-height:22px}.s3v9rd.HrGdeb{color:#fff}.s3v9rd.AP7Wnd{color:#202124}.mSx1Ee{padding-left:48px;margin:0}.v9i61e{padding-bottom:8px}.deIvCb{font-size:16px;line-height:20px;font-weight:400}.deIvCb.HrGdeb{color:#fff}.deIvCb.AP7Wnd{color:#202124}.FCUp0c{font-weight:bold}.tAd8D{font-size:14px;line-height:20px}.tAd8D.HrGdeb{color:rgba(255,255,255,.70)}.tAd8D.AP7Wnd{color:#70757a}.Xb5VRe{color:#1a0dab}a:visited .Xb5VRe{color:#4b11a8}.Xb5VRe.tr0dw{color:#fff}a:visited .Xb5VRe.tr0dw{color:rgba(255,255,255,.70)}.Xdlr0d{overflow-x:auto;-webkit-overflow-scrolling:touch;margin:0 -8px;padding:2px 0 16px 24px;margin-top:-2px;transform:translate3d(0,0,0)}.idg8be{display:table;border-collapse:separate;border-spacing:8px 0;margin:0 -8px;padding-right:16px}.BVG0Nb{display:table-cell;vertical-align:top;background-color:#fff;border-radius:8px;box-shadow:0 0 0 1px #dfe1e5;overflow:hidden}.WddBJd{display:block;margin:0 auto}.RJI4s{vertical-align:middle}.mHhylf{display:table-cell;vertical-align:middle}.WZ5GJf{align-items:center;padding:0 20px;min-width:112px}.qN9Ked,.DXk5Me{margin:0 auto}.DXk5Me{cursor:pointer;margin-bottom:12px}.Dk7jOe{display:block;margin:0 auto}.Qi9Fd{background:#fff;border:0;border-radius:999px;display:block;height:56px;justify-content:center;width:56px;z-index:0}.Qi9Fd{box-shadow:0 0 0 1px #dfe1e5,inset 0 0 0 0 rgba(0,0,0,.1),inset 0 0 0 0 rgba(255,255,255,.5)}.Qi9Fd:focus{outline:none}.Qi9Fd .hWHuJ{display:block;margin:0 auto}.ji5jpf{text-align:center}.K8tyEc{padding-bottom:12px}.mEUgP{font-weight:bold;font-size:16px;color:#000;margin:0;padding:12px 16px 0 16px}.x54gtf{height:1px;background-color:#dadce0;margin:0 16px}.Q0HXG{height:1px;background-color:#dadce0}.iIWm4b{box-sizing:border-box;min-height:48px}.gGQDvd{padding:14px;position:relative}.Q71vJc{display:block;position:relative;width:100%}.kjGX2{position:absolute;left:48px;right:0;vertical-align:bottom;display:inline-block;color:#3c4043}.ieB2Dd{overflow:hidden;margin-top:-10px;margin-bottom:-16px;margin-right:8px;border-radius:4px;display:inline-block;border-radius:50%;padding:10px}.OEaqif{width:20px;height:20px;display:block}.rLshyf,.BmP5tf{padding-top:12px;padding-bottom:12px}.YOx3Ab{padding-left:16px;}.w1C3Le,.BmP5tf,.G5NbBd,.CS4w5b{padding-left:16px;padding-right:16px;}.G5NbBd{padding-bottom:12px}.CS4w5b{padding-top:12px}.nMymef{display:flex}.G5eFlf{flex:1;display:block}.nMymef span{text-align:center}.EYqSq{margin:6px 4px 9px 0;border-radius:100%;display:inline-block;height:10px;vertical-align:middle;width:10px}.dfB0uf{color:#3c4043;font-weight:bold}</style><div><!--SW_C_X--></div><div></div><div><div class=\"Gx5Zad fP1Qef xpd EtOod pkphOe\"><div class=\"egMi0 kCrYT\"><a href=\"/url?q=https://in.linkedin.com/in/kanavbansal&amp;sa=U&amp;ved=2ahUKEwijnezeot_7AhX-7jgGHS_sDOQQFnoECAMQAg&amp;usg=AOvVaw3Q2KUdzEz9-euKatLgFBbc\"><div class=\"DnJfK\"><div class=\"j039Wc\"><h3 class=\"zBAuLc l97dzf\"><div class=\"BNeawe vvjwJb AP7Wnd\">Kanav Bansal - Co-Founder and CTO - Technology For All | LinkedIn</div></h3></div><div class=\"sCuL3\"><div class=\"BNeawe UPmit AP7Wnd lRVwie\">in.linkedin.com &#8250; kanavbansal</div></div></div></a></div><div class=\"kCrYT\"><div><div class=\"BNeawe s3v9rd AP7Wnd\"><div><div><div class=\"BNeawe s3v9rd AP7Wnd\">I, Kanav Bansal, am a technocrat and enthusiast for new technology. I am a go-getter, responsible, innovative, passionate, and committed professional with a ...</div></div></div></div></div></div></div></div><div><div class=\"Gx5Zad fP1Qef xpd EtOod pkphOe\"><div class=\"egMi0 kCrYT\"><a href=\"/url?q=https://in.linkedin.com/in/bansal-kanav&amp;sa=U&amp;ved=2ahUKEwijnezeot_7AhX-7jgGHS_sDOQQFnoECAQQAg&amp;usg=AOvVaw0TB5kOXWg3tuBbiTFAZGQu\"><div class=\"DnJfK\"><div class=\"j039Wc\"><h3 class=\"zBAuLc l97dzf\"><div class=\"BNeawe vvjwJb AP7Wnd\">Kanav Bansal - Data Analyst - Axis Bank - LinkedIn</div></h3></div><div class=\"sCuL3\"><div class=\"BNeawe UPmit AP7Wnd lRVwie\">in.linkedin.com &#8250; bansal-kanav</div></div></div></a></div><div class=\"kCrYT\"><div><div class=\"BNeawe s3v9rd AP7Wnd\"><div><div><div class=\"BNeawe s3v9rd AP7Wnd\">Skilled in Communication, Python (Programming Language), C++, Graphic Design, and Data Analytics. Strong operations professional with a Bachelor of Technology - ...</div></div></div></div></div></div></div></div><div><div class=\"Gx5Zad fP1Qef xpd EtOod pkphOe\"><div class=\"egMi0 kCrYT\"><a href=\"/url?q=https://github.com/bansalkanav&amp;sa=U&amp;ved=2ahUKEwijnezeot_7AhX-7jgGHS_sDOQQFnoECAkQAg&amp;usg=AOvVaw0oKcxQYjAP7TpSgG9Ll7rT\"><div class=\"DnJfK\"><div class=\"j039Wc\"><h3 class=\"zBAuLc l97dzf\"><div class=\"BNeawe vvjwJb AP7Wnd\">Kanav Bansal bansalkanav - GitHub</div></h3></div><div class=\"sCuL3\"><div class=\"BNeawe UPmit AP7Wnd lRVwie\">github.com &#8250; bansalkanav</div></div></div></a></div><div class=\"kCrYT\"><div><div class=\"BNeawe s3v9rd AP7Wnd\"><div><div><div class=\"BNeawe s3v9rd AP7Wnd\">Hi there. I'm Kanav. &#9889; I love math and programming; I'm addicted to learn and grow every day; I am currently sharing a little bit of my knowledge ...</div></div></div></div></div></div></div></div><div><div class=\"Gx5Zad fP1Qef xpd EtOod pkphOe\"><div class=\"egMi0 kCrYT\"><a href=\"/url?q=https://github.com/bansalkanav/Machine_Learning_and_Deep_Learning&amp;sa=U&amp;ved=2ahUKEwijnezeot_7AhX-7jgGHS_sDOQQFnoECAIQAg&amp;usg=AOvVaw3n5T554iM-nnnETsrQgunb\"><div class=\"DnJfK\"><div class=\"j039Wc\"><h3 class=\"zBAuLc l97dzf\"><div class=\"BNeawe vvjwJb AP7Wnd\">bansalkanav/Machine_Learning_and_Deep_Learning - GitHub</div></h3></div><div class=\"sCuL3\"><div class=\"BNeawe UPmit AP7Wnd lRVwie\">github.com &#8250; bansalkanav &#8250; Machine_Learning_and_Deep_Learning</div></div></div></a></div><div class=\"kCrYT\"><div><div class=\"BNeawe s3v9rd AP7Wnd\"><div><div><div class=\"BNeawe s3v9rd AP7Wnd\">bansalkanav/Machine_Learning_and_Deep_Learning · Name already in use · Getting started with Machine Learning and Deep Learning.</div></div></div></div></div></div></div></div><div><div class=\"Gx5Zad fP1Qef xpd EtOod pkphOe\"><div class=\"egMi0 kCrYT\"><a href=\"/url?q=https://www.instagram.com/bansalkanav/%3Fhl%3Den&amp;sa=U&amp;ved=2ahUKEwijnezeot_7AhX-7jgGHS_sDOQQFnoECAYQAg&amp;usg=AOvVaw3b74xMgX4j-66PijiF6-QC\"><div class=\"DnJfK\"><div class=\"j039Wc\"><h3 class=\"zBAuLc l97dzf\"><div class=\"BNeawe vvjwJb AP7Wnd\">Kanav Bansal (@bansalkanav) &#8226; Instagram photos and videos</div></h3></div><div class=\"sCuL3\"><div class=\"BNeawe UPmit AP7Wnd lRVwie\">www.instagram.com &#8250; bansalkanav</div></div></div></a></div><div class=\"kCrYT\"><div><div class=\"BNeawe s3v9rd AP7Wnd\"><div><div><div class=\"BNeawe s3v9rd AP7Wnd\">Kanav Bansal. Computer Software Engineer Austin, US Punjab -&gt; Delhi -&gt; New York -&gt; California -&gt; Texas. 43 posts. 131 followers. 135 following ...</div></div></div></div></div></div></div></div><div><div class=\"Gx5Zad xpd EtOod pkphOe\"><div class=\"kCrYT\"><div class=\"BNeawe deIvCb AP7Wnd\"><span class=\"BNeawe\"><a href=\"https://www.google.com/search?ie=UTF-8&amp;ei=iDWMY6O5Iv7d4-EPr9izoA4&amp;q=Kanav+Bansal&amp;tbm=isch&amp;sa=X&amp;ved=2ahUKEwijnezeot_7AhX-7jgGHS_sDOQQsAR6BAgKEAE\"><span class=\"deIvCb AP7Wnd\"><span class=\"FCUp0c rQMQod\">Images</span></span></a></span></div><div class=\"BNeawe tAd8D AP7Wnd\"><span class=\"BNeawe\"><a href=\"https://www.google.com/search?ie=UTF-8&amp;ei=iDWMY6O5Iv7d4-EPr9izoA4&amp;q=Kanav+Bansal&amp;tbm=isch&amp;sa=X&amp;ved=2ahUKEwijnezeot_7AhX-7jgGHS_sDOQQ7Al6BAgKEAI\"><span class=\"tAd8D AP7Wnd\"><span class=\"rQMQod Xb5VRe\">View all</span></span></a></span></div></div><div><div><div><div class=\"Xdlr0d\"><div class=\"idg8be\"><a class=\"BVG0Nb\" href=\"https://www.google.com/imgres?imgurl=https://avatars.githubusercontent.com/u/13186335?v%3D4&amp;imgrefurl=https://github.com/bansalkanav&amp;h=460&amp;w=460&amp;tbnid=9B2rOI4oCT7ZMM&amp;q=Kanav+Bansal&amp;tbnh=128&amp;tbnw=128&amp;usg=AI4_-kQ8ADRGbXo3rmwxkWRI8lGZKdrFew&amp;vet=1&amp;docid=_AUpIqDA7gCa5M&amp;sa=X&amp;ved=2ahUKEwijnezeot_7AhX-7jgGHS_sDOQQ9QF6BAgKEAQ\"><div><img class=\"WddBJd\" style=\"max-width:none;height:128px;max-height:128px\" alt=\"bansalkanav (Kanav Bansal) · GitHub\" src=\"data:image/gif;base64,R0lGODlhAQABAIAAAP///////yH5BAEKAAEALAAAAAABAAEAAAICTAEAOw==\" id=\"dimg_3\" data-deferred=\"1\"></div></a><a class=\"BVG0Nb\" href=\"https://www.google.com/imgres?imgurl=https://lookaside.fbsbx.com/lookaside/crawler/media/?media_id%3D299704241410823&amp;imgrefurl=https://m.facebook.com/kanavbansalt21/&amp;h=1440&amp;w=1440&amp;tbnid=-t3iYv562LE_dM&amp;q=Kanav+Bansal&amp;tbnh=150&amp;tbnw=150&amp;usg=AI4_-kSbfUUigAnr3nKizUcM8fI1-GQ3Kg&amp;vet=1&amp;docid=e2GWD2cLk2YYAM&amp;sa=X&amp;ved=2ahUKEwijnezeot_7AhX-7jgGHS_sDOQQ9QF6BAgKEAY\"><div><img class=\"WddBJd\" style=\"max-width:none;height:128px;max-height:128px\" alt=\"Kanav Bansal\" src=\"data:image/gif;base64,R0lGODlhAQABAIAAAP///////yH5BAEKAAEALAAAAAABAAEAAAICTAEAOw==\" id=\"dimg_5\" data-deferred=\"1\"></div></a><a class=\"BVG0Nb\" href=\"https://www.google.com/imgres?imgurl=https://lookaside.fbsbx.com/lookaside/crawler/media/?media_id%3D434278708739807&amp;imgrefurl=https://m.facebook.com/Kanav-Bansal-109183730698663/&amp;h=958&amp;w=960&amp;tbnid=gNbcSUPLzqTQ8M&amp;q=Kanav+Bansal&amp;tbnh=148&amp;tbnw=148&amp;usg=AI4_-kSoBxAKicBj9gODFcfq5HgzjmlRRg&amp;vet=1&amp;docid=cGv4Np6qeIxveM&amp;sa=X&amp;ved=2ahUKEwijnezeot_7AhX-7jgGHS_sDOQQ9QF6BAgKEAg\"><div><img class=\"WddBJd\" style=\"max-width:none;height:128px;max-height:128px\" alt=\"Kanav Bansal | Facebook\" src=\"data:image/gif;base64,R0lGODlhAQABAIAAAP///////yH5BAEKAAEALAAAAAABAAEAAAICTAEAOw==\" id=\"dimg_7\" data-deferred=\"1\"></div></a><a class=\"BVG0Nb\" href=\"https://www.google.com/imgres?imgurl=https://media-exp1.licdn.com/dms/image/C4E03AQHUg-rAd0rYVA/profile-displayphoto-shrink_800_800/0/1595003313600?e%3D2147483647%26v%3Dbeta%26t%3DsbxqVSQgfAv6KLZRS_wCVFK84sDOQ9Lx75A1-4Xn7z0&amp;imgrefurl=https://www.linkedin.com/in/kanav-bansal-7b713434&amp;h=800&amp;w=800&amp;tbnid=mu83cot--tbdNM&amp;q=Kanav+Bansal&amp;tbnh=143&amp;tbnw=143&amp;usg=AI4_-kSLuBn9Vk_D_gCKvrTI3hn7WP0U1A&amp;vet=1&amp;docid=W7R_HScSwLXCDM&amp;sa=X&amp;ved=2ahUKEwijnezeot_7AhX-7jgGHS_sDOQQ9QF6BAgKEAo\"><div><img class=\"WddBJd\" style=\"max-width:none;height:128px;max-height:128px\" alt=\"Kanav Bansal - Application Developer - Apple | LinkedIn\" src=\"data:image/gif;base64,R0lGODlhAQABAIAAAP///////yH5BAEKAAEALAAAAAABAAEAAAICTAEAOw==\" id=\"dimg_9\" data-deferred=\"1\"></div></a><a class=\"BVG0Nb\" href=\"https://www.google.com/imgres?imgurl=https://i.ytimg.com/vi/Y1dYhLXEd4E/maxresdefault.jpg&amp;imgrefurl=https://www.youtube.com/watch?v%3DY1dYhLXEd4E&amp;h=720&amp;w=1280&amp;tbnid=upeUmYW2KUaD_M&amp;q=Kanav+Bansal&amp;tbnh=84&amp;tbnw=150&amp;usg=AI4_-kTg22yzJianBYxm7egiBtxQVAGhTw&amp;vet=1&amp;docid=yxC29Wxu1unGYM&amp;itg=1&amp;sa=X&amp;ved=2ahUKEwijnezeot_7AhX-7jgGHS_sDOQQ9QF6BAgKEAw\"><div><img class=\"WddBJd\" style=\"max-width:none;height:128px;max-height:128px\" alt=\"Central Tendency With Kanav Bansal - YouTube\" src=\"data:image/gif;base64,R0lGODlhAQABAIAAAP///////yH5BAEKAAEALAAAAAABAAEAAAICTAEAOw==\" id=\"dimg_11\" data-deferred=\"1\"></div></a><a class=\"BVG0Nb\" href=\"https://www.google.com/imgres?imgurl=https://media-exp1.licdn.com/dms/image/C4D03AQF7apvKulaVeQ/profile-displayphoto-shrink_800_800/0/1653913822184?e%3D2147483647%26v%3Dbeta%26t%3DuEdFCRKDj6STFbKtvITXaeWsOTML-J0ISRSHxFjvn7E&amp;imgrefurl=https://in.linkedin.com/in/bansal-kanav&amp;h=657&amp;w=657&amp;tbnid=9dbxAVFHMVFlwM&amp;q=Kanav+Bansal&amp;tbnh=138&amp;tbnw=138&amp;usg=AI4_-kRXs9zlDh_roHlgjpZWN9TCKjeKCg&amp;vet=1&amp;docid=LNRYpvHqsCs0sM&amp;sa=X&amp;ved=2ahUKEwijnezeot_7AhX-7jgGHS_sDOQQ9QF6BAgKEA4\"><div><img class=\"WddBJd\" style=\"max-width:none;height:128px;max-height:128px\" alt=\"Kanav Bansal - Data Analyst - Axis Bank | LinkedIn\" src=\"data:image/gif;base64,R0lGODlhAQABAIAAAP///////yH5BAEKAAEALAAAAAABAAEAAAICTAEAOw==\" id=\"dimg_13\" data-deferred=\"1\"></div></a><div class=\"mHhylf\"><div class=\"WZ5GJf\"><a class=\"qN9Ked\" href=\"https://www.google.com/search?ie=UTF-8&amp;ei=iDWMY6O5Iv7d4-EPr9izoA4&amp;q=Kanav+Bansal&amp;tbm=isch&amp;sa=X&amp;ved=2ahUKEwijnezeot_7AhX-7jgGHS_sDOQQ7Al6BAgKEA8\"><button class=\"DXk5Me Qi9Fd\" tabindex=\"-1\"><span class=\"hWHuJ\"><img class=\"Dk7jOe\" alt=\"\" src=\"data:image/gif;base64,R0lGODlhAQABAIAAAP///////yH5BAEKAAEALAAAAAABAAEAAAICTAEAOw==\" style=\"max-width:24px;max-height:24px\" id=\"dimg_15\" data-deferred=\"1\"></span></button><div class=\"BNeawe ji5jpf tAd8D AP7Wnd\">View all</div></a></div></div></div></div></div></div></div></div></div><div><div class=\"Gx5Zad fP1Qef xpd EtOod pkphOe\"><div class=\"egMi0 kCrYT\"><a href=\"/url?q=https://www.instagram.com/simplykanav/%3Fhl%3Den&amp;sa=U&amp;ved=2ahUKEwijnezeot_7AhX-7jgGHS_sDOQQFnoECAEQAg&amp;usg=AOvVaw3WeSp-rFg_p3ANyIRSsK4l\"><div class=\"DnJfK\"><div class=\"j039Wc\"><h3 class=\"zBAuLc l97dzf\"><div class=\"BNeawe vvjwJb AP7Wnd\">Kanav Bansal (@simplykanav) &#8226; Instagram photos and videos</div></h3></div><div class=\"sCuL3\"><div class=\"BNeawe UPmit AP7Wnd lRVwie\">www.instagram.com &#8250; simplykanav</div></div></div></a></div><div class=\"kCrYT\"><div><div class=\"BNeawe s3v9rd AP7Wnd\"><div><div><div class=\"BNeawe s3v9rd AP7Wnd\">899 Followers, 804 Following, 37 Posts - See Instagram photos and videos from Kanav Bansal (@simplykanav)</div></div></div></div></div></div></div></div><div><div class=\"Gx5Zad fP1Qef xpd EtOod pkphOe\"><div class=\"egMi0 kCrYT\"><a href=\"/url?q=https://www.behance.net/Kanav%3Ftracking_source%3Dsearch_projects%257CInstagram%2BGrid&amp;sa=U&amp;ved=2ahUKEwijnezeot_7AhX-7jgGHS_sDOQQFnoECAUQAg&amp;usg=AOvVaw27_LMtgTuOvAi1pCp8xDOE\"><div class=\"DnJfK\"><div class=\"j039Wc\"><h3 class=\"zBAuLc l97dzf\"><div class=\"BNeawe vvjwJb AP7Wnd\">Kanav Bansal on Behance</div></h3></div><div class=\"sCuL3\"><div class=\"BNeawe UPmit AP7Wnd lRVwie\">www.behance.net &#8250; Kanav</div></div></div></a></div><div class=\"kCrYT\"><div><div class=\"BNeawe s3v9rd AP7Wnd\"><div><div><div class=\"BNeawe s3v9rd AP7Wnd\">Replace Banner Image. Optimal dimensions 3200 x 410px. Replace Image. Remove. Kanav Bansal's profile. Kanav Bansal. Graphic Designer and Engineering Student.</div></div></div></div></div></div></div></div><div><div class=\"Gx5Zad fP1Qef xpd EtOod pkphOe\"><div class=\"egMi0 kCrYT\"><a href=\"/url?q=https://m.facebook.com/Kanav-Bansal-109183730698663/&amp;sa=U&amp;ved=2ahUKEwijnezeot_7AhX-7jgGHS_sDOQQFnoECAgQAg&amp;usg=AOvVaw3XkEV9ok2F6f0ErPiv-TCO\"><div class=\"DnJfK\"><div class=\"j039Wc\"><h3 class=\"zBAuLc l97dzf\"><div class=\"BNeawe vvjwJb AP7Wnd\">Kanav Bansal | Facebook</div></h3></div><div class=\"sCuL3\"><div class=\"BNeawe UPmit AP7Wnd lRVwie\">m.facebook.com &#8250; Kanav-Bansal-109183730698663</div></div></div></a></div><div class=\"kCrYT\"><div><div class=\"BNeawe s3v9rd AP7Wnd\"><div><div><div class=\"BNeawe s3v9rd AP7Wnd\">Kanav Bansal. 537 likes · 1 talking about this. Actor model.</div></div></div></div></div></div></div></div><div><div class=\"Gx5Zad fP1Qef xpd EtOod pkphOe\"><div class=\"egMi0 kCrYT\"><a href=\"/url?q=https://www.facebook.com/public/Kanav-Bansal&amp;sa=U&amp;ved=2ahUKEwijnezeot_7AhX-7jgGHS_sDOQQFnoECAAQAg&amp;usg=AOvVaw38j6fNft1kk5GAmX2QQEAb\"><div class=\"DnJfK\"><div class=\"j039Wc\"><h3 class=\"zBAuLc l97dzf\"><div class=\"BNeawe vvjwJb AP7Wnd\">kanav-bansal Profiles - Facebook</div></h3></div><div class=\"sCuL3\"><div class=\"BNeawe UPmit AP7Wnd lRVwie\">www.facebook.com &#8250; public &#8250; Kanav-Bansal</div></div></div></a></div><div class=\"kCrYT\"><div><div class=\"BNeawe s3v9rd AP7Wnd\"><div><div><div class=\"BNeawe s3v9rd AP7Wnd\">View the profiles of people named Kanav Bansal. Join Facebook to connect with Kanav Bansal and others you may know. Facebook gives people the power to...</div></div></div></div></div></div></div></div><div><div class=\"Gx5Zad xpd EtOod pkphOe\"><div class=\"K8tyEc\"><div class=\"mEUgP\"><span><div class=\"BNeawe\">Related searches</div></span></div></div><div class=\"x54gtf\"></div><div><div class=\"gGQDvd iIWm4b\"><a class=\"Q71vJc\" href=\"/search?ie=UTF-8&amp;q=Kanav+Bansal+GitHub&amp;sa=X&amp;ved=2ahUKEwijnezeot_7AhX-7jgGHS_sDOQQ1QJ6BAgHEAI\"><accordion-entry-search-icon><span class=\"ieB2Dd\"><img class=\"OEaqif\" alt=\"\" src=\"data:image/gif;base64,R0lGODlhAQABAIAAAP///////yH5BAEKAAEALAAAAAABAAEAAAICTAEAOw==\" style=\"max-width:20px;max-height:20px\" id=\"dimg_1\" data-deferred=\"1\"></span></accordion-entry-search-icon><div class=\"kjGX2\"><span><div class=\"BNeawe s3v9rd AP7Wnd lRVwie\">Kanav Bansal GitHub</div></span></div></a></div></div></div></div><footer> <div>  <div class=\"Gx5Zad xpd EtOod pkphOe BmP5tf\"><div class=\"nMymef MUxGbd lyLwlc\"><a class=\"nBDE1b G5eFlf\" href=\"/search?q=Kanav+Bansal&amp;ie=UTF-8&amp;ei=iDWMY6O5Iv7d4-EPr9izoA4&amp;start=10&amp;sa=N\" aria-label=\"Next page\">Next &gt;</a></div></div> </div>  <div id=\"EOlPnc\"><div class=\"Srfpq\"><div><span class=\"EYqSq unknown_loc\"></span><span class=\"dfB0uf\">Hyderabad, Telangana</span></div><span>From your IP address</span><span>&nbsp;-&nbsp;</span><a href=\"/url?q=https://support.google.com/websearch%3Fp%3Dws_settings_location%26hl%3Den-IN&amp;sa=U&amp;ved=0ahUKEwijnezeot_7AhX-7jgGHS_sDOQQty4ITg&amp;usg=AOvVaw2yeG2vgWjdpq5H6EsPdYIY\">Learn more</a></div><div><a href=\"/url?q=https://accounts.google.com/ServiceLogin%3Fcontinue%3Dhttps://www.google.com/search%253Fq%253DKanav%252BBansal%26hl%3Den&amp;sa=U&amp;ved=0ahUKEwijnezeot_7AhX-7jgGHS_sDOQQxs8CCE8&amp;usg=AOvVaw3c5vPhp3NxL9HK75Zi5BhR\">Sign in</a></div><div><a class=\"xeDNfc\" href=\"https://www.google.com/preferences?hl=en-IN&amp;fg=1&amp;sa=X&amp;ved=0ahUKEwijnezeot_7AhX-7jgGHS_sDOQQ5fUCCFA\">Settings</a><a class=\"xeDNfc\" href=\"https://policies.google.com/privacy?hl=en-IN&amp;fg=1\">Privacy</a><a class=\"xeDNfc\" href=\"https://policies.google.com/terms?hl=en-IN&amp;fg=1\">Terms</a></div></div> </footer><script nonce=\"JmmTRD-OqgL4VgdbPX2EYA\">(function(){var hl='en-IN';(function(){\n",
      "var f=this||self,g=function(a){return a};var h,k=function(){if(void 0===h){var a=null,b=f.trustedTypes;if(b&&b.createPolicy){try{a=b.createPolicy(\"goog#html\",{createHTML:g,createScript:g,createScriptURL:g})}catch(c){f.console&&f.console.error(c.message)}h=a}else h=a}return h};var p=function(a,b){this.h=a===l&&b||\"\";this.g=m},q=function(a){return a instanceof p&&a.constructor===p&&a.g===m?a.h:\"type_error:Const\"},m={},l={};var t=function(a,b){this.g=b===r?a:\"\"};t.prototype.toString=function(){return this.g+\"\"};var u=function(a){return a instanceof t&&a.constructor===t?a.g:\"type_error:TrustedResourceUrl\"},y=function(){var a={},b=q(new p(l,\"/complete/search\"));if(!v.test(b))throw Error(\"a`\"+b);var c=b.replace(w,function(e,d){if(!Object.prototype.hasOwnProperty.call(a,d))throw Error(\"b`\"+d+\"`\"+b+\"`\"+JSON.stringify(a));e=a[d];return e instanceof p?q(e):encodeURIComponent(String(e))});return x(c)},w=/%{(\\w+)}/g,v=RegExp(\"^((https:)?//[0-9a-z.:[\\\\]-]+/|/[^/\\\\\\\\]|[^:/\\\\\\\\%]+/|[^:/\\\\\\\\%]*[?#]|about:blank#)\",\"i\"),z=/^([^?#]*)(\\?[^#]*)?(#[\\s\\S]*)?/,r={},x=function(a){var b=k();a=b?b.createScriptURL(a):a;return new t(a,r)},A=function(a,b,c){if(null==c)return b;if(\"string\"===typeof c)return c?a+encodeURIComponent(c):\"\";for(var e in c)if(Object.prototype.hasOwnProperty.call(c,e)){var d=c[e];d=Array.isArray(d)?d:[d];for(var n=0;n<d.length;n++){var P=d[n];null!=P&&(b||(b=a),b+=(b.length>a.length?\"&\":\"\")+encodeURIComponent(e)+\"=\"+encodeURIComponent(String(P)))}}return b};var B={},C=function(a,b){this.g=b===B?a:\"\"};C.prototype.toString=function(){return this.g.toString()};var D=function(a){var b=k();a=b?b.createHTML(a):a;return new C(a,B)};\n",
      "function E(a,b){if(void 0!==a.tagName){if(\"script\"===a.tagName.toLowerCase())throw Error(\"c\");if(\"style\"===a.tagName.toLowerCase())throw Error(\"d\");}a.innerHTML=b instanceof C&&b.constructor===C?b.g:\"type_error:SafeHtml\"};var F=document.querySelector(\".l\"),G=document.querySelector(\"#sf\"),H=G.querySelector(\".sbc\"),I=G.querySelector(\"[type=text]\"),J=G.querySelector(\"[type=submit]\"),K=G.querySelector(\".sc\"),L=G.querySelector(\".x\"),M=I.value,N=[],O=-1,Q=M,R,S,T;M||(L&&(L.style.display=\"none\"),U(!1));function U(a){if(H.classList.contains(\"esbc\")){var b=H.classList.contains(\"chsbc\"),c=H.classList.contains(\"rtlsbc\");a&&(K.style.display=\"block\",b?(G.style.borderRadius=\"20px 20px 0 0\",K.style.borderBottom=\"1px solid #DFE1E5\",J.style.borderRadius=c?\"20px 0 0 0\":\"0 20px 0 0\"):H.style.borderRadius=c?\"0 8px 0 0\":\"8px 0 0 0\");a||(K.style.display=\"none\",b?(G.style.borderRadius=\"20px\",K.style.borderBottom=\"none\",J.style.borderRadius=c?\"20px 0 0 20px\":\"0 20px 20px 0\"):H.style.borderRadius=c?\"0 8px 8px 0\":\"8px 0 0 8px\")}}function V(){G.querySelector(\"[name=oq]\").value=Q;G.querySelector(\"[name=aqs]\").value=\"heirloom-srp.\"+(0<=O?O:\"\")+\".\"+(0<N.length?\"0l\"+N.length:\"\")}\n",
      "function W(){R=null;if(S){var a={client:\"heirloom-srp\",hl:hl,json:\"t\",callback:\"hS\",q:S};\"undefined\"!==typeof ds&&ds&&(a.ds=ds);var b=document;var c=\"SCRIPT\";\"application/xhtml+xml\"===b.contentType&&(c=c.toLowerCase());c=b.createElement(c);b=y();b=z.exec(u(b).toString());var e=b[3]||\"\";a=x(b[1]+A(\"?\",b[2]||\"\",a)+A(\"#\",e));c.src=u(a);var d,n;(d=(a=null==(n=(d=(c.ownerDocument&&c.ownerDocument.defaultView||window).document).querySelector)?void 0:n.call(d,\"script[nonce]\"))?a.nonce||a.getAttribute(\"nonce\")||\n",
      "\"\":\"\")&&c.setAttribute(\"nonce\",d);document.body.appendChild(c);S=null;R=setTimeout(W,500)}}function X(){for(;K.firstChild;)K.removeChild(K.firstChild);N=[];O=-1;U(!1)}function Y(){var a=K.querySelector(\".scs\");a&&(a.className=\"\");0<=O?(a=K.childNodes[O],a.className=\"scs\",M=a.textContent):M=Q;I.value=M}I.addEventListener(\"focus\",function(){F&&(F.style.display=\"none\")},!1);I.addEventListener(\"blur\",function(){X();F&&(F.style.display=\"\")},!1);I.addEventListener(\"keyup\",function(a){M=I.value;T=!1;13===a.which?V():27===a.which?(X(),F&&(F.style.display=\"\"),M=Q,I.value=M):40===a.which?(O++,O>=N.length&&(O=-1),Y()):38===a.which?(O--,-1>O&&(O=N.length-1),Y()):(a=M)?(L&&(L.style.display=\"\"),S=a,R||W(),Q=a):(L&&(L.style.display=\"none\"),U(!1),X(),Q=\"\",T=!0)},!1);J.addEventListener(\"click\",V,!1);L.addEventListener(\"click\",function(){I.value=\"\";L.style.display=\"none\";U(!1)},!1);H.addEventListener(\"click\",function(){I.focus()},!1);window.hS=function(a){if(!T){X();0===a[1].length&&U(!1);for(var b=0;b<a[1].length;b++){var c=a[1][b][0],e=document.createElement(\"div\");E(e,D(c));e.addEventListener(\"mousedown\",function(d){d.preventDefault();return!1},!1);c=c.replace(/<\\/?b>/g,\"\");e.addEventListener(\"click\",function(d){return function(){O=d;V();Y();X();G.submit()}}(b),!1);e.addEventListener(\"mouseover\",function(d){return function(){O!==d&&(O=d,Y())}}(b),!1);K.appendChild(e);U(!0);N.push(c)}}};}).call(this);})();(function(){function b(a){for(a=a.target||a.srcElement;a&&\"A\"!==a.nodeName;)a=a.parentElement;a&&(a.href||\"\").match(/\\/search.*[?&]tbm=isch/)&&(a.href+=\"&biw=\"+document.documentElement.clientWidth,a.href+=\"&bih=\"+document.documentElement.clientHeight)}document.addEventListener(\"click\",b,!1);document.addEventListener(\"touchStart\",b,!1);}).call(this);</script></div><!-- cctlcm 5 cctlcm --><textarea class=\"csi\" name=\"csi\" style=\"display:none\"></textarea><script nonce=\"JmmTRD-OqgL4VgdbPX2EYA\">(function(){var e='iDWMY6O5Iv7d4-EPr9izoA4';var sn='web';var timl=false;var gecoh=true;var fil=true;(function(){function B(a){var b=gecoh;if(!a||C(a))return 0;if(!a.getBoundingClientRect)return 1;var c=function(d){return d.getBoundingClientRect()};return D(a,c,b)?0:J(a,c)}function D(a,b,c){a:{for(var d=a;d&&null!==d;d=d.parentElement)if(\"hidden\"===d.style.overflow||c&&\"G-EXPANDABLE-CONTENT\"===d.tagName&&\"hidden\"===getComputedStyle(d).getPropertyValue(\"overflow\")){c=d;break a}c=null}if(!c)return!1;a=b(a);b=b(c);return a.bottom<b.top||a.top>=b.bottom||a.right<b.left||a.left>=b.right}\n",
      "function C(a){return\"none\"===a.style.display?!0:document.defaultView&&document.defaultView.getComputedStyle?(a=document.defaultView.getComputedStyle(a),!!a&&(\"hidden\"===a.visibility||\"0px\"===a.height&&\"0px\"===a.width)):!1}\n",
      "function J(a,b){var c=b(a);a=c.left+window.pageXOffset;b=c.top+window.pageYOffset;var d=c.width;c=c.height;var g=0;if(0>=c&&0>=d)return g;var q=window.innerHeight||document.documentElement.clientHeight;0>b+c?g=2:b>=q&&(g=4);if(0>a+d||a>=(window.innerWidth||document.documentElement.clientWidth))g|=8;g||(g=1,b+c>q&&(g|=4));return g};var K=e,L=sn,M=\"undefined\"===typeof de?!0:!1!==de,N=[],O=\"undefined\"!==typeof fil?fil:!1;function P(a,b,c){a=\"/gen_204?atyp=csi&s=\"+L+\"&t=\"+a+(\"&lite=1&ei=\"+K+\"&conn=\"+(window.navigator&&window.navigator.connection?window.navigator.connection.type:-1)+b);b=\"&rt=\";for(var d in c)a+=\"\"+b+d+\".\"+c[d],b=\",\";return a}function Q(a){a={prt:a};window.wsrt&&(a.wsrt=window.wsrt);return a}function R(a){window.ping?window.ping(a):(new Image).src=a}\n",
      "(function(){for(var a=(new Date).getTime()-window.start,b=Q(a),c=0,d=0,g=0,q=document.getElementsByTagName(\"img\"),r=M?\"&biw=\"+window.innerWidth+\"&bih=\"+window.innerHeight:\"\",E=function(){r+=\"&ima=\"+g;b.aft=c;R(P(\"aft\",r,b))},x=0,S=function(h,t,u){var n=h.src;h.onload=function(){u&&n&&n===h.src||(d=(new Date).getTime()-window.start,t&&++x===g&&(c=d,E()),h.onload=null)}},T=0,f=void 0;f=q[T++];){var v=B(f),p=!!(v&1);p&&++g;var l=f.hasAttribute(\"data-ilite\"),w=f.hasAttribute(\"data-deferred\"),F=f.hasAttribute(\"data-src\")||\n",
      "f.hasAttribute(\"data-lzysrc\"),y=!w&&!l&&F;N.push([v,w||l,y,!!(google.ldi&&f.id&&google.ldi[f.id])||l&&F]);l=(v=f.complete&&!w&&!(p&&y))&&Number(f.getAttribute(\"data-iml\"))||0;v&&l?(p&&++x,l&&(f=l-window.start,p&&(c=Math.max(c,f)),d=Math.max(d,f))):S(f,p,O&&(w||y))}c||(c=a);d||(d=c);x===g&&E();google.rglh&&google.rglh();window.addEventListener(\"load\",function(){window.setTimeout(function(){b.ol=(new Date).getTime()-window.start;timl&&(b.iml=d);var h=window.performance&&window.performance.timing;h&&\n",
      "(b.rqst=h.responseEnd-h.requestStart,b.rspt=h.responseEnd-h.responseStart);for(var t=h=0,u=0,n=0,G=0,H=0,U=0,k;k=N[U++];){var m=k[0],z=k[1],I=k[2];k=k[3];var V=0==m,W=m&8,A=m&1;m=!A&&m&4;A&&(z&&!k||++u,I&&++H);z&&(A&&k&&++h,m&&!k&&++t);V||W?I||++G:z||++n}r+=\"&ime=\"+u+\"&imel=\"+H+(\"&imex=\"+n+\"&imeh=\"+G)+(\"&imea=\"+h+\"&imeb=\"+t);R(P(\"all\",r,b))},0)},!1)})();}).call(this);})();</script><script nonce=\"JmmTRD-OqgL4VgdbPX2EYA\">window._setImagesSrc=function(e,f){function g(b){b.onerror=function(){b.style.display=\"none\"};b.setAttribute(\"data-deferred\",\"2\");b.src=f}for(var c=0;c<e.length;++c){var a=e[c],d=document.getElementById(a)||document.querySelector('img[data-iid=\"'+a+'\"]');d?(a=void 0,(null==(a=google.c)?0:a.setup)&&google.c.setup(d),g(d)):(google.iir=google.iir||{},google.iir[a]=f)}};\"undefined\"===typeof window.google&&(window.google={});</script><script nonce=\"JmmTRD-OqgL4VgdbPX2EYA\">(function(){var s='data:image/jpeg;base64,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\\x3d\\x3d';var i=['dimg_3'];_setImagesSrc(i,s);})();</script><script nonce=\"JmmTRD-OqgL4VgdbPX2EYA\">(function(){var s='data:image/jpeg;base64,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\\x3d';var i=['dimg_5'];_setImagesSrc(i,s);})();</script><script nonce=\"JmmTRD-OqgL4VgdbPX2EYA\">(function(){var s='data:image/jpeg;base64,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\\x3d';var i=['dimg_7'];_setImagesSrc(i,s);})();</script><script nonce=\"JmmTRD-OqgL4VgdbPX2EYA\">(function(){var s='data:image/jpeg;base64,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\\x3d\\x3d';var i=['dimg_9'];_setImagesSrc(i,s);})();</script><script nonce=\"JmmTRD-OqgL4VgdbPX2EYA\">(function(){var s='data:image/jpeg;base64,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';var i=['dimg_11'];_setImagesSrc(i,s);})();</script><script nonce=\"JmmTRD-OqgL4VgdbPX2EYA\">(function(){var s='data:image/jpeg;base64,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';var i=['dimg_13'];_setImagesSrc(i,s);})();</script><script nonce=\"JmmTRD-OqgL4VgdbPX2EYA\">(function(){var s='data:image/png;base64,iVBORw0KGgoAAAANSUhEUgAAABgAAAAYAgMAAACdGdVrAAAADFBMVEVMaXFChfRChfRChfT0tCPZAAAAA3RSTlMAgFJEkGxNAAAAL0lEQVR4AWPADxgdwBT3BTDF9AUiuhdC6WNK/v///y+UggrClSA07EWVglmEFwAA5eYSExeCwigAAAAASUVORK5CYII\\x3d';var i=['dimg_15'];_setImagesSrc(i,s);})();</script><script nonce=\"JmmTRD-OqgL4VgdbPX2EYA\">(function(){var s='data:image/png;base64,iVBORw0KGgoAAAANSUhEUgAAABQAAAAUCAYAAACNiR0NAAABAUlEQVR4AWMYesChoYElLjkzPj4lY3d8csZjIL4MxPNjUzPcSTYsISFLAqj5NBD/h+LPQPwbiT87NCuLh2gDgRr2QzXuT0jNMoBYksARn5zuHJ+UcR0kB6RXE2VYXHJGOlTDZmzyIJcB5e+D1CSkZDgQNBAaZv+jU1JkcKpJygiGeZ0I76a/Byq8jU9NZFqaCNTA48SE33/iDcw8TIyBt0GKQTFN0Msp6f2EIyUpo57YSIlLSrMhIg0WCIBcCfXSdlzJBsheTHQ6jEnOUgEFOLaEDbMIlhZBOYrorAdJk+nroVnvPsSgdGdoOF7HZyhZ2XPoGQoqjbCpIbt0AiejIQMArVLI7k/DXFkAAAAASUVORK5CYII\\x3d';var i=['dimg_1'];_setImagesSrc(i,s);})();</script><script nonce=\"JmmTRD-OqgL4VgdbPX2EYA\">(function(){var e='iDWMY6O5Iv7d4-EPr9izoA4';(function(){var a=e;2===(window.performance&&window.performance.navigation&&window.performance.navigation.type)&&window.ping(\"/gen_204?ct=backbutton&ei=\"+a);}).call(this);})();(function(){var b=[function(){google.tick&&google.tick(\"load\",\"dcl\")}];google.dclc=function(a){b.length?b.push(a):a()};function c(){for(var a=b.shift();a;)a(),a=b.shift()}window.addEventListener?(document.addEventListener(\"DOMContentLoaded\",c,!1),window.addEventListener(\"load\",c,!1)):window.attachEvent&&window.attachEvent(\"onload\",c);}).call(this);window.jsl=window.jsl||{};window.jsl.dh=function(a,b,f){try{var g=document.getElementById(a);if(g)g.innerHTML=b,f&&f();else{var c={id:a,script:String(!!f),milestone:String(google.jslm||0)};google.jsla&&(c.async=google.jsla);var h=a.indexOf(\"_\"),d=0<h?a.substring(0,h):\"\",k=document.createElement(\"div\");k.innerHTML=b;var e=k.children[0];if(e&&(c.tag=e.tagName,c[\"class\"]=String(e.className||null),c.name=String(e.getAttribute(\"jsname\")),d)){a=[];var l=document.querySelectorAll('[id^=\"'+d+'_\"]');for(b=0;b<l.length;++b)a.push(l[b].id);c.ids=a.join(\",\")}google.ml(Error(d?\"Missing ID with prefix \"+d:\"Missing ID\"),!1,c)}}catch(m){google.ml(m,!0,{\"jsl.dh\":!0})}};(function(){var x=false;google.jslm=x?2:1;})();(function(){(function(){google.csct={};google.csct.ps='AOvVaw28mV8N-IgVwqT5idi_P6Fy\\x26ust\\x3d1670219528599671';})();})();(function(){(function(){google.csct.rd=true;})();})();(function(){(function(){google.csct.rl=true;})();})();google.drty&&google.drty(undefined,true);</script></body></html>\n"
     ]
    }
   ],
   "source": [
    "parameters = {\"q\": \"Kanav Bansal\"}\n",
    "response = response = requests.get(\"https://google.com/search\", params=parameters)\n",
    "print(response.status_code)\n",
    "print(response.text)"
   ]
  },
  {
   "cell_type": "markdown",
   "metadata": {},
   "source": [
    "## Getting JSON from an API request"
   ]
  },
  {
   "cell_type": "code",
   "execution_count": 25,
   "metadata": {
    "ExecuteTime": {
     "end_time": "2018-09-04T03:33:37.345919Z",
     "start_time": "2018-09-04T03:33:36.305704Z"
    },
    "scrolled": true
   },
   "outputs": [
    {
     "name": "stdout",
     "output_type": "stream",
     "text": [
      "<class 'dict'>\n",
      "{'people': [{'craft': 'Tiangong', 'name': 'Cai Xuzhe'}, {'craft': 'Tiangong', 'name': 'Chen Dong'}, {'craft': 'Tiangong', 'name': 'Liu Yang'}, {'craft': 'ISS', 'name': 'Sergey Prokopyev'}, {'craft': 'ISS', 'name': 'Dmitry Petelin'}, {'craft': 'ISS', 'name': 'Frank Rubio'}, {'craft': 'ISS', 'name': 'Nicole Mann'}, {'craft': 'ISS', 'name': 'Josh Cassada'}, {'craft': 'ISS', 'name': 'Koichi Wakata'}, {'craft': 'ISS', 'name': 'Anna Kikina'}, {'craft': 'Shenzhou 15', 'name': 'Fei Junlong'}, {'craft': 'Shenzhou 15', 'name': 'Deng Qingming'}, {'craft': 'Shenzhou 15', 'name': 'Zhang Lu'}], 'number': 13, 'message': 'success'}\n"
     ]
    }
   ],
   "source": [
    "response = requests.get(\"http://api.open-notify.org/astros.json\")\n",
    "\n",
    "# Get the response data as a python object. Verify that it's a dictionary.\n",
    "data = response.json()\n",
    "print(type(data))\n",
    "print(data)"
   ]
  },
  {
   "cell_type": "code",
   "execution_count": 26,
   "metadata": {
    "ExecuteTime": {
     "end_time": "2018-09-04T03:33:39.276426Z",
     "start_time": "2018-09-04T03:33:39.271722Z"
    }
   },
   "outputs": [
    {
     "name": "stdout",
     "output_type": "stream",
     "text": [
      "{'Server': 'nginx/1.10.3', 'Date': 'Sun, 04 Dec 2022 05:52:12 GMT', 'Content-Type': 'application/json', 'Content-Length': '623', 'Connection': 'keep-alive', 'access-control-allow-origin': '*'}\n"
     ]
    }
   ],
   "source": [
    "print(response.headers)"
   ]
  },
  {
   "cell_type": "code",
   "execution_count": 27,
   "metadata": {
    "ExecuteTime": {
     "end_time": "2018-09-03T14:13:18.358948Z",
     "start_time": "2018-09-03T14:13:18.351933Z"
    },
    "scrolled": true
   },
   "outputs": [
    {
     "name": "stdout",
     "output_type": "stream",
     "text": [
      "application/json\n"
     ]
    }
   ],
   "source": [
    "print(response.headers[\"Content-Type\"])"
   ]
  },
  {
   "cell_type": "markdown",
   "metadata": {},
   "source": [
    "## Finding the Number of People in Space"
   ]
  },
  {
   "cell_type": "code",
   "execution_count": 28,
   "metadata": {
    "ExecuteTime": {
     "end_time": "2018-09-04T03:34:53.800893Z",
     "start_time": "2018-09-04T03:34:52.580463Z"
    },
    "scrolled": true
   },
   "outputs": [],
   "source": [
    "# Get the response from the API endpoint.\n",
    "response = requests.get(\"http://api.open-notify.org/astros.json\")\n",
    "data = response.json()"
   ]
  },
  {
   "cell_type": "code",
   "execution_count": 29,
   "metadata": {},
   "outputs": [
    {
     "name": "stdout",
     "output_type": "stream",
     "text": [
      "<class 'dict'>\n"
     ]
    }
   ],
   "source": [
    "print(type(data))"
   ]
  },
  {
   "cell_type": "code",
   "execution_count": 30,
   "metadata": {},
   "outputs": [
    {
     "name": "stdout",
     "output_type": "stream",
     "text": [
      "{'people': [{'craft': 'Tiangong', 'name': 'Cai Xuzhe'}, {'craft': 'Tiangong', 'name': 'Chen Dong'}, {'craft': 'Tiangong', 'name': 'Liu Yang'}, {'craft': 'ISS', 'name': 'Sergey Prokopyev'}, {'craft': 'ISS', 'name': 'Dmitry Petelin'}, {'craft': 'ISS', 'name': 'Frank Rubio'}, {'craft': 'ISS', 'name': 'Nicole Mann'}, {'craft': 'ISS', 'name': 'Josh Cassada'}, {'craft': 'ISS', 'name': 'Koichi Wakata'}, {'craft': 'ISS', 'name': 'Anna Kikina'}, {'craft': 'Shenzhou 15', 'name': 'Fei Junlong'}, {'craft': 'Shenzhou 15', 'name': 'Deng Qingming'}, {'craft': 'Shenzhou 15', 'name': 'Zhang Lu'}], 'number': 13, 'message': 'success'}\n"
     ]
    }
   ],
   "source": [
    "print(data)"
   ]
  },
  {
   "cell_type": "code",
   "execution_count": 31,
   "metadata": {},
   "outputs": [
    {
     "data": {
      "text/plain": [
       "dict_keys(['people', 'number', 'message'])"
      ]
     },
     "execution_count": 31,
     "metadata": {},
     "output_type": "execute_result"
    }
   ],
   "source": [
    "data.keys()"
   ]
  },
  {
   "cell_type": "code",
   "execution_count": 32,
   "metadata": {},
   "outputs": [
    {
     "name": "stdout",
     "output_type": "stream",
     "text": [
      "13\n"
     ]
    }
   ],
   "source": [
    "# How many people are currently is space?\n",
    "print(data[\"number\"])"
   ]
  },
  {
   "cell_type": "code",
   "execution_count": 33,
   "metadata": {},
   "outputs": [
    {
     "name": "stdout",
     "output_type": "stream",
     "text": [
      "[{'craft': 'Tiangong', 'name': 'Cai Xuzhe'}, {'craft': 'Tiangong', 'name': 'Chen Dong'}, {'craft': 'Tiangong', 'name': 'Liu Yang'}, {'craft': 'ISS', 'name': 'Sergey Prokopyev'}, {'craft': 'ISS', 'name': 'Dmitry Petelin'}, {'craft': 'ISS', 'name': 'Frank Rubio'}, {'craft': 'ISS', 'name': 'Nicole Mann'}, {'craft': 'ISS', 'name': 'Josh Cassada'}, {'craft': 'ISS', 'name': 'Koichi Wakata'}, {'craft': 'ISS', 'name': 'Anna Kikina'}, {'craft': 'Shenzhou 15', 'name': 'Fei Junlong'}, {'craft': 'Shenzhou 15', 'name': 'Deng Qingming'}, {'craft': 'Shenzhou 15', 'name': 'Zhang Lu'}]\n"
     ]
    }
   ],
   "source": [
    "# Who are these people?\n",
    "print(data[\"people\"])"
   ]
  },
  {
   "cell_type": "code",
   "execution_count": 34,
   "metadata": {},
   "outputs": [
    {
     "name": "stdout",
     "output_type": "stream",
     "text": [
      "Cai Xuzhe\n",
      "Chen Dong\n",
      "Liu Yang\n",
      "Sergey Prokopyev\n",
      "Dmitry Petelin\n",
      "Frank Rubio\n",
      "Nicole Mann\n",
      "Josh Cassada\n",
      "Koichi Wakata\n",
      "Anna Kikina\n",
      "Fei Junlong\n",
      "Deng Qingming\n",
      "Zhang Lu\n"
     ]
    }
   ],
   "source": [
    "people_in_space = data[\"people\"]\n",
    "for astronaut in people_in_space:\n",
    "    print(astronaut['name'])"
   ]
  },
  {
   "cell_type": "markdown",
   "metadata": {},
   "source": [
    "## Working with JSON - dump and load\n",
    "\n",
    "We can both convert lists, tuples and dictionaries to JSON, and convert strings to lists and dictionaries.\n",
    "\n",
    "The json module has two main methods:\n",
    "> **json.dumps(PYTHON_OBJECT) -** Takes in a Python object, and converts it to a string.  \n",
    "> **json.loads(JSON_STRING) -** Takes a JSON string, and converts it to a Python object."
   ]
  },
  {
   "cell_type": "code",
   "execution_count": 35,
   "metadata": {
    "ExecuteTime": {
     "end_time": "2018-09-04T03:33:33.902009Z",
     "start_time": "2018-09-04T03:33:33.894499Z"
    }
   },
   "outputs": [],
   "source": [
    "# Import the json library\n",
    "import json"
   ]
  },
  {
   "cell_type": "code",
   "execution_count": 36,
   "metadata": {
    "ExecuteTime": {
     "end_time": "2018-09-04T03:33:33.902009Z",
     "start_time": "2018-09-04T03:33:33.894499Z"
    }
   },
   "outputs": [
    {
     "name": "stdout",
     "output_type": "stream",
     "text": [
      "<class 'list'>\n"
     ]
    },
    {
     "data": {
      "text/plain": [
       "['Shaktiman', 'Krish', 'Flying Jatt', 'Bhavesh Joshi']"
      ]
     },
     "execution_count": 36,
     "metadata": {},
     "output_type": "execute_result"
    }
   ],
   "source": [
    "# Make a list of Indian Superheros chains.\n",
    "sup_hero = ['Shaktiman', 'Krish', 'Flying Jatt', 'Bhavesh Joshi']\n",
    "\n",
    "# This is a list\n",
    "print(type(sup_hero)) \n",
    "\n",
    "sup_hero"
   ]
  },
  {
   "cell_type": "code",
   "execution_count": 37,
   "metadata": {
    "ExecuteTime": {
     "end_time": "2018-09-04T03:33:33.902009Z",
     "start_time": "2018-09-04T03:33:33.894499Z"
    }
   },
   "outputs": [
    {
     "data": {
      "text/plain": [
       "'[\"Shaktiman\", \"Krish\", \"Flying Jatt\", \"Bhavesh Joshi\"]'"
      ]
     },
     "execution_count": 37,
     "metadata": {},
     "output_type": "execute_result"
    }
   ],
   "source": [
    "# Use json.dumps() to convert best_food_chains to a string.\n",
    "sup_hero_str = json.dumps(sup_hero)\n",
    "\n",
    "sup_hero_str"
   ]
  },
  {
   "cell_type": "code",
   "execution_count": 38,
   "metadata": {},
   "outputs": [
    {
     "name": "stdout",
     "output_type": "stream",
     "text": [
      "<class 'str'>\n",
      "<class 'list'>\n"
     ]
    }
   ],
   "source": [
    "# We've successfully converted our list to a string.\n",
    "print(type(sup_hero_str))\n",
    "\n",
    "# Convert best_food_chains_string back into a list\n",
    "print(type(json.loads(sup_hero_str)))"
   ]
  },
  {
   "cell_type": "code",
   "execution_count": 63,
   "metadata": {
    "ExecuteTime": {
     "end_time": "2018-09-04T03:33:33.902009Z",
     "start_time": "2018-09-04T03:33:33.894499Z"
    },
    "scrolled": false
   },
   "outputs": [
    {
     "name": "stdout",
     "output_type": "stream",
     "text": [
      "{'Subway': 24722, 'McDonalds': 14098, 'Starbucks': 10821, 'Pizza Hut': 7600}\n",
      "<class 'dict'>\n"
     ]
    }
   ],
   "source": [
    "# Make a dictionary\n",
    "fast_food_franchise = {\n",
    "    \"Subway\": 24722,\n",
    "    \"McDonalds\": 14098,\n",
    "    \"Starbucks\": 10821,\n",
    "    \"Pizza Hut\": 7600\n",
    "}\n",
    "\n",
    "print(type(fast_food_franchise))\n",
    "\n",
    "fast_food_franchise"
   ]
  },
  {
   "cell_type": "code",
   "execution_count": 64,
   "metadata": {},
   "outputs": [
    {
     "name": "stdout",
     "output_type": "stream",
     "text": [
      "{\"Subway\": 24722, \"McDonalds\": 14098, \"Starbucks\": 10821, \"Pizza Hut\": 7600}\n"
     ]
    }
   ],
   "source": [
    "# We can also dump a dictionary to a string and load it.\n",
    "fast_food_franchise_string = json.dumps(fast_food_franchise)\n",
    "\n",
    "fast_food_franchise_string"
   ]
  },
  {
   "cell_type": "code",
   "execution_count": 65,
   "metadata": {},
   "outputs": [
    {
     "name": "stdout",
     "output_type": "stream",
     "text": [
      "<class 'str'>\n",
      "<class 'dict'>\n"
     ]
    }
   ],
   "source": [
    "print(type(fast_food_franchise_string))\n",
    "\n",
    "print(type(json.loads(fast_food_franchise_string)))"
   ]
  },
  {
   "cell_type": "code",
   "execution_count": 76,
   "metadata": {},
   "outputs": [
    {
     "name": "stdout",
     "output_type": "stream",
     "text": [
      "<class 'str'>\n",
      "<class 'list'>\n"
     ]
    },
    {
     "data": {
      "text/plain": [
       "[1, 2, 3]"
      ]
     },
     "execution_count": 76,
     "metadata": {},
     "output_type": "execute_result"
    }
   ],
   "source": [
    "t = (1, 2, 3)\n",
    "\n",
    "t_d = json.dumps(t)\n",
    "print(type(t_d))\n",
    "\n",
    "t_l = json.loads(t_d)\n",
    "print(type(t_l))\n",
    "\n",
    "t_l"
   ]
  },
  {
   "cell_type": "markdown",
   "metadata": {},
   "source": [
    "## Popular API Documentations\n",
    "\n",
    "**fakestoreapi**  \n",
    "> https://fakestoreapi.com/docs  \n",
    "> fakeStoreApi can be used with any type of shopping project that needs products, carts, and users in JSON format. You can use examples below to check how fakeStoreApi works and feel free to enjoy it in your awesome projects! \n",
    "\n",
    "**coingecko**  \n",
    "> https://www.coingecko.com/en/api/documentation  \n",
    "> CoinGecko was founded in 2014 with the mission to democratize the access of crypto data and empower users with actionable insights. "
   ]
  },
  {
   "cell_type": "code",
   "execution_count": 55,
   "metadata": {},
   "outputs": [],
   "source": [
    "import requests\n",
    "\n",
    "ROOT_URL = \"https://api.coingecko.com/api/v3\"\n",
    "\n",
    "def get_request(endpoint, payload=dict()):\n",
    "    URI = ROOT_URL + endpoint\n",
    "    return requests.get(URI, params=payload)"
   ]
  },
  {
   "cell_type": "code",
   "execution_count": 56,
   "metadata": {},
   "outputs": [],
   "source": [
    "response = get_request('/ping')"
   ]
  },
  {
   "cell_type": "code",
   "execution_count": 57,
   "metadata": {},
   "outputs": [
    {
     "data": {
      "text/plain": [
       "200"
      ]
     },
     "execution_count": 57,
     "metadata": {},
     "output_type": "execute_result"
    }
   ],
   "source": [
    "response.status_code"
   ]
  },
  {
   "cell_type": "code",
   "execution_count": 58,
   "metadata": {
    "scrolled": true
   },
   "outputs": [
    {
     "data": {
      "text/plain": [
       "{'Date': 'Sun, 04 Dec 2022 06:20:36 GMT', 'Content-Type': 'application/json; charset=utf-8', 'Transfer-Encoding': 'chunked', 'Connection': 'keep-alive', 'X-Frame-Options': 'SAMEORIGIN', 'X-XSS-Protection': '0', 'X-Content-Type-Options': 'nosniff', 'X-Download-Options': 'noopen', 'X-Permitted-Cross-Domain-Policies': 'none', 'Referrer-Policy': 'strict-origin-when-cross-origin', 'Access-Control-Allow-Origin': '*', 'Access-Control-Allow-Methods': 'POST, PUT, DELETE, GET, OPTIONS', 'Access-Control-Request-Method': '*', 'Access-Control-Allow-Headers': 'Origin, X-Requested-With, Content-Type, Accept, Authorization', 'Access-Control-Expose-Headers': 'link, per-page, total', 'Vary': 'Accept-Encoding, Origin', 'ETag': 'W/\"ae850160aea6de305ab3aeda3ad812ed\"', 'Cache-Control': 'public, max-age=120', 'X-Request-Id': 'e6156742-dc05-4b18-88f5-6889bde4cd6e', 'X-Runtime': '0.002578', 'Alternate-Protocol': '443:npn-spdy/2', 'CF-Cache-Status': 'MISS', 'Expires': 'Sun, 04 Dec 2022 06:22:36 GMT', 'Server': 'cloudflare', 'CF-RAY': '77426fe77ff579f4-HYD', 'Content-Encoding': 'br'}"
      ]
     },
     "execution_count": 58,
     "metadata": {},
     "output_type": "execute_result"
    }
   ],
   "source": [
    "response.headers"
   ]
  },
  {
   "cell_type": "code",
   "execution_count": 59,
   "metadata": {},
   "outputs": [
    {
     "data": {
      "text/plain": [
       "'application/json; charset=utf-8'"
      ]
     },
     "execution_count": 59,
     "metadata": {},
     "output_type": "execute_result"
    }
   ],
   "source": [
    "response.headers['Content-Type']"
   ]
  },
  {
   "cell_type": "code",
   "execution_count": 60,
   "metadata": {},
   "outputs": [
    {
     "data": {
      "text/plain": [
       "'{\"gecko_says\":\"(V3) To the Moon!\"}'"
      ]
     },
     "execution_count": 60,
     "metadata": {},
     "output_type": "execute_result"
    }
   ],
   "source": [
    "response.text"
   ]
  },
  {
   "cell_type": "code",
   "execution_count": 70,
   "metadata": {},
   "outputs": [
    {
     "data": {
      "text/plain": [
       "[{'id': '01coin', 'symbol': 'zoc', 'name': '01coin'},\n",
       " {'id': '0-5x-long-algorand-token',\n",
       "  'symbol': 'algohalf',\n",
       "  'name': '0.5X Long Algorand'},\n",
       " {'id': '0-5x-long-altcoin-index-token',\n",
       "  'symbol': 'althalf',\n",
       "  'name': '0.5X Long Altcoin Index'},\n",
       " {'id': '0-5x-long-bitcoin-token',\n",
       "  'symbol': 'half',\n",
       "  'name': '0.5X Long Bitcoin'},\n",
       " {'id': '0-5x-long-cardano-token',\n",
       "  'symbol': 'adahalf',\n",
       "  'name': '0.5X Long Cardano'},\n",
       " {'id': '0-5x-long-chainlink-token',\n",
       "  'symbol': 'linkhalf',\n",
       "  'name': '0.5X Long Chainlink'},\n",
       " {'id': '0-5x-long-dogecoin-token',\n",
       "  'symbol': 'dogehalf',\n",
       "  'name': '0.5X Long Dogecoin'},\n",
       " {'id': '0-5x-long-eos-token', 'symbol': 'eoshalf', 'name': '0.5X Long EOS'},\n",
       " {'id': '0-5x-long-ethereum-classic-token',\n",
       "  'symbol': 'etchalf',\n",
       "  'name': '0.5X Long Ethereum Classic'},\n",
       " {'id': '0-5x-long-ethereum-token',\n",
       "  'symbol': 'ethhalf',\n",
       "  'name': '0.5X Long Ethereum'},\n",
       " {'id': '0-5x-long-kyber-network-token',\n",
       "  'symbol': 'knchalf',\n",
       "  'name': '0.5X Long Kyber Network'},\n",
       " {'id': '0-5x-long-matic-token',\n",
       "  'symbol': 'matichalf',\n",
       "  'name': '0.5X Long Matic Token'},\n",
       " {'id': '0-5x-long-privacy-index-token',\n",
       "  'symbol': 'privhalf',\n",
       "  'name': '0.5X Long Privacy Index'},\n",
       " {'id': '0-5x-long-swipe-token',\n",
       "  'symbol': 'sxphalf',\n",
       "  'name': '0.5X Long Swipe'},\n",
       " {'id': '0chain', 'symbol': 'zcn', 'name': 'Zus'},\n",
       " {'id': '0x', 'symbol': 'zrx', 'name': '0x'},\n",
       " {'id': '0xcert', 'symbol': 'zxc', 'name': '0xcert'},\n",
       " {'id': '0xdao', 'symbol': 'oxd', 'name': '0xDAO'},\n",
       " {'id': '0xdao-v2', 'symbol': 'oxd v2', 'name': '0xDAO V2'},\n",
       " {'id': '0xmonero', 'symbol': '0xmr', 'name': '0xMonero'},\n",
       " {'id': '0xpad', 'symbol': '0xpad', 'name': '0xPAD'},\n",
       " {'id': '0xtrade', 'symbol': '0xt', 'name': '0xTrade'},\n",
       " {'id': '0xwallet-token', 'symbol': '0xw', 'name': '0xWallet Token'},\n",
       " {'id': '100-days-ventures', 'symbol': 'astro', 'name': '100 Days Ventures'},\n",
       " {'id': '10mb', 'symbol': '10mb', 'name': '10mb'},\n",
       " {'id': '10share', 'symbol': '10share', 'name': '10SHARE'},\n",
       " {'id': '11957-olga',\n",
       "  'symbol': 'realt-s-11957-olga-st-detroit-mi',\n",
       "  'name': 'RealT - 11957 Olga St, Detroit, MI 48213'},\n",
       " {'id': '12405-santa-rosa',\n",
       "  'symbol': 'realt-s-12405-santa-rosa-dr-detroit-mi',\n",
       "  'name': 'RealT - 12405 Santa Rosa Dr, Detroit, MI 48204'},\n",
       " {'id': '12ships', 'symbol': 'tshp', 'name': '12Ships'},\n",
       " {'id': '1337', 'symbol': '1337', 'name': 'Elite'},\n",
       " {'id': '14066-santa-rosa',\n",
       "  'symbol': 'realt-s-14066-santa-rosa-dr-detroit-mi',\n",
       "  'name': 'RealT - 14066 Santa Rosa Dr, Detroit, MI 48238'},\n",
       " {'id': '1617-s-avers',\n",
       "  'symbol': 'realt-s-1617-s.avers-ave-chicago-il',\n",
       "  'name': 'RealT - 1617 S Avers Ave, Chicago, IL 60623'},\n",
       " {'id': '1815-s-avers',\n",
       "  'symbol': 'realt-s-1815-s.avers-ave-chicago-il',\n",
       "  'name': 'RealT - 1815 S Avers Ave, Chicago, IL 60623'},\n",
       " {'id': '1art', 'symbol': '1art', 'name': 'OneArt'},\n",
       " {'id': '1bch', 'symbol': '1bch', 'name': '1BCH'},\n",
       " {'id': '1box', 'symbol': '1box', 'name': '1BOX'},\n",
       " {'id': '1doge', 'symbol': '1doge', 'name': '1Doge'},\n",
       " {'id': '1-dollar', 'symbol': 'oneusd', 'name': '1 Dollar'},\n",
       " {'id': '1eco', 'symbol': '1eco', 'name': '1eco'},\n",
       " {'id': '1eth', 'symbol': '1eth', 'name': '1ETH'},\n",
       " {'id': '1hive-water', 'symbol': 'water', 'name': '1Hive Water'},\n",
       " {'id': '1inch', 'symbol': '1inch', 'name': '1inch'},\n",
       " {'id': '1million-nfts', 'symbol': '1mil', 'name': '1MillionNFTs'},\n",
       " {'id': '1million-token', 'symbol': '1mt', 'name': '1Million'},\n",
       " {'id': '1move token', 'symbol': '1mt', 'name': '1Move Token'},\n",
       " {'id': '1peco', 'symbol': '1peco', 'name': '1peco'},\n",
       " {'id': '1reward-token', 'symbol': '1rt', 'name': '1Reward Token'},\n",
       " {'id': '1safu', 'symbol': 'safu', 'name': '1SAFU'},\n",
       " {'id': '1sol', 'symbol': '1sol', 'name': '1Sol'},\n",
       " {'id': '1sol-io-wormhole', 'symbol': '1sol', 'name': '1sol.io (Wormhole)'},\n",
       " {'id': '1tronic', 'symbol': '1trc', 'name': '1TRONIC'},\n",
       " {'id': '1-up', 'symbol': '1-up', 'name': '1-UP'},\n",
       " {'id': '1world', 'symbol': '1wo', 'name': '1World'},\n",
       " {'id': '1x-long-btc-implied-volatility-token',\n",
       "  'symbol': 'bvol',\n",
       "  'name': 'Bitcoin Volatility Token'},\n",
       " {'id': '1x-short-algorand-token',\n",
       "  'symbol': 'algohedge',\n",
       "  'name': '1X Short Algorand Token'},\n",
       " {'id': '1x-short-bitcoin-cash-token',\n",
       "  'symbol': 'bchhedge',\n",
       "  'name': '1X Short Bitcoin Cash Token'},\n",
       " {'id': '1x-short-bitcoin-token',\n",
       "  'symbol': 'hedge',\n",
       "  'name': '1X Short Bitcoin Token'},\n",
       " {'id': '1x-short-bnb-token', 'symbol': 'bnbhedge', 'name': '1X Short BNB'},\n",
       " {'id': '1x-short-btc-implied-volatility',\n",
       "  'symbol': 'ibvol',\n",
       "  'name': 'Inverse Bitcoin Volatility'},\n",
       " {'id': '1x-short-cardano-token',\n",
       "  'symbol': 'adahedge',\n",
       "  'name': '1X Short Cardano'},\n",
       " {'id': '1x-short-chainlink-token',\n",
       "  'symbol': 'linkhedge',\n",
       "  'name': '1X Short Chainlink'},\n",
       " {'id': '1x-short-compound-token-token',\n",
       "  'symbol': 'comphedge',\n",
       "  'name': '1X Short Compound'},\n",
       " {'id': '1x-short-cosmos-token',\n",
       "  'symbol': 'atomhedge',\n",
       "  'name': '1X Short Cosmos'},\n",
       " {'id': '1x-short-defi-index-token',\n",
       "  'symbol': 'defihedge',\n",
       "  'name': '1X Short DeFi Index'},\n",
       " {'id': '1x-short-dogecoin-token',\n",
       "  'symbol': 'dogehedge',\n",
       "  'name': '1X Short Dogecoin'},\n",
       " {'id': '1x-short-eos-token',\n",
       "  'symbol': 'eoshedge',\n",
       "  'name': '1X Short EOS Token'},\n",
       " {'id': '1x-short-ethereum-token',\n",
       "  'symbol': 'ethhedge',\n",
       "  'name': '1X Short Ethereum Token'},\n",
       " {'id': '1x-short-exchange-token-index-token',\n",
       "  'symbol': 'exchhedge',\n",
       "  'name': '1X Short Exchange Token Index Token'},\n",
       " {'id': '1x-short-litecoin-token',\n",
       "  'symbol': 'ltchedge',\n",
       "  'name': '1X Short Litecoin Token'},\n",
       " {'id': '1x-short-matic-token',\n",
       "  'symbol': 'matichedge',\n",
       "  'name': '1X Short Matic'},\n",
       " {'id': '1x-short-okb-token', 'symbol': 'okbhedge', 'name': '1X Short OKB'},\n",
       " {'id': '1x-short-privacy-index-token',\n",
       "  'symbol': 'privhedge',\n",
       "  'name': '1X Short Privacy Index'},\n",
       " {'id': '1x-short-shitcoin-index-token',\n",
       "  'symbol': 'hedgeshit',\n",
       "  'name': '1X Short Shitcoin Index Token'},\n",
       " {'id': '1x-short-swipe-token',\n",
       "  'symbol': 'sxphedge',\n",
       "  'name': '1X Short Swipe'},\n",
       " {'id': '1x-short-tezos-token',\n",
       "  'symbol': 'xtzhedge',\n",
       "  'name': '1X Short Tezos'},\n",
       " {'id': '1x-short-theta-network-token',\n",
       "  'symbol': 'thetahedge',\n",
       "  'name': '1X Short Theta Network'},\n",
       " {'id': '1x-short-tomochain-token',\n",
       "  'symbol': 'tomohedge',\n",
       "  'name': '1X Short TomoChain'},\n",
       " {'id': '1x-short-trx-token', 'symbol': 'trxhedge', 'name': '1X Short TRX'},\n",
       " {'id': '1x-short-vechain-token',\n",
       "  'symbol': 'vethedge',\n",
       "  'name': '1X Short VeChain'},\n",
       " {'id': '1x-short-xrp-token', 'symbol': 'xrphedge', 'name': '1X Short XRP'},\n",
       " {'id': '2044-nuclear-apocalypse',\n",
       "  'symbol': '2044',\n",
       "  'name': '2044 Nuclear Apocalypse'},\n",
       " {'id': '20weth-80bal', 'symbol': '20weth-80bal', 'name': '20WETH-80BAL'},\n",
       " {'id': '28vck', 'symbol': 'vck', 'name': '28VCK'},\n",
       " {'id': '2acoin', 'symbol': 'arms', 'name': '2ACoin'},\n",
       " {'id': '2crazynft', 'symbol': '2crz', 'name': '2crazyNFT'},\n",
       " {'id': '2gather', 'symbol': 'two', 'name': '2gather'},\n",
       " {'id': '2g-carbon-coin', 'symbol': '2gcc', 'name': '2G Carbon Coin'},\n",
       " {'id': '2gether-2', 'symbol': '2gt', 'name': '2gether'},\n",
       " {'id': '2key', 'symbol': '2key', 'name': '2key.network'},\n",
       " {'id': '2local-2', 'symbol': '2lc', 'name': '2local'},\n",
       " {'id': '2omb-finance', 'symbol': '2omb', 'name': '2omb'},\n",
       " {'id': '2share', 'symbol': '2shares', 'name': '2SHARE'},\n",
       " {'id': '300fit', 'symbol': 'fit', 'name': '300FIT'},\n",
       " {'id': '30mb-token', 'symbol': '3omb', 'name': '3OMB'},\n",
       " {'id': '37protocol', 'symbol': '37c', 'name': '37Protocol'},\n",
       " {'id': '3air', 'symbol': '3air', 'name': '3air'},\n",
       " {'id': '3gg', 'symbol': '3gg', 'name': '3gg'},\n",
       " {'id': '3qt', 'symbol': '3qt', 'name': '3QT'},\n",
       " {'id': '3shares', 'symbol': '3share', 'name': '3Share'},\n",
       " {'id': '3xcalibur', 'symbol': 'xcal', 'name': '3xcalibur Ecosystem Token'},\n",
       " {'id': '3x-long-altcoin-index-token',\n",
       "  'symbol': 'altbull',\n",
       "  'name': '3X Long Altcoin Index Token'},\n",
       " {'id': '3x-long-balancer-token',\n",
       "  'symbol': 'balbull',\n",
       "  'name': '3X Long Balancer'},\n",
       " {'id': '3x-long-bilira-token',\n",
       "  'symbol': 'trybbull',\n",
       "  'name': '3X Long BiLira Token'},\n",
       " {'id': '3x-long-bitcoin-cash-token',\n",
       "  'symbol': 'bchbull',\n",
       "  'name': '3X Long Bitcoin Cash Token'},\n",
       " {'id': '3x-long-bitcoin-sv-token',\n",
       "  'symbol': 'bsvbull',\n",
       "  'name': '3X Long Bitcoin SV Token'},\n",
       " {'id': '3x-long-bitcoin-token',\n",
       "  'symbol': 'bull',\n",
       "  'name': '3X Long Bitcoin Token'},\n",
       " {'id': '3x-long-bnb-token', 'symbol': 'bnbbull', 'name': '3X Long BNB Token'},\n",
       " {'id': '3x-long-cardano-token',\n",
       "  'symbol': 'adabull',\n",
       "  'name': '3X Long Cardano Token'},\n",
       " {'id': '3x-long-chainlink-token',\n",
       "  'symbol': 'linkbull',\n",
       "  'name': '3X Long Chainlink Token'},\n",
       " {'id': '3x-long-compound-token-token',\n",
       "  'symbol': 'compbull',\n",
       "  'name': '3X Long Compound'},\n",
       " {'id': '3x-long-cosmos-token',\n",
       "  'symbol': 'atombull',\n",
       "  'name': '3X Long Cosmos Token'},\n",
       " {'id': '3x-long-defi-index-token',\n",
       "  'symbol': 'defibull',\n",
       "  'name': '3X Long DeFi Index'},\n",
       " {'id': '3x-long-dogecoin-token',\n",
       "  'symbol': 'dogebull',\n",
       "  'name': '3X Long Dogecoin Token'},\n",
       " {'id': '3x-long-dragon-index-token',\n",
       "  'symbol': 'drgnbull',\n",
       "  'name': '3X Long Dragon Index Token'},\n",
       " {'id': '3x-long-eos-token', 'symbol': 'eosbull', 'name': '3X Long EOS Token'},\n",
       " {'id': '3x-long-ethereum-classic-token',\n",
       "  'symbol': 'etcbull',\n",
       "  'name': '3X Long Ethereum Classic Token'},\n",
       " {'id': '3x-long-ethereum-token',\n",
       "  'symbol': 'ethbull',\n",
       "  'name': '3X Long Ethereum Token'},\n",
       " {'id': '3x-long-exchange-token-index-token',\n",
       "  'symbol': 'exchbull',\n",
       "  'name': '3X Long Exchange Token Index Token'},\n",
       " {'id': '3x-long-huobi-token-token',\n",
       "  'symbol': 'htbull',\n",
       "  'name': '3X Long Huobi Token Token'},\n",
       " {'id': '3x-long-kyber-network-token',\n",
       "  'symbol': 'kncbull',\n",
       "  'name': '3X Long Kyber Network'},\n",
       " {'id': '3x-long-leo-token', 'symbol': 'leobull', 'name': '3X Long LEO Token'},\n",
       " {'id': '3x-long-litecoin-token',\n",
       "  'symbol': 'ltcbull',\n",
       "  'name': '3X Long Litecoin Token'},\n",
       " {'id': '3x-long-maker-token', 'symbol': 'mkrbull', 'name': '3X Long Maker'},\n",
       " {'id': '3x-long-matic-token',\n",
       "  'symbol': 'maticbull',\n",
       "  'name': '3X Long Matic Token'},\n",
       " {'id': '3x-long-midcap-index-token',\n",
       "  'symbol': 'midbull',\n",
       "  'name': '3X Long Midcap Index Token'},\n",
       " {'id': '3x-long-okb-token', 'symbol': 'okbbull', 'name': '3X Long OKB Token'},\n",
       " {'id': '3x-long-pax-gold-token',\n",
       "  'symbol': 'paxgbull',\n",
       "  'name': '3X Long PAX Gold Token'},\n",
       " {'id': '3x-long-privacy-index-token',\n",
       "  'symbol': 'privbull',\n",
       "  'name': '3X Long Privacy Index'},\n",
       " {'id': '3x-long-shitcoin-index-token',\n",
       "  'symbol': 'bullshit',\n",
       "  'name': '3X Long Shitcoin Index Token'},\n",
       " {'id': '3x-long-stellar-token',\n",
       "  'symbol': 'xlmbull',\n",
       "  'name': '3X Long Stellar'},\n",
       " {'id': '3x-long-swipe-token',\n",
       "  'symbol': 'sxpbull',\n",
       "  'name': '3X Long Swipe Token'},\n",
       " {'id': '3x-long-tether-gold-token',\n",
       "  'symbol': 'xautbull',\n",
       "  'name': '3X Long Tether Gold Token'},\n",
       " {'id': '3x-long-tether-token',\n",
       "  'symbol': 'usdtbull',\n",
       "  'name': '3X Long Tether Token'},\n",
       " {'id': '3x-long-tezos-token',\n",
       "  'symbol': 'xtzbull',\n",
       "  'name': '3X Long Tezos Token'},\n",
       " {'id': '3x-long-theta-network-token',\n",
       "  'symbol': 'thetabull',\n",
       "  'name': '3X Long Theta Network'},\n",
       " {'id': '3x-long-tomochain-token',\n",
       "  'symbol': 'tomobull',\n",
       "  'name': '3X Long TomoChain Token'},\n",
       " {'id': '3x-long-trx-token', 'symbol': 'trxbull', 'name': '3X Long TRX Token'},\n",
       " {'id': '3x-long-vechain-token',\n",
       "  'symbol': 'vetbull',\n",
       "  'name': '3X Long VeChain'},\n",
       " {'id': '3x-long-xrp-token', 'symbol': 'xrpbull', 'name': '3X Long XRP Token'},\n",
       " {'id': '3x-long-zcash-token', 'symbol': 'zecbull', 'name': '3X Long Zcash'},\n",
       " {'id': '3x-short-altcoin-index-token',\n",
       "  'symbol': 'altbear',\n",
       "  'name': '3X Short Altcoin Index Token'},\n",
       " {'id': '3x-short-balancer-token',\n",
       "  'symbol': 'balbear',\n",
       "  'name': '3X Short Balancer'},\n",
       " {'id': '3x-short-bilira-token',\n",
       "  'symbol': 'trybbear',\n",
       "  'name': '3X Short BiLira Token'},\n",
       " {'id': '3x-short-bitcoin-cash-token',\n",
       "  'symbol': 'bchbear',\n",
       "  'name': '3X Short Bitcoin Cash Token'},\n",
       " {'id': '3x-short-bitcoin-sv-token',\n",
       "  'symbol': 'bsvbear',\n",
       "  'name': '3X Short Bitcoin SV Token'},\n",
       " {'id': '3x-short-bitcoin-token',\n",
       "  'symbol': 'bear',\n",
       "  'name': '3X Short Bitcoin Token'},\n",
       " {'id': '3x-short-cardano-token',\n",
       "  'symbol': 'adabear',\n",
       "  'name': '3X Short Cardano Token'},\n",
       " {'id': '3x-short-chainlink-token',\n",
       "  'symbol': 'linkbear',\n",
       "  'name': '3X Short Chainlink Token'},\n",
       " {'id': '3x-short-compound-token-token',\n",
       "  'symbol': 'compbear',\n",
       "  'name': '3X Short Compound'},\n",
       " {'id': '3x-short-defi-index-token',\n",
       "  'symbol': 'defibear',\n",
       "  'name': '3X Short DeFi Index'},\n",
       " {'id': '3x-short-dragon-index-token',\n",
       "  'symbol': 'drgnbear',\n",
       "  'name': '3X Short Dragon Index Token'},\n",
       " {'id': '3x-short-eos-token',\n",
       "  'symbol': 'eosbear',\n",
       "  'name': '3X Short EOS Token'},\n",
       " {'id': '3x-short-ethereum-token',\n",
       "  'symbol': 'ethbear',\n",
       "  'name': '3X Short Ethereum Token'},\n",
       " {'id': '3x-short-exchange-token-index-token',\n",
       "  'symbol': 'exchbear',\n",
       "  'name': '3X Short Exchange Token Index Token'},\n",
       " {'id': '3x-short-huobi-token-token',\n",
       "  'symbol': 'htbear',\n",
       "  'name': '3X Short Huobi Token Token'},\n",
       " {'id': '3x-short-kyber-network-token',\n",
       "  'symbol': 'kncbear',\n",
       "  'name': '3X Short Kyber Network'},\n",
       " {'id': '3x-short-leo-token',\n",
       "  'symbol': 'leobear',\n",
       "  'name': '3X Short LEO Token'},\n",
       " {'id': '3x-short-litecoin-token',\n",
       "  'symbol': 'ltcbear',\n",
       "  'name': '3X Short Litecoin Token'},\n",
       " {'id': '3x-short-maker-token', 'symbol': 'mkrbear', 'name': '3X Short Maker'},\n",
       " {'id': '3x-short-midcap-index-token',\n",
       "  'symbol': 'midbear',\n",
       "  'name': '3X Short Midcap Index Token'},\n",
       " {'id': '3x-short-pax-gold-token',\n",
       "  'symbol': 'paxgbear',\n",
       "  'name': '3X Short PAX Gold Token'},\n",
       " {'id': '3x-short-privacy-index-token',\n",
       "  'symbol': 'privbear',\n",
       "  'name': '3X Short Privacy Index'},\n",
       " {'id': '3x-short-shitcoin-index-token',\n",
       "  'symbol': 'bearshit',\n",
       "  'name': '3X Short Shitcoin Index Token'},\n",
       " {'id': '3x-short-stellar-token',\n",
       "  'symbol': 'xlmbear',\n",
       "  'name': '3X Short Stellar'},\n",
       " {'id': '3x-short-tether-gold-token',\n",
       "  'symbol': 'xautbear',\n",
       "  'name': '3X Short Tether Gold Token'},\n",
       " {'id': '3x-short-tether-token',\n",
       "  'symbol': 'usdtbear',\n",
       "  'name': '3X Short Tether Token'},\n",
       " {'id': '3x-short-tezos-token',\n",
       "  'symbol': 'xtzbear',\n",
       "  'name': '3X Short Tezos Token'},\n",
       " {'id': '3x-short-trx-token',\n",
       "  'symbol': 'trxbear',\n",
       "  'name': '3X Short TRX Token'},\n",
       " {'id': '3x-short-vechain-token',\n",
       "  'symbol': 'vetbear',\n",
       "  'name': '3X Short VeChain'},\n",
       " {'id': '3x-short-xrp-token',\n",
       "  'symbol': 'xrpbear',\n",
       "  'name': '3X Short XRP Token'},\n",
       " {'id': '404', 'symbol': '404', 'name': '404'},\n",
       " {'id': '42-coin', 'symbol': '42', 'name': '42-coin'},\n",
       " {'id': '4852-4854-w-cortez',\n",
       "  'symbol': 'realt-s-4852-4854-w.cortez-st-chicago-il',\n",
       "  'name': 'RealT - 4852-4854 W Cortez St, Chicago, IL 60651'},\n",
       " {'id': '4artechnologies', 'symbol': '4art', 'name': '4ART Coin'},\n",
       " {'id': '4d-twin-maps', 'symbol': 'map', 'name': '4D Twin Maps'},\n",
       " {'id': '4int', 'symbol': '4int', 'name': '4INT'},\n",
       " {'id': '4jnet', 'symbol': '4jnet', 'name': '4JNET'},\n",
       " {'id': '4move', 'symbol': '4move', 'name': '4MOVE'},\n",
       " {'id': '4mw', 'symbol': '4mw', 'name': '4 Meta World'},\n",
       " {'id': '4new', 'symbol': 'kwatt', 'name': '4New'},\n",
       " {'id': '4play', 'symbol': '4play', 'name': '4PLAY'},\n",
       " {'id': '4-stock', 'symbol': '4stc', 'name': '4-Stock'},\n",
       " {'id': '50cent', 'symbol': '50c', 'name': '50Cent'},\n",
       " {'id': '5g-cash', 'symbol': 'vgc', 'name': '5G-CASH'},\n",
       " {'id': '5km-run', 'symbol': 'run', 'name': '5KM RUN'},\n",
       " {'id': '73c9fc57-af8f-4bd8-935f-de69a853598d',\n",
       "  'symbol': 'mbtc',\n",
       "  'name': '메타비트코인'},\n",
       " {'id': '7pixels', 'symbol': '7pxs', 'name': '7Pixels'},\n",
       " {'id': '7up', 'symbol': '7up', 'name': '7up'},\n",
       " {'id': '888tron', 'symbol': '888', 'name': '888tron'},\n",
       " {'id': '88mph', 'symbol': 'mph', 'name': '88mph'},\n",
       " {'id': '8bit-doge', 'symbol': 'bitd', 'name': '8Bit Doge'},\n",
       " {'id': '8pay', 'symbol': '8pay', 'name': '8Pay'},\n",
       " {'id': '8x8-protocol', 'symbol': 'exe', 'name': '8X8 Protocol'},\n",
       " {'id': '99defi', 'symbol': '99defi', 'name': '99Defi'},\n",
       " {'id': '99starz', 'symbol': 'stz', 'name': '99Starz'},\n",
       " {'id': 'a4-finance', 'symbol': 'a4', 'name': 'A4 Finance'},\n",
       " {'id': 'aada-finance', 'symbol': 'aada', 'name': 'Aada Finance'},\n",
       " {'id': 'aag-ventures', 'symbol': 'aag', 'name': 'AAG'},\n",
       " {'id': 'aananaapegarden', 'symbol': 'bag', 'name': 'BananaApeGarden'},\n",
       " {'id': 'aarma', 'symbol': 'arma', 'name': 'Aarma'},\n",
       " {'id': 'aave', 'symbol': 'aave', 'name': 'Aave'},\n",
       " {'id': 'aave-aave', 'symbol': 'aaave', 'name': 'Aave AAVE'},\n",
       " {'id': 'aave-amm-bptbalweth',\n",
       "  'symbol': 'aammbptbalweth',\n",
       "  'name': 'Aave AMM BptBALWETH'},\n",
       " {'id': 'aave-amm-bptwbtcweth',\n",
       "  'symbol': 'aammbptwbtcweth',\n",
       "  'name': 'Aave AMM BptWBTCWETH'},\n",
       " {'id': 'aave-amm-dai', 'symbol': 'aammdai', 'name': 'Aave AMM DAI'},\n",
       " {'id': 'aave-amm-uniaaveweth',\n",
       "  'symbol': 'aammuniaaveweth',\n",
       "  'name': 'Aave AMM UniAAVEWETH'},\n",
       " {'id': 'aave-amm-unibatweth',\n",
       "  'symbol': 'aammunibatweth',\n",
       "  'name': 'Aave AMM UniBATWETH'},\n",
       " {'id': 'aave-amm-unicrvweth',\n",
       "  'symbol': 'aammunicrvweth',\n",
       "  'name': 'Aave AMM UniCRVWETH'},\n",
       " {'id': 'aave-amm-unidaiusdc',\n",
       "  'symbol': 'aammunidaiusdc',\n",
       "  'name': 'Aave AMM UniDAIUSDC'},\n",
       " {'id': 'aave-amm-unidaiweth',\n",
       "  'symbol': 'aammunidaiweth',\n",
       "  'name': 'Aave AMM UniDAIWETH'},\n",
       " {'id': 'aave-amm-unilinkweth',\n",
       "  'symbol': 'aammunilinkweth',\n",
       "  'name': 'Aave AMM UniLINKWETH'},\n",
       " {'id': 'aave-amm-unimkrweth',\n",
       "  'symbol': 'aammunimkrweth',\n",
       "  'name': 'Aave AMM UniMKRWETH'},\n",
       " {'id': 'aave-amm-unirenweth',\n",
       "  'symbol': 'aammunirenweth',\n",
       "  'name': 'Aave AMM UniRENWETH'},\n",
       " {'id': 'aave-amm-unisnxweth',\n",
       "  'symbol': 'aammunisnxweth',\n",
       "  'name': 'Aave AMM UniSNXWETH'},\n",
       " {'id': 'aave-amm-uniuniweth',\n",
       "  'symbol': 'aammuniuniweth',\n",
       "  'name': 'Aave AMM UniUNIWETH'},\n",
       " {'id': 'aave-amm-uniusdcweth',\n",
       "  'symbol': 'aammuniusdcweth',\n",
       "  'name': 'Aave AMM UniUSDCWETH'},\n",
       " {'id': 'aave-amm-uniwbtcusdc',\n",
       "  'symbol': 'aammuniwbtcusdc',\n",
       "  'name': 'Aave AMM UniWBTCUSDC'},\n",
       " {'id': 'aave-amm-uniwbtcweth',\n",
       "  'symbol': 'aammuniwbtcweth',\n",
       "  'name': 'Aave AMM UniWBTCWETH'},\n",
       " {'id': 'aave-amm-uniyfiweth',\n",
       "  'symbol': 'aammuniyfiweth',\n",
       "  'name': 'Aave AMM UniYFIWETH'},\n",
       " {'id': 'aave-amm-usdc', 'symbol': 'aammusdc', 'name': 'Aave AMM USDC'},\n",
       " {'id': 'aave-amm-usdt', 'symbol': 'aammusdt', 'name': 'Aave AMM USDT'},\n",
       " {'id': 'aave-amm-wbtc', 'symbol': 'aammwbtc', 'name': 'Aave AMM WBTC'},\n",
       " {'id': 'aave-amm-weth', 'symbol': 'aammweth', 'name': 'Aave AMM WETH'},\n",
       " {'id': 'aave-bal', 'symbol': 'abal', 'name': 'Aave BAL'},\n",
       " {'id': 'aave-balancer-pool-token',\n",
       "  'symbol': 'abpt',\n",
       "  'name': 'Aave Balancer Pool Token'},\n",
       " {'id': 'aave-bat', 'symbol': 'abat', 'name': 'Aave BAT'},\n",
       " {'id': 'aave-bat-v1', 'symbol': 'abat', 'name': 'Aave BAT v1'},\n",
       " {'id': 'aave-busd', 'symbol': 'abusd', 'name': 'Aave BUSD'},\n",
       " {'id': 'aave-busd-v1', 'symbol': 'abusd', 'name': 'Aave BUSD v1'},\n",
       " {'id': 'aave-crv', 'symbol': 'acrv', 'name': 'Aave CRV'},\n",
       " {'id': 'aave-dai', 'symbol': 'adai', 'name': 'Aave DAI'},\n",
       " {'id': 'aave-dai-v1', 'symbol': 'adai', 'name': 'Aave DAI v1'},\n",
       " {'id': 'aave-enj', 'symbol': 'aenj', 'name': 'Aave ENJ'},\n",
       " {'id': 'aave-enj-v1', 'symbol': 'aenj', 'name': 'Aave ENJ v1'},\n",
       " {'id': 'aave-eth-v1', 'symbol': 'aeth', 'name': 'Aave ETH v1'},\n",
       " {'id': 'aavegotchi', 'symbol': 'ghst', 'name': 'Aavegotchi'},\n",
       " {'id': 'aavegotchi-alpha', 'symbol': 'alpha', 'name': 'Aavegotchi ALPHA'},\n",
       " {'id': 'aavegotchi-fomo', 'symbol': 'fomo', 'name': 'Aavegotchi FOMO'},\n",
       " {'id': 'aavegotchi-fud', 'symbol': 'fud', 'name': 'Aavegotchi FUD'},\n",
       " {'id': 'aavegotchi-kek', 'symbol': 'kek', 'name': 'Aavegotchi KEK'},\n",
       " {'id': 'aave-gusd', 'symbol': 'agusd', 'name': 'Aave GUSD'},\n",
       " {'id': 'aave-interest-bearing-steth',\n",
       "  'symbol': 'asteth',\n",
       "  'name': 'Aave Interest Bearing STETH'},\n",
       " {'id': 'aave-knc', 'symbol': 'aknc', 'name': 'Aave KNC'},\n",
       " {'id': 'aave-knc-v1', 'symbol': 'aknc', 'name': 'Aave KNC v1'},\n",
       " {'id': 'aave-link', 'symbol': 'alink', 'name': 'Aave LINK'},\n",
       " {'id': 'aave-link-v1', 'symbol': 'alink', 'name': 'Aave LINK v1'},\n",
       " {'id': 'aave-mana', 'symbol': 'amana', 'name': 'Aave MANA'},\n",
       " {'id': 'aave-mana-v1', 'symbol': 'amana', 'name': 'Aave MANA v1'},\n",
       " {'id': 'aave-mkr', 'symbol': 'amkr', 'name': 'Aave MKR'},\n",
       " {'id': 'aave-mkr-v1', 'symbol': 'amkr', 'name': 'Aave MKR v1'},\n",
       " {'id': 'aave-polygon-aave', 'symbol': 'amaave', 'name': 'Aave Polygon AAVE'},\n",
       " {'id': 'aave-polygon-dai', 'symbol': 'amdai', 'name': 'Aave Polygon DAI'},\n",
       " {'id': 'aave-polygon-usdc', 'symbol': 'amusdc', 'name': 'Aave Polygon USDC'},\n",
       " {'id': 'aave-polygon-usdt', 'symbol': 'amusdt', 'name': 'Aave Polygon USDT'},\n",
       " {'id': 'aave-polygon-wbtc', 'symbol': 'amwbtc', 'name': 'Aave Polygon WBTC'},\n",
       " {'id': 'aave-polygon-weth', 'symbol': 'amweth', 'name': 'Aave Polygon WETH'},\n",
       " {'id': 'aave-polygon-wmatic',\n",
       "  'symbol': 'amwmatic',\n",
       "  'name': 'Aave Polygon WMATIC'},\n",
       " {'id': 'aave-rai', 'symbol': 'arai', 'name': 'Aave RAI'},\n",
       " {'id': 'aave-ren', 'symbol': 'aren', 'name': 'Aave REN'},\n",
       " {'id': 'aave-ren-v1', 'symbol': 'aren', 'name': 'Aave REN v1'},\n",
       " {'id': 'aave-snx', 'symbol': 'asnx', 'name': 'Aave SNX'},\n",
       " {'id': 'aave-snx-v1', 'symbol': 'asnx', 'name': 'Aave SNX v1'},\n",
       " {'id': 'aave-susd', 'symbol': 'asusd', 'name': 'Aave SUSD'},\n",
       " {'id': 'aave-susd-v1', 'symbol': 'asusd', 'name': 'Aave SUSD v1'},\n",
       " {'id': 'aave-tusd', 'symbol': 'atusd', 'name': 'Aave TUSD'},\n",
       " {'id': 'aave-tusd-v1', 'symbol': 'atusd', 'name': 'Aave TUSD v1'},\n",
       " {'id': 'aave-uni', 'symbol': 'auni', 'name': 'Aave UNI'},\n",
       " {'id': 'aave-usdc', 'symbol': 'ausdc', 'name': 'Aave USDC'},\n",
       " {'id': 'aave-usdc-v1', 'symbol': 'ausdc', 'name': 'Aave USDC v1'},\n",
       " {'id': 'aave-usdt', 'symbol': 'ausdt', 'name': 'Aave USDT'},\n",
       " {'id': 'aave-usdt-v1', 'symbol': 'ausdt', 'name': 'Aave USDT v1'},\n",
       " {'id': 'aave-wbtc', 'symbol': 'awbtc', 'name': 'Aave WBTC'},\n",
       " {'id': 'aave-wbtc-v1', 'symbol': 'awbtc', 'name': 'Aave WBTC v1'},\n",
       " {'id': 'aave-weth', 'symbol': 'aweth', 'name': 'Aave WETH'},\n",
       " {'id': 'aave-wormhole', 'symbol': 'aave', 'name': 'Aave (Wormhole)'},\n",
       " {'id': 'aave-xsushi', 'symbol': 'axsushi', 'name': 'Aave XSUSHI'},\n",
       " {'id': 'aave-yfi', 'symbol': 'ayfi', 'name': 'Aave YFI'},\n",
       " {'id': 'aave-zrx', 'symbol': 'azrx', 'name': 'Aave ZRX'},\n",
       " {'id': 'aave-zrx-v1', 'symbol': 'azrx', 'name': 'Aave ZRX v1'},\n",
       " {'id': 'aax-token', 'symbol': 'aab', 'name': 'AAX'},\n",
       " {'id': 'abachi', 'symbol': 'abi', 'name': 'Abachi'},\n",
       " {'id': 'abcc-token', 'symbol': 'at', 'name': 'ABCC'},\n",
       " {'id': 'abc-floor-index', 'symbol': 'abc', 'name': 'ABC Floor Index'},\n",
       " {'id': 'abcmeta', 'symbol': 'meta', 'name': 'ABCMETA'},\n",
       " {'id': 'abeatsheroenhencement',\n",
       "  'symbol': 'ahe',\n",
       "  'name': 'AbeatsHeroEnhencement'},\n",
       " {'id': 'abell-coin', 'symbol': 'abc', 'name': 'Abell Coin'},\n",
       " {'id': 'abey', 'symbol': 'abey', 'name': 'Abey'},\n",
       " {'id': 'abitshadow-token', 'symbol': 'abst', 'name': 'Abitshadow'},\n",
       " {'id': 'able-finance', 'symbol': 'able', 'name': 'Able Finance'},\n",
       " {'id': 'aboat-token', 'symbol': 'aboat', 'name': 'Aboat Token'},\n",
       " {'id': 'absolute-sync-token', 'symbol': 'ast', 'name': 'Absolute Sync'},\n",
       " {'id': 'acala', 'symbol': 'aca', 'name': 'Acala'},\n",
       " {'id': 'acala-dollar', 'symbol': 'ausd', 'name': 'Acala Dollar (Karura)'},\n",
       " {'id': 'acala-dollar-acala',\n",
       "  'symbol': 'ausd',\n",
       "  'name': 'Acala Dollar (Acala)'},\n",
       " {'id': 'aca-token', 'symbol': 'aca', 'name': 'ACA'},\n",
       " {'id': 'accel-defi', 'symbol': 'accel', 'name': 'Accel Defi'},\n",
       " {'id': 'accesslauncher', 'symbol': 'acx', 'name': 'AccessLauncher'},\n",
       " {'id': 'accumulate', 'symbol': 'acme', 'name': 'Accumulate'},\n",
       " {'id': 'ace-cash', 'symbol': 'acec', 'name': 'Ace Cash'},\n",
       " {'id': 'aced', 'symbol': 'aced', 'name': 'Aced [OLD]'},\n",
       " {'id': 'acent', 'symbol': 'ace', 'name': 'Acent'},\n",
       " {'id': 'acestarter', 'symbol': 'astar', 'name': 'AceStarter'},\n",
       " {'id': 'acetoken', 'symbol': 'ace', 'name': 'ACEToken'},\n",
       " {'id': 'acet-token', 'symbol': 'act', 'name': 'Acet'},\n",
       " {'id': 'ac-exchange-token', 'symbol': 'acxt', 'name': 'ACDX Exchange'},\n",
       " {'id': 'achain', 'symbol': 'act', 'name': 'Achain'},\n",
       " {'id': 'acknoledger', 'symbol': 'ack', 'name': 'AcknoLedger'},\n",
       " {'id': 'ac-milan-fan-token', 'symbol': 'acm', 'name': 'AC Milan Fan Token'},\n",
       " {'id': 'acoconut', 'symbol': 'ac', 'name': 'ACoconut'},\n",
       " {'id': 'acoin', 'symbol': 'acoin', 'name': 'Acoin'},\n",
       " {'id': 'acquire-fi', 'symbol': 'acq', 'name': 'Acquire.Fi'},\n",
       " {'id': 'acreage-coin', 'symbol': 'acr', 'name': 'Acreage Coin'},\n",
       " {'id': 'across-protocol', 'symbol': 'acx', 'name': 'Across Protocol'},\n",
       " {'id': 'acryptos', 'symbol': 'acs', 'name': 'ACryptoS'},\n",
       " {'id': 'acryptosi', 'symbol': 'acsi', 'name': 'ACryptoSI'},\n",
       " {'id': 'actifit', 'symbol': 'afit', 'name': 'Actifit'},\n",
       " {'id': 'actinium', 'symbol': 'acm', 'name': 'Actinium'},\n",
       " {'id': 'action-coin', 'symbol': 'actn', 'name': 'Action Coin'},\n",
       " {'id': 'active-world-rewards-token',\n",
       "  'symbol': 'awrt',\n",
       "  'name': 'Active World Rewards'},\n",
       " {'id': 'acumen', 'symbol': 'acm', 'name': 'Acumen'},\n",
       " {'id': 'acute-angle-cloud', 'symbol': 'aac', 'name': 'Double-A Chain'},\n",
       " {'id': 'acy-finance', 'symbol': 'acy', 'name': 'ACY Finance'},\n",
       " {'id': 'adaboy', 'symbol': 'adaboy', 'name': 'ADABoy'},\n",
       " {'id': 'adacash', 'symbol': 'adacash', 'name': 'ADAcash'},\n",
       " {'id': 'adadao', 'symbol': 'adao', 'name': 'ADADao'},\n",
       " {'id': 'adaflect', 'symbol': 'adaflect', 'name': 'ADAFlect'},\n",
       " {'id': 'adalend', 'symbol': 'adal', 'name': 'Adalend'},\n",
       " {'id': 'adam', 'symbol': 'adam', 'name': 'ADAM'},\n",
       " {'id': 'adamant', 'symbol': 'addy', 'name': 'Adamant'},\n",
       " {'id': 'adamant-coin', 'symbol': 'admc', 'name': 'Adamant Coin'},\n",
       " {'id': 'adamant-messenger', 'symbol': 'adm', 'name': 'ADAMANT Messenger'},\n",
       " {'id': 'adana-demirspor', 'symbol': 'demir', 'name': 'Adana Demirspor'},\n",
       " {'id': 'adanaspor-fan-token',\n",
       "  'symbol': 'adana',\n",
       "  'name': 'Adanaspor Fan Token'},\n",
       " {'id': 'adapad', 'symbol': 'adapad', 'name': 'ADAPad'},\n",
       " {'id': 'adappter-token', 'symbol': 'adp', 'name': 'Adappter'},\n",
       " {'id': 'adaswap', 'symbol': 'asw', 'name': 'AdaSwap'},\n",
       " {'id': 'adax', 'symbol': 'adax', 'name': 'ADAX'},\n",
       " {'id': 'adbank', 'symbol': 'adb', 'name': 'adbank'},\n",
       " {'id': 'add-xyz-new', 'symbol': 'add', 'name': 'Add.xyz (NEW)'},\n",
       " {'id': 'adene', 'symbol': 'aden', 'name': 'Adene'},\n",
       " {'id': 'adex', 'symbol': 'adx', 'name': 'Ambire AdEx'},\n",
       " {'id': 'ad-flex-token', 'symbol': 'adf', 'name': 'Ad Flex'},\n",
       " {'id': 'aditus', 'symbol': 'adi', 'name': 'Aditus'},\n",
       " {'id': 'admonkey', 'symbol': 'admonkey', 'name': 'AdMonkey'},\n",
       " {'id': 'ado-network', 'symbol': 'ado', 'name': 'ADO.Network'},\n",
       " {'id': 'adonis', 'symbol': 'adon', 'name': 'Adonis [OLD]'},\n",
       " {'id': 'adonis-2', 'symbol': 'adon', 'name': 'Adonis'},\n",
       " {'id': 'adora-token', 'symbol': 'ara', 'name': 'Adora'},\n",
       " {'id': 'adroverse', 'symbol': 'adr', 'name': 'Adroverse'},\n",
       " {'id': 'adshares', 'symbol': 'ads', 'name': 'Adshares'},\n",
       " {'id': 'adtoken', 'symbol': 'adt', 'name': 'adChain'},\n",
       " {'id': 'advanced-internet-block',\n",
       "  'symbol': 'aib',\n",
       "  'name': 'Advanced Integrated Blocks'},\n",
       " {'id': 'advanced-united-continent',\n",
       "  'symbol': 'auc',\n",
       "  'name': 'Advanced United Continent'},\n",
       " {'id': 'adventure-gold', 'symbol': 'agld', 'name': 'Adventure Gold'},\n",
       " {'id': 'adventure-inu', 'symbol': 'adinu', 'name': 'Adventure Inu'},\n",
       " {'id': 'adventure-token', 'symbol': 'twa', 'name': 'Adventure'},\n",
       " {'id': 'advertise-coin', 'symbol': 'adco', 'name': 'Advertise Coin'},\n",
       " {'id': 'aegis', 'symbol': 'ags', 'name': 'Aegis'},\n",
       " {'id': 'aegis-launchpad', 'symbol': 'agspad', 'name': 'Aegis Launchpad'},\n",
       " {'id': 'aelf', 'symbol': 'elf', 'name': 'aelf'},\n",
       " {'id': 'aelin', 'symbol': 'aelin', 'name': 'Aelin'},\n",
       " {'id': 'aelysir', 'symbol': 'ael', 'name': 'Aelysir'},\n",
       " {'id': 'aen-smart-token', 'symbol': 'aens', 'name': 'AEN Smart'},\n",
       " {'id': 'aeon', 'symbol': 'aeon', 'name': 'Aeon'},\n",
       " {'id': 'aequinox', 'symbol': 'aeq', 'name': 'Aequinox'},\n",
       " {'id': 'aerarium-fi', 'symbol': 'aera', 'name': 'Aerarium Fi'},\n",
       " {'id': 'aerdrop', 'symbol': 'aer', 'name': 'Aerdrop'},\n",
       " {'id': 'aergo', 'symbol': 'aergo', 'name': 'Aergo'},\n",
       " {'id': 'aerochain', 'symbol': 'aero-v2', 'name': 'Aerochain Coin V2'},\n",
       " {'id': 'aeron', 'symbol': 'arnx', 'name': 'Aeron'},\n",
       " {'id': 'aerotoken', 'symbol': 'aet', 'name': 'AEROTOKEN'},\n",
       " {'id': 'aerotyne', 'symbol': 'atyne', 'name': 'Aerotyne'},\n",
       " {'id': 'aerovek-aviation', 'symbol': 'aero', 'name': 'Aerovek Aviation'},\n",
       " {'id': 'aeternity', 'symbol': 'ae', 'name': 'Aeternity'},\n",
       " {'id': 'aetherius', 'symbol': 'aeth', 'name': 'Aetherius'},\n",
       " {'id': 'aetherv2', 'symbol': 'ath', 'name': 'AetherV2'},\n",
       " {'id': 'aeur', 'symbol': 'aeur', 'name': 'AEUR'},\n",
       " {'id': 'aezora', 'symbol': 'azr', 'name': 'Azzure'},\n",
       " {'id': 'afen-blockchain', 'symbol': 'afen', 'name': 'AFEN Blockchain'},\n",
       " {'id': 'affinity', 'symbol': 'afnty', 'name': 'Affinity'},\n",
       " {'id': 'affyn', 'symbol': 'fyn', 'name': 'Affyn'},\n",
       " {'id': 'afin-coin', 'symbol': 'afin', 'name': 'Asian Fintech'},\n",
       " {'id': 'afkdao', 'symbol': 'afk', 'name': 'AFKDAO'},\n",
       " {'id': 'afrep', 'symbol': 'afrep', 'name': 'Afrep'},\n",
       " {'id': 'afreum', 'symbol': 'afr', 'name': 'Afreum'},\n",
       " {'id': 'afrix', 'symbol': 'afx', 'name': 'Afrix'},\n",
       " {'id': 'afrostar', 'symbol': 'afro', 'name': 'Afrostar'},\n",
       " {'id': 'afyonspor-fan-token',\n",
       "  'symbol': 'afyon',\n",
       "  'name': 'Afyonspor Fan Token'},\n",
       " {'id': 'aga-carbon-credit', 'symbol': 'agac', 'name': 'AGA Carbon Credit'},\n",
       " {'id': 'aga-carbon-rewards', 'symbol': 'acar', 'name': 'AGA Carbon Rewards'},\n",
       " {'id': 'again-project', 'symbol': 'again', 'name': 'Again Project'},\n",
       " {'id': 'agame', 'symbol': 'ag', 'name': 'AGAME'},\n",
       " {'id': 'aga-rewards', 'symbol': 'edc', 'name': 'Edcoin'},\n",
       " {'id': 'aga-rewards-2', 'symbol': 'agar', 'name': 'AGA Rewards'},\n",
       " {'id': 'aga-token', 'symbol': 'aga', 'name': 'AGA'},\n",
       " {'id': 'agavecoin', 'symbol': 'agvc', 'name': 'AgaveCoin'},\n",
       " {'id': 'agave-token', 'symbol': 'agve', 'name': 'Agave'},\n",
       " {'id': 'agenor', 'symbol': 'age', 'name': 'Agenor'},\n",
       " {'id': 'ageofgods', 'symbol': 'aog', 'name': 'AgeOfGods'},\n",
       " {'id': 'age-of-knights', 'symbol': 'gem', 'name': 'Age Of Knights'},\n",
       " {'id': 'age-of-tanks', 'symbol': 'a.o.t', 'name': 'Age Of Tanks'},\n",
       " {'id': 'age-of-zalmoxis-koson',\n",
       "  'symbol': 'koson',\n",
       "  'name': 'Age of Zalmoxis KOSON'},\n",
       " {'id': 'ageur', 'symbol': 'ageur', 'name': 'agEUR'},\n",
       " {'id': 'ageur-wormhole', 'symbol': 'ageur', 'name': 'agEUR (Wormhole)'},\n",
       " {'id': 'aggle-io', 'symbol': 'aggl', 'name': 'aggle.io'},\n",
       " {'id': 'aggregated-finance', 'symbol': 'agfi', 'name': 'Aggregated Finance'},\n",
       " {'id': 'agile', 'symbol': 'agl', 'name': 'Agile'},\n",
       " {'id': 'agora-defi', 'symbol': 'agora', 'name': 'Agora Defi'},\n",
       " {'id': 'agoras-currency-of-tau',\n",
       "  'symbol': 'agrs',\n",
       "  'name': 'Agoras: Currency of Tau'},\n",
       " {'id': 'agoric', 'symbol': 'bld', 'name': 'Agoric'},\n",
       " {'id': 'agpc', 'symbol': 'agpc', 'name': 'AGPC'},\n",
       " {'id': 'agrello', 'symbol': 'dlt', 'name': 'Agrello'},\n",
       " {'id': 'agricoin', 'symbol': 'agn', 'name': 'Agricoin'},\n",
       " {'id': 'agrinoble', 'symbol': 'agn', 'name': 'Agrinoble'},\n",
       " {'id': 'agrinovuscoin', 'symbol': 'agri', 'name': 'AgriNovusCoin'},\n",
       " {'id': 'agrocash-x', 'symbol': 'xagc', 'name': 'AgroCash X'},\n",
       " {'id': 'agro-global', 'symbol': 'agro', 'name': 'Agro Global'},\n",
       " {'id': 'agronomist', 'symbol': 'agte', 'name': 'Agronomist'},\n",
       " {'id': 'agx-coin', 'symbol': 'agx', 'name': 'AGX Coin'},\n",
       " {'id': 'ahatoken', 'symbol': 'aht', 'name': 'AhaToken'},\n",
       " {'id': 'a-hunters-dream', 'symbol': 'caw', 'name': 'A Hunters Dream'},\n",
       " {'id': 'aibra', 'symbol': 'abr', 'name': 'AIBRA'},\n",
       " {'id': 'aichain', 'symbol': 'ait', 'name': 'AICHAIN'},\n",
       " {'id': 'aicon', 'symbol': 'aico', 'name': 'Aicon'},\n",
       " {'id': 'aidcoin', 'symbol': 'aid', 'name': 'AidCoin'},\n",
       " {'id': 'aidi-finance', 'symbol': 'aidi', 'name': 'Aidi Finance'},\n",
       " {'id': 'aidi-inu', 'symbol': 'aidi', 'name': 'Aidi Inu'},\n",
       " {'id': 'ai-doctor', 'symbol': 'aidoc', 'name': 'AI Doctor'},\n",
       " {'id': 'aidos-kuneen', 'symbol': 'adk', 'name': 'Aidos Kuneen'},\n",
       " {'id': 'ailink-token', 'symbol': 'ali', 'name': 'AiLink'},\n",
       " {'id': 'aimedis-2', 'symbol': 'aimx', 'name': 'Aimedis'},\n",
       " {'id': 'ai-network', 'symbol': 'ain', 'name': 'AI Network'},\n",
       " {'id': 'ainu-token', 'symbol': 'ainu', 'name': 'Ainu'},\n",
       " {'id': 'aion', 'symbol': 'aion', 'name': 'Aion'},\n",
       " {'id': 'aioz-network', 'symbol': 'aioz', 'name': 'AIOZ Network'},\n",
       " {'id': 'aipro', 'symbol': 'aipro', 'name': 'AIPRO'},\n",
       " {'id': 'airbloc-protocol', 'symbol': 'abl', 'name': 'Airbloc'},\n",
       " {'id': 'airbnb-tokenized-stock-zipmex',\n",
       "  'symbol': 'abnb',\n",
       "  'name': 'Airbnb Tokenized Stock Zipmex'},\n",
       " {'id': 'aircoin-2', 'symbol': 'air', 'name': 'AirCoin'},\n",
       " {'id': 'aircoins', 'symbol': 'airx', 'name': 'Aircoins'},\n",
       " {'id': 'airdrop-world', 'symbol': 'awt', 'name': 'Airdrop World'},\n",
       " {'id': 'airight', 'symbol': 'airi', 'name': 'aiRight'},\n",
       " {'id': 'airnft-token', 'symbol': 'airt', 'name': 'AirNFT'},\n",
       " {'id': 'airpay', 'symbol': 'airpay', 'name': 'AirPay'},\n",
       " {'id': 'airswap', 'symbol': 'ast', 'name': 'AirSwap'},\n",
       " {'id': 'airtnt', 'symbol': 'airtnt', 'name': 'AirTnT'},\n",
       " {'id': 'aisf', 'symbol': 'agt', 'name': 'AISF'},\n",
       " {'id': 'aiwork', 'symbol': 'awo', 'name': 'AiWork'},\n",
       " {'id': 'ajeverse', 'symbol': 'aje', 'name': 'Ajeverse'},\n",
       " {'id': 'akamaru-inu', 'symbol': 'akamaru', 'name': 'Akamaru Inu'},\n",
       " {'id': 'akash-network', 'symbol': 'akt', 'name': 'Akash Network'},\n",
       " {'id': 'aki-inu', 'symbol': 'aki', 'name': 'Aki Inu'},\n",
       " {'id': 'akil-coin', 'symbol': 'akl', 'name': 'Akil Coin'},\n",
       " {'id': 'akita-inu', 'symbol': 'akita', 'name': 'Akita Inu'},\n",
       " {'id': 'akita-inu-asa', 'symbol': 'akta', 'name': 'Akita Inu ASA'},\n",
       " {'id': 'akitavax', 'symbol': 'akitax', 'name': 'Akitavax'},\n",
       " {'id': 'akitsuki', 'symbol': 'aki', 'name': 'Akitsuki'},\n",
       " {'id': 'akoin', 'symbol': 'akn', 'name': 'Akoin'},\n",
       " {'id': 'akroma', 'symbol': 'aka', 'name': 'Akroma'},\n",
       " {'id': 'akropolis', 'symbol': 'akro', 'name': 'Akropolis'},\n",
       " {'id': 'akropolis-delphi', 'symbol': 'adel', 'name': 'Delphi'},\n",
       " {'id': 'aktio', 'symbol': 'aktio', 'name': 'Aktio'},\n",
       " {'id': 'aladdin-cvxcrv', 'symbol': 'acrv', 'name': 'Aladdin cvxCRV'},\n",
       " {'id': 'aladdin-dao', 'symbol': 'ald', 'name': 'Aladdin DAO'},\n",
       " {'id': 'alanyaspor-fan-token',\n",
       "  'symbol': 'ala',\n",
       "  'name': 'Alanyaspor Fan Token'},\n",
       " {'id': 'alaya', 'symbol': 'atp', 'name': 'Alaya'},\n",
       " {'id': 'albedo', 'symbol': 'albedo', 'name': 'ALBEDO'},\n",
       " {'id': 'alcazar', 'symbol': 'alcazar', 'name': 'Alcazar'},\n",
       " {'id': 'alchemist', 'symbol': 'mist', 'name': 'Alchemist'},\n",
       " {'id': 'alchemix', 'symbol': 'alcx', 'name': 'Alchemix'},\n",
       " {'id': 'alchemix-eth', 'symbol': 'aleth', 'name': 'Alchemix ETH'},\n",
       " {'id': 'alchemix-usd', 'symbol': 'alusd', 'name': 'Alchemix USD'},\n",
       " {'id': 'alchemy-pay', 'symbol': 'ach', 'name': 'Alchemy Pay'},\n",
       " {'id': 'aldrin', 'symbol': 'rin', 'name': 'Aldrin'},\n",
       " {'id': 'aleo', 'symbol': 'aleo', 'name': 'ALEO'},\n",
       " {'id': 'aleph', 'symbol': 'aleph', 'name': 'Aleph.im'},\n",
       " {'id': 'alephium', 'symbol': 'alph', 'name': 'Alephium'},\n",
       " {'id': 'aleph-zero', 'symbol': 'azero', 'name': 'Aleph Zero'},\n",
       " {'id': 'alethea-artificial-liquid-intelligence-token',\n",
       "  'symbol': 'ali',\n",
       "  'name': 'Alethea Artificial Liquid Intelligence'},\n",
       " {'id': 'alex', 'symbol': 'alex', 'name': 'Alex'},\n",
       " {'id': 'alexgo', 'symbol': 'alex', 'name': 'ALEX Lab'},\n",
       " {'id': 'alfa-romeo-racing-orlen-fan-token',\n",
       "  'symbol': 'sauber',\n",
       "  'name': 'Alfa Romeo Racing ORLEN Fan Token'},\n",
       " {'id': 'alfweb3project', 'symbol': 'alfw3', 'name': 'ALFweb3Project'},\n",
       " {'id': 'algebra', 'symbol': 'algb', 'name': 'Algebra'},\n",
       " {'id': 'algoblocks', 'symbol': 'algoblk', 'name': 'AlgoBlocks'},\n",
       " {'id': 'algodao', 'symbol': 'adao', 'name': 'AlgoDAO'},\n",
       " {'id': 'algodex', 'symbol': 'algx', 'name': 'Algodex'},\n",
       " {'id': 'algofund', 'symbol': 'algf', 'name': 'AlgoFund'},\n",
       " {'id': 'algogems', 'symbol': 'gems', 'name': 'AlgoGems'},\n",
       " {'id': 'algomint', 'symbol': 'gomint', 'name': 'Algomint'},\n",
       " {'id': 'algopad', 'symbol': 'algopad', 'name': 'AlgoPad'},\n",
       " {'id': 'algopainter', 'symbol': 'algop', 'name': 'AlgoPainter'},\n",
       " {'id': 'algorand', 'symbol': 'algo', 'name': 'Algorand'},\n",
       " {'id': 'algory', 'symbol': 'alg', 'name': 'Algory'},\n",
       " {'id': 'algostable', 'symbol': 'stbl', 'name': 'AlgoStable'},\n",
       " {'id': 'algostake', 'symbol': 'stke', 'name': 'AlgoStake'},\n",
       " {'id': 'algovest', 'symbol': 'avs', 'name': 'AlgoVest'},\n",
       " {'id': 'alibabacoin', 'symbol': 'abbc', 'name': 'ABBC'},\n",
       " {'id': 'alibaba-tokenized-stock-defichain',\n",
       "  'symbol': 'dbaba',\n",
       "  'name': 'Alibaba Tokenized Stock Defichain'},\n",
       " {'id': 'alibaba-tokenized-stock-zipmex',\n",
       "  'symbol': 'baba',\n",
       "  'name': 'Alibaba Tokenized Stock Zipmex'},\n",
       " {'id': 'alicoin', 'symbol': 'alicn', 'name': 'Alicoin'},\n",
       " {'id': 'alien-chicken-farm', 'symbol': 'acf', 'name': 'Alien Chicken Farm'},\n",
       " {'id': 'alien-inu', 'symbol': 'alien', 'name': 'Alien Inu'},\n",
       " {'id': 'alien-shiba-inu', 'symbol': 'ashib', 'name': 'Alien Shiba Inu'},\n",
       " {'id': 'alienswap', 'symbol': 'alien', 'name': 'AlienSwap'},\n",
       " {'id': 'alien-wars-gold', 'symbol': 'awg', 'name': 'Alien Wars Gold'},\n",
       " {'id': 'alien-worlds', 'symbol': 'tlm', 'name': 'Alien Worlds'},\n",
       " {'id': 'alinx', 'symbol': 'alix', 'name': 'AlinX'},\n",
       " {'id': 'alita', 'symbol': 'ali', 'name': 'Alita'},\n",
       " {'id': 'alita-network', 'symbol': 'alita', 'name': 'Alita Network'},\n",
       " {'id': 'alitas', 'symbol': 'alt', 'name': 'Alitas'},\n",
       " {'id': 'alium-finance', 'symbol': 'alm', 'name': 'Alium Finance'},\n",
       " {'id': 'alkemi-network-dao-token',\n",
       "  'symbol': 'alk',\n",
       "  'name': 'Alkemi Network DAO'},\n",
       " {'id': 'alkimi', 'symbol': '$ads', 'name': 'Alkimi'},\n",
       " {'id': 'all-art', 'symbol': 'aart', 'name': 'ALL.ART'},\n",
       " {'id': 'all-best-ico-satoshi',\n",
       "  'symbol': 'satsall',\n",
       "  'name': 'All Best ICO Satoshi'},\n",
       " {'id': 'allbridge', 'symbol': 'abr', 'name': 'Allbridge'},\n",
       " {'id': 'all-coins-yield-capital',\n",
       "  'symbol': 'acyc',\n",
       "  'name': 'All Coins Yield Capital'},\n",
       " {'id': 'alldex-alliance', 'symbol': 'axa', 'name': 'Alldex Alliance'},\n",
       " {'id': 'allianceblock', 'symbol': 'albt', 'name': 'AllianceBlock'},\n",
       " {'id': 'alliance-fan-token', 'symbol': 'all', 'name': 'Alliance Fan Token'},\n",
       " {'id': 'alliance-token', 'symbol': 'alto', 'name': 'Alliance'},\n",
       " {'id': 'alliance-x-trading', 'symbol': 'axt', 'name': 'Alliance X Trading'},\n",
       " {'id': 'allium-finance', 'symbol': 'alm', 'name': 'Allium Finance'},\n",
       " {'id': 'all-me', 'symbol': 'me', 'name': 'All.me'},\n",
       " {'id': 'alloy-project', 'symbol': 'xao', 'name': 'Alloy Project'},\n",
       " {'id': 'allpaycoin', 'symbol': 'apcg', 'name': 'ALLPAYCOIN'},\n",
       " {'id': 'allsafe', 'symbol': 'asafe', 'name': 'AllSafe'},\n",
       " {'id': 'all-sports-2', 'symbol': 'soc', 'name': 'All Sports'},\n",
       " {'id': 'allspot', 'symbol': 'alt', 'name': 'Allspot'},\n",
       " {'id': 'allstars', 'symbol': 'asx', 'name': 'AllStars'},\n",
       " {'id': 'all-time-high', 'symbol': 'ath', 'name': 'All Time High'},\n",
       " {'id': 'alluo', 'symbol': 'alluo', 'name': 'Alluo'},\n",
       " {'id': 'ally', 'symbol': 'aly', 'name': 'Ally'},\n",
       " {'id': 'ally-direct', 'symbol': 'drct', 'name': 'Ally Direct'},\n",
       " {'id': 'almond', 'symbol': 'alm', 'name': 'Almond'},\n",
       " {'id': 'alnair-finance-nika',\n",
       "  'symbol': 'nika',\n",
       "  'name': 'Alnair Finance NIKA'},\n",
       " {'id': 'alnassr-fc-fan-token',\n",
       "  'symbol': 'nassr',\n",
       "  'name': 'Alnassr FC Fan Token'},\n",
       " {'id': 'aloha', 'symbol': 'aloha', 'name': 'Aloha'},\n",
       " {'id': 'alora', 'symbol': 'alora', 'name': 'Alora'},\n",
       " {'id': 'alpaca', 'symbol': 'alpa', 'name': 'Alpaca City'},\n",
       " {'id': 'alpaca-finance', 'symbol': 'alpaca', 'name': 'Alpaca Finance'},\n",
       " {'id': 'alpha5', 'symbol': 'a5t', 'name': 'Alpha5'},\n",
       " {'id': 'alpha-brain-capital-2', 'symbol': 'acap', 'name': 'Alpha Capital'},\n",
       " {'id': 'alphacat', 'symbol': 'acat', 'name': 'Alphacat'},\n",
       " {'id': 'alphacoin', 'symbol': 'alpha', 'name': 'AlphaCoin'},\n",
       " {'id': 'alpha-coin', 'symbol': 'apc', 'name': 'Alpha Coin'},\n",
       " {'id': 'alphadex', 'symbol': 'dex', 'name': 'AlphaDex'},\n",
       " {'id': 'alpha-dex', 'symbol': 'roar', 'name': 'Alpha DEX'},\n",
       " {'id': 'alphafi', 'symbol': 'alf', 'name': 'ALPHAFI'},\n",
       " {'id': 'alpha-finance', 'symbol': 'alpha', 'name': 'Alpha Venture DAO'},\n",
       " {'id': 'alpha-genesis', 'symbol': 'agen', 'name': 'Alpha Genesis'},\n",
       " {'id': 'alpha-labz', 'symbol': '$alpha', 'name': 'Alpha Labz'},\n",
       " {'id': 'alphalink', 'symbol': 'ank', 'name': 'AlphaLink'},\n",
       " {'id': 'alpha-pad', 'symbol': 'apad', 'name': 'Alpha Pad'},\n",
       " {'id': 'alpha-quark-token', 'symbol': 'aqt', 'name': 'Alpha Quark'},\n",
       " {'id': 'alpha-shares-v2', 'symbol': '$alpha', 'name': 'Alpha Shares V2'},\n",
       " {'id': 'alphatoken', 'symbol': '.alpha', 'name': '.Alpha'},\n",
       " {'id': 'alphr', 'symbol': 'alphr', 'name': 'Alphr'},\n",
       " {'id': 'alpine-f1-team-fan-token',\n",
       "  'symbol': 'alpine',\n",
       "  'name': 'Alpine F1 Team Fan Token'},\n",
       " {'id': 'alrihla', 'symbol': 'alrihla', 'name': 'Alrihla'},\n",
       " {'id': 'alta-finance', 'symbol': 'alta', 'name': 'Alta Finance'},\n",
       " {'id': 'altair', 'symbol': 'air', 'name': 'Altair'},\n",
       " {'id': 'altava', 'symbol': 'tava', 'name': 'ALTAVA'},\n",
       " {'id': 'altbase', 'symbol': 'altb', 'name': 'Altbase'},\n",
       " {'id': 'alt-coin', 'symbol': 'alt', 'name': 'Alt Coin'},\n",
       " {'id': 'altcommunity-coin', 'symbol': 'altom', 'name': 'ALTOM'},\n",
       " {'id': 'alter', 'symbol': 'alter', 'name': 'Alter'},\n",
       " {'id': 'altered-state-token',\n",
       "  'symbol': 'asto',\n",
       "  'name': 'Altered State Machine'},\n",
       " {'id': 'alternatemoney', 'symbol': 'am', 'name': 'AlternateMoney'},\n",
       " {'id': 'alt-estate', 'symbol': 'alt', 'name': 'AltEstate'},\n",
       " {'id': 'altfins', 'symbol': 'afins', 'name': 'altFINS'},\n",
       " {'id': 'altfolio', 'symbol': 'alt', 'name': 'altfolio'},\n",
       " {'id': 'altimatum', 'symbol': '$alti', 'name': 'Altimatum'},\n",
       " {'id': 'altmarkets-coin', 'symbol': 'altm', 'name': 'Altmarkets Coin'},\n",
       " {'id': 'altpay-finance', 'symbol': 'altpay', 'name': 'ALTPAY FINANCE'},\n",
       " {'id': 'altrucoin-2', 'symbol': 'altrucoin', 'name': 'Altrucoin'},\n",
       " {'id': 'altswitch', 'symbol': 'alts', 'name': 'AltSwitch'},\n",
       " {'id': 'altura', 'symbol': 'alu', 'name': 'Altura'},\n",
       " {'id': 'aluna', 'symbol': 'aln', 'name': 'Aluna'},\n",
       " {'id': 'alvey-chain', 'symbol': 'walv', 'name': 'Alvey Chain'},\n",
       " {'id': 'alyattes', 'symbol': 'alya', 'name': 'Alyattes'},\n",
       " {'id': 'amasa', 'symbol': 'amas', 'name': 'Amasa'},\n",
       " {'id': 'amaten', 'symbol': 'ama', 'name': 'Amaten'},\n",
       " {'id': 'amateras', 'symbol': 'amt', 'name': 'Amateras'},\n",
       " {'id': 'amaterasufi-izanagi', 'symbol': 'iza', 'name': 'AmaterasuFi Izanagi'},\n",
       " {'id': 'amatsu-mikaboshi', 'symbol': 'mikaboshi', 'name': 'Amatsu-Mikaboshi'},\n",
       " {'id': 'amaurot', 'symbol': 'ama', 'name': 'AMAUROT'},\n",
       " {'id': 'amax-network', 'symbol': 'amax', 'name': 'AMAX Network'},\n",
       " {'id': 'amazingdoge', 'symbol': 'adoge', 'name': 'AmazingDoge'},\n",
       " {'id': 'amazingteamdao', 'symbol': 'amazingteam', 'name': 'AmazingTeamDAO'},\n",
       " {'id': 'amazonacoin', 'symbol': 'amz', 'name': 'AmazonasCoin'},\n",
       " {'id': 'amazon-tokenized-stock-defichain',\n",
       "  'symbol': 'damzn',\n",
       "  'name': 'Amazon Tokenized Stock Defichain'},\n",
       " {'id': 'amazon-tokenized-stock-zipmex',\n",
       "  'symbol': 'amzn',\n",
       "  'name': 'Amazon Tokenized Stock Zipmex'},\n",
       " {'id': 'amazy', 'symbol': 'azy', 'name': 'Amazy'},\n",
       " {'id': 'amazy-move-token', 'symbol': 'amt', 'name': 'Amazy Move Token'},\n",
       " {'id': 'amber', 'symbol': 'amb', 'name': 'AirDAO'},\n",
       " {'id': 'ambire-wallet', 'symbol': 'wallet', 'name': 'Ambire Wallet'},\n",
       " {'id': 'amc-entertainment-preferred-tokenized-stock-on-ftx',\n",
       "  'symbol': 'apeamc',\n",
       "  'name': 'AMC Entertainment Preferred Tokenized Stock on FTX'},\n",
       " {'id': 'amc-fight-night', 'symbol': 'amc', 'name': 'AMC Fight Night'},\n",
       " {'id': 'amdg-token', 'symbol': 'amdg', 'name': 'AMDG'},\n",
       " {'id': 'amepay', 'symbol': 'ame', 'name': 'AME Chain'},\n",
       " {'id': 'american-shiba', 'symbol': 'ushiba', 'name': 'American Shiba'},\n",
       " {'id': 'ameta', 'symbol': '$aplus', 'name': 'AMETA'},\n",
       " {'id': 'amgen', 'symbol': 'amg', 'name': 'Amgen'},\n",
       " {'id': 'amis', 'symbol': 'amis', 'name': 'AMIS'},\n",
       " {'id': 'amlp', 'symbol': 'amlp', 'name': 'aMLP'},\n",
       " {'id': 'ammf', 'symbol': 'ammf', 'name': 'aMMF'},\n",
       " {'id': 'ammyi-coin', 'symbol': 'ami', 'name': 'AMMYI Coin'},\n",
       " {'id': 'amnext', 'symbol': 'amc', 'name': 'Amnext'},\n",
       " {'id': 'amo', 'symbol': 'amo', 'name': 'AMO Coin'},\n",
       " {'id': 'amon', 'symbol': 'amn', 'name': 'Amon'},\n",
       " {'id': 'amond', 'symbol': 'amon', 'name': 'AmonD'},\n",
       " {'id': 'amoveo', 'symbol': 'veo', 'name': 'Amoveo'},\n",
       " {'id': 'ampleforth', 'symbol': 'ampl', 'name': 'Ampleforth'},\n",
       " {'id': 'ampleforth-governance-token',\n",
       "  'symbol': 'forth',\n",
       "  'name': 'Ampleforth Governance'},\n",
       " {'id': 'ampleswap', 'symbol': 'ample', 'name': 'AmpleSwap'},\n",
       " {'id': 'amplifi', 'symbol': 'amplifi', 'name': 'AmpliFi'},\n",
       " {'id': 'amplify', 'symbol': 'ampt', 'name': 'Amplify'},\n",
       " {'id': 'amplitude', 'symbol': 'ampe', 'name': 'Amplitude'},\n",
       " {'id': 'ampnet', 'symbol': 'aapx', 'name': 'AMPnet'},\n",
       " {'id': 'amp-token', 'symbol': 'amp', 'name': 'Amp'},\n",
       " {'id': 'amulet-staked-sol', 'symbol': 'amtsol', 'name': 'Amulet Staked SOL'},\n",
       " {'id': 'amun-defi-index', 'symbol': 'dfi', 'name': 'Amun DeFi Index'},\n",
       " {'id': 'amz-coin', 'symbol': 'amz', 'name': 'AMZ Coin'},\n",
       " {'id': 'anarchy', 'symbol': 'anarchy', 'name': 'Anarchy'},\n",
       " {'id': 'a-nation', 'symbol': 'anation', 'name': 'A-Nation'},\n",
       " {'id': 'anchor-beth-token', 'symbol': 'beth', 'name': 'Anchor bETH Token'},\n",
       " {'id': 'anchor-neural-world-token',\n",
       "  'symbol': 'anw',\n",
       "  'name': 'Anchor Neural World'},\n",
       " {'id': 'anchor-protocol', 'symbol': 'anc', 'name': 'Anchor Protocol'},\n",
       " {'id': 'anchorswap', 'symbol': 'anchor', 'name': 'AnchorSwap'},\n",
       " {'id': 'anchorust', 'symbol': 'aust', 'name': 'AnchorUST'},\n",
       " {'id': 'ancient-kingdom', 'symbol': 'dom', 'name': 'Ancient Kingdom'},\n",
       " {'id': 'ancient-raid', 'symbol': 'raid', 'name': 'Ancient Raid'},\n",
       " {'id': 'andronodes', 'symbol': 'andro', 'name': 'AndroNodes'},\n",
       " {'id': 'anduschain', 'symbol': 'deb', 'name': 'Anduschain'},\n",
       " {'id': 'angel-dust', 'symbol': 'ad', 'name': 'Angel Dust'},\n",
       " {'id': 'angel-inu', 'symbol': 'angel', 'name': 'Angel Inu'},\n",
       " {'id': 'angel-nodes', 'symbol': 'angel', 'name': 'Angel Nodes'},\n",
       " {'id': 'angelscreed', 'symbol': 'angel', 'name': 'AngelsCreed'},\n",
       " {'id': 'angle-protocol', 'symbol': 'angle', 'name': 'ANGLE'},\n",
       " {'id': 'angola', 'symbol': 'agla', 'name': 'Angola'},\n",
       " {'id': 'angryb', 'symbol': 'anb', 'name': 'Angryb'},\n",
       " {'id': 'angry-doge', 'symbol': 'anfd', 'name': 'Angry Doge'},\n",
       " {'id': 'anifi-world', 'symbol': 'anifi', 'name': 'AniFi World'},\n",
       " {'id': 'animal-concerts-token', 'symbol': 'anml', 'name': 'Animal Concerts'},\n",
       " {'id': 'animecoin', 'symbol': 'ani', 'name': 'Animecoin'},\n",
       " {'id': 'anime-token', 'symbol': 'ani', 'name': 'Anime'},\n",
       " {'id': 'animverse', 'symbol': 'anm', 'name': 'Animverse'},\n",
       " {'id': 'aniverse', 'symbol': 'anv', 'name': 'Aniverse'},\n",
       " {'id': 'anji', 'symbol': 'anji', 'name': 'Anji'},\n",
       " {'id': 'ankaragucu-fan-token',\n",
       "  'symbol': 'anka',\n",
       "  'name': 'Ankaragücü Fan Token'},\n",
       " {'id': 'ankr', 'symbol': 'ankr', 'name': 'Ankr'},\n",
       " {'id': 'ankr-avalanche-reward-earning-bond',\n",
       "  'symbol': 'aavaxb',\n",
       "  'name': 'Ankr Avalanche Reward Earning Bond'},\n",
       " {'id': 'ankreth',\n",
       "  'symbol': 'aethc',\n",
       "  'name': 'Ankr Reward-Bearing Staked ETH'},\n",
       " {'id': 'ankr-matic-reward-earning-bond',\n",
       "  'symbol': 'amaticb',\n",
       "  'name': 'Ankr MATIC Reward Earning Bond'},\n",
       " {'id': 'ankr-reward-bearing-avax',\n",
       "  'symbol': 'aavaxc',\n",
       "  'name': 'Ankr Reward Bearing AVAX'},\n",
       " {'id': 'ankr-reward-bearing-ftm',\n",
       "  'symbol': 'aftmc',\n",
       "  'name': 'Ankr Reward Bearing FTM'},\n",
       " {'id': 'ankr-reward-bearing-stake',\n",
       "  'symbol': 'abnbc',\n",
       "  'name': 'Ankr Reward Bearing Stake BNB'},\n",
       " {'id': 'ankr-reward-earning-bnb',\n",
       "  'symbol': 'abnbb',\n",
       "  'name': 'ANKR Reward Earning BNB'},\n",
       " {'id': 'ankr-reward-earning-dot',\n",
       "  'symbol': 'adotb',\n",
       "  'name': 'ANKR Reward Earning DOT'},\n",
       " {'id': 'ankr-reward-earning-ftm',\n",
       "  'symbol': 'aftmb',\n",
       "  'name': 'ANKR Reward Earning FTM'},\n",
       " {'id': 'ankr-reward-earning-ksm',\n",
       "  'symbol': 'aksmb',\n",
       "  'name': 'ANKR Reward Earning KSM'},\n",
       " {'id': 'ankr-reward-earning-matic',\n",
       "  'symbol': 'amaticc',\n",
       "  'name': 'Ankr Reward Earning MATIC'},\n",
       " {'id': 'ankr-reward-earning-staked-eth',\n",
       "  'symbol': 'aethb',\n",
       "  'name': 'Ankr Reward-Earning Staked ETH'},\n",
       " {'id': 'annex', 'symbol': 'ann', 'name': 'Annex Finance'},\n",
       " {'id': 'anomus-coin', 'symbol': 'anom', 'name': 'Anomus Coin'},\n",
       " {'id': 'anon', 'symbol': 'anon', 'name': 'ANON'},\n",
       " {'id': 'anonfloki', 'symbol': 'anonfloki', 'name': 'AnonFloki'},\n",
       " {'id': 'anon-inu', 'symbol': 'ainu', 'name': 'Anon Inu'},\n",
       " {'id': 'anonpay', 'symbol': 'apay', 'name': 'AnonPay'},\n",
       " {'id': 'anons-network', 'symbol': 'anons', 'name': 'Anons Network'},\n",
       " {'id': 'anonydoxx', 'symbol': 'adxx', 'name': 'AnonyDoxx'},\n",
       " {'id': 'anonymous-bsc', 'symbol': 'anon', 'name': 'Anonymous BSC'},\n",
       " {'id': 'another-world', 'symbol': 'awm', 'name': 'Another World'},\n",
       " {'id': 'anrkey-x', 'symbol': '$anrx', 'name': 'AnRKey X'},\n",
       " {'id': 'ans-crypto-coin', 'symbol': 'ans', 'name': 'ANS Crypto Coin'},\n",
       " {'id': 'answer-governance', 'symbol': 'agov', 'name': 'Answer Governance'},\n",
       " {'id': 'answerly', 'symbol': 'ansr', 'name': 'Answerly'},\n",
       " {'id': 'antalyaspor', 'symbol': 'akrep', 'name': 'Antalyaspor'},\n",
       " {'id': 'antedao', 'symbol': 'ante', 'name': 'AnteDAO'},\n",
       " {'id': 'antex', 'symbol': 'antex', 'name': 'Antex'},\n",
       " {'id': 'antgold', 'symbol': 'antg', 'name': 'AntGold'},\n",
       " {'id': 'antiample', 'symbol': 'xamp', 'name': 'Antiample'},\n",
       " {'id': 'antimatter', 'symbol': 'matter', 'name': 'AntiMatter'},\n",
       " {'id': 'antnetworx', 'symbol': 'antx', 'name': 'AntNetworX'},\n",
       " {'id': 'any-blocknet', 'symbol': 'ablock', 'name': 'ANY Blocknet'},\n",
       " {'id': 'anypad', 'symbol': 'apad', 'name': 'Anypad'},\n",
       " {'id': 'anyswap', 'symbol': 'any', 'name': 'Anyswap'},\n",
       " {'id': 'aok', 'symbol': 'aok', 'name': 'AOK'},\n",
       " {'id': 'aonea-coin', 'symbol': 'a1a', 'name': 'Aonea Coin'},\n",
       " {'id': 'aos', 'symbol': 'aos', 'name': 'AOS'},\n",
       " {'id': 'apch', 'symbol': 'apch', 'name': 'APCH'},\n",
       " {'id': 'ape', 'symbol': 'ape', 'name': 'APE'},\n",
       " {'id': 'apecoin', 'symbol': 'ape', 'name': 'ApeCoin'},\n",
       " {'id': 'apedoge', 'symbol': 'aped', 'name': 'Apedoge'},\n",
       " {'id': 'ape-finance', 'symbol': 'apefi', 'name': 'Ape Finance'},\n",
       " {'id': 'apefund', 'symbol': 'apefund', 'name': 'ApeFund'},\n",
       " {'id': 'ape-fun-token', 'symbol': 'aft', 'name': 'Ape Fun'},\n",
       " {'id': 'apegrow', 'symbol': 'apegrow', 'name': 'ApeGrow'},\n",
       " {'id': 'ape-in', 'symbol': 'apein', 'name': 'Ape In'},\n",
       " {'id': 'ape_in_records', 'symbol': 'air', 'name': 'Ape In Records'},\n",
       " {'id': 'apejet', 'symbol': 'jet', 'name': 'ApeJet'},\n",
       " {'id': 'ape-king', 'symbol': 'apk', 'name': 'Ape King'},\n",
       " {'id': 'apemove', 'symbol': 'ape', 'name': 'APEmove'},\n",
       " {'id': 'apenft', 'symbol': 'nft', 'name': 'APENFT'},\n",
       " {'id': 'apeparkdao', 'symbol': 'apd', 'name': 'ApeParkDAO'},\n",
       " {'id': 'ape-punk', 'symbol': 'ape$', 'name': 'APE Punk'},\n",
       " {'id': 'apes-token', 'symbol': 'apes', 'name': 'Apes'},\n",
       " {'id': 'apeswap-finance', 'symbol': 'banana', 'name': 'ApeSwap'},\n",
       " {'id': 'ape-universe', 'symbol': 'apeu', 'name': 'Ape Universe'},\n",
       " {'id': 'apeusd', 'symbol': 'apeusd', 'name': 'ApeUSD'},\n",
       " {'id': 'apexit-finance', 'symbol': 'apex', 'name': 'ApeXit Finance'},\n",
       " {'id': 'apex-predator', 'symbol': 'apex', 'name': 'Apex Predator'},\n",
       " {'id': 'apex-protocol', 'symbol': 'apxp', 'name': 'APEX Protocol'},\n",
       " {'id': 'apex-token-2', 'symbol': 'apex', 'name': 'ApeX'},\n",
       " {'id': 'api3', 'symbol': 'api3', 'name': 'API3'},\n",
       " {'id': 'apidae', 'symbol': 'apt', 'name': 'Apidae'},\n",
       " {'id': 'apish-me', 'symbol': 'apish', 'name': 'Apish Me'},\n",
       " {'id': 'apix', 'symbol': 'apix', 'name': 'APIX'},\n",
       " {'id': 'apm-coin', 'symbol': 'apm', 'name': 'apM Coin'},\n",
       " {'id': 'apocalypse', 'symbol': 'apoc', 'name': 'Apocalypse'},\n",
       " {'id': 'apollo', 'symbol': 'apl', 'name': 'Apollo'},\n",
       " {'id': 'apollo-coin', 'symbol': 'apx', 'name': 'Apollo Coin'},\n",
       " {'id': 'apollo-crypto', 'symbol': 'apollo', 'name': 'Apollo Crypto'},\n",
       " {'id': 'apollofi', 'symbol': 'apo', 'name': 'ApolloFi'},\n",
       " {'id': 'apollon-limassol',\n",
       "  'symbol': 'apl',\n",
       "  'name': 'Apollon Limassol Fan Token'},\n",
       " {'id': 'apollo-protocol', 'symbol': 'apollo', 'name': 'Apollo Protocol'},\n",
       " {'id': 'apollox-2', 'symbol': 'apx', 'name': 'ApolloX'},\n",
       " {'id': 'apoyield', 'symbol': 'soul', 'name': 'APOyield'},\n",
       " {'id': 'appcoins', 'symbol': 'appc', 'name': 'AppCoins'},\n",
       " {'id': 'appics', 'symbol': 'apx', 'name': 'Appics'},\n",
       " {'id': 'apple', 'symbol': 'apple', 'name': 'Apple'},\n",
       " {'id': 'apple-binemon', 'symbol': 'amb', 'name': 'Apple (Binemon)'},\n",
       " {'id': 'apple-fruit', 'symbol': 'apple', 'name': 'Apple Fruit'},\n",
       " {'id': 'apple-protocol-token', 'symbol': 'aapl', 'name': 'Apple Protocol'},\n",
       " {'id': 'applepye', 'symbol': 'applepye', 'name': 'APPLEPYE'},\n",
       " {'id': 'appleswap', 'symbol': 'apple', 'name': 'AppleSwap'},\n",
       " {'id': 'apple-tokenized-stock-defichain',\n",
       "  'symbol': 'daapl',\n",
       "  'name': 'Apple Tokenized Stock Defichain'},\n",
       " {'id': 'apr-coin', 'symbol': 'apr', 'name': 'APR Coin'},\n",
       " {'id': 'apricot', 'symbol': 'aprt', 'name': 'Apricot'},\n",
       " {'id': 'april', 'symbol': 'april', 'name': 'April'},\n",
       " {'id': 'aprobit', 'symbol': 'abt', 'name': 'Aprobit'},\n",
       " {'id': 'apron', 'symbol': 'apn', 'name': 'Apron'},\n",
       " {'id': 'aptoge', 'symbol': 'aptoge', 'name': 'Aptoge'},\n",
       " {'id': 'aptos', 'symbol': 'apt', 'name': 'Aptos'},\n",
       " {'id': 'aptos-launch-token', 'symbol': 'alt', 'name': 'AptosLaunch Token'},\n",
       " {'id': 'apwine', 'symbol': 'apw', 'name': 'APWine'},\n",
       " {'id': 'apy-finance', 'symbol': 'apy', 'name': 'APY.Finance'},\n",
       " {'id': 'apyswap', 'symbol': 'apys', 'name': 'APYSwap'},\n",
       " {'id': 'apy-vision', 'symbol': 'vision', 'name': 'APY.vision'},\n",
       " {'id': 'aqar-chain', 'symbol': 'aqr', 'name': 'Aqar Chain'},\n",
       " {'id': 'aqua-goat', 'symbol': 'aquagoat', 'name': 'Aqua Goat'},\n",
       " {'id': 'aquanee', 'symbol': 'aqdc', 'name': 'Aquanee'},\n",
       " {'id': 'aquari', 'symbol': 'aquari', 'name': 'Aquari'},\n",
       " {'id': 'aquarius', 'symbol': 'aqua', 'name': 'Aquarius'},\n",
       " {'id': 'aquariuscoin', 'symbol': 'arco', 'name': 'AquariusCoin'},\n",
       " {'id': 'aquarius-fi', 'symbol': 'aqu', 'name': 'Aquarius.Fi'},\n",
       " {'id': 'aquatank', 'symbol': 'aqua', 'name': 'AquaTank'},\n",
       " {'id': 'aqua-unicorn', 'symbol': 'auni', 'name': 'Aqua Unicorn'},\n",
       " {'id': 'arabella', 'symbol': 'ablc', 'name': 'ARABELLA'},\n",
       " {'id': 'arabian-doge', 'symbol': '$adoge', 'name': 'Arabian Doge'},\n",
       " {'id': 'arabic', 'symbol': 'abic', 'name': 'Arabic'},\n",
       " {'id': 'arable-protocol', 'symbol': 'acre', 'name': 'Arable Protocol'},\n",
       " {'id': 'arable-usd', 'symbol': 'arusd', 'name': 'Arable USD'},\n",
       " {'id': 'aragon', 'symbol': 'ant', 'name': 'Aragon'},\n",
       " {'id': 'arata', 'symbol': 'arata', 'name': 'Arata'},\n",
       " {'id': 'ara-token', 'symbol': 'ara', 'name': 'Ara'},\n",
       " {'id': 'araw-token', 'symbol': 'araw', 'name': 'ARAW'},\n",
       " {'id': 'arbidex', 'symbol': 'abx', 'name': 'Arbidex'},\n",
       " {'id': 'arbidoge', 'symbol': 'adoge', 'name': 'ArbiDoge'},\n",
       " {'id': 'arbinyan', 'symbol': 'nyan', 'name': 'ArbiNYAN'},\n",
       " {'id': 'arbis-finance', 'symbol': 'arbis', 'name': 'Arbis Finance'},\n",
       " {'id': 'arbismart-token', 'symbol': 'rbis', 'name': 'ArbiSmart'},\n",
       " {'id': 'arbitrage-token', 'symbol': 'rbtr', 'name': 'Arbitrage Token'},\n",
       " {'id': 'arb-protocol', 'symbol': 'arb', 'name': 'ARB Protocol'},\n",
       " {'id': 'arbucks', 'symbol': 'buck', 'name': 'Arbucks'},\n",
       " {'id': 'arbys', 'symbol': 'arbys', 'name': 'Arbys'},\n",
       " {'id': 'arc', 'symbol': 'arc', 'name': 'Arc'},\n",
       " {'id': 'arcade', 'symbol': 'arc', 'name': 'Arcade'},\n",
       " {'id': 'arcade2earn', 'symbol': 'arcade', 'name': 'Arcade2Earn'},\n",
       " {'id': 'arcade-canine', 'symbol': 'okinu', 'name': 'Arcade Canine'},\n",
       " {'id': 'arcade-kingdoms', 'symbol': 'ack', 'name': 'Arcade Kingdoms'},\n",
       " {'id': 'arcadenetwork', 'symbol': 'arc', 'name': 'ArcadeNetwork'},\n",
       " {'id': 'arcadia-token', 'symbol': '$arc', 'name': 'Arcadia Token'},\n",
       " {'id': 'arcadium', 'symbol': 'arcadium', 'name': 'Arcadium'},\n",
       " {'id': 'arcaneleague', 'symbol': 'arcaneleague', 'name': 'ArcaneLeague'},\n",
       " {'id': 'arcane-token', 'symbol': 'arcane', 'name': 'Arcane Token'},\n",
       " {'id': 'arcblock', 'symbol': 'abt', 'name': 'Arcblock'},\n",
       " {'id': 'arcc', 'symbol': 'arcc', 'name': 'ARCC'},\n",
       " {'id': 'arc-finance', 'symbol': 'arc', 'name': 'Arc Finance'},\n",
       " {'id': 'arc-governance', 'symbol': 'arcx', 'name': 'ARC Governance'},\n",
       " {'id': 'archangel-token', 'symbol': 'archa', 'name': 'ArchAngel'},\n",
       " {'id': 'arch-blockchains', 'symbol': 'chain', 'name': 'Arch Blockchains'},\n",
       " {'id': 'archer-dao-governance-token',\n",
       "  'symbol': 'arch',\n",
       "  'name': 'Archer DAO Governance'},\n",
       " {'id': 'arch-ethereum-web3', 'symbol': 'web3', 'name': 'Arch Ethereum Web3'},\n",
       " {'id': 'archethic', 'symbol': 'uco', 'name': 'Archethic'},\n",
       " {'id': 'archetypal-network', 'symbol': 'actp', 'name': 'Archetypal Network'},\n",
       " {'id': 'archie-neko', 'symbol': 'archie', 'name': 'Archie Neko'},\n",
       " {'id': 'arcona', 'symbol': 'arcona', 'name': 'Arcona'},\n",
       " {'id': 'arcs', 'symbol': 'arx', 'name': 'ARCS'},\n",
       " {'id': 'arcticcoin', 'symbol': 'arc', 'name': 'Advanced Technology Coin'},\n",
       " {'id': 'arc-token', 'symbol': 'arc', 'name': 'Arc Protocol'},\n",
       " {'id': 'ardana', 'symbol': 'dana', 'name': 'Ardana'},\n",
       " {'id': 'ardcoin', 'symbol': 'ardx', 'name': 'ArdCoin'},\n",
       " {'id': 'ardor', 'symbol': 'ardr', 'name': 'Ardor'},\n",
       " {'id': 'aree-shards', 'symbol': 'aes', 'name': 'Aree Shards'},\n",
       " {'id': 'arenaplay', 'symbol': 'apc', 'name': 'ArenaPlay'},\n",
       " {'id': 'arena-token', 'symbol': 'arena', 'name': 'ArenaSwap'},\n",
       " {'id': 'arenum', 'symbol': 'arnm', 'name': 'Arenum'},\n",
       " {'id': 'ares-protocol', 'symbol': 'ares', 'name': 'Ares Protocol'},\n",
       " {'id': 'argentine-football-association-fan-token',\n",
       "  'symbol': 'arg',\n",
       "  'name': 'Argentine Football Association Fan Token'},\n",
       " {'id': 'argo', 'symbol': 'argo', 'name': 'ArGoApp'},\n",
       " {'id': 'argo-2', 'symbol': 'argo', 'name': 'Argo'},\n",
       " {'id': 'argo-finance', 'symbol': 'argo', 'name': 'Argo Finance'},\n",
       " {'id': 'argon', 'symbol': 'argon', 'name': 'Argon'},\n",
       " {'id': 'argonon-helium', 'symbol': 'arg', 'name': 'Argonon Helium'},\n",
       " {'id': 'ari10', 'symbol': 'ari10', 'name': 'Ari10'},\n",
       " {'id': 'aria-currency', 'symbol': 'ria', 'name': 'aRIA Currency'},\n",
       " {'id': 'ariadne', 'symbol': 'ardn', 'name': 'Ariadne'},\n",
       " {'id': 'arianee', 'symbol': 'aria20', 'name': 'Arianee'},\n",
       " {'id': 'aries-financial-token', 'symbol': 'afib', 'name': 'Aries Financial'},\n",
       " {'id': 'arion', 'symbol': 'arion', 'name': 'Arion'},\n",
       " {'id': 'arionum', 'symbol': 'aro', 'name': 'Arionum'},\n",
       " {'id': 'ari-swap', 'symbol': 'ari', 'name': 'Ari Swap'},\n",
       " {'id': 'ariva', 'symbol': 'arv', 'name': 'Ariva'},\n",
       " {'id': 'arix', 'symbol': 'arix', 'name': 'Arix'},\n",
       " {'id': 'arize', 'symbol': 'arz', 'name': 'ARize'},\n",
       " {'id': 'ark', 'symbol': 'ark', 'name': 'Ark'},\n",
       " {'id': 'arkadiko-protocol', 'symbol': 'diko', 'name': 'Arkadiko'},\n",
       " {'id': 'arkadiko-usda', 'symbol': 'usda', 'name': 'Arkadiko USDA'},\n",
       " {'id': 'arkania-protocol', 'symbol': 'ania', 'name': 'Arkania Protocol'},\n",
       " {'id': 'arkarus', 'symbol': 'aks', 'name': 'Arkarus'},\n",
       " {'id': 'arken-finance', 'symbol': '$arken', 'name': 'Arken Finance'},\n",
       " {'id': 'arker-2', 'symbol': 'arker', 'name': 'Arker'},\n",
       " {'id': 'ark-innovation-etf-defichain',\n",
       "  'symbol': 'darkk',\n",
       "  'name': 'ARK Innovation ETF Defichain'},\n",
       " {'id': 'ark-of-the-universe',\n",
       "  'symbol': 'arks',\n",
       "  'name': 'Ark Of The Universe'},\n",
       " {'id': 'ark-rivals', 'symbol': 'arkn', 'name': 'Ark Rivals'},\n",
       " {'id': 'arkworld', 'symbol': 'akw', 'name': 'ArkWorld'},\n",
       " {'id': 'armor', 'symbol': 'armor', 'name': 'ARMOR'},\n",
       " {'id': 'armor-nxm', 'symbol': 'arnxm', 'name': 'Armor NXM'},\n",
       " {'id': 'army-node-finance', 'symbol': 'army', 'name': 'Army Node Finance'},\n",
       " {'id': 'arnoya-classic', 'symbol': 'arnc', 'name': 'Arnoya classic'},\n",
       " {'id': 'arowana-token', 'symbol': 'arw', 'name': 'Arowana'},\n",
       " {'id': 'arpa', 'symbol': 'arpa', 'name': 'ARPA'},\n",
       " {'id': 'arqma', 'symbol': 'arq', 'name': 'ArQmA'},\n",
       " {'id': 'arrow', 'symbol': 'arw', 'name': 'Arrow'},\n",
       " {'id': 'arsenal-fan-token', 'symbol': 'afc', 'name': 'Arsenal Fan Token'},\n",
       " {'id': 'artax', 'symbol': 'xax', 'name': 'ARTAX'},\n",
       " {'id': 'artbyte', 'symbol': 'aby', 'name': 'ArtByte'},\n",
       " {'id': 'artcoin', 'symbol': 'ac', 'name': 'ArtCoin'},\n",
       " {'id': 'arte', 'symbol': 'arte', 'name': 'ARTE'},\n",
       " {'id': 'artem', 'symbol': 'artem', 'name': 'Artem'},\n",
       " {'id': 'artemis', 'symbol': 'mis', 'name': 'Artemis'},\n",
       " {'id': 'artemis-vision', 'symbol': 'arv', 'name': 'Artemis Vision'},\n",
       " {'id': 'arteq-nft-investment-fund',\n",
       "  'symbol': 'arteq',\n",
       "  'name': 'artèQ NFT Investment Fund'},\n",
       " {'id': 'artery', 'symbol': 'artr', 'name': 'Artery'},\n",
       " {'id': 'artfinity-token', 'symbol': 'at', 'name': 'Artfinity'},\n",
       " {'id': 'art-gobblers-goo', 'symbol': 'goo', 'name': 'Art Gobblers Goo'},\n",
       " {'id': 'arth', 'symbol': 'arth', 'name': 'ARTH'},\n",
       " {'id': 'arthswap', 'symbol': 'arsw', 'name': 'ArthSwap'},\n",
       " {'id': 'artic-foundation', 'symbol': 'artic', 'name': 'ARTIC Foundation'},\n",
       " {'id': 'articoin', 'symbol': 'atc', 'name': 'ArtiCoin'},\n",
       " {'id': 'artificial-intelligence',\n",
       "  'symbol': 'ai',\n",
       "  'name': 'Artificial Intelligence'},\n",
       " {'id': 'artificial-intelligence-technology-network',\n",
       "  'symbol': 'aitn',\n",
       "  'name': 'Artificial Intelligence Technology Network'},\n",
       " {'id': 'artii-token', 'symbol': 'artii', 'name': 'ARTII'},\n",
       " {'id': 'artik', 'symbol': 'artk', 'name': 'Artik'},\n",
       " {'id': 'arti-project', 'symbol': 'arti', 'name': 'Arti Project'},\n",
       " {'id': 'artizen', 'symbol': 'atnt', 'name': 'Artizen'},\n",
       " {'id': 'artkit', 'symbol': 'arti', 'name': 'ArtKit'},\n",
       " {'id': 'artl', 'symbol': 'artl', 'name': 'ARTL'},\n",
       " {'id': 'artm', 'symbol': 'artm', 'name': 'ARTM'},\n",
       " {'id': 'artmeta', 'symbol': '$mart', 'name': 'ArtMeta'},\n",
       " {'id': 'artonline', 'symbol': 'art', 'name': 'ArtOnline'},\n",
       " {'id': 'artrade', 'symbol': 'atr', 'name': 'Artrade'},\n",
       " {'id': 'art-rino', 'symbol': 'artrino', 'name': 'Art Rino'},\n",
       " {'id': 'artube', 'symbol': 'att', 'name': 'Artube'},\n",
       " {'id': 'artwork-nft', 'symbol': 'anft', 'name': 'Artwork NFT'},\n",
       " {'id': 'artx', 'symbol': 'artx', 'name': 'ARTX'},\n",
       " {'id': 'arweave', 'symbol': 'ar', 'name': 'Arweave'},\n",
       " {'id': 'aryacoin', 'symbol': 'aya', 'name': 'Aryacoin'},\n",
       " {'id': 'asan-verse', 'symbol': 'asan', 'name': 'ASAN VERSE'},\n",
       " {'id': 'ascension', 'symbol': 'asn', 'name': 'Ascension'},\n",
       " {'id': 'ascension-protocol',\n",
       "  'symbol': 'ascend',\n",
       "  'name': 'Ascension Protocol'},\n",
       " {'id': 'asd', 'symbol': 'asd', 'name': 'AscendEx'},\n",
       " {'id': 'asec-frontier', 'symbol': 'asec', 'name': 'ASEC Frontier'},\n",
       " {'id': 'asgard-games', 'symbol': 'asg', 'name': 'Asgard Games'},\n",
       " {'id': 'asgardian-aereus', 'symbol': 'volt', 'name': 'Asgardian Aereus'},\n",
       " {'id': 'ash', 'symbol': 'ash', 'name': 'ASH'},\n",
       " {'id': 'ashera', 'symbol': 'ash', 'name': 'Ashera'},\n",
       " {'id': 'ashswap', 'symbol': 'ash', 'name': 'AshSwap'},\n",
       " {'id': 'ash-token', 'symbol': 'ash', 'name': 'Ash Token'},\n",
       " {'id': 'asia-coin', 'symbol': 'asia', 'name': 'Asia Coin'},\n",
       " {'id': 'asic-token', 'symbol': 'asic', 'name': 'ASIC Token'},\n",
       " {'id': 'asimi', 'symbol': 'asimi', 'name': 'ASIMI'},\n",
       " {'id': 'asix', 'symbol': 'asix', 'name': 'ASIX'},\n",
       " {'id': 'asixplus', 'symbol': 'asix+', 'name': 'AsixPlus'},\n",
       " {'id': 'askobar-network', 'symbol': 'asko', 'name': 'Asko'},\n",
       " {'id': 'as-monaco-fan-token', 'symbol': 'asm', 'name': 'AS Monaco Fan Token'},\n",
       " {'id': 'aspire', 'symbol': 'asp', 'name': 'Aspire'},\n",
       " {'id': 'aspo-world', 'symbol': 'aspo', 'name': 'ASPO World'},\n",
       " {'id': 'as-roma-fan-token', 'symbol': 'asr', 'name': 'AS Roma Fan Token'},\n",
       " {'id': 'assangedao', 'symbol': 'justice', 'name': 'AssangeDAO'},\n",
       " {'id': 'assaplay', 'symbol': 'assa', 'name': 'AssaPlay'},\n",
       " {'id': 'assara', 'symbol': 'assa', 'name': 'ASSARA'},\n",
       " {'id': 'assemble-protocol', 'symbol': 'asm', 'name': 'Assemble Protocol'},\n",
       " {'id': 'assent-protocol', 'symbol': 'asnt', 'name': 'Assent Protocol'},\n",
       " {'id': 'assetmantle', 'symbol': 'mntl', 'name': 'AssetMantle'},\n",
       " {'id': 'asta', 'symbol': 'asta', 'name': 'ASTA'},\n",
       " {'id': 'astar', 'symbol': 'astr', 'name': 'Astar'},\n",
       " {'id': 'aster', 'symbol': 'atc', 'name': 'Aster'},\n",
       " {'id': 'ast-finance', 'symbol': 'ast', 'name': 'AST.finance'},\n",
       " {'id': 'aston-martin-cognizant-fan-token',\n",
       "  'symbol': 'am',\n",
       "  'name': 'Aston Martin Cognizant Fan Token'},\n",
       " {'id': 'aston-villa-fan-token',\n",
       "  'symbol': 'avl',\n",
       "  'name': 'Aston Villa Fan Token'},\n",
       " {'id': 'astra-dao', 'symbol': 'astra', 'name': 'Astra DAO'},\n",
       " {'id': 'astrafer', 'symbol': 'astrafer', 'name': 'Astrafer'},\n",
       " {'id': 'astra-guild-ventures',\n",
       "  'symbol': 'agv',\n",
       "  'name': 'Astra Guild Ventures'},\n",
       " {'id': 'astralis', 'symbol': 'star', 'name': 'Astralis'},\n",
       " {'id': 'astrals-glxy', 'symbol': 'glxy', 'name': 'Astrals GLXY'},\n",
       " {'id': 'astrapad', 'symbol': 'astra', 'name': 'AstraPad'},\n",
       " {'id': 'astrazion', 'symbol': 'aznt', 'name': 'AstraZion'},\n",
       " {'id': 'astriddao-token', 'symbol': 'atid', 'name': 'AstridDAO'},\n",
       " {'id': 'astro-babies', 'symbol': 'abb', 'name': 'Astro Babies'},\n",
       " {'id': 'astrobirdz', 'symbol': 'abz', 'name': 'AstroBirdz'},\n",
       " {'id': 'astro-cash', 'symbol': 'astro', 'name': 'Astro Cash'},\n",
       " {'id': 'astrodonkey', 'symbol': 'dnky', 'name': 'AstroDonkey'},\n",
       " {'id': 'astroelon', 'symbol': 'elonone', 'name': 'AstroElon'},\n",
       " {'id': 'astrogrow', 'symbol': 'atg', 'name': 'AstroGrow'},\n",
       " {'id': 'astronaut', 'symbol': 'naut', 'name': 'Astronaut'},\n",
       " {'id': 'astroport', 'symbol': 'astroc', 'name': 'Astroport Classic'},\n",
       " {'id': 'astroport-fi', 'symbol': 'astro', 'name': 'Astroport.fi'},\n",
       " {'id': 'astrosanta', 'symbol': 'asa', 'name': 'AstroSanta'},\n",
       " {'id': 'astrospaces-io', 'symbol': 'spaces', 'name': 'AstroSpaces.io'},\n",
       " {'id': 'astroswap', 'symbol': 'astro', 'name': 'AstroSwap'},\n",
       " {'id': 'astrotools', 'symbol': 'astro', 'name': 'AstroTools'},\n",
       " {'id': 'astro-verse', 'symbol': 'asv', 'name': 'Astro Verse'},\n",
       " {'id': 'asuna-inu', 'symbol': 'asunainu', 'name': 'Asuna Inu'},\n",
       " {'id': 'asva', 'symbol': 'asva', 'name': 'Asva Labs'},\n",
       " {'id': 'asward-coin', 'symbol': 'asc', 'name': 'Ashward Coin'},\n",
       " {'id': 'asyagro', 'symbol': 'asy', 'name': 'ASYAGRO'},\n",
       " {'id': 'atari', 'symbol': 'atri', 'name': 'Atari'},\n",
       " {'id': 'atauro', 'symbol': 'atr', 'name': 'Atauro'},\n",
       " {'id': 'atbcoin', 'symbol': 'atb', 'name': 'ATBCoin'},\n",
       " {'id': 'atheios', 'symbol': 'ath', 'name': 'Atheios'},\n",
       " {'id': 'athena-crypto-bank', 'symbol': 'ath', 'name': 'Athena Crypto Bank'},\n",
       " {'id': 'athena-money-owl', 'symbol': 'owl', 'name': 'Athena Money Owl'},\n",
       " {'id': 'athenas', 'symbol': 'athenasv2', 'name': 'Athenas'},\n",
       " {'id': 'atheneum', 'symbol': 'aem', 'name': 'Atheneum'},\n",
       " {'id': 'athens', 'symbol': 'ath', 'name': 'Athens'},\n",
       " {'id': 'ath-games', 'symbol': 'athd', 'name': 'ATH Games'},\n",
       " {'id': 'athletex', 'symbol': 'ax', 'name': 'AthleteX'},\n",
       " {'id': 'athos-finance', 'symbol': 'ath', 'name': 'Athos Finance'},\n",
       " {'id': 'athos-meta', 'symbol': 'atm', 'name': 'Athos Meta'},\n",
       " {'id': 'atlantis', 'symbol': 'atlas', 'name': 'Atlantis'},\n",
       " {'id': 'atlantis-coin', 'symbol': 'atc', 'name': 'Atlantis Coin'},\n",
       " {'id': 'atlantis-finance', 'symbol': 'atls', 'name': 'Atlantis Finance'},\n",
       " {'id': 'atlantis-loans', 'symbol': 'atl', 'name': 'Atlantis Loans'},\n",
       " {'id': 'atlantis-loans-polygon',\n",
       "  'symbol': 'atlx',\n",
       "  'name': 'Atlantis Loans Polygon'},\n",
       " {'id': 'atlantis-metaverse', 'symbol': 'tau', 'name': 'Atlantis Metaverse'},\n",
       " {'id': 'atlantis-token', 'symbol': 'atis', 'name': 'Atlantis ATIS'},\n",
       " {'id': 'atlantis-universe-money',\n",
       "  'symbol': 'aum',\n",
       "  'name': 'Atlantis Universe Money'},\n",
       " {'id': 'atlas-dex', 'symbol': 'ats', 'name': 'Atlas DEX'},\n",
       " {'id': 'atlas-fc-fan-token', 'symbol': 'atlas', 'name': 'Atlas FC Fan Token'},\n",
       " {'id': 'atlas-navi', 'symbol': 'navi', 'name': 'Atlas Navi'},\n",
       " {'id': 'atlas-protocol', 'symbol': 'atp', 'name': 'Atlas Protocol'},\n",
       " {'id': 'atlas-usv', 'symbol': 'usv', 'name': 'Atlas USV'},\n",
       " {'id': 'atletico-madrid',\n",
       "  'symbol': 'atm',\n",
       "  'name': 'Atletico Madrid Fan Token'},\n",
       " {'id': 'atmos', 'symbol': 'atmos', 'name': 'Atmos'},\n",
       " {'id': 'atocha-coin', 'symbol': 'ato', 'name': 'Atocha Protocol'},\n",
       " {'id': 'atomic-wallet-coin', 'symbol': 'awc', 'name': 'Atomic Wallet Coin'},\n",
       " {'id': 'atompad', 'symbol': 'atpad', 'name': 'AtomPad'},\n",
       " {'id': 'atpay', 'symbol': 'atpay', 'name': 'AtPay'},\n",
       " {'id': 'atrollcity', 'symbol': 'pine', 'name': 'Atrollcity'},\n",
       " {'id': 'atromg8', 'symbol': 'ag8', 'name': 'ATROMG8'},\n",
       " {'id': 'attack-wagon', 'symbol': 'atk', 'name': 'Attack Wagon'},\n",
       " {'id': 'attila', 'symbol': 'att', 'name': 'Attila'},\n",
       " {'id': 'attrace', 'symbol': 'attr', 'name': 'Attrace'},\n",
       " {'id': 'auction', 'symbol': 'auction', 'name': 'Bounce'},\n",
       " {'id': 'auctus', 'symbol': 'auc', 'name': 'Auctus'},\n",
       " {'id': 'audax', 'symbol': 'audax', 'name': 'Audax'},\n",
       " {'id': 'audiocoin', 'symbol': 'adc', 'name': 'AudioCoin'},\n",
       " {'id': 'auditchain', 'symbol': 'audt', 'name': 'Auditchain'},\n",
       " {'id': 'audius', 'symbol': 'audio', 'name': 'Audius'},\n",
       " {'id': 'audius-wormhole', 'symbol': 'audio', 'name': 'Audius (Wormhole)'},\n",
       " {'id': 'augmented-finance', 'symbol': 'agf', 'name': 'Augmented Finance'},\n",
       " {'id': 'augur', 'symbol': 'rep', 'name': 'Augur'},\n",
       " {'id': 'augury-finance', 'symbol': 'omen', 'name': 'Augury Finance'},\n",
       " {'id': 'aura-bal', 'symbol': 'aurabal', 'name': 'Aura BAL'},\n",
       " {'id': 'aura-finance', 'symbol': 'aura', 'name': 'Aura Finance'},\n",
       " {'id': 'aura-network', 'symbol': 'aura', 'name': 'Aura Network'},\n",
       " {'id': 'auraswap', 'symbol': 'aura', 'name': 'AuraSwap'},\n",
       " {'id': 'aureo', 'symbol': 'aur', 'name': 'AUREO'},\n",
       " {'id': 'aureus-nummus-gold', 'symbol': 'ang', 'name': 'Aureus Nummus Gold'},\n",
       " {'id': 'auric-network', 'symbol': 'auscm', 'name': 'Auric Network'},\n",
       " {'id': 'aurigami', 'symbol': 'ply', 'name': 'Aurigami'},\n",
       " {'id': 'aurix', 'symbol': 'aur', 'name': 'Aurix'},\n",
       " {'id': 'aurora', 'symbol': 'aoa', 'name': 'Aurora Chain'},\n",
       " {'id': 'auroracoin', 'symbol': 'aur', 'name': 'Auroracoin'},\n",
       " {'id': 'aurora-dao', 'symbol': 'idex', 'name': 'IDEX'},\n",
       " {'id': 'aurora-near', 'symbol': 'aurora', 'name': 'Aurora'},\n",
       " ...]"
      ]
     },
     "execution_count": 70,
     "metadata": {},
     "output_type": "execute_result"
    }
   ],
   "source": [
    "response = get_request('/coins/list')\n",
    "\n",
    "response.json()"
   ]
  },
  {
   "cell_type": "code",
   "execution_count": 73,
   "metadata": {},
   "outputs": [
    {
     "name": "stdout",
     "output_type": "stream",
     "text": [
      "<class 'list'>\n"
     ]
    }
   ],
   "source": [
    "data = response.json()\n",
    "\n",
    "print(type(data))"
   ]
  },
  {
   "cell_type": "code",
   "execution_count": 74,
   "metadata": {},
   "outputs": [
    {
     "data": {
      "text/html": [
       "<div>\n",
       "<style scoped>\n",
       "    .dataframe tbody tr th:only-of-type {\n",
       "        vertical-align: middle;\n",
       "    }\n",
       "\n",
       "    .dataframe tbody tr th {\n",
       "        vertical-align: top;\n",
       "    }\n",
       "\n",
       "    .dataframe thead th {\n",
       "        text-align: right;\n",
       "    }\n",
       "</style>\n",
       "<table border=\"1\" class=\"dataframe\">\n",
       "  <thead>\n",
       "    <tr style=\"text-align: right;\">\n",
       "      <th></th>\n",
       "      <th>id</th>\n",
       "      <th>symbol</th>\n",
       "      <th>name</th>\n",
       "    </tr>\n",
       "  </thead>\n",
       "  <tbody>\n",
       "    <tr>\n",
       "      <th>0</th>\n",
       "      <td>01coin</td>\n",
       "      <td>zoc</td>\n",
       "      <td>01coin</td>\n",
       "    </tr>\n",
       "    <tr>\n",
       "      <th>1</th>\n",
       "      <td>0-5x-long-algorand-token</td>\n",
       "      <td>algohalf</td>\n",
       "      <td>0.5X Long Algorand</td>\n",
       "    </tr>\n",
       "    <tr>\n",
       "      <th>2</th>\n",
       "      <td>0-5x-long-altcoin-index-token</td>\n",
       "      <td>althalf</td>\n",
       "      <td>0.5X Long Altcoin Index</td>\n",
       "    </tr>\n",
       "    <tr>\n",
       "      <th>3</th>\n",
       "      <td>0-5x-long-bitcoin-token</td>\n",
       "      <td>half</td>\n",
       "      <td>0.5X Long Bitcoin</td>\n",
       "    </tr>\n",
       "    <tr>\n",
       "      <th>4</th>\n",
       "      <td>0-5x-long-cardano-token</td>\n",
       "      <td>adahalf</td>\n",
       "      <td>0.5X Long Cardano</td>\n",
       "    </tr>\n",
       "  </tbody>\n",
       "</table>\n",
       "</div>"
      ],
      "text/plain": [
       "                              id    symbol                     name\n",
       "0                         01coin       zoc                   01coin\n",
       "1       0-5x-long-algorand-token  algohalf       0.5X Long Algorand\n",
       "2  0-5x-long-altcoin-index-token   althalf  0.5X Long Altcoin Index\n",
       "3        0-5x-long-bitcoin-token      half        0.5X Long Bitcoin\n",
       "4        0-5x-long-cardano-token   adahalf        0.5X Long Cardano"
      ]
     },
     "execution_count": 74,
     "metadata": {},
     "output_type": "execute_result"
    }
   ],
   "source": [
    "import pandas as pd\n",
    "\n",
    "df = pd.read_json('https://api.coingecko.com/api/v3/coins/list')\n",
    "\n",
    "df.head()"
   ]
  },
  {
   "cell_type": "code",
   "execution_count": 77,
   "metadata": {},
   "outputs": [
    {
     "data": {
      "text/plain": [
       "(13107, 3)"
      ]
     },
     "execution_count": 77,
     "metadata": {},
     "output_type": "execute_result"
    }
   ],
   "source": [
    "df.shape"
   ]
  },
  {
   "cell_type": "code",
   "execution_count": 81,
   "metadata": {},
   "outputs": [
    {
     "data": {
      "text/html": [
       "<div>\n",
       "<style scoped>\n",
       "    .dataframe tbody tr th:only-of-type {\n",
       "        vertical-align: middle;\n",
       "    }\n",
       "\n",
       "    .dataframe tbody tr th {\n",
       "        vertical-align: top;\n",
       "    }\n",
       "\n",
       "    .dataframe thead th {\n",
       "        text-align: right;\n",
       "    }\n",
       "</style>\n",
       "<table border=\"1\" class=\"dataframe\">\n",
       "  <thead>\n",
       "    <tr style=\"text-align: right;\">\n",
       "      <th></th>\n",
       "      <th>id</th>\n",
       "      <th>symbol</th>\n",
       "      <th>name</th>\n",
       "    </tr>\n",
       "  </thead>\n",
       "  <tbody>\n",
       "    <tr>\n",
       "      <th>1458</th>\n",
       "      <td>binance-peg-dogecoin</td>\n",
       "      <td>doge</td>\n",
       "      <td>Binance-Peg Dogecoin</td>\n",
       "    </tr>\n",
       "    <tr>\n",
       "      <th>1521</th>\n",
       "      <td>bitcoin</td>\n",
       "      <td>btc</td>\n",
       "      <td>Bitcoin</td>\n",
       "    </tr>\n",
       "    <tr>\n",
       "      <th>3542</th>\n",
       "      <td>dogecoin</td>\n",
       "      <td>doge</td>\n",
       "      <td>Dogecoin</td>\n",
       "    </tr>\n",
       "    <tr>\n",
       "      <th>4091</th>\n",
       "      <td>ethereum</td>\n",
       "      <td>eth</td>\n",
       "      <td>Ethereum</td>\n",
       "    </tr>\n",
       "    <tr>\n",
       "      <th>4106</th>\n",
       "      <td>ethereum-wormhole</td>\n",
       "      <td>eth</td>\n",
       "      <td>Ethereum (Wormhole)</td>\n",
       "    </tr>\n",
       "  </tbody>\n",
       "</table>\n",
       "</div>"
      ],
      "text/plain": [
       "                        id symbol                  name\n",
       "1458  binance-peg-dogecoin   doge  Binance-Peg Dogecoin\n",
       "1521               bitcoin    btc               Bitcoin\n",
       "3542              dogecoin   doge              Dogecoin\n",
       "4091              ethereum    eth              Ethereum\n",
       "4106     ethereum-wormhole    eth   Ethereum (Wormhole)"
      ]
     },
     "execution_count": 81,
     "metadata": {},
     "output_type": "execute_result"
    }
   ],
   "source": [
    "df.loc[ (df.symbol == 'btc') | (df.symbol == 'eth') | (df.symbol == 'doge') ]"
   ]
  },
  {
   "cell_type": "code",
   "execution_count": 82,
   "metadata": {},
   "outputs": [
    {
     "data": {
      "text/plain": [
       "200"
      ]
     },
     "execution_count": 82,
     "metadata": {},
     "output_type": "execute_result"
    }
   ],
   "source": [
    "response = get_request('/coins/markets', payload={'vs_currency': 'usd', 'ids': 'bitcoin, dogecoin, ethereum'})\n",
    "\n",
    "response.status_code"
   ]
  },
  {
   "cell_type": "code",
   "execution_count": 83,
   "metadata": {},
   "outputs": [
    {
     "data": {
      "text/plain": [
       "[{'id': 'bitcoin',\n",
       "  'symbol': 'btc',\n",
       "  'name': 'Bitcoin',\n",
       "  'image': 'https://assets.coingecko.com/coins/images/1/large/bitcoin.png?1547033579',\n",
       "  'current_price': 17030.05,\n",
       "  'market_cap': 327217735893,\n",
       "  'market_cap_rank': 1,\n",
       "  'fully_diluted_valuation': 357450378241,\n",
       "  'total_volume': 17456495113,\n",
       "  'high_24h': 17111.05,\n",
       "  'low_24h': 16880.81,\n",
       "  'price_change_24h': 50.62,\n",
       "  'price_change_percentage_24h': 0.29813,\n",
       "  'market_cap_change_24h': 55422456,\n",
       "  'market_cap_change_percentage_24h': 0.01694,\n",
       "  'circulating_supply': 19223850.0,\n",
       "  'total_supply': 21000000.0,\n",
       "  'max_supply': 21000000.0,\n",
       "  'ath': 69045,\n",
       "  'ath_change_percentage': -75.34723,\n",
       "  'ath_date': '2021-11-10T14:24:11.849Z',\n",
       "  'atl': 67.81,\n",
       "  'atl_change_percentage': 25002.04631,\n",
       "  'atl_date': '2013-07-06T00:00:00.000Z',\n",
       "  'roi': None,\n",
       "  'last_updated': '2022-12-04T06:44:55.397Z'},\n",
       " {'id': 'ethereum',\n",
       "  'symbol': 'eth',\n",
       "  'name': 'Ethereum',\n",
       "  'image': 'https://assets.coingecko.com/coins/images/279/large/ethereum.png?1595348880',\n",
       "  'current_price': 1260.17,\n",
       "  'market_cap': 151862881556,\n",
       "  'market_cap_rank': 2,\n",
       "  'fully_diluted_valuation': 151862881556,\n",
       "  'total_volume': 5154915159,\n",
       "  'high_24h': 1287.27,\n",
       "  'low_24h': 1240.51,\n",
       "  'price_change_24h': -27.10853922613819,\n",
       "  'price_change_percentage_24h': -2.10589,\n",
       "  'market_cap_change_24h': -3312681711.8303833,\n",
       "  'market_cap_change_percentage_24h': -2.1348,\n",
       "  'circulating_supply': 120522012.389997,\n",
       "  'total_supply': 120522012.389997,\n",
       "  'max_supply': None,\n",
       "  'ath': 4878.26,\n",
       "  'ath_change_percentage': -74.17478,\n",
       "  'ath_date': '2021-11-10T14:24:19.604Z',\n",
       "  'atl': 0.432979,\n",
       "  'atl_change_percentage': 290866.04751,\n",
       "  'atl_date': '2015-10-20T00:00:00.000Z',\n",
       "  'roi': {'times': 97.9275322209354,\n",
       "   'currency': 'btc',\n",
       "   'percentage': 9792.75322209354},\n",
       "  'last_updated': '2022-12-04T06:44:56.703Z'},\n",
       " {'id': 'dogecoin',\n",
       "  'symbol': 'doge',\n",
       "  'name': 'Dogecoin',\n",
       "  'image': 'https://assets.coingecko.com/coins/images/5/large/dogecoin.png?1547792256',\n",
       "  'current_price': 0.104229,\n",
       "  'market_cap': 14276160624,\n",
       "  'market_cap_rank': 8,\n",
       "  'fully_diluted_valuation': None,\n",
       "  'total_volume': 1005782193,\n",
       "  'high_24h': 0.104953,\n",
       "  'low_24h': 0.098795,\n",
       "  'price_change_24h': 0.00413211,\n",
       "  'price_change_percentage_24h': 4.12811,\n",
       "  'market_cap_change_24h': 556012427,\n",
       "  'market_cap_change_percentage_24h': 4.05252,\n",
       "  'circulating_supply': 137162286383.705,\n",
       "  'total_supply': None,\n",
       "  'max_supply': None,\n",
       "  'ath': 0.731578,\n",
       "  'ath_change_percentage': -85.77291,\n",
       "  'ath_date': '2021-05-08T05:08:23.458Z',\n",
       "  'atl': 8.69e-05,\n",
       "  'atl_change_percentage': 119667.27166,\n",
       "  'atl_date': '2015-05-06T00:00:00.000Z',\n",
       "  'roi': None,\n",
       "  'last_updated': '2022-12-04T06:44:56.678Z'}]"
      ]
     },
     "execution_count": 83,
     "metadata": {},
     "output_type": "execute_result"
    }
   ],
   "source": [
    "response.json()"
   ]
  },
  {
   "cell_type": "code",
   "execution_count": 89,
   "metadata": {},
   "outputs": [
    {
     "data": {
      "text/html": [
       "<div>\n",
       "<style scoped>\n",
       "    .dataframe tbody tr th:only-of-type {\n",
       "        vertical-align: middle;\n",
       "    }\n",
       "\n",
       "    .dataframe tbody tr th {\n",
       "        vertical-align: top;\n",
       "    }\n",
       "\n",
       "    .dataframe thead th {\n",
       "        text-align: right;\n",
       "    }\n",
       "</style>\n",
       "<table border=\"1\" class=\"dataframe\">\n",
       "  <thead>\n",
       "    <tr style=\"text-align: right;\">\n",
       "      <th></th>\n",
       "      <th>id</th>\n",
       "      <th>symbol</th>\n",
       "      <th>name</th>\n",
       "      <th>localization</th>\n",
       "      <th>image</th>\n",
       "      <th>market_data</th>\n",
       "      <th>community_data</th>\n",
       "      <th>developer_data</th>\n",
       "      <th>public_interest_stats</th>\n",
       "    </tr>\n",
       "  </thead>\n",
       "  <tbody>\n",
       "    <tr>\n",
       "      <th>en</th>\n",
       "      <td>bitcoin</td>\n",
       "      <td>btc</td>\n",
       "      <td>Bitcoin</td>\n",
       "      <td>Bitcoin</td>\n",
       "      <td>NaN</td>\n",
       "      <td>NaN</td>\n",
       "      <td>NaN</td>\n",
       "      <td>NaN</td>\n",
       "      <td>NaN</td>\n",
       "    </tr>\n",
       "    <tr>\n",
       "      <th>de</th>\n",
       "      <td>bitcoin</td>\n",
       "      <td>btc</td>\n",
       "      <td>Bitcoin</td>\n",
       "      <td>Bitcoin</td>\n",
       "      <td>NaN</td>\n",
       "      <td>NaN</td>\n",
       "      <td>NaN</td>\n",
       "      <td>NaN</td>\n",
       "      <td>NaN</td>\n",
       "    </tr>\n",
       "    <tr>\n",
       "      <th>es</th>\n",
       "      <td>bitcoin</td>\n",
       "      <td>btc</td>\n",
       "      <td>Bitcoin</td>\n",
       "      <td>Bitcoin</td>\n",
       "      <td>NaN</td>\n",
       "      <td>NaN</td>\n",
       "      <td>NaN</td>\n",
       "      <td>NaN</td>\n",
       "      <td>NaN</td>\n",
       "    </tr>\n",
       "    <tr>\n",
       "      <th>fr</th>\n",
       "      <td>bitcoin</td>\n",
       "      <td>btc</td>\n",
       "      <td>Bitcoin</td>\n",
       "      <td>Bitcoin</td>\n",
       "      <td>NaN</td>\n",
       "      <td>NaN</td>\n",
       "      <td>NaN</td>\n",
       "      <td>NaN</td>\n",
       "      <td>NaN</td>\n",
       "    </tr>\n",
       "    <tr>\n",
       "      <th>it</th>\n",
       "      <td>bitcoin</td>\n",
       "      <td>btc</td>\n",
       "      <td>Bitcoin</td>\n",
       "      <td>Bitcoin</td>\n",
       "      <td>NaN</td>\n",
       "      <td>NaN</td>\n",
       "      <td>NaN</td>\n",
       "      <td>NaN</td>\n",
       "      <td>NaN</td>\n",
       "    </tr>\n",
       "  </tbody>\n",
       "</table>\n",
       "</div>"
      ],
      "text/plain": [
       "         id symbol     name localization image market_data  community_data  \\\n",
       "en  bitcoin    btc  Bitcoin      Bitcoin   NaN         NaN             NaN   \n",
       "de  bitcoin    btc  Bitcoin      Bitcoin   NaN         NaN             NaN   \n",
       "es  bitcoin    btc  Bitcoin      Bitcoin   NaN         NaN             NaN   \n",
       "fr  bitcoin    btc  Bitcoin      Bitcoin   NaN         NaN             NaN   \n",
       "it  bitcoin    btc  Bitcoin      Bitcoin   NaN         NaN             NaN   \n",
       "\n",
       "   developer_data  public_interest_stats  \n",
       "en            NaN                    NaN  \n",
       "de            NaN                    NaN  \n",
       "es            NaN                    NaN  \n",
       "fr            NaN                    NaN  \n",
       "it            NaN                    NaN  "
      ]
     },
     "execution_count": 89,
     "metadata": {},
     "output_type": "execute_result"
    }
   ],
   "source": [
    "df = pd.read_json('https://api.coingecko.com/api/v3/coins/bitcoin/history?date=01-11-2022')\n",
    "\n",
    "df.head()"
   ]
  },
  {
   "cell_type": "code",
   "execution_count": 86,
   "metadata": {},
   "outputs": [
    {
     "data": {
      "text/plain": [
       "(56, 9)"
      ]
     },
     "execution_count": 86,
     "metadata": {},
     "output_type": "execute_result"
    }
   ],
   "source": [
    "df.shape"
   ]
  },
  {
   "cell_type": "code",
   "execution_count": 90,
   "metadata": {},
   "outputs": [
    {
     "data": {
      "text/plain": [
       "200"
      ]
     },
     "execution_count": 90,
     "metadata": {},
     "output_type": "execute_result"
    }
   ],
   "source": [
    "response = get_request('/coins/bitcoin/history', payload={'date': '03-12-2022'})\n",
    "\n",
    "response.status_code"
   ]
  },
  {
   "cell_type": "code",
   "execution_count": 91,
   "metadata": {},
   "outputs": [
    {
     "data": {
      "text/plain": [
       "{'id': 'bitcoin',\n",
       " 'symbol': 'btc',\n",
       " 'name': 'Bitcoin',\n",
       " 'localization': {'en': 'Bitcoin',\n",
       "  'de': 'Bitcoin',\n",
       "  'es': 'Bitcoin',\n",
       "  'fr': 'Bitcoin',\n",
       "  'it': 'Bitcoin',\n",
       "  'pl': 'Bitcoin',\n",
       "  'ro': 'Bitcoin',\n",
       "  'hu': 'Bitcoin',\n",
       "  'nl': 'Bitcoin',\n",
       "  'pt': 'Bitcoin',\n",
       "  'sv': 'Bitcoin',\n",
       "  'vi': 'Bitcoin',\n",
       "  'tr': 'Bitcoin',\n",
       "  'ru': 'Биткоин',\n",
       "  'ja': 'ビットコイン',\n",
       "  'zh': '比特币',\n",
       "  'zh-tw': '比特幣',\n",
       "  'ko': '비트코인',\n",
       "  'ar': 'بيتكوين',\n",
       "  'th': 'บิตคอยน์',\n",
       "  'id': 'Bitcoin',\n",
       "  'cs': 'Bitcoin',\n",
       "  'da': 'Bitcoin',\n",
       "  'el': 'Bitcoin',\n",
       "  'hi': 'Bitcoin',\n",
       "  'no': 'Bitcoin',\n",
       "  'sk': 'Bitcoin',\n",
       "  'uk': 'Bitcoin',\n",
       "  'he': 'Bitcoin',\n",
       "  'fi': 'Bitcoin',\n",
       "  'bg': 'Bitcoin',\n",
       "  'hr': 'Bitcoin',\n",
       "  'lt': 'Bitcoin',\n",
       "  'sl': 'Bitcoin'},\n",
       " 'image': {'thumb': 'https://assets.coingecko.com/coins/images/1/thumb/bitcoin.png?1547033579',\n",
       "  'small': 'https://assets.coingecko.com/coins/images/1/small/bitcoin.png?1547033579'},\n",
       " 'market_data': {'current_price': {'aed': 62752.73977954881,\n",
       "   'ars': 2872478.387943467,\n",
       "   'aud': 25140.35695075591,\n",
       "   'bch': 152.54783391071712,\n",
       "   'bdt': 1751500.3649328984,\n",
       "   'bhd': 6441.185182964188,\n",
       "   'bmd': 17084.87334047068,\n",
       "   'bnb': 58.33547529565929,\n",
       "   'brl': 89172.78791325266,\n",
       "   'btc': 1.0,\n",
       "   'cad': 23011.479223293256,\n",
       "   'chf': 15991.441446680497,\n",
       "   'clp': 15094485.59630579,\n",
       "   'cny': 120014.40126747015,\n",
       "   'czk': 394942.4745749905,\n",
       "   'dkk': 120535.48990435479,\n",
       "   'dot': 3033.1274901900456,\n",
       "   'eos': 18103.82357602252,\n",
       "   'eth': 13.19910212750188,\n",
       "   'eur': 16214.672401747104,\n",
       "   'gbp': 13896.64804153212,\n",
       "   'hkd': 133095.43454060185,\n",
       "   'huf': 6645161.485776066,\n",
       "   'idr': 262700429.45774558,\n",
       "   'ils': 58191.93284131015,\n",
       "   'inr': 1391076.0146911354,\n",
       "   'jpy': 2294754.7124957927,\n",
       "   'krw': 22182145.30160005,\n",
       "   'kwd': 5244.031023124066,\n",
       "   'lkr': 6299996.848940683,\n",
       "   'ltc': 219.1401326048987,\n",
       "   'mmk': 35902214.753246084,\n",
       "   'mxn': 331297.9044070688,\n",
       "   'myr': 74959.8817813151,\n",
       "   'ngn': 7588588.191636857,\n",
       "   'nok': 166779.11657500695,\n",
       "   'nzd': 26636.85517639446,\n",
       "   'php': 953703.3084297038,\n",
       "   'pkr': 3821886.166263292,\n",
       "   'pln': 75805.65135116172,\n",
       "   'rub': 1067804.4129306844,\n",
       "   'sar': 64220.09121126841,\n",
       "   'sek': 176421.81908836812,\n",
       "   'sgd': 23103.874218318466,\n",
       "   'thb': 593215.9833448067,\n",
       "   'try': 318357.83842387004,\n",
       "   'twd': 521994.1351714007,\n",
       "   'uah': 628203.5316579364,\n",
       "   'usd': 17084.87334047068,\n",
       "   'vef': 1710.7083675813242,\n",
       "   'vnd': 418792957.75828683,\n",
       "   'xag': 737.8961921211285,\n",
       "   'xau': 9.502435703236383,\n",
       "   'xdr': 12943.653806600665,\n",
       "   'xlm': 193225.71150272954,\n",
       "   'xrp': 42958.100134134176,\n",
       "   'yfi': 2.505159929240537,\n",
       "   'zar': 299497.8296584508,\n",
       "   'bits': 1000330.6902296107,\n",
       "   'link': 2249.879992881639,\n",
       "   'sats': 100033069.02296107},\n",
       "  'market_cap': {'aed': 1205399137187.1968,\n",
       "   'ars': 55176602369548.65,\n",
       "   'aud': 482913808759.2389,\n",
       "   'bch': 2934402628.772508,\n",
       "   'bdt': 33644061376284.82,\n",
       "   'bhd': 123726853827.95604,\n",
       "   'bmd': 328178365692.1309,\n",
       "   'bnb': 1121156819.3527198,\n",
       "   'brl': 1712894161893.5095,\n",
       "   'btc': 19222812.0,\n",
       "   'cad': 442020815323.8067,\n",
       "   'chf': 307240585960.97314,\n",
       "   'clp': 289945586088998.0,\n",
       "   'cny': 2305321747640.936,\n",
       "   'czk': 7586335190522.144,\n",
       "   'dkk': 2315331187794.557,\n",
       "   'dot': 58247796406.822426,\n",
       "   'eos': 347693189044.9297,\n",
       "   'eth': 253909339.1857175,\n",
       "   'eur': 311462928813.96814,\n",
       "   'gbp': 266811636734.6288,\n",
       "   'hkd': 2556591513333.1323,\n",
       "   'huf': 127644975335954.33,\n",
       "   'idr': 5046136186555351,\n",
       "   'ils': 1117791922465.6833,\n",
       "   'inr': 26720774802201.902,\n",
       "   'jpy': 44079276223094.15,\n",
       "   'krw': 426090381096378.2,\n",
       "   'kwd': 100731067565.54265,\n",
       "   'lkr': 121014808160934.89,\n",
       "   'ltc': 4210254467.9113903,\n",
       "   'mmk': 689635206983842.0,\n",
       "   'mxn': 6363805142645.822,\n",
       "   'myr': 1439882579474.2249,\n",
       "   'ngn': 145766984689473.9,\n",
       "   'nok': 3203611570213.445,\n",
       "   'nzd': 511659608166.9448,\n",
       "   'php': 18319409625018.395,\n",
       "   'pkr': 73413500405329.66,\n",
       "   'pln': 1456128721289.4487,\n",
       "   'rub': 20511144573974.61,\n",
       "   'sar': 1233585064303.0322,\n",
       "   'sek': 3388835439810.075,\n",
       "   'sgd': 443795603925.46814,\n",
       "   'thb': 11394913385479.393,\n",
       "   'try': 6115243176648.961,\n",
       "   'twd': 10026833606991.678,\n",
       "   'uah': 12066979030694.238,\n",
       "   'usd': 328178365692.1309,\n",
       "   'vef': 32860499756.75317,\n",
       "   'vnd': 8044472189028364,\n",
       "   'xag': 14174033459.594116,\n",
       "   'xau': 182529525.2143063,\n",
       "   'xdr': 248630883453.649,\n",
       "   'xlm': 3709550451723.558,\n",
       "   'xrp': 826121751629.2966,\n",
       "   'yfi': 48092604.22359343,\n",
       "   'zar': 5752966750583.055,\n",
       "   'bits': 19224641632983.227,\n",
       "   'link': 43277577608.06625,\n",
       "   'sats': 1922464163298322.8},\n",
       "  'total_volume': {'aed': 76932576039.34265,\n",
       "   'ars': 3521554003509.0093,\n",
       "   'aud': 30821163021.16542,\n",
       "   'bch': 187018094.71907714,\n",
       "   'bdt': 2147275728223.2795,\n",
       "   'bhd': 7896658705.463817,\n",
       "   'bmd': 20945433171.615204,\n",
       "   'bnb': 71517170.4811702,\n",
       "   'brl': 109322593895.9284,\n",
       "   'btc': 1226369.0344187706,\n",
       "   'cad': 28211236375.383175,\n",
       "   'chf': 19604925448.631763,\n",
       "   'clp': 18505290207121.97,\n",
       "   'cny': 147133289857.32794,\n",
       "   'czk': 484185105911.64294,\n",
       "   'dkk': 147772125569.06256,\n",
       "   'dot': 3718503958.485555,\n",
       "   'eos': 22194629091.224213,\n",
       "   'eth': 16181619.027987381,\n",
       "   'eur': 19878598478.452106,\n",
       "   'gbp': 17036784942.026937,\n",
       "   'hkd': 163170160765.17554,\n",
       "   'huf': 8146726232099.729,\n",
       "   'idr': 322061169533390.1,\n",
       "   'ils': 71341192654.17996,\n",
       "   'inr': 1705408586982.67,\n",
       "   'jpy': 2813285794865.9243,\n",
       "   'krw': 27194503158366.53,\n",
       "   'kwd': 6428991257.695566,\n",
       "   'lkr': 7723566944350.441,\n",
       "   'ltc': 268657830.30548054,\n",
       "   'mmk': 44014809173082.02,\n",
       "   'mxn': 406159178260.7416,\n",
       "   'myr': 91898088040.46172,\n",
       "   'ngn': 9303333051836.32,\n",
       "   'nok': 204465129534.67368,\n",
       "   'nzd': 32655815403.533585,\n",
       "   'php': 1169205560625.6174,\n",
       "   'pkr': 4685493400490.323,\n",
       "   'pln': 92934970764.18932,\n",
       "   'rub': 1309089363771.6191,\n",
       "   'sar': 78731495512.71992,\n",
       "   'sek': 216286732016.7327,\n",
       "   'sgd': 28324509277.9752,\n",
       "   'thb': 727261214518.3362,\n",
       "   'try': 390295128121.9939,\n",
       "   'twd': 639945819692.3594,\n",
       "   'uah': 770154675911.1923,\n",
       "   'usd': 20945433171.615204,\n",
       "   'vef': 2097266223.4738245,\n",
       "   'vnd': 513424930619216.9,\n",
       "   'xag': 904633887.0450554,\n",
       "   'xau': 11649640.475720655,\n",
       "   'xdr': 15868448679.714241,\n",
       "   'xlm': 236887692794.96002,\n",
       "   'xrp': 52665067958.54732,\n",
       "   'yfi': 3071234.9361011055,\n",
       "   'zar': 367173443498.4143,\n",
       "   'bits': 1226369034418.7708,\n",
       "   'link': 2758271021.1510525,\n",
       "   'sats': 122636903441877.06}},\n",
       " 'community_data': {'facebook_likes': None,\n",
       "  'twitter_followers': 5669386,\n",
       "  'reddit_average_posts_48h': 7.5,\n",
       "  'reddit_average_comments_48h': 636.0,\n",
       "  'reddit_subscribers': 4732935,\n",
       "  'reddit_accounts_active_48h': '11755.5454545455'},\n",
       " 'developer_data': {'forks': None,\n",
       "  'stars': None,\n",
       "  'subscribers': None,\n",
       "  'total_issues': None,\n",
       "  'closed_issues': None,\n",
       "  'pull_requests_merged': None,\n",
       "  'pull_request_contributors': None,\n",
       "  'code_additions_deletions_4_weeks': {'additions': None, 'deletions': None},\n",
       "  'commit_count_4_weeks': None},\n",
       " 'public_interest_stats': {'alexa_rank': None, 'bing_matches': None}}"
      ]
     },
     "execution_count": 91,
     "metadata": {},
     "output_type": "execute_result"
    }
   ],
   "source": [
    "response.json()"
   ]
  },
  {
   "cell_type": "code",
   "execution_count": null,
   "metadata": {},
   "outputs": [],
   "source": []
  }
 ],
 "metadata": {
  "kernelspec": {
   "display_name": "Python 3 (ipykernel)",
   "language": "python",
   "name": "python3"
  },
  "language_info": {
   "codemirror_mode": {
    "name": "ipython",
    "version": 3
   },
   "file_extension": ".py",
   "mimetype": "text/x-python",
   "name": "python",
   "nbconvert_exporter": "python",
   "pygments_lexer": "ipython3",
   "version": "3.9.12"
  },
  "toc": {
   "nav_menu": {},
   "number_sections": true,
   "sideBar": true,
   "skip_h1_title": false,
   "title_cell": "Table of Contents",
   "title_sidebar": "Contents",
   "toc_cell": false,
   "toc_position": {},
   "toc_section_display": true,
   "toc_window_display": false
  },
  "varInspector": {
   "cols": {
    "lenName": 16,
    "lenType": 16,
    "lenVar": 40
   },
   "kernels_config": {
    "python": {
     "delete_cmd_postfix": "",
     "delete_cmd_prefix": "del ",
     "library": "var_list.py",
     "varRefreshCmd": "print(var_dic_list())"
    },
    "r": {
     "delete_cmd_postfix": ") ",
     "delete_cmd_prefix": "rm(",
     "library": "var_list.r",
     "varRefreshCmd": "cat(var_dic_list()) "
    }
   },
   "types_to_exclude": [
    "module",
    "function",
    "builtin_function_or_method",
    "instance",
    "_Feature"
   ],
   "window_display": false
  }
 },
 "nbformat": 4,
 "nbformat_minor": 2
}
