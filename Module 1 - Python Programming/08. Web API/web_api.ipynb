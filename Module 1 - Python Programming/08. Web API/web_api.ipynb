{
 "cells": [
  {
   "cell_type": "markdown",
   "metadata": {},
   "source": [
    "# Application Programming Interface"
   ]
  },
  {
   "cell_type": "markdown",
   "metadata": {
    "ExecuteTime": {
     "end_time": "2018-09-04T03:32:21.665406Z",
     "start_time": "2018-09-04T03:32:21.660911Z"
    }
   },
   "source": [
    "**Definition**  \n",
    "> Application Program Interfaces, or APIs, are commonly used to retrieve data from remote websites.  \n",
    "> To use an API, you make a request to a remote web server, and retrieve the data you need.\n",
    "\n",
    "**Why use API?**\n",
    "> Quickly changing data. Eg - Stock Market Data.  \n",
    "> In case you want a small piece of a much larger dataset. Eg - Twitter."
   ]
  },
  {
   "cell_type": "markdown",
   "metadata": {},
   "source": [
    "**API Request**\n",
    "> In order to get the data, we make a request to a webserver.  \n",
    "> The server then replies with our data.  \n",
    "> In Python, we'll use the **requests** module to do this.  \n",
    "> There are many different types of requests.   \n",
    "> The most commonly used one, a **GET request**, is used to retrieve data  \n",
    "\n",
    "```python\n",
    "import requests\n",
    "response = requests.get(\"URI\")\n",
    "```"
   ]
  },
  {
   "cell_type": "markdown",
   "metadata": {
    "ExecuteTime": {
     "end_time": "2018-09-04T03:32:44.962255Z",
     "start_time": "2018-09-04T03:32:44.958176Z"
    }
   },
   "source": [
    "### International Space Station API\n",
    "**Demonstrating an example with OpenNotify API**  \n",
    "In order to demonstrate, we will be using OpenNotify's API. OpenNotify has several API endpoints.  \n",
    "**OpenNotify API Documentation -** http://open-notify.org/Open-Notify-API/\n",
    "\n",
    "**API Endpoint**\n",
    "> An API endpoint is a digital location where an API receives requests about a specific resource on its server. \n",
    "\n",
    "**iss-now.json endpoint**\n",
    "> The first endpoint we'll look at on OpenNotify is the iss-now.json endpoint.  \n",
    "> This endpoint gets the current latitude and longitude of the International Space Station.   \n",
    "> As you can see, retrieving this data isn't a great fit for a dataset, because it involves some calculation on the server, and changes quickly.\n"
   ]
  },
  {
   "cell_type": "markdown",
   "metadata": {},
   "source": [
    "### Example 1"
   ]
  },
  {
   "cell_type": "code",
   "execution_count": 1,
   "metadata": {
    "ExecuteTime": {
     "end_time": "2018-09-04T03:32:43.971470Z",
     "start_time": "2018-09-04T03:32:43.967795Z"
    }
   },
   "outputs": [],
   "source": [
    "import requests"
   ]
  },
  {
   "cell_type": "code",
   "execution_count": 2,
   "metadata": {
    "ExecuteTime": {
     "end_time": "2018-09-04T03:33:20.386628Z",
     "start_time": "2018-09-04T03:33:19.151218Z"
    }
   },
   "outputs": [],
   "source": [
    "# Make a get request to get the latest position of \n",
    "# the international space station from the opennotify api.\n",
    "response = requests.get(\"http://api.open-notify.org/iss-now.json\")"
   ]
  },
  {
   "cell_type": "code",
   "execution_count": 3,
   "metadata": {},
   "outputs": [
    {
     "data": {
      "text/plain": [
       "'http://api.open-notify.org/iss-now.json'"
      ]
     },
     "execution_count": 3,
     "metadata": {},
     "output_type": "execute_result"
    }
   ],
   "source": [
    "# Check the response URL\n",
    "response.url"
   ]
  },
  {
   "cell_type": "code",
   "execution_count": 4,
   "metadata": {},
   "outputs": [
    {
     "data": {
      "text/plain": [
       "200"
      ]
     },
     "execution_count": 4,
     "metadata": {},
     "output_type": "execute_result"
    }
   ],
   "source": [
    "# Check the status code of the response.\n",
    "response.status_code"
   ]
  },
  {
   "cell_type": "code",
   "execution_count": 5,
   "metadata": {},
   "outputs": [
    {
     "data": {
      "text/plain": [
       "{'Server': 'nginx/1.10.3', 'Date': 'Mon, 05 Dec 2022 09:31:41 GMT', 'Content-Type': 'application/json', 'Content-Length': '115', 'Connection': 'keep-alive', 'access-control-allow-origin': '*'}"
      ]
     },
     "execution_count": 5,
     "metadata": {},
     "output_type": "execute_result"
    }
   ],
   "source": [
    "response.headers"
   ]
  },
  {
   "cell_type": "code",
   "execution_count": 6,
   "metadata": {},
   "outputs": [
    {
     "data": {
      "text/plain": [
       "'application/json'"
      ]
     },
     "execution_count": 6,
     "metadata": {},
     "output_type": "execute_result"
    }
   ],
   "source": [
    "# Check the response content type\n",
    "response.headers['Content-Type']"
   ]
  },
  {
   "cell_type": "code",
   "execution_count": 7,
   "metadata": {},
   "outputs": [
    {
     "data": {
      "text/plain": [
       "'utf-8'"
      ]
     },
     "execution_count": 7,
     "metadata": {},
     "output_type": "execute_result"
    }
   ],
   "source": [
    "# Check the response encoding\n",
    "response.encoding"
   ]
  },
  {
   "cell_type": "code",
   "execution_count": 8,
   "metadata": {},
   "outputs": [
    {
     "data": {
      "text/plain": [
       "'{\"iss_position\": {\"latitude\": \"-11.7822\", \"longitude\": \"-179.1524\"}, \"message\": \"success\", \"timestamp\": 1670232701}'"
      ]
     },
     "execution_count": 8,
     "metadata": {},
     "output_type": "execute_result"
    }
   ],
   "source": [
    "# Response Content\n",
    "response.text"
   ]
  },
  {
   "cell_type": "code",
   "execution_count": 9,
   "metadata": {},
   "outputs": [
    {
     "data": {
      "text/plain": [
       "b'{\"iss_position\": {\"latitude\": \"-11.7822\", \"longitude\": \"-179.1524\"}, \"message\": \"success\", \"timestamp\": 1670232701}'"
      ]
     },
     "execution_count": 9,
     "metadata": {},
     "output_type": "execute_result"
    }
   ],
   "source": [
    "# Binary Response Content\n",
    "# This is useful if the response body contains non-text data\n",
    "response.content"
   ]
  },
  {
   "cell_type": "code",
   "execution_count": 10,
   "metadata": {},
   "outputs": [
    {
     "data": {
      "text/plain": [
       "{'iss_position': {'latitude': '-11.7822', 'longitude': '-179.1524'},\n",
       " 'message': 'success',\n",
       " 'timestamp': 1670232701}"
      ]
     },
     "execution_count": 10,
     "metadata": {},
     "output_type": "execute_result"
    }
   ],
   "source": [
    "# JSON Response Content\n",
    "response.json()"
   ]
  },
  {
   "cell_type": "markdown",
   "metadata": {},
   "source": [
    "### Example 2"
   ]
  },
  {
   "cell_type": "code",
   "execution_count": 11,
   "metadata": {
    "ExecuteTime": {
     "end_time": "2018-09-04T03:32:43.971470Z",
     "start_time": "2018-09-04T03:32:43.967795Z"
    }
   },
   "outputs": [],
   "source": [
    "import requests"
   ]
  },
  {
   "cell_type": "code",
   "execution_count": 18,
   "metadata": {
    "ExecuteTime": {
     "end_time": "2018-09-04T03:33:20.386628Z",
     "start_time": "2018-09-04T03:33:19.151218Z"
    }
   },
   "outputs": [],
   "source": [
    "# Make a get request to get the latest position of \n",
    "# the international space station from the opennotify api.\n",
    "response = requests.get(\"https://google.com/search?q=thataiguy\")"
   ]
  },
  {
   "cell_type": "code",
   "execution_count": 19,
   "metadata": {},
   "outputs": [
    {
     "data": {
      "text/plain": [
       "'https://www.google.com/search?q=thataiguy'"
      ]
     },
     "execution_count": 19,
     "metadata": {},
     "output_type": "execute_result"
    }
   ],
   "source": [
    "# Check the response URL\n",
    "response.url"
   ]
  },
  {
   "cell_type": "code",
   "execution_count": 20,
   "metadata": {},
   "outputs": [
    {
     "data": {
      "text/plain": [
       "200"
      ]
     },
     "execution_count": 20,
     "metadata": {},
     "output_type": "execute_result"
    }
   ],
   "source": [
    "# Check the status code of the response.\n",
    "response.status_code"
   ]
  },
  {
   "cell_type": "code",
   "execution_count": 21,
   "metadata": {},
   "outputs": [
    {
     "data": {
      "text/plain": [
       "{'Content-Type': 'text/html; charset=ISO-8859-1', 'Date': 'Mon, 05 Dec 2022 09:31:59 GMT', 'Expires': '-1', 'Cache-Control': 'private, max-age=0', 'Content-Security-Policy': \"object-src 'none';base-uri 'self';script-src 'nonce-DSFSGmRX7Ei0v6F8lijyVg' 'strict-dynamic' 'report-sample' 'unsafe-eval' 'unsafe-inline' https: http:;report-uri https://csp.withgoogle.com/csp/gws/xsrp\", 'Cross-Origin-Opener-Policy-Report-Only': 'same-origin-allow-popups; report-to=\"gws\"', 'Report-To': '{\"group\":\"gws\",\"max_age\":2592000,\"endpoints\":[{\"url\":\"https://csp.withgoogle.com/csp/report-to/gws/xsrp\"}]}', 'P3P': 'CP=\"This is not a P3P policy! See g.co/p3phelp for more info.\"', 'Content-Encoding': 'gzip', 'Server': 'gws', 'X-XSS-Protection': '0', 'X-Frame-Options': 'SAMEORIGIN', 'Set-Cookie': '1P_JAR=2022-12-05-09; expires=Wed, 04-Jan-2023 09:31:59 GMT; path=/; domain=.google.com; Secure, AEC=AakniGMz_J9bSpD6DYLSGgufNe_z7CnC3DNkpV5xg-Hl001xWB4YeD5vbt8; expires=Sat, 03-Jun-2023 09:31:59 GMT; path=/; domain=.google.com; Secure; HttpOnly; SameSite=lax, NID=511=A8j1XoeltylKVKk7Rt_QE-ucNcDAabQCbcWYI9gHYhHgft4NHdNZ_7UvCwaG0mMvoGSOORCPuGRmtkCbgq0tb0AAMo53hrK22mXZ8bvI_ZZ2mhJIiiItpIQnV4j0KMt1oyvte3drSUHU6lxaWb7_uRcW37W84HKrbM11LRgEm_Q; expires=Tue, 06-Jun-2023 09:31:59 GMT; path=/; domain=.google.com; HttpOnly', 'Alt-Svc': 'h3=\":443\"; ma=2592000,h3-29=\":443\"; ma=2592000,h3-Q050=\":443\"; ma=2592000,h3-Q046=\":443\"; ma=2592000,h3-Q043=\":443\"; ma=2592000,quic=\":443\"; ma=2592000; v=\"46,43\"', 'Transfer-Encoding': 'chunked'}"
      ]
     },
     "execution_count": 21,
     "metadata": {},
     "output_type": "execute_result"
    }
   ],
   "source": [
    "response.headers"
   ]
  },
  {
   "cell_type": "code",
   "execution_count": 22,
   "metadata": {},
   "outputs": [
    {
     "data": {
      "text/plain": [
       "'text/html; charset=ISO-8859-1'"
      ]
     },
     "execution_count": 22,
     "metadata": {},
     "output_type": "execute_result"
    }
   ],
   "source": [
    "# Check the response content type\n",
    "response.headers['Content-Type']"
   ]
  },
  {
   "cell_type": "code",
   "execution_count": 23,
   "metadata": {},
   "outputs": [
    {
     "data": {
      "text/plain": [
       "'ISO-8859-1'"
      ]
     },
     "execution_count": 23,
     "metadata": {},
     "output_type": "execute_result"
    }
   ],
   "source": [
    "# Check the response encoding\n",
    "response.encoding"
   ]
  },
  {
   "cell_type": "code",
   "execution_count": 24,
   "metadata": {},
   "outputs": [],
   "source": [
    "# # Response Content\n",
    "# response.text"
   ]
  },
  {
   "cell_type": "code",
   "execution_count": 25,
   "metadata": {},
   "outputs": [],
   "source": [
    "# # Binary Response Content\n",
    "# # This is useful if the response body contains non-text data\n",
    "# response.content"
   ]
  },
  {
   "cell_type": "code",
   "execution_count": 26,
   "metadata": {},
   "outputs": [],
   "source": [
    "## JSON Response Content\n",
    "# response.json()\n",
    "## Generates Error"
   ]
  },
  {
   "cell_type": "markdown",
   "metadata": {},
   "source": [
    "## Status Code"
   ]
  },
  {
   "cell_type": "markdown",
   "metadata": {
    "ExecuteTime": {
     "end_time": "2018-09-04T03:33:22.480635Z",
     "start_time": "2018-09-04T03:33:22.476175Z"
    }
   },
   "source": [
    "Here are some codes that are relevant to GET requests:\n",
    "> **200** - everything went okay, and the result has been returned (if any).  \n",
    "> **301** - the server is redirecting you to a different endpoint. This can happen when a company switches domain names, or an endpoint name is changed.  \n",
    "> **401** - the server thinks you're not authenticated. This happens when you don't send the right credentials to access an API (we'll talk about authentication in a later post).  \n",
    "> **400** - the server thinks you made a bad request. This can happen when you don't send along the right data, among other things.  \n",
    "> **403** - the resource you're trying to access is forbidden -- you don't have the right permissions to see it.  \n",
    "> **404** - the resource you tried to access wasn't found on the server.  \n",
    "\n",
    "\n",
    "**Remember**\n",
    "> **2xx** - Success  \n",
    "> **3xx** - Redirection  \n",
    "> **4xx** - Client Error  \n",
    "> **5xx** - Server Error"
   ]
  },
  {
   "cell_type": "code",
   "execution_count": 27,
   "metadata": {},
   "outputs": [
    {
     "name": "stdout",
     "output_type": "stream",
     "text": [
      "404\n"
     ]
    },
    {
     "data": {
      "text/plain": [
       "b''"
      ]
     },
     "execution_count": 27,
     "metadata": {},
     "output_type": "execute_result"
    }
   ],
   "source": [
    "# Try the endpoint that doesnot exist\n",
    "\n",
    "response = requests.get(\"http://api.open-notify.org/astro\")\n",
    "print(response.status_code)\n",
    "response.content\n",
    "\n",
    "# response.json() # Generates error"
   ]
  },
  {
   "cell_type": "code",
   "execution_count": 28,
   "metadata": {},
   "outputs": [
    {
     "name": "stdout",
     "output_type": "stream",
     "text": [
      "200\n"
     ]
    },
    {
     "data": {
      "text/plain": [
       "{'people': [{'craft': 'Tiangong', 'name': 'Cai Xuzhe'},\n",
       "  {'craft': 'Tiangong', 'name': 'Chen Dong'},\n",
       "  {'craft': 'Tiangong', 'name': 'Liu Yang'},\n",
       "  {'craft': 'ISS', 'name': 'Sergey Prokopyev'},\n",
       "  {'craft': 'ISS', 'name': 'Dmitry Petelin'},\n",
       "  {'craft': 'ISS', 'name': 'Frank Rubio'},\n",
       "  {'craft': 'ISS', 'name': 'Nicole Mann'},\n",
       "  {'craft': 'ISS', 'name': 'Josh Cassada'},\n",
       "  {'craft': 'ISS', 'name': 'Koichi Wakata'},\n",
       "  {'craft': 'ISS', 'name': 'Anna Kikina'},\n",
       "  {'craft': 'Shenzhou 15', 'name': 'Fei Junlong'},\n",
       "  {'craft': 'Shenzhou 15', 'name': 'Deng Qingming'},\n",
       "  {'craft': 'Shenzhou 15', 'name': 'Zhang Lu'}],\n",
       " 'number': 13,\n",
       " 'message': 'success'}"
      ]
     },
     "execution_count": 28,
     "metadata": {},
     "output_type": "execute_result"
    }
   ],
   "source": [
    "# Lets now add .json and try again\n",
    "\n",
    "response = requests.get(\"http://api.open-notify.org/astros.json\")\n",
    "print(response.status_code)\n",
    "response.json()"
   ]
  },
  {
   "cell_type": "markdown",
   "metadata": {},
   "source": [
    "## Query Parameters"
   ]
  },
  {
   "cell_type": "markdown",
   "metadata": {},
   "source": [
    "**Warning - iss-pass.json endpoint is removed from OpenNotify's API.**"
   ]
  },
  {
   "cell_type": "code",
   "execution_count": 7,
   "metadata": {
    "ExecuteTime": {
     "end_time": "2018-09-04T03:33:30.791852Z",
     "start_time": "2018-09-04T03:33:29.704155Z"
    },
    "scrolled": true
   },
   "outputs": [
    {
     "name": "stdout",
     "output_type": "stream",
     "text": [
      "404\n"
     ]
    }
   ],
   "source": [
    "# Set up the parameters we want to pass to the API.\n",
    "# This is the latitude and longitude of New York City.\n",
    "parameters = {\"lat\": 40.71, \"lon\": -74}\n",
    "\n",
    "# Make a get request with the parameters.\n",
    "response = requests.get(\"http://api.open-notify.org/iss-pass.json\", params=parameters)\n",
    "\n",
    "# Print the status code of the response.\n",
    "print(response.status_code)"
   ]
  },
  {
   "cell_type": "code",
   "execution_count": 19,
   "metadata": {},
   "outputs": [
    {
     "name": "stdout",
     "output_type": "stream",
     "text": [
      "b'{\\n  \"message\": \"success\", \\n  \"request\": {\\n    \"altitude\": 100, \\n    \"datetime\": 1634416081, \\n    \"latitude\": 40.71, \\n    \"longitude\": -74.0, \\n    \"passes\": 5\\n  }, \\n  \"response\": [\\n    {\\n      \"duration\": 482, \\n      \"risetime\": 1634417305\\n    }, \\n    {\\n      \"duration\": 322, \\n      \"risetime\": 1634466030\\n    }, \\n    {\\n      \"duration\": 640, \\n      \"risetime\": 1634471633\\n    }, \\n    {\\n      \"duration\": 630, \\n      \"risetime\": 1634477452\\n    }, \\n    {\\n      \"duration\": 563, \\n      \"risetime\": 1634483345\\n    }\\n  ]\\n}\\n'\n"
     ]
    }
   ],
   "source": [
    "# Print the content of the response (the data the server returned)\n",
    "print(response.content)"
   ]
  },
  {
   "cell_type": "code",
   "execution_count": 23,
   "metadata": {},
   "outputs": [
    {
     "data": {
      "text/plain": [
       "{'message': 'success',\n",
       " 'request': {'altitude': 100,\n",
       "  'datetime': 1634416081,\n",
       "  'latitude': 40.71,\n",
       "  'longitude': -74.0,\n",
       "  'passes': 5},\n",
       " 'response': [{'duration': 482, 'risetime': 1634417305},\n",
       "  {'duration': 322, 'risetime': 1634466030},\n",
       "  {'duration': 640, 'risetime': 1634471633},\n",
       "  {'duration': 630, 'risetime': 1634477452},\n",
       "  {'duration': 563, 'risetime': 1634483345}]}"
      ]
     },
     "execution_count": 23,
     "metadata": {},
     "output_type": "execute_result"
    }
   ],
   "source": [
    "# Print the content in JSON format\n",
    "response.json()"
   ]
  },
  {
   "cell_type": "code",
   "execution_count": 57,
   "metadata": {
    "ExecuteTime": {
     "end_time": "2018-09-04T03:33:32.634098Z",
     "start_time": "2018-09-04T03:33:32.014684Z"
    }
   },
   "outputs": [
    {
     "name": "stdout",
     "output_type": "stream",
     "text": [
      "b'{\\n  \"message\": \"success\", \\n  \"request\": {\\n    \"altitude\": 100, \\n    \"datetime\": 1634416081, \\n    \"latitude\": 40.71, \\n    \"longitude\": -74.0, \\n    \"passes\": 5\\n  }, \\n  \"response\": [\\n    {\\n      \"duration\": 482, \\n      \"risetime\": 1634417305\\n    }, \\n    {\\n      \"duration\": 322, \\n      \"risetime\": 1634466030\\n    }, \\n    {\\n      \"duration\": 640, \\n      \"risetime\": 1634471633\\n    }, \\n    {\\n      \"duration\": 630, \\n      \"risetime\": 1634477452\\n    }, \\n    {\\n      \"duration\": 563, \\n      \"risetime\": 1634483345\\n    }\\n  ]\\n}\\n'\n"
     ]
    }
   ],
   "source": [
    "# This gets the same data as the command above\n",
    "response = requests.get(\"http://api.open-notify.org/iss-pass.json?lat=40.71&lon=-74\")\n",
    "print(response.content)"
   ]
  },
  {
   "cell_type": "code",
   "execution_count": 58,
   "metadata": {},
   "outputs": [
    {
     "data": {
      "text/plain": [
       "{'message': 'success',\n",
       " 'request': {'altitude': 100,\n",
       "  'datetime': 1634416081,\n",
       "  'latitude': 40.71,\n",
       "  'longitude': -74.0,\n",
       "  'passes': 5},\n",
       " 'response': [{'duration': 482, 'risetime': 1634417305},\n",
       "  {'duration': 322, 'risetime': 1634466030},\n",
       "  {'duration': 640, 'risetime': 1634471633},\n",
       "  {'duration': 630, 'risetime': 1634477452},\n",
       "  {'duration': 563, 'risetime': 1634483345}]}"
      ]
     },
     "execution_count": 58,
     "metadata": {},
     "output_type": "execute_result"
    }
   ],
   "source": [
    "response.json()"
   ]
  },
  {
   "cell_type": "markdown",
   "metadata": {},
   "source": [
    "## Query Parameters (Another example)"
   ]
  },
  {
   "cell_type": "code",
   "execution_count": 29,
   "metadata": {
    "scrolled": true
   },
   "outputs": [
    {
     "name": "stdout",
     "output_type": "stream",
     "text": [
      "200\n"
     ]
    }
   ],
   "source": [
    "import requests\n",
    "\n",
    "response = requests.get(\"https://google.com/search\")\n",
    "print(response.status_code)\n",
    "# print(response.text)"
   ]
  },
  {
   "cell_type": "code",
   "execution_count": 30,
   "metadata": {},
   "outputs": [
    {
     "name": "stdout",
     "output_type": "stream",
     "text": [
      "200\n"
     ]
    }
   ],
   "source": [
    "parameters = {\"q\": \"Kanav Bansal\"}\n",
    "response = response = requests.get(\"https://google.com/search\", params=parameters)\n",
    "print(response.status_code)\n",
    "# print(response.text)"
   ]
  },
  {
   "cell_type": "markdown",
   "metadata": {},
   "source": [
    "## Getting JSON from an API request"
   ]
  },
  {
   "cell_type": "code",
   "execution_count": 25,
   "metadata": {
    "ExecuteTime": {
     "end_time": "2018-09-04T03:33:37.345919Z",
     "start_time": "2018-09-04T03:33:36.305704Z"
    },
    "scrolled": true
   },
   "outputs": [
    {
     "name": "stdout",
     "output_type": "stream",
     "text": [
      "<class 'dict'>\n",
      "{'people': [{'craft': 'Tiangong', 'name': 'Cai Xuzhe'}, {'craft': 'Tiangong', 'name': 'Chen Dong'}, {'craft': 'Tiangong', 'name': 'Liu Yang'}, {'craft': 'ISS', 'name': 'Sergey Prokopyev'}, {'craft': 'ISS', 'name': 'Dmitry Petelin'}, {'craft': 'ISS', 'name': 'Frank Rubio'}, {'craft': 'ISS', 'name': 'Nicole Mann'}, {'craft': 'ISS', 'name': 'Josh Cassada'}, {'craft': 'ISS', 'name': 'Koichi Wakata'}, {'craft': 'ISS', 'name': 'Anna Kikina'}, {'craft': 'Shenzhou 15', 'name': 'Fei Junlong'}, {'craft': 'Shenzhou 15', 'name': 'Deng Qingming'}, {'craft': 'Shenzhou 15', 'name': 'Zhang Lu'}], 'number': 13, 'message': 'success'}\n"
     ]
    }
   ],
   "source": [
    "response = requests.get(\"http://api.open-notify.org/astros.json\")\n",
    "\n",
    "# Get the response data as a python object. Verify that it's a dictionary.\n",
    "data = response.json()\n",
    "print(type(data))\n",
    "print(data)"
   ]
  },
  {
   "cell_type": "code",
   "execution_count": 26,
   "metadata": {
    "ExecuteTime": {
     "end_time": "2018-09-04T03:33:39.276426Z",
     "start_time": "2018-09-04T03:33:39.271722Z"
    }
   },
   "outputs": [
    {
     "name": "stdout",
     "output_type": "stream",
     "text": [
      "{'Server': 'nginx/1.10.3', 'Date': 'Sun, 04 Dec 2022 05:52:12 GMT', 'Content-Type': 'application/json', 'Content-Length': '623', 'Connection': 'keep-alive', 'access-control-allow-origin': '*'}\n"
     ]
    }
   ],
   "source": [
    "print(response.headers)"
   ]
  },
  {
   "cell_type": "code",
   "execution_count": 27,
   "metadata": {
    "ExecuteTime": {
     "end_time": "2018-09-03T14:13:18.358948Z",
     "start_time": "2018-09-03T14:13:18.351933Z"
    },
    "scrolled": true
   },
   "outputs": [
    {
     "name": "stdout",
     "output_type": "stream",
     "text": [
      "application/json\n"
     ]
    }
   ],
   "source": [
    "print(response.headers[\"Content-Type\"])"
   ]
  },
  {
   "cell_type": "markdown",
   "metadata": {},
   "source": [
    "## Finding the Number of People in Space"
   ]
  },
  {
   "cell_type": "code",
   "execution_count": 28,
   "metadata": {
    "ExecuteTime": {
     "end_time": "2018-09-04T03:34:53.800893Z",
     "start_time": "2018-09-04T03:34:52.580463Z"
    },
    "scrolled": true
   },
   "outputs": [],
   "source": [
    "# Get the response from the API endpoint.\n",
    "response = requests.get(\"http://api.open-notify.org/astros.json\")\n",
    "data = response.json()"
   ]
  },
  {
   "cell_type": "code",
   "execution_count": 29,
   "metadata": {},
   "outputs": [
    {
     "name": "stdout",
     "output_type": "stream",
     "text": [
      "<class 'dict'>\n"
     ]
    }
   ],
   "source": [
    "print(type(data))"
   ]
  },
  {
   "cell_type": "code",
   "execution_count": 30,
   "metadata": {},
   "outputs": [
    {
     "name": "stdout",
     "output_type": "stream",
     "text": [
      "{'people': [{'craft': 'Tiangong', 'name': 'Cai Xuzhe'}, {'craft': 'Tiangong', 'name': 'Chen Dong'}, {'craft': 'Tiangong', 'name': 'Liu Yang'}, {'craft': 'ISS', 'name': 'Sergey Prokopyev'}, {'craft': 'ISS', 'name': 'Dmitry Petelin'}, {'craft': 'ISS', 'name': 'Frank Rubio'}, {'craft': 'ISS', 'name': 'Nicole Mann'}, {'craft': 'ISS', 'name': 'Josh Cassada'}, {'craft': 'ISS', 'name': 'Koichi Wakata'}, {'craft': 'ISS', 'name': 'Anna Kikina'}, {'craft': 'Shenzhou 15', 'name': 'Fei Junlong'}, {'craft': 'Shenzhou 15', 'name': 'Deng Qingming'}, {'craft': 'Shenzhou 15', 'name': 'Zhang Lu'}], 'number': 13, 'message': 'success'}\n"
     ]
    }
   ],
   "source": [
    "print(data)"
   ]
  },
  {
   "cell_type": "code",
   "execution_count": 31,
   "metadata": {},
   "outputs": [
    {
     "data": {
      "text/plain": [
       "dict_keys(['people', 'number', 'message'])"
      ]
     },
     "execution_count": 31,
     "metadata": {},
     "output_type": "execute_result"
    }
   ],
   "source": [
    "data.keys()"
   ]
  },
  {
   "cell_type": "code",
   "execution_count": 32,
   "metadata": {},
   "outputs": [
    {
     "name": "stdout",
     "output_type": "stream",
     "text": [
      "13\n"
     ]
    }
   ],
   "source": [
    "# How many people are currently is space?\n",
    "print(data[\"number\"])"
   ]
  },
  {
   "cell_type": "code",
   "execution_count": 33,
   "metadata": {},
   "outputs": [
    {
     "name": "stdout",
     "output_type": "stream",
     "text": [
      "[{'craft': 'Tiangong', 'name': 'Cai Xuzhe'}, {'craft': 'Tiangong', 'name': 'Chen Dong'}, {'craft': 'Tiangong', 'name': 'Liu Yang'}, {'craft': 'ISS', 'name': 'Sergey Prokopyev'}, {'craft': 'ISS', 'name': 'Dmitry Petelin'}, {'craft': 'ISS', 'name': 'Frank Rubio'}, {'craft': 'ISS', 'name': 'Nicole Mann'}, {'craft': 'ISS', 'name': 'Josh Cassada'}, {'craft': 'ISS', 'name': 'Koichi Wakata'}, {'craft': 'ISS', 'name': 'Anna Kikina'}, {'craft': 'Shenzhou 15', 'name': 'Fei Junlong'}, {'craft': 'Shenzhou 15', 'name': 'Deng Qingming'}, {'craft': 'Shenzhou 15', 'name': 'Zhang Lu'}]\n"
     ]
    }
   ],
   "source": [
    "# Who are these people?\n",
    "print(data[\"people\"])"
   ]
  },
  {
   "cell_type": "code",
   "execution_count": 34,
   "metadata": {},
   "outputs": [
    {
     "name": "stdout",
     "output_type": "stream",
     "text": [
      "Cai Xuzhe\n",
      "Chen Dong\n",
      "Liu Yang\n",
      "Sergey Prokopyev\n",
      "Dmitry Petelin\n",
      "Frank Rubio\n",
      "Nicole Mann\n",
      "Josh Cassada\n",
      "Koichi Wakata\n",
      "Anna Kikina\n",
      "Fei Junlong\n",
      "Deng Qingming\n",
      "Zhang Lu\n"
     ]
    }
   ],
   "source": [
    "people_in_space = data[\"people\"]\n",
    "for astronaut in people_in_space:\n",
    "    print(astronaut['name'])"
   ]
  },
  {
   "cell_type": "markdown",
   "metadata": {},
   "source": [
    "## Working with JSON - dump and load\n",
    "\n",
    "We can both convert lists, tuples and dictionaries to JSON, and convert strings to lists and dictionaries.\n",
    "\n",
    "The json module has two main methods:\n",
    "> **json.dumps(PYTHON_OBJECT) -** Takes in a Python object, and converts it to a string.  \n",
    "> **json.loads(JSON_STRING) -** Takes a JSON string, and converts it to a Python object."
   ]
  },
  {
   "cell_type": "code",
   "execution_count": 35,
   "metadata": {
    "ExecuteTime": {
     "end_time": "2018-09-04T03:33:33.902009Z",
     "start_time": "2018-09-04T03:33:33.894499Z"
    }
   },
   "outputs": [],
   "source": [
    "# Import the json library\n",
    "import json"
   ]
  },
  {
   "cell_type": "code",
   "execution_count": 36,
   "metadata": {
    "ExecuteTime": {
     "end_time": "2018-09-04T03:33:33.902009Z",
     "start_time": "2018-09-04T03:33:33.894499Z"
    }
   },
   "outputs": [
    {
     "name": "stdout",
     "output_type": "stream",
     "text": [
      "<class 'list'>\n"
     ]
    },
    {
     "data": {
      "text/plain": [
       "['Shaktiman', 'Krish', 'Flying Jatt', 'Bhavesh Joshi']"
      ]
     },
     "execution_count": 36,
     "metadata": {},
     "output_type": "execute_result"
    }
   ],
   "source": [
    "# Make a list of Indian Superheros chains.\n",
    "sup_hero = ['Shaktiman', 'Krish', 'Flying Jatt', 'Bhavesh Joshi']\n",
    "\n",
    "# This is a list\n",
    "print(type(sup_hero)) \n",
    "\n",
    "sup_hero"
   ]
  },
  {
   "cell_type": "code",
   "execution_count": 37,
   "metadata": {
    "ExecuteTime": {
     "end_time": "2018-09-04T03:33:33.902009Z",
     "start_time": "2018-09-04T03:33:33.894499Z"
    }
   },
   "outputs": [
    {
     "data": {
      "text/plain": [
       "'[\"Shaktiman\", \"Krish\", \"Flying Jatt\", \"Bhavesh Joshi\"]'"
      ]
     },
     "execution_count": 37,
     "metadata": {},
     "output_type": "execute_result"
    }
   ],
   "source": [
    "# Use json.dumps() to convert best_food_chains to a string.\n",
    "sup_hero_str = json.dumps(sup_hero)\n",
    "\n",
    "sup_hero_str"
   ]
  },
  {
   "cell_type": "code",
   "execution_count": 38,
   "metadata": {},
   "outputs": [
    {
     "name": "stdout",
     "output_type": "stream",
     "text": [
      "<class 'str'>\n",
      "<class 'list'>\n"
     ]
    }
   ],
   "source": [
    "# We've successfully converted our list to a string.\n",
    "print(type(sup_hero_str))\n",
    "\n",
    "# Convert best_food_chains_string back into a list\n",
    "print(type(json.loads(sup_hero_str)))"
   ]
  },
  {
   "cell_type": "code",
   "execution_count": 63,
   "metadata": {
    "ExecuteTime": {
     "end_time": "2018-09-04T03:33:33.902009Z",
     "start_time": "2018-09-04T03:33:33.894499Z"
    },
    "scrolled": false
   },
   "outputs": [
    {
     "name": "stdout",
     "output_type": "stream",
     "text": [
      "{'Subway': 24722, 'McDonalds': 14098, 'Starbucks': 10821, 'Pizza Hut': 7600}\n",
      "<class 'dict'>\n"
     ]
    }
   ],
   "source": [
    "# Make a dictionary\n",
    "fast_food_franchise = {\n",
    "    \"Subway\": 24722,\n",
    "    \"McDonalds\": 14098,\n",
    "    \"Starbucks\": 10821,\n",
    "    \"Pizza Hut\": 7600\n",
    "}\n",
    "\n",
    "print(type(fast_food_franchise))\n",
    "\n",
    "fast_food_franchise"
   ]
  },
  {
   "cell_type": "code",
   "execution_count": 64,
   "metadata": {},
   "outputs": [
    {
     "name": "stdout",
     "output_type": "stream",
     "text": [
      "{\"Subway\": 24722, \"McDonalds\": 14098, \"Starbucks\": 10821, \"Pizza Hut\": 7600}\n"
     ]
    }
   ],
   "source": [
    "# We can also dump a dictionary to a string and load it.\n",
    "fast_food_franchise_string = json.dumps(fast_food_franchise)\n",
    "\n",
    "fast_food_franchise_string"
   ]
  },
  {
   "cell_type": "code",
   "execution_count": 65,
   "metadata": {},
   "outputs": [
    {
     "name": "stdout",
     "output_type": "stream",
     "text": [
      "<class 'str'>\n",
      "<class 'dict'>\n"
     ]
    }
   ],
   "source": [
    "print(type(fast_food_franchise_string))\n",
    "\n",
    "print(type(json.loads(fast_food_franchise_string)))"
   ]
  },
  {
   "cell_type": "code",
   "execution_count": 76,
   "metadata": {},
   "outputs": [
    {
     "name": "stdout",
     "output_type": "stream",
     "text": [
      "<class 'str'>\n",
      "<class 'list'>\n"
     ]
    },
    {
     "data": {
      "text/plain": [
       "[1, 2, 3]"
      ]
     },
     "execution_count": 76,
     "metadata": {},
     "output_type": "execute_result"
    }
   ],
   "source": [
    "t = (1, 2, 3)\n",
    "\n",
    "t_d = json.dumps(t)\n",
    "print(type(t_d))\n",
    "\n",
    "t_l = json.loads(t_d)\n",
    "print(type(t_l))\n",
    "\n",
    "t_l"
   ]
  },
  {
   "cell_type": "markdown",
   "metadata": {},
   "source": [
    "## Popular API Documentations\n",
    "\n",
    "**fakestoreapi**  \n",
    "> https://fakestoreapi.com/docs  \n",
    "> fakeStoreApi can be used with any type of shopping project that needs products, carts, and users in JSON format. You can use examples below to check how fakeStoreApi works and feel free to enjoy it in your awesome projects! \n",
    "\n",
    "**coingecko**  \n",
    "> https://www.coingecko.com/en/api/documentation  \n",
    "> CoinGecko was founded in 2014 with the mission to democratize the access of crypto data and empower users with actionable insights. "
   ]
  },
  {
   "cell_type": "code",
   "execution_count": 32,
   "metadata": {},
   "outputs": [],
   "source": [
    "import requests\n",
    "\n",
    "ROOT_URL = \"https://api.coingecko.com/api/v3\"\n",
    "\n",
    "def get_request(endpoint, payload=dict()):\n",
    "    URI = ROOT_URL + endpoint\n",
    "    return requests.get(URI, params=payload)"
   ]
  },
  {
   "cell_type": "code",
   "execution_count": 33,
   "metadata": {},
   "outputs": [],
   "source": [
    "response = get_request('/ping')"
   ]
  },
  {
   "cell_type": "code",
   "execution_count": 34,
   "metadata": {},
   "outputs": [
    {
     "data": {
      "text/plain": [
       "200"
      ]
     },
     "execution_count": 34,
     "metadata": {},
     "output_type": "execute_result"
    }
   ],
   "source": [
    "response.status_code"
   ]
  },
  {
   "cell_type": "code",
   "execution_count": 35,
   "metadata": {
    "scrolled": true
   },
   "outputs": [
    {
     "data": {
      "text/plain": [
       "{'Date': 'Mon, 05 Dec 2022 09:34:27 GMT', 'Content-Type': 'application/json; charset=utf-8', 'Transfer-Encoding': 'chunked', 'Connection': 'keep-alive', 'X-Frame-Options': 'SAMEORIGIN', 'X-XSS-Protection': '0', 'X-Content-Type-Options': 'nosniff', 'X-Download-Options': 'noopen', 'X-Permitted-Cross-Domain-Policies': 'none', 'Referrer-Policy': 'strict-origin-when-cross-origin', 'Access-Control-Allow-Origin': '*', 'Access-Control-Allow-Methods': 'POST, PUT, DELETE, GET, OPTIONS', 'Access-Control-Request-Method': '*', 'Access-Control-Allow-Headers': 'Origin, X-Requested-With, Content-Type, Accept, Authorization', 'Access-Control-Expose-Headers': 'link, per-page, total', 'Vary': 'Accept-Encoding, Origin', 'ETag': 'W/\"2a8e101d63d4afefce60a7256e88b85f\"', 'Cache-Control': 'public, max-age=120', 'X-Request-Id': '04c9f270-9c5e-4d9c-bb96-12307b7abc5b', 'X-Runtime': '0.002466', 'Alternate-Protocol': '443:npn-spdy/2', 'CF-Cache-Status': 'MISS', 'Expires': 'Mon, 05 Dec 2022 09:36:27 GMT', 'Server': 'cloudflare', 'CF-RAY': '774bc93b3bbbc944-HYD', 'Content-Encoding': 'br'}"
      ]
     },
     "execution_count": 35,
     "metadata": {},
     "output_type": "execute_result"
    }
   ],
   "source": [
    "response.headers"
   ]
  },
  {
   "cell_type": "code",
   "execution_count": 36,
   "metadata": {},
   "outputs": [
    {
     "data": {
      "text/plain": [
       "'application/json; charset=utf-8'"
      ]
     },
     "execution_count": 36,
     "metadata": {},
     "output_type": "execute_result"
    }
   ],
   "source": [
    "response.headers['Content-Type']"
   ]
  },
  {
   "cell_type": "code",
   "execution_count": 37,
   "metadata": {},
   "outputs": [
    {
     "data": {
      "text/plain": [
       "'{\"gecko_says\":\"(V3) To the Moon!\"}'"
      ]
     },
     "execution_count": 37,
     "metadata": {},
     "output_type": "execute_result"
    }
   ],
   "source": [
    "response.text"
   ]
  },
  {
   "cell_type": "code",
   "execution_count": 39,
   "metadata": {},
   "outputs": [
    {
     "data": {
      "text/plain": [
       "[{'id': '01coin', 'symbol': 'zoc', 'name': '01coin'},\n",
       " {'id': '0-5x-long-algorand-token',\n",
       "  'symbol': 'algohalf',\n",
       "  'name': '0.5X Long Algorand'},\n",
       " {'id': '0-5x-long-altcoin-index-token',\n",
       "  'symbol': 'althalf',\n",
       "  'name': '0.5X Long Altcoin Index'},\n",
       " {'id': '0-5x-long-bitcoin-token',\n",
       "  'symbol': 'half',\n",
       "  'name': '0.5X Long Bitcoin'},\n",
       " {'id': '0-5x-long-cardano-token',\n",
       "  'symbol': 'adahalf',\n",
       "  'name': '0.5X Long Cardano'}]"
      ]
     },
     "execution_count": 39,
     "metadata": {},
     "output_type": "execute_result"
    }
   ],
   "source": [
    "response = get_request('/coins/list')\n",
    "\n",
    "response.json()[:5]"
   ]
  },
  {
   "cell_type": "code",
   "execution_count": 40,
   "metadata": {},
   "outputs": [
    {
     "name": "stdout",
     "output_type": "stream",
     "text": [
      "<class 'list'>\n"
     ]
    }
   ],
   "source": [
    "data = response.json()\n",
    "\n",
    "print(type(data))"
   ]
  },
  {
   "cell_type": "code",
   "execution_count": 41,
   "metadata": {},
   "outputs": [
    {
     "data": {
      "text/html": [
       "<div>\n",
       "<style scoped>\n",
       "    .dataframe tbody tr th:only-of-type {\n",
       "        vertical-align: middle;\n",
       "    }\n",
       "\n",
       "    .dataframe tbody tr th {\n",
       "        vertical-align: top;\n",
       "    }\n",
       "\n",
       "    .dataframe thead th {\n",
       "        text-align: right;\n",
       "    }\n",
       "</style>\n",
       "<table border=\"1\" class=\"dataframe\">\n",
       "  <thead>\n",
       "    <tr style=\"text-align: right;\">\n",
       "      <th></th>\n",
       "      <th>id</th>\n",
       "      <th>symbol</th>\n",
       "      <th>name</th>\n",
       "    </tr>\n",
       "  </thead>\n",
       "  <tbody>\n",
       "    <tr>\n",
       "      <th>0</th>\n",
       "      <td>01coin</td>\n",
       "      <td>zoc</td>\n",
       "      <td>01coin</td>\n",
       "    </tr>\n",
       "    <tr>\n",
       "      <th>1</th>\n",
       "      <td>0-5x-long-algorand-token</td>\n",
       "      <td>algohalf</td>\n",
       "      <td>0.5X Long Algorand</td>\n",
       "    </tr>\n",
       "    <tr>\n",
       "      <th>2</th>\n",
       "      <td>0-5x-long-altcoin-index-token</td>\n",
       "      <td>althalf</td>\n",
       "      <td>0.5X Long Altcoin Index</td>\n",
       "    </tr>\n",
       "    <tr>\n",
       "      <th>3</th>\n",
       "      <td>0-5x-long-bitcoin-token</td>\n",
       "      <td>half</td>\n",
       "      <td>0.5X Long Bitcoin</td>\n",
       "    </tr>\n",
       "    <tr>\n",
       "      <th>4</th>\n",
       "      <td>0-5x-long-cardano-token</td>\n",
       "      <td>adahalf</td>\n",
       "      <td>0.5X Long Cardano</td>\n",
       "    </tr>\n",
       "  </tbody>\n",
       "</table>\n",
       "</div>"
      ],
      "text/plain": [
       "                              id    symbol                     name\n",
       "0                         01coin       zoc                   01coin\n",
       "1       0-5x-long-algorand-token  algohalf       0.5X Long Algorand\n",
       "2  0-5x-long-altcoin-index-token   althalf  0.5X Long Altcoin Index\n",
       "3        0-5x-long-bitcoin-token      half        0.5X Long Bitcoin\n",
       "4        0-5x-long-cardano-token   adahalf        0.5X Long Cardano"
      ]
     },
     "execution_count": 41,
     "metadata": {},
     "output_type": "execute_result"
    }
   ],
   "source": [
    "import pandas as pd\n",
    "\n",
    "df = pd.read_json('https://api.coingecko.com/api/v3/coins/list')\n",
    "\n",
    "df.head()"
   ]
  },
  {
   "cell_type": "code",
   "execution_count": 42,
   "metadata": {},
   "outputs": [
    {
     "data": {
      "text/plain": [
       "(13087, 3)"
      ]
     },
     "execution_count": 42,
     "metadata": {},
     "output_type": "execute_result"
    }
   ],
   "source": [
    "df.shape"
   ]
  },
  {
   "cell_type": "code",
   "execution_count": 43,
   "metadata": {},
   "outputs": [
    {
     "data": {
      "text/html": [
       "<div>\n",
       "<style scoped>\n",
       "    .dataframe tbody tr th:only-of-type {\n",
       "        vertical-align: middle;\n",
       "    }\n",
       "\n",
       "    .dataframe tbody tr th {\n",
       "        vertical-align: top;\n",
       "    }\n",
       "\n",
       "    .dataframe thead th {\n",
       "        text-align: right;\n",
       "    }\n",
       "</style>\n",
       "<table border=\"1\" class=\"dataframe\">\n",
       "  <thead>\n",
       "    <tr style=\"text-align: right;\">\n",
       "      <th></th>\n",
       "      <th>id</th>\n",
       "      <th>symbol</th>\n",
       "      <th>name</th>\n",
       "    </tr>\n",
       "  </thead>\n",
       "  <tbody>\n",
       "    <tr>\n",
       "      <th>1454</th>\n",
       "      <td>binance-peg-dogecoin</td>\n",
       "      <td>doge</td>\n",
       "      <td>Binance-Peg Dogecoin</td>\n",
       "    </tr>\n",
       "    <tr>\n",
       "      <th>1517</th>\n",
       "      <td>bitcoin</td>\n",
       "      <td>btc</td>\n",
       "      <td>Bitcoin</td>\n",
       "    </tr>\n",
       "    <tr>\n",
       "      <th>3538</th>\n",
       "      <td>dogecoin</td>\n",
       "      <td>doge</td>\n",
       "      <td>Dogecoin</td>\n",
       "    </tr>\n",
       "    <tr>\n",
       "      <th>4087</th>\n",
       "      <td>ethereum</td>\n",
       "      <td>eth</td>\n",
       "      <td>Ethereum</td>\n",
       "    </tr>\n",
       "    <tr>\n",
       "      <th>4102</th>\n",
       "      <td>ethereum-wormhole</td>\n",
       "      <td>eth</td>\n",
       "      <td>Ethereum (Wormhole)</td>\n",
       "    </tr>\n",
       "  </tbody>\n",
       "</table>\n",
       "</div>"
      ],
      "text/plain": [
       "                        id symbol                  name\n",
       "1454  binance-peg-dogecoin   doge  Binance-Peg Dogecoin\n",
       "1517               bitcoin    btc               Bitcoin\n",
       "3538              dogecoin   doge              Dogecoin\n",
       "4087              ethereum    eth              Ethereum\n",
       "4102     ethereum-wormhole    eth   Ethereum (Wormhole)"
      ]
     },
     "execution_count": 43,
     "metadata": {},
     "output_type": "execute_result"
    }
   ],
   "source": [
    "df.loc[ (df.symbol == 'btc') | (df.symbol == 'eth') | (df.symbol == 'doge') ]"
   ]
  },
  {
   "cell_type": "code",
   "execution_count": 44,
   "metadata": {},
   "outputs": [
    {
     "data": {
      "text/plain": [
       "200"
      ]
     },
     "execution_count": 44,
     "metadata": {},
     "output_type": "execute_result"
    }
   ],
   "source": [
    "response = get_request('/coins/markets', payload={'vs_currency': 'usd', 'ids': 'bitcoin, dogecoin, ethereum'})\n",
    "\n",
    "response.status_code"
   ]
  },
  {
   "cell_type": "code",
   "execution_count": 45,
   "metadata": {},
   "outputs": [
    {
     "data": {
      "text/plain": [
       "[{'id': 'bitcoin',\n",
       "  'symbol': 'btc',\n",
       "  'name': 'Bitcoin',\n",
       "  'image': 'https://assets.coingecko.com/coins/images/1/large/bitcoin.png?1547033579',\n",
       "  'current_price': 17319.19,\n",
       "  'market_cap': 332562196334,\n",
       "  'market_cap_rank': 1,\n",
       "  'fully_diluted_valuation': 363270205217,\n",
       "  'total_volume': 22341536765,\n",
       "  'high_24h': 17414.42,\n",
       "  'low_24h': 16941.21,\n",
       "  'price_change_24h': 278.38,\n",
       "  'price_change_percentage_24h': 1.63363,\n",
       "  'market_cap_change_24h': 5218399177,\n",
       "  'market_cap_change_percentage_24h': 1.59416,\n",
       "  'circulating_supply': 19224825.0,\n",
       "  'total_supply': 21000000.0,\n",
       "  'max_supply': 21000000.0,\n",
       "  'ath': 69045,\n",
       "  'ath_change_percentage': -74.86708,\n",
       "  'ath_date': '2021-11-10T14:24:11.849Z',\n",
       "  'atl': 67.81,\n",
       "  'atl_change_percentage': 25490.94459,\n",
       "  'atl_date': '2013-07-06T00:00:00.000Z',\n",
       "  'roi': None,\n",
       "  'last_updated': '2022-12-05T09:34:01.852Z'},\n",
       " {'id': 'ethereum',\n",
       "  'symbol': 'eth',\n",
       "  'name': 'Ethereum',\n",
       "  'image': 'https://assets.coingecko.com/coins/images/279/large/ethereum.png?1595348880',\n",
       "  'current_price': 1296.76,\n",
       "  'market_cap': 156228153904,\n",
       "  'market_cap_rank': 2,\n",
       "  'fully_diluted_valuation': 156228153904,\n",
       "  'total_volume': 5473584444,\n",
       "  'high_24h': 1304.41,\n",
       "  'low_24h': 1252.57,\n",
       "  'price_change_24h': 34.61,\n",
       "  'price_change_percentage_24h': 2.74235,\n",
       "  'market_cap_change_24h': 4200433253,\n",
       "  'market_cap_change_percentage_24h': 2.76294,\n",
       "  'circulating_supply': 120522555.670633,\n",
       "  'total_supply': 120522555.670633,\n",
       "  'max_supply': None,\n",
       "  'ath': 4878.26,\n",
       "  'ath_change_percentage': -73.33841,\n",
       "  'ath_date': '2021-11-10T14:24:19.604Z',\n",
       "  'atl': 0.432979,\n",
       "  'atl_change_percentage': 300289.18969,\n",
       "  'atl_date': '2015-10-20T00:00:00.000Z',\n",
       "  'roi': {'times': 99.14579876918008,\n",
       "   'currency': 'btc',\n",
       "   'percentage': 9914.579876918007},\n",
       "  'last_updated': '2022-12-05T09:34:08.812Z'},\n",
       " {'id': 'dogecoin',\n",
       "  'symbol': 'doge',\n",
       "  'name': 'Dogecoin',\n",
       "  'image': 'https://assets.coingecko.com/coins/images/5/large/dogecoin.png?1547792256',\n",
       "  'current_price': 0.107823,\n",
       "  'market_cap': 14774201414,\n",
       "  'market_cap_rank': 8,\n",
       "  'fully_diluted_valuation': None,\n",
       "  'total_volume': 1242889221,\n",
       "  'high_24h': 0.109748,\n",
       "  'low_24h': 0.102869,\n",
       "  'price_change_24h': 0.00219504,\n",
       "  'price_change_percentage_24h': 2.07808,\n",
       "  'market_cap_change_24h': 271210310,\n",
       "  'market_cap_change_percentage_24h': 1.87003,\n",
       "  'circulating_supply': 137177446383.705,\n",
       "  'total_supply': None,\n",
       "  'max_supply': None,\n",
       "  'ath': 0.731578,\n",
       "  'ath_change_percentage': -85.18876,\n",
       "  'ath_date': '2021-05-08T05:08:23.458Z',\n",
       "  'atl': 8.69e-05,\n",
       "  'atl_change_percentage': 124584.81722,\n",
       "  'atl_date': '2015-05-06T00:00:00.000Z',\n",
       "  'roi': None,\n",
       "  'last_updated': '2022-12-05T09:34:08.563Z'}]"
      ]
     },
     "execution_count": 45,
     "metadata": {},
     "output_type": "execute_result"
    }
   ],
   "source": [
    "response.json()"
   ]
  },
  {
   "cell_type": "code",
   "execution_count": 46,
   "metadata": {},
   "outputs": [
    {
     "data": {
      "text/html": [
       "<div>\n",
       "<style scoped>\n",
       "    .dataframe tbody tr th:only-of-type {\n",
       "        vertical-align: middle;\n",
       "    }\n",
       "\n",
       "    .dataframe tbody tr th {\n",
       "        vertical-align: top;\n",
       "    }\n",
       "\n",
       "    .dataframe thead th {\n",
       "        text-align: right;\n",
       "    }\n",
       "</style>\n",
       "<table border=\"1\" class=\"dataframe\">\n",
       "  <thead>\n",
       "    <tr style=\"text-align: right;\">\n",
       "      <th></th>\n",
       "      <th>id</th>\n",
       "      <th>symbol</th>\n",
       "      <th>name</th>\n",
       "      <th>localization</th>\n",
       "      <th>image</th>\n",
       "      <th>market_data</th>\n",
       "      <th>community_data</th>\n",
       "      <th>developer_data</th>\n",
       "      <th>public_interest_stats</th>\n",
       "    </tr>\n",
       "  </thead>\n",
       "  <tbody>\n",
       "    <tr>\n",
       "      <th>en</th>\n",
       "      <td>bitcoin</td>\n",
       "      <td>btc</td>\n",
       "      <td>Bitcoin</td>\n",
       "      <td>Bitcoin</td>\n",
       "      <td>NaN</td>\n",
       "      <td>NaN</td>\n",
       "      <td>NaN</td>\n",
       "      <td>NaN</td>\n",
       "      <td>NaN</td>\n",
       "    </tr>\n",
       "    <tr>\n",
       "      <th>de</th>\n",
       "      <td>bitcoin</td>\n",
       "      <td>btc</td>\n",
       "      <td>Bitcoin</td>\n",
       "      <td>Bitcoin</td>\n",
       "      <td>NaN</td>\n",
       "      <td>NaN</td>\n",
       "      <td>NaN</td>\n",
       "      <td>NaN</td>\n",
       "      <td>NaN</td>\n",
       "    </tr>\n",
       "    <tr>\n",
       "      <th>es</th>\n",
       "      <td>bitcoin</td>\n",
       "      <td>btc</td>\n",
       "      <td>Bitcoin</td>\n",
       "      <td>Bitcoin</td>\n",
       "      <td>NaN</td>\n",
       "      <td>NaN</td>\n",
       "      <td>NaN</td>\n",
       "      <td>NaN</td>\n",
       "      <td>NaN</td>\n",
       "    </tr>\n",
       "    <tr>\n",
       "      <th>fr</th>\n",
       "      <td>bitcoin</td>\n",
       "      <td>btc</td>\n",
       "      <td>Bitcoin</td>\n",
       "      <td>Bitcoin</td>\n",
       "      <td>NaN</td>\n",
       "      <td>NaN</td>\n",
       "      <td>NaN</td>\n",
       "      <td>NaN</td>\n",
       "      <td>NaN</td>\n",
       "    </tr>\n",
       "    <tr>\n",
       "      <th>it</th>\n",
       "      <td>bitcoin</td>\n",
       "      <td>btc</td>\n",
       "      <td>Bitcoin</td>\n",
       "      <td>Bitcoin</td>\n",
       "      <td>NaN</td>\n",
       "      <td>NaN</td>\n",
       "      <td>NaN</td>\n",
       "      <td>NaN</td>\n",
       "      <td>NaN</td>\n",
       "    </tr>\n",
       "  </tbody>\n",
       "</table>\n",
       "</div>"
      ],
      "text/plain": [
       "         id symbol     name localization image market_data  community_data  \\\n",
       "en  bitcoin    btc  Bitcoin      Bitcoin   NaN         NaN             NaN   \n",
       "de  bitcoin    btc  Bitcoin      Bitcoin   NaN         NaN             NaN   \n",
       "es  bitcoin    btc  Bitcoin      Bitcoin   NaN         NaN             NaN   \n",
       "fr  bitcoin    btc  Bitcoin      Bitcoin   NaN         NaN             NaN   \n",
       "it  bitcoin    btc  Bitcoin      Bitcoin   NaN         NaN             NaN   \n",
       "\n",
       "   developer_data  public_interest_stats  \n",
       "en            NaN                    NaN  \n",
       "de            NaN                    NaN  \n",
       "es            NaN                    NaN  \n",
       "fr            NaN                    NaN  \n",
       "it            NaN                    NaN  "
      ]
     },
     "execution_count": 46,
     "metadata": {},
     "output_type": "execute_result"
    }
   ],
   "source": [
    "df = pd.read_json('https://api.coingecko.com/api/v3/coins/bitcoin/history?date=01-11-2022')\n",
    "\n",
    "df.head()"
   ]
  },
  {
   "cell_type": "code",
   "execution_count": 47,
   "metadata": {},
   "outputs": [
    {
     "data": {
      "text/plain": [
       "(56, 9)"
      ]
     },
     "execution_count": 47,
     "metadata": {},
     "output_type": "execute_result"
    }
   ],
   "source": [
    "df.shape"
   ]
  },
  {
   "cell_type": "code",
   "execution_count": 48,
   "metadata": {},
   "outputs": [
    {
     "data": {
      "text/plain": [
       "200"
      ]
     },
     "execution_count": 48,
     "metadata": {},
     "output_type": "execute_result"
    }
   ],
   "source": [
    "response = get_request('/coins/bitcoin/history', payload={'date': '03-12-2022'})\n",
    "\n",
    "response.status_code"
   ]
  },
  {
   "cell_type": "code",
   "execution_count": 49,
   "metadata": {},
   "outputs": [
    {
     "data": {
      "text/plain": [
       "{'id': 'bitcoin',\n",
       " 'symbol': 'btc',\n",
       " 'name': 'Bitcoin',\n",
       " 'localization': {'en': 'Bitcoin',\n",
       "  'de': 'Bitcoin',\n",
       "  'es': 'Bitcoin',\n",
       "  'fr': 'Bitcoin',\n",
       "  'it': 'Bitcoin',\n",
       "  'pl': 'Bitcoin',\n",
       "  'ro': 'Bitcoin',\n",
       "  'hu': 'Bitcoin',\n",
       "  'nl': 'Bitcoin',\n",
       "  'pt': 'Bitcoin',\n",
       "  'sv': 'Bitcoin',\n",
       "  'vi': 'Bitcoin',\n",
       "  'tr': 'Bitcoin',\n",
       "  'ru': 'Биткоин',\n",
       "  'ja': 'ビットコイン',\n",
       "  'zh': '比特币',\n",
       "  'zh-tw': '比特幣',\n",
       "  'ko': '비트코인',\n",
       "  'ar': 'بيتكوين',\n",
       "  'th': 'บิตคอยน์',\n",
       "  'id': 'Bitcoin',\n",
       "  'cs': 'Bitcoin',\n",
       "  'da': 'Bitcoin',\n",
       "  'el': 'Bitcoin',\n",
       "  'hi': 'Bitcoin',\n",
       "  'no': 'Bitcoin',\n",
       "  'sk': 'Bitcoin',\n",
       "  'uk': 'Bitcoin',\n",
       "  'he': 'Bitcoin',\n",
       "  'fi': 'Bitcoin',\n",
       "  'bg': 'Bitcoin',\n",
       "  'hr': 'Bitcoin',\n",
       "  'lt': 'Bitcoin',\n",
       "  'sl': 'Bitcoin'},\n",
       " 'image': {'thumb': 'https://assets.coingecko.com/coins/images/1/thumb/bitcoin.png?1547033579',\n",
       "  'small': 'https://assets.coingecko.com/coins/images/1/small/bitcoin.png?1547033579'},\n",
       " 'market_data': {'current_price': {'aed': 62752.73977954881,\n",
       "   'ars': 2872478.387943467,\n",
       "   'aud': 25140.35695075591,\n",
       "   'bch': 152.54783391071712,\n",
       "   'bdt': 1751500.3649328984,\n",
       "   'bhd': 6441.185182964188,\n",
       "   'bmd': 17084.87334047068,\n",
       "   'bnb': 58.33547529565929,\n",
       "   'brl': 89172.78791325266,\n",
       "   'btc': 1.0,\n",
       "   'cad': 23011.479223293256,\n",
       "   'chf': 15991.441446680497,\n",
       "   'clp': 15094485.59630579,\n",
       "   'cny': 120014.40126747015,\n",
       "   'czk': 394942.4745749905,\n",
       "   'dkk': 120535.48990435479,\n",
       "   'dot': 3033.1274901900456,\n",
       "   'eos': 18103.82357602252,\n",
       "   'eth': 13.19910212750188,\n",
       "   'eur': 16214.672401747104,\n",
       "   'gbp': 13896.64804153212,\n",
       "   'hkd': 133095.43454060185,\n",
       "   'huf': 6645161.485776066,\n",
       "   'idr': 262700429.45774558,\n",
       "   'ils': 58191.93284131015,\n",
       "   'inr': 1391076.0146911354,\n",
       "   'jpy': 2294754.7124957927,\n",
       "   'krw': 22182145.30160005,\n",
       "   'kwd': 5244.031023124066,\n",
       "   'lkr': 6299996.848940683,\n",
       "   'ltc': 219.1401326048987,\n",
       "   'mmk': 35902214.753246084,\n",
       "   'mxn': 331297.9044070688,\n",
       "   'myr': 74959.8817813151,\n",
       "   'ngn': 7588588.191636857,\n",
       "   'nok': 166779.11657500695,\n",
       "   'nzd': 26636.85517639446,\n",
       "   'php': 953703.3084297038,\n",
       "   'pkr': 3821886.166263292,\n",
       "   'pln': 75805.65135116172,\n",
       "   'rub': 1067804.4129306844,\n",
       "   'sar': 64220.09121126841,\n",
       "   'sek': 176421.81908836812,\n",
       "   'sgd': 23103.874218318466,\n",
       "   'thb': 593215.9833448067,\n",
       "   'try': 318357.83842387004,\n",
       "   'twd': 521994.1351714007,\n",
       "   'uah': 628203.5316579364,\n",
       "   'usd': 17084.87334047068,\n",
       "   'vef': 1710.7083675813242,\n",
       "   'vnd': 418792957.75828683,\n",
       "   'xag': 737.8961921211285,\n",
       "   'xau': 9.502435703236383,\n",
       "   'xdr': 12943.653806600665,\n",
       "   'xlm': 193225.71150272954,\n",
       "   'xrp': 42958.100134134176,\n",
       "   'yfi': 2.505159929240537,\n",
       "   'zar': 299497.8296584508,\n",
       "   'bits': 1000330.6902296107,\n",
       "   'link': 2249.879992881639,\n",
       "   'sats': 100033069.02296107},\n",
       "  'market_cap': {'aed': 1205399137187.1968,\n",
       "   'ars': 55176602369548.65,\n",
       "   'aud': 482913808759.2389,\n",
       "   'bch': 2934402628.772508,\n",
       "   'bdt': 33644061376284.82,\n",
       "   'bhd': 123726853827.95604,\n",
       "   'bmd': 328178365692.1309,\n",
       "   'bnb': 1121156819.3527198,\n",
       "   'brl': 1712894161893.5095,\n",
       "   'btc': 19222812.0,\n",
       "   'cad': 442020815323.8067,\n",
       "   'chf': 307240585960.97314,\n",
       "   'clp': 289945586088998.0,\n",
       "   'cny': 2305321747640.936,\n",
       "   'czk': 7586335190522.144,\n",
       "   'dkk': 2315331187794.557,\n",
       "   'dot': 58247796406.822426,\n",
       "   'eos': 347693189044.9297,\n",
       "   'eth': 253909339.1857175,\n",
       "   'eur': 311462928813.96814,\n",
       "   'gbp': 266811636734.6288,\n",
       "   'hkd': 2556591513333.1323,\n",
       "   'huf': 127644975335954.33,\n",
       "   'idr': 5046136186555351,\n",
       "   'ils': 1117791922465.6833,\n",
       "   'inr': 26720774802201.902,\n",
       "   'jpy': 44079276223094.15,\n",
       "   'krw': 426090381096378.2,\n",
       "   'kwd': 100731067565.54265,\n",
       "   'lkr': 121014808160934.89,\n",
       "   'ltc': 4210254467.9113903,\n",
       "   'mmk': 689635206983842.0,\n",
       "   'mxn': 6363805142645.822,\n",
       "   'myr': 1439882579474.2249,\n",
       "   'ngn': 145766984689473.9,\n",
       "   'nok': 3203611570213.445,\n",
       "   'nzd': 511659608166.9448,\n",
       "   'php': 18319409625018.395,\n",
       "   'pkr': 73413500405329.66,\n",
       "   'pln': 1456128721289.4487,\n",
       "   'rub': 20511144573974.61,\n",
       "   'sar': 1233585064303.0322,\n",
       "   'sek': 3388835439810.075,\n",
       "   'sgd': 443795603925.46814,\n",
       "   'thb': 11394913385479.393,\n",
       "   'try': 6115243176648.961,\n",
       "   'twd': 10026833606991.678,\n",
       "   'uah': 12066979030694.238,\n",
       "   'usd': 328178365692.1309,\n",
       "   'vef': 32860499756.75317,\n",
       "   'vnd': 8044472189028364,\n",
       "   'xag': 14174033459.594116,\n",
       "   'xau': 182529525.2143063,\n",
       "   'xdr': 248630883453.649,\n",
       "   'xlm': 3709550451723.558,\n",
       "   'xrp': 826121751629.2966,\n",
       "   'yfi': 48092604.22359343,\n",
       "   'zar': 5752966750583.055,\n",
       "   'bits': 19224641632983.227,\n",
       "   'link': 43277577608.06625,\n",
       "   'sats': 1922464163298322.8},\n",
       "  'total_volume': {'aed': 76932576039.34265,\n",
       "   'ars': 3521554003509.0093,\n",
       "   'aud': 30821163021.16542,\n",
       "   'bch': 187018094.71907714,\n",
       "   'bdt': 2147275728223.2795,\n",
       "   'bhd': 7896658705.463817,\n",
       "   'bmd': 20945433171.615204,\n",
       "   'bnb': 71517170.4811702,\n",
       "   'brl': 109322593895.9284,\n",
       "   'btc': 1226369.0344187706,\n",
       "   'cad': 28211236375.383175,\n",
       "   'chf': 19604925448.631763,\n",
       "   'clp': 18505290207121.97,\n",
       "   'cny': 147133289857.32794,\n",
       "   'czk': 484185105911.64294,\n",
       "   'dkk': 147772125569.06256,\n",
       "   'dot': 3718503958.485555,\n",
       "   'eos': 22194629091.224213,\n",
       "   'eth': 16181619.027987381,\n",
       "   'eur': 19878598478.452106,\n",
       "   'gbp': 17036784942.026937,\n",
       "   'hkd': 163170160765.17554,\n",
       "   'huf': 8146726232099.729,\n",
       "   'idr': 322061169533390.1,\n",
       "   'ils': 71341192654.17996,\n",
       "   'inr': 1705408586982.67,\n",
       "   'jpy': 2813285794865.9243,\n",
       "   'krw': 27194503158366.53,\n",
       "   'kwd': 6428991257.695566,\n",
       "   'lkr': 7723566944350.441,\n",
       "   'ltc': 268657830.30548054,\n",
       "   'mmk': 44014809173082.02,\n",
       "   'mxn': 406159178260.7416,\n",
       "   'myr': 91898088040.46172,\n",
       "   'ngn': 9303333051836.32,\n",
       "   'nok': 204465129534.67368,\n",
       "   'nzd': 32655815403.533585,\n",
       "   'php': 1169205560625.6174,\n",
       "   'pkr': 4685493400490.323,\n",
       "   'pln': 92934970764.18932,\n",
       "   'rub': 1309089363771.6191,\n",
       "   'sar': 78731495512.71992,\n",
       "   'sek': 216286732016.7327,\n",
       "   'sgd': 28324509277.9752,\n",
       "   'thb': 727261214518.3362,\n",
       "   'try': 390295128121.9939,\n",
       "   'twd': 639945819692.3594,\n",
       "   'uah': 770154675911.1923,\n",
       "   'usd': 20945433171.615204,\n",
       "   'vef': 2097266223.4738245,\n",
       "   'vnd': 513424930619216.9,\n",
       "   'xag': 904633887.0450554,\n",
       "   'xau': 11649640.475720655,\n",
       "   'xdr': 15868448679.714241,\n",
       "   'xlm': 236887692794.96002,\n",
       "   'xrp': 52665067958.54732,\n",
       "   'yfi': 3071234.9361011055,\n",
       "   'zar': 367173443498.4143,\n",
       "   'bits': 1226369034418.7708,\n",
       "   'link': 2758271021.1510525,\n",
       "   'sats': 122636903441877.06}},\n",
       " 'community_data': {'facebook_likes': None,\n",
       "  'twitter_followers': 5669386,\n",
       "  'reddit_average_posts_48h': 7.5,\n",
       "  'reddit_average_comments_48h': 636.0,\n",
       "  'reddit_subscribers': 4732935,\n",
       "  'reddit_accounts_active_48h': '11755.5454545455'},\n",
       " 'developer_data': {'forks': None,\n",
       "  'stars': None,\n",
       "  'subscribers': None,\n",
       "  'total_issues': None,\n",
       "  'closed_issues': None,\n",
       "  'pull_requests_merged': None,\n",
       "  'pull_request_contributors': None,\n",
       "  'code_additions_deletions_4_weeks': {'additions': None, 'deletions': None},\n",
       "  'commit_count_4_weeks': None},\n",
       " 'public_interest_stats': {'alexa_rank': None, 'bing_matches': None}}"
      ]
     },
     "execution_count": 49,
     "metadata": {},
     "output_type": "execute_result"
    }
   ],
   "source": [
    "response.json()"
   ]
  }
 ],
 "metadata": {
  "kernelspec": {
   "display_name": "Python 3 (ipykernel)",
   "language": "python",
   "name": "python3"
  },
  "language_info": {
   "codemirror_mode": {
    "name": "ipython",
    "version": 3
   },
   "file_extension": ".py",
   "mimetype": "text/x-python",
   "name": "python",
   "nbconvert_exporter": "python",
   "pygments_lexer": "ipython3",
   "version": "3.9.12"
  },
  "toc": {
   "nav_menu": {},
   "number_sections": true,
   "sideBar": true,
   "skip_h1_title": false,
   "title_cell": "Table of Contents",
   "title_sidebar": "Contents",
   "toc_cell": false,
   "toc_position": {},
   "toc_section_display": true,
   "toc_window_display": false
  },
  "varInspector": {
   "cols": {
    "lenName": 16,
    "lenType": 16,
    "lenVar": 40
   },
   "kernels_config": {
    "python": {
     "delete_cmd_postfix": "",
     "delete_cmd_prefix": "del ",
     "library": "var_list.py",
     "varRefreshCmd": "print(var_dic_list())"
    },
    "r": {
     "delete_cmd_postfix": ") ",
     "delete_cmd_prefix": "rm(",
     "library": "var_list.r",
     "varRefreshCmd": "cat(var_dic_list()) "
    }
   },
   "types_to_exclude": [
    "module",
    "function",
    "builtin_function_or_method",
    "instance",
    "_Feature"
   ],
   "window_display": false
  }
 },
 "nbformat": 4,
 "nbformat_minor": 2
}
